{
  "cells": [
    {
      "cell_type": "markdown",
      "metadata": {
        "id": "view-in-github",
        "colab_type": "text"
      },
      "source": [
        "<a href=\"https://colab.research.google.com/github/SimoneCallegarin/NLP_project/blob/main/NSP_data_preprocessing.ipynb\" target=\"_parent\"><img src=\"https://colab.research.google.com/assets/colab-badge.svg\" alt=\"Open In Colab\"/></a>"
      ]
    },
    {
      "cell_type": "markdown",
      "metadata": {
        "id": "pZWcpGuHHMKO"
      },
      "source": [
        "# NSP Datasets"
      ]
    },
    {
      "cell_type": "markdown",
      "metadata": {
        "id": "QdgfZNQQG7oq"
      },
      "source": [
        "## Setup the Envirnoment"
      ]
    },
    {
      "cell_type": "markdown",
      "source": [
        "Import necessary libaries."
      ],
      "metadata": {
        "id": "CkNgxhURy_Zk"
      }
    },
    {
      "cell_type": "code",
      "execution_count": 145,
      "metadata": {
        "id": "d19243d1-9a72-4d70-a0ac-72054e3c4bc3"
      },
      "outputs": [],
      "source": [
        "import pandas as pd\n",
        "import random\n",
        "import seaborn as sns\n",
        "import matplotlib.pyplot as plt\n",
        "from google.colab import files"
      ]
    },
    {
      "cell_type": "markdown",
      "source": [
        "Download the original dataset from the [repository](https://github.com/SimoneCallegarin/NLP_project/blob/main/Data/EDOS_1M.csv)"
      ],
      "metadata": {
        "id": "CM7ZLtMRzCd8"
      }
    },
    {
      "cell_type": "code",
      "execution_count": 146,
      "metadata": {
        "id": "44a6e0d3-bc28-4ea1-8ffb-aae536515a53"
      },
      "outputs": [],
      "source": [
        "csv_path_initial = \"https://media.githubusercontent.com/media/SimoneCallegarin/NLP_project/main/Data/EDOS_1M.csv\""
      ]
    },
    {
      "cell_type": "code",
      "execution_count": 147,
      "metadata": {
        "id": "f0a21112-c0f5-42c8-88df-86a518380847"
      },
      "outputs": [],
      "source": [
        "df = pd.read_csv(csv_path_initial)"
      ]
    },
    {
      "cell_type": "markdown",
      "metadata": {
        "id": "u7AbcjrvHCMR"
      },
      "source": [
        "## Dialogues Analysis"
      ]
    },
    {
      "cell_type": "markdown",
      "source": [
        "Analyze how dialogues are structured in the dataset in order to perform a better preprocessing phase."
      ],
      "metadata": {
        "id": "XLCVLJ2s6KnS"
      }
    },
    {
      "cell_type": "code",
      "execution_count": 148,
      "metadata": {
        "colab": {
          "base_uri": "https://localhost:8080/"
        },
        "id": "IFm5Khc4fb9T",
        "outputId": "0b7f9da6-ec03-499b-b2c7-bbdfb59ce728"
      },
      "outputs": [
        {
          "output_type": "stream",
          "name": "stdout",
          "text": [
            "There are no rows with unique dialogue_id values (no dialogues with just 1 utterance).\n"
          ]
        }
      ],
      "source": [
        "# Get the dialogue_id values for rows that occur only once\n",
        "unique_dialogue_ids = df['dialogue_id'].value_counts()[df['dialogue_id'].value_counts() == 1].index.tolist()\n",
        "\n",
        "# Filter the DataFrame to rows with unique dialogue_id values\n",
        "unique_dialogue_id_rows = df[df['dialogue_id'].isin(unique_dialogue_ids)]\n",
        "\n",
        "if len(unique_dialogue_id_rows) > 0:\n",
        "    print(\"There are rows with unique dialogue_id values:\")\n",
        "    print(unique_dialogue_id_rows)\n",
        "else:\n",
        "    print(\"There are no rows with unique dialogue_id values (no dialogues with just 1 utterance).\")"
      ]
    },
    {
      "cell_type": "code",
      "source": [
        "df['eb+_emot'].value_counts()[:7]"
      ],
      "metadata": {
        "colab": {
          "base_uri": "https://localhost:8080/"
        },
        "id": "3ZgJK2gtzaMt",
        "outputId": "70c5ac63-e248-4b5e-bbfa-ebfff7c12a6b"
      },
      "execution_count": 149,
      "outputs": [
        {
          "output_type": "execute_result",
          "data": {
            "text/plain": [
              "questioning      841556\n",
              "furious          169917\n",
              "acknowledging    138165\n",
              "trusting         134197\n",
              "wishing          108668\n",
              "suggesting       101591\n",
              "anticipating     100433\n",
              "Name: eb+_emot, dtype: int64"
            ]
          },
          "metadata": {},
          "execution_count": 149
        }
      ]
    },
    {
      "cell_type": "markdown",
      "source": [
        "Looking to the emotions distribution we can see that it is not homogeneous, due to a prevalence of *questioning* emotions."
      ],
      "metadata": {
        "id": "k1-MFuiS9ysQ"
      }
    },
    {
      "cell_type": "markdown",
      "source": [
        "Now let's see how many utterances per dialogues there are."
      ],
      "metadata": {
        "id": "2DKDA4-8Hnr_"
      }
    },
    {
      "cell_type": "code",
      "source": [
        "max_turns = df.groupby('dialogue_id')['turn'].transform('max')"
      ],
      "metadata": {
        "id": "e6KYqFmW0wHZ"
      },
      "execution_count": 150,
      "outputs": []
    },
    {
      "cell_type": "code",
      "source": [
        "sns.countplot(x=max_turns, facecolor='#5799C6', linewidth=1, edgecolor='black')\n",
        "plt.xlabel('Max Turns per Dialogue')\n",
        "plt.ylabel('Count')\n",
        "plt.title('Dialogue Turns')\n",
        "plt.yscale('symlog', linthresh=1000)\n",
        "plt.show()"
      ],
      "metadata": {
        "colab": {
          "base_uri": "https://localhost:8080/",
          "height": 0
        },
        "id": "HyrSH9356kO1",
        "outputId": "429cedc5-15c9-427f-864e-bd52fa89971c"
      },
      "execution_count": 151,
      "outputs": [
        {
          "output_type": "display_data",
          "data": {
            "text/plain": [
              "<Figure size 640x480 with 1 Axes>"
            ],
            "image/png": "[encoded data removed]"
          },
          "metadata": {}
        }
      ]
    },
    {
      "cell_type": "code",
      "source": [
        "max_turns.value_counts()"
      ],
      "metadata": {
        "colab": {
          "base_uri": "https://localhost:8080/"
        },
        "id": "y8HfPh49zarx",
        "outputId": "a3c221cd-44af-4aca-b858-b6195509cd4b"
      },
      "execution_count": 152,
      "outputs": [
        {
          "output_type": "execute_result",
          "data": {
            "text/plain": [
              "2     1112198\n",
              "3      693840\n",
              "4      444064\n",
              "5      281300\n",
              "6      164784\n",
              "7       83636\n",
              "8       34440\n",
              "9       11043\n",
              "10       3160\n",
              "11        726\n",
              "12        156\n",
              "13         65\n",
              "14         14\n",
              "Name: turn, dtype: int64"
            ]
          },
          "metadata": {},
          "execution_count": 152
        }
      ]
    },
    {
      "cell_type": "markdown",
      "source": [
        "It appears that the dataset contains mostly short dialogues."
      ],
      "metadata": {
        "id": "z3JJZf-hHuJj"
      }
    },
    {
      "cell_type": "markdown",
      "metadata": {
        "id": "1dmE39_XHboq"
      },
      "source": [
        "## Preprocessing"
      ]
    },
    {
      "cell_type": "code",
      "source": [
        "df_filtered = df"
      ],
      "metadata": {
        "id": "VVob4Lk1BTF5"
      },
      "execution_count": 153,
      "outputs": []
    },
    {
      "cell_type": "markdown",
      "metadata": {
        "id": "aH_cv_cfHffn"
      },
      "source": [
        "Remove dialogues that contains 2 or less utterances."
      ]
    },
    {
      "cell_type": "code",
      "execution_count": 154,
      "metadata": {
        "id": "F_LglD7d7tmN"
      },
      "outputs": [],
      "source": [
        "# Get the dialogue_id values where turn > 2\n",
        "dialogues_longer_than_2 = df_filtered.loc[df_filtered['turn'] > 2, 'dialogue_id'].unique()\n",
        "\n",
        "# Filter out the rows where turn <= 2 for each dialogue_id\n",
        "df_filtered = df_filtered[df_filtered['dialogue_id'].isin(dialogues_longer_than_2)]"
      ]
    },
    {
      "cell_type": "markdown",
      "metadata": {
        "id": "VpBDRo-iHqB-"
      },
      "source": [
        "Reduce the number of dialogues containing 'questioning' utterances in order to make the distribution of the emotions more homogeneous."
      ]
    },
    {
      "cell_type": "code",
      "execution_count": 155,
      "metadata": {
        "id": "be22c37a-af23-407a-a711-f3257f508267"
      },
      "outputs": [],
      "source": [
        "# Select the number of dialogues containing questioning utterances to mantain\n",
        "questioning_dialogues_to_mantain = 40000"
      ]
    },
    {
      "cell_type": "code",
      "execution_count": 156,
      "metadata": {
        "id": "coJZazYnqTdY"
      },
      "outputs": [],
      "source": [
        "# Get the dialogue_id values where eb+_emot == 'questioning'\n",
        "questioning_dialogues = df_filtered.loc[df_filtered['eb+_emot'] == 'questioning', 'dialogue_id'].unique()\n",
        "\n",
        "# Get the dialogue_id of the dialogues conatining 'questioning' that has to be removed\n",
        "questioning_dialogues_to_remove = questioning_dialogues[:(len(questioning_dialogues)-questioning_dialogues_to_mantain)]\n",
        "\n",
        "# Filter out the exceeding dialogues containing 'questioning' for each dialogue_id\n",
        "df_filtered = df_filtered[~df_filtered['dialogue_id'].isin(questioning_dialogues_to_remove)]\n",
        "\n",
        "# Reset the index of the filtered DataFrame\n",
        "df_filtered = df_filtered.reset_index(drop=True)"
      ]
    },
    {
      "cell_type": "code",
      "execution_count": 157,
      "metadata": {
        "colab": {
          "base_uri": "https://localhost:8080/"
        },
        "id": "PPfPp9q0zImz",
        "outputId": "72a02de2-e5cb-44d0-a218-664f2113bf4c"
      },
      "outputs": [
        {
          "output_type": "execute_result",
          "data": {
            "text/plain": [
              "questioning      67362\n",
              "furious          48993\n",
              "trusting         35149\n",
              "acknowledging    34734\n",
              "wishing          31575\n",
              "suggesting       26730\n",
              "anticipating     25109\n",
              "Name: eb+_emot, dtype: int64"
            ]
          },
          "metadata": {},
          "execution_count": 157
        }
      ],
      "source": [
        "df_filtered['eb+_emot'].value_counts()[:7]"
      ]
    },
    {
      "cell_type": "markdown",
      "source": [
        "Now the distribution looks more uniform."
      ],
      "metadata": {
        "id": "bPdMf7CpKacI"
      }
    },
    {
      "cell_type": "markdown",
      "metadata": {
        "id": "luqfZIaSIE1P"
      },
      "source": [
        "## Split Dialogues into Two Senteces"
      ]
    },
    {
      "cell_type": "code",
      "execution_count": 158,
      "metadata": {
        "id": "u7R1YZT33Q_o"
      },
      "outputs": [],
      "source": [
        "final_df = df_filtered[['dialogue_id','turn','uttr']]"
      ]
    },
    {
      "cell_type": "markdown",
      "metadata": {
        "id": "P3ywc2yvIRcS"
      },
      "source": [
        "Split each dialogue in two sentences:\n",
        "- the first will contain the first half of the utterances\n",
        "- the second will have the second half of the utterances"
      ]
    },
    {
      "cell_type": "code",
      "source": [
        "# Store the number of turns of each dialogue\n",
        "max_turns = final_df.groupby('dialogue_id')['turn'].transform('max')\n",
        "\n",
        "# Create the datasets\n",
        "first_half = final_df.loc[final_df['turn'] <= (max_turns+1)//2, ['dialogue_id','turn', 'uttr']]\n",
        "second_half = final_df.loc[~(final_df.index.isin(first_half.index)), :]"
      ],
      "metadata": {
        "id": "vrY1aRg2DPn_"
      },
      "execution_count": 159,
      "outputs": []
    },
    {
      "cell_type": "code",
      "source": [
        "first_half = first_half.reset_index(drop=True)\n",
        "first_half"
      ],
      "metadata": {
        "colab": {
          "base_uri": "https://localhost:8080/",
          "height": 0
        },
        "id": "9tn_keYSDrA3",
        "outputId": "d5926422-474b-4325-8c99-bdf8283ed521"
      },
      "execution_count": 160,
      "outputs": [
        {
          "output_type": "execute_result",
          "data": {
            "text/plain": [
              "        dialogue_id  turn                                               uttr\n",
              "0               217     1                  Your medicine . Open your mouth .\n",
              "1               217     2                                         Granny ...\n",
              "2               500     1              Hi there , Welcome to the Stockroom .\n",
              "3               500     2  I don 't really work here . I 've never even b...\n",
              "4               675     1    I 'm gonna fuckin ' kill him . Wait your turn .\n",
              "...             ...   ...                                                ...\n",
              "351031      8820571     1  Trying to force a nun back to the convent when...\n",
              "351032      8820571     2  That seems to be your game . What 's that supp...\n",
              "351033      8820621     1  Well .. .. this is just the way it was suppose...\n",
              "351034      8820621     2                                Well then , great .\n",
              "351035      8820621     3  This is so stupid . How can I be upset over so...\n",
              "\n",
              "[351036 rows x 3 columns]"
            ],
            "text/html": [
              "\n",
              "  <div id=\"df-ceae35a0-874b-4990-84d3-6e43751ccb4d\">\n",
              "    <div class=\"colab-df-container\">\n",
              "      <div>\n",
              "<style scoped>\n",
              "    .dataframe tbody tr th:only-of-type {\n",
              "        vertical-align: middle;\n",
              "    }\n",
              "\n",
              "    .dataframe tbody tr th {\n",
              "        vertical-align: top;\n",
              "    }\n",
              "\n",
              "    .dataframe thead th {\n",
              "        text-align: right;\n",
              "    }\n",
              "</style>\n",
              "<table border=\"1\" class=\"dataframe\">\n",
              "  <thead>\n",
              "    <tr style=\"text-align: right;\">\n",
              "      <th></th>\n",
              "      <th>dialogue_id</th>\n",
              "      <th>turn</th>\n",
              "      <th>uttr</th>\n",
              "    </tr>\n",
              "  </thead>\n",
              "  <tbody>\n",
              "    <tr>\n",
              "      <th>0</th>\n",
              "      <td>217</td>\n",
              "      <td>1</td>\n",
              "      <td>Your medicine . Open your mouth .</td>\n",
              "    </tr>\n",
              "    <tr>\n",
              "      <th>1</th>\n",
              "      <td>217</td>\n",
              "      <td>2</td>\n",
              "      <td>Granny ...</td>\n",
              "    </tr>\n",
              "    <tr>\n",
              "      <th>2</th>\n",
              "      <td>500</td>\n",
              "      <td>1</td>\n",
              "      <td>Hi there , Welcome to the Stockroom .</td>\n",
              "    </tr>\n",
              "    <tr>\n",
              "      <th>3</th>\n",
              "      <td>500</td>\n",
              "      <td>2</td>\n",
              "      <td>I don 't really work here . I 've never even b...</td>\n",
              "    </tr>\n",
              "    <tr>\n",
              "      <th>4</th>\n",
              "      <td>675</td>\n",
              "      <td>1</td>\n",
              "      <td>I 'm gonna fuckin ' kill him . Wait your turn .</td>\n",
              "    </tr>\n",
              "    <tr>\n",
              "      <th>...</th>\n",
              "      <td>...</td>\n",
              "      <td>...</td>\n",
              "      <td>...</td>\n",
              "    </tr>\n",
              "    <tr>\n",
              "      <th>351031</th>\n",
              "      <td>8820571</td>\n",
              "      <td>1</td>\n",
              "      <td>Trying to force a nun back to the convent when...</td>\n",
              "    </tr>\n",
              "    <tr>\n",
              "      <th>351032</th>\n",
              "      <td>8820571</td>\n",
              "      <td>2</td>\n",
              "      <td>That seems to be your game . What 's that supp...</td>\n",
              "    </tr>\n",
              "    <tr>\n",
              "      <th>351033</th>\n",
              "      <td>8820621</td>\n",
              "      <td>1</td>\n",
              "      <td>Well .. .. this is just the way it was suppose...</td>\n",
              "    </tr>\n",
              "    <tr>\n",
              "      <th>351034</th>\n",
              "      <td>8820621</td>\n",
              "      <td>2</td>\n",
              "      <td>Well then , great .</td>\n",
              "    </tr>\n",
              "    <tr>\n",
              "      <th>351035</th>\n",
              "      <td>8820621</td>\n",
              "      <td>3</td>\n",
              "      <td>This is so stupid . How can I be upset over so...</td>\n",
              "    </tr>\n",
              "  </tbody>\n",
              "</table>\n",
              "<p>351036 rows × 3 columns</p>\n",
              "</div>\n",
              "      <button class=\"colab-df-convert\" onclick=\"convertToInteractive('df-ceae35a0-874b-4990-84d3-6e43751ccb4d')\"\n",
              "              title=\"Convert this dataframe to an interactive table.\"\n",
              "              style=\"display:none;\">\n",
              "        \n",
              "  <svg xmlns=\"http://www.w3.org/2000/svg\" height=\"24px\"viewBox=\"0 0 24 24\"\n",
              "       width=\"24px\">\n",
              "    <path d=\"M0 0h24v24H0V0z\" fill=\"none\"/>\n",
              "    <path d=\"M18.56 5.44l.94 2.06.94-2.06 2.06-.94-2.06-.94-.94-2.06-.94 2.06-2.06.94zm-11 1L8.5 8.5l.94-2.06 2.06-.94-2.06-.94L8.5 2.5l-.94 2.06-2.06.94zm10 10l.94 2.06.94-2.06 2.06-.94-2.06-.94-.94-2.06-.94 2.06-2.06.94z\"/><path d=\"M17.41 7.96l-1.37-1.37c-.4-.4-.92-.59-1.43-.59-.52 0-1.04.2-1.43.59L10.3 9.45l-7.72 7.72c-.78.78-.78 2.05 0 2.83L4 21.41c.39.39.9.59 1.41.59.51 0 1.02-.2 1.41-.59l7.78-7.78 2.81-2.81c.8-.78.8-2.07 0-2.86zM5.41 20L4 18.59l7.72-7.72 1.47 1.35L5.41 20z\"/>\n",
              "  </svg>\n",
              "      </button>\n",
              "      \n",
              "  <style>\n",
              "    .colab-df-container {\n",
              "      display:flex;\n",
              "      flex-wrap:wrap;\n",
              "      gap: 12px;\n",
              "    }\n",
              "\n",
              "    .colab-df-convert {\n",
              "      background-color: #E8F0FE;\n",
              "      border: none;\n",
              "      border-radius: 50%;\n",
              "      cursor: pointer;\n",
              "      display: none;\n",
              "      fill: #1967D2;\n",
              "      height: 32px;\n",
              "      padding: 0 0 0 0;\n",
              "      width: 32px;\n",
              "    }\n",
              "\n",
              "    .colab-df-convert:hover {\n",
              "      background-color: #E2EBFA;\n",
              "      box-shadow: 0px 1px 2px rgba(60, 64, 67, 0.3), 0px 1px 3px 1px rgba(60, 64, 67, 0.15);\n",
              "      fill: #174EA6;\n",
              "    }\n",
              "\n",
              "    [theme=dark] .colab-df-convert {\n",
              "      background-color: #3B4455;\n",
              "      fill: #D2E3FC;\n",
              "    }\n",
              "\n",
              "    [theme=dark] .colab-df-convert:hover {\n",
              "      background-color: #434B5C;\n",
              "      box-shadow: 0px 1px 3px 1px rgba(0, 0, 0, 0.15);\n",
              "      filter: drop-shadow(0px 1px 2px rgba(0, 0, 0, 0.3));\n",
              "      fill: #FFFFFF;\n",
              "    }\n",
              "  </style>\n",
              "\n",
              "      <script>\n",
              "        const buttonEl =\n",
              "          document.querySelector('#df-ceae35a0-874b-4990-84d3-6e43751ccb4d button.colab-df-convert');\n",
              "        buttonEl.style.display =\n",
              "          google.colab.kernel.accessAllowed ? 'block' : 'none';\n",
              "\n",
              "        async function convertToInteractive(key) {\n",
              "          const element = document.querySelector('#df-ceae35a0-874b-4990-84d3-6e43751ccb4d');\n",
              "          const dataTable =\n",
              "            await google.colab.kernel.invokeFunction('convertToInteractive',\n",
              "                                                     [key], {});\n",
              "          if (!dataTable) return;\n",
              "\n",
              "          const docLinkHtml = 'Like what you see? Visit the ' +\n",
              "            '<a target=\"_blank\" href=https://colab.research.google.com/notebooks/data_table.ipynb>data table notebook</a>'\n",
              "            + ' to learn more about interactive tables.';\n",
              "          element.innerHTML = '';\n",
              "          dataTable['output_type'] = 'display_data';\n",
              "          await google.colab.output.renderOutput(dataTable, element);\n",
              "          const docLink = document.createElement('div');\n",
              "          docLink.innerHTML = docLinkHtml;\n",
              "          element.appendChild(docLink);\n",
              "        }\n",
              "      </script>\n",
              "    </div>\n",
              "  </div>\n",
              "  "
            ]
          },
          "metadata": {},
          "execution_count": 160
        }
      ]
    },
    {
      "cell_type": "code",
      "source": [
        "second_half = second_half.reset_index(drop=True)\n",
        "second_half"
      ],
      "metadata": {
        "colab": {
          "base_uri": "https://localhost:8080/",
          "height": 0
        },
        "id": "nSKgX44IFevw",
        "outputId": "ccabb85a-0494-4774-83cc-d3318203c2d7"
      },
      "execution_count": 161,
      "outputs": [
        {
          "output_type": "execute_result",
          "data": {
            "text/plain": [
              "        dialogue_id  turn                                               uttr\n",
              "0               217     3                                  Don 't spill it .\n",
              "1               500     3  Don 't get me wrong . I 'm not a prude . I lik...\n",
              "2               500     4  Shut up bitch ! Show us the butt plugs . Butt ...\n",
              "3               675     3  You motherfucker ! No , no ! Hold on ! What th...\n",
              "4               753     3  So I thought to myself ... I didn 't understan...\n",
              "...             ...   ...                                                ...\n",
              "232583      8820065     4    Maybe . I think it would be better not to die .\n",
              "232584      8820065     5                              Don 't you , doctor ?\n",
              "232585      8820571     3  Well , for example , right now , by the nature...\n",
              "232586      8820621     4                                   It 's negative ?\n",
              "232587      8820621     5                              No , it 's positive .\n",
              "\n",
              "[232588 rows x 3 columns]"
            ],
            "text/html": [
              "\n",
              "  <div id=\"df-52f197c8-1b5d-4536-88c0-8bffcbdaaf93\">\n",
              "    <div class=\"colab-df-container\">\n",
              "      <div>\n",
              "<style scoped>\n",
              "    .dataframe tbody tr th:only-of-type {\n",
              "        vertical-align: middle;\n",
              "    }\n",
              "\n",
              "    .dataframe tbody tr th {\n",
              "        vertical-align: top;\n",
              "    }\n",
              "\n",
              "    .dataframe thead th {\n",
              "        text-align: right;\n",
              "    }\n",
              "</style>\n",
              "<table border=\"1\" class=\"dataframe\">\n",
              "  <thead>\n",
              "    <tr style=\"text-align: right;\">\n",
              "      <th></th>\n",
              "      <th>dialogue_id</th>\n",
              "      <th>turn</th>\n",
              "      <th>uttr</th>\n",
              "    </tr>\n",
              "  </thead>\n",
              "  <tbody>\n",
              "    <tr>\n",
              "      <th>0</th>\n",
              "      <td>217</td>\n",
              "      <td>3</td>\n",
              "      <td>Don 't spill it .</td>\n",
              "    </tr>\n",
              "    <tr>\n",
              "      <th>1</th>\n",
              "      <td>500</td>\n",
              "      <td>3</td>\n",
              "      <td>Don 't get me wrong . I 'm not a prude . I lik...</td>\n",
              "    </tr>\n",
              "    <tr>\n",
              "      <th>2</th>\n",
              "      <td>500</td>\n",
              "      <td>4</td>\n",
              "      <td>Shut up bitch ! Show us the butt plugs . Butt ...</td>\n",
              "    </tr>\n",
              "    <tr>\n",
              "      <th>3</th>\n",
              "      <td>675</td>\n",
              "      <td>3</td>\n",
              "      <td>You motherfucker ! No , no ! Hold on ! What th...</td>\n",
              "    </tr>\n",
              "    <tr>\n",
              "      <th>4</th>\n",
              "      <td>753</td>\n",
              "      <td>3</td>\n",
              "      <td>So I thought to myself ... I didn 't understan...</td>\n",
              "    </tr>\n",
              "    <tr>\n",
              "      <th>...</th>\n",
              "      <td>...</td>\n",
              "      <td>...</td>\n",
              "      <td>...</td>\n",
              "    </tr>\n",
              "    <tr>\n",
              "      <th>232583</th>\n",
              "      <td>8820065</td>\n",
              "      <td>4</td>\n",
              "      <td>Maybe . I think it would be better not to die .</td>\n",
              "    </tr>\n",
              "    <tr>\n",
              "      <th>232584</th>\n",
              "      <td>8820065</td>\n",
              "      <td>5</td>\n",
              "      <td>Don 't you , doctor ?</td>\n",
              "    </tr>\n",
              "    <tr>\n",
              "      <th>232585</th>\n",
              "      <td>8820571</td>\n",
              "      <td>3</td>\n",
              "      <td>Well , for example , right now , by the nature...</td>\n",
              "    </tr>\n",
              "    <tr>\n",
              "      <th>232586</th>\n",
              "      <td>8820621</td>\n",
              "      <td>4</td>\n",
              "      <td>It 's negative ?</td>\n",
              "    </tr>\n",
              "    <tr>\n",
              "      <th>232587</th>\n",
              "      <td>8820621</td>\n",
              "      <td>5</td>\n",
              "      <td>No , it 's positive .</td>\n",
              "    </tr>\n",
              "  </tbody>\n",
              "</table>\n",
              "<p>232588 rows × 3 columns</p>\n",
              "</div>\n",
              "      <button class=\"colab-df-convert\" onclick=\"convertToInteractive('df-52f197c8-1b5d-4536-88c0-8bffcbdaaf93')\"\n",
              "              title=\"Convert this dataframe to an interactive table.\"\n",
              "              style=\"display:none;\">\n",
              "        \n",
              "  <svg xmlns=\"http://www.w3.org/2000/svg\" height=\"24px\"viewBox=\"0 0 24 24\"\n",
              "       width=\"24px\">\n",
              "    <path d=\"M0 0h24v24H0V0z\" fill=\"none\"/>\n",
              "    <path d=\"M18.56 5.44l.94 2.06.94-2.06 2.06-.94-2.06-.94-.94-2.06-.94 2.06-2.06.94zm-11 1L8.5 8.5l.94-2.06 2.06-.94-2.06-.94L8.5 2.5l-.94 2.06-2.06.94zm10 10l.94 2.06.94-2.06 2.06-.94-2.06-.94-.94-2.06-.94 2.06-2.06.94z\"/><path d=\"M17.41 7.96l-1.37-1.37c-.4-.4-.92-.59-1.43-.59-.52 0-1.04.2-1.43.59L10.3 9.45l-7.72 7.72c-.78.78-.78 2.05 0 2.83L4 21.41c.39.39.9.59 1.41.59.51 0 1.02-.2 1.41-.59l7.78-7.78 2.81-2.81c.8-.78.8-2.07 0-2.86zM5.41 20L4 18.59l7.72-7.72 1.47 1.35L5.41 20z\"/>\n",
              "  </svg>\n",
              "      </button>\n",
              "      \n",
              "  <style>\n",
              "    .colab-df-container {\n",
              "      display:flex;\n",
              "      flex-wrap:wrap;\n",
              "      gap: 12px;\n",
              "    }\n",
              "\n",
              "    .colab-df-convert {\n",
              "      background-color: #E8F0FE;\n",
              "      border: none;\n",
              "      border-radius: 50%;\n",
              "      cursor: pointer;\n",
              "      display: none;\n",
              "      fill: #1967D2;\n",
              "      height: 32px;\n",
              "      padding: 0 0 0 0;\n",
              "      width: 32px;\n",
              "    }\n",
              "\n",
              "    .colab-df-convert:hover {\n",
              "      background-color: #E2EBFA;\n",
              "      box-shadow: 0px 1px 2px rgba(60, 64, 67, 0.3), 0px 1px 3px 1px rgba(60, 64, 67, 0.15);\n",
              "      fill: #174EA6;\n",
              "    }\n",
              "\n",
              "    [theme=dark] .colab-df-convert {\n",
              "      background-color: #3B4455;\n",
              "      fill: #D2E3FC;\n",
              "    }\n",
              "\n",
              "    [theme=dark] .colab-df-convert:hover {\n",
              "      background-color: #434B5C;\n",
              "      box-shadow: 0px 1px 3px 1px rgba(0, 0, 0, 0.15);\n",
              "      filter: drop-shadow(0px 1px 2px rgba(0, 0, 0, 0.3));\n",
              "      fill: #FFFFFF;\n",
              "    }\n",
              "  </style>\n",
              "\n",
              "      <script>\n",
              "        const buttonEl =\n",
              "          document.querySelector('#df-52f197c8-1b5d-4536-88c0-8bffcbdaaf93 button.colab-df-convert');\n",
              "        buttonEl.style.display =\n",
              "          google.colab.kernel.accessAllowed ? 'block' : 'none';\n",
              "\n",
              "        async function convertToInteractive(key) {\n",
              "          const element = document.querySelector('#df-52f197c8-1b5d-4536-88c0-8bffcbdaaf93');\n",
              "          const dataTable =\n",
              "            await google.colab.kernel.invokeFunction('convertToInteractive',\n",
              "                                                     [key], {});\n",
              "          if (!dataTable) return;\n",
              "\n",
              "          const docLinkHtml = 'Like what you see? Visit the ' +\n",
              "            '<a target=\"_blank\" href=https://colab.research.google.com/notebooks/data_table.ipynb>data table notebook</a>'\n",
              "            + ' to learn more about interactive tables.';\n",
              "          element.innerHTML = '';\n",
              "          dataTable['output_type'] = 'display_data';\n",
              "          await google.colab.output.renderOutput(dataTable, element);\n",
              "          const docLink = document.createElement('div');\n",
              "          docLink.innerHTML = docLinkHtml;\n",
              "          element.appendChild(docLink);\n",
              "        }\n",
              "      </script>\n",
              "    </div>\n",
              "  </div>\n",
              "  "
            ]
          },
          "metadata": {},
          "execution_count": 161
        }
      ]
    },
    {
      "cell_type": "markdown",
      "source": [
        "### Check the Correctness"
      ],
      "metadata": {
        "id": "u7osANAUJSGf"
      }
    },
    {
      "cell_type": "markdown",
      "source": [
        "Check if the number of dialogues in the starting dataframe and in the other two that have been producedd is the same."
      ],
      "metadata": {
        "id": "wPM1qwzoJhmo"
      }
    },
    {
      "cell_type": "code",
      "execution_count": 162,
      "metadata": {
        "colab": {
          "base_uri": "https://localhost:8080/"
        },
        "id": "YyFMdfhe_nHN",
        "outputId": "e3e0cfab-70a6-41d7-b077-3c1256b35907"
      },
      "outputs": [
        {
          "output_type": "execute_result",
          "data": {
            "text/plain": [
              "True"
            ]
          },
          "metadata": {},
          "execution_count": 162
        }
      ],
      "source": [
        "len(final_df['dialogue_id'].unique()) == len(first_half['dialogue_id'].unique()) == len(second_half['dialogue_id'].unique())"
      ]
    },
    {
      "cell_type": "markdown",
      "source": [
        "Now let's see how the algorithm works with an example using the dialogue with more turns."
      ],
      "metadata": {
        "id": "oVbwP6BsJsf2"
      }
    },
    {
      "cell_type": "code",
      "source": [
        "max_turn = final_df['turn'].max()\n",
        "max_turn"
      ],
      "metadata": {
        "colab": {
          "base_uri": "https://localhost:8080/"
        },
        "id": "LLHPkRrcI8yp",
        "outputId": "4555c5d6-5e69-4fa7-91e1-b5f3c4dbc344"
      },
      "execution_count": 163,
      "outputs": [
        {
          "output_type": "execute_result",
          "data": {
            "text/plain": [
              "13"
            ]
          },
          "metadata": {},
          "execution_count": 163
        }
      ]
    },
    {
      "cell_type": "code",
      "source": [
        "row_with_max_turn = final_df.loc[final_df['turn'] == max_turn]"
      ],
      "metadata": {
        "id": "TCNx4H8uL-_Q"
      },
      "execution_count": 164,
      "outputs": []
    },
    {
      "cell_type": "code",
      "source": [
        "row_with_max_turn"
      ],
      "metadata": {
        "colab": {
          "base_uri": "https://localhost:8080/",
          "height": 0
        },
        "id": "YNREeIXBMPPU",
        "outputId": "f27cbdf9-4560-4230-c8f9-b269d6443cf0"
      },
      "execution_count": 165,
      "outputs": [
        {
          "output_type": "execute_result",
          "data": {
            "text/plain": [
              "        dialogue_id  turn                                               uttr\n",
              "227854      2848381    13  I believe in children eating Their breakfast a...\n",
              "553527      7010226    13                                 Why did you come ?"
            ],
            "text/html": [
              "\n",
              "  <div id=\"df-10e6e78b-1f00-4e1e-b8e7-5f52bb21b851\">\n",
              "    <div class=\"colab-df-container\">\n",
              "      <div>\n",
              "<style scoped>\n",
              "    .dataframe tbody tr th:only-of-type {\n",
              "        vertical-align: middle;\n",
              "    }\n",
              "\n",
              "    .dataframe tbody tr th {\n",
              "        vertical-align: top;\n",
              "    }\n",
              "\n",
              "    .dataframe thead th {\n",
              "        text-align: right;\n",
              "    }\n",
              "</style>\n",
              "<table border=\"1\" class=\"dataframe\">\n",
              "  <thead>\n",
              "    <tr style=\"text-align: right;\">\n",
              "      <th></th>\n",
              "      <th>dialogue_id</th>\n",
              "      <th>turn</th>\n",
              "      <th>uttr</th>\n",
              "    </tr>\n",
              "  </thead>\n",
              "  <tbody>\n",
              "    <tr>\n",
              "      <th>227854</th>\n",
              "      <td>2848381</td>\n",
              "      <td>13</td>\n",
              "      <td>I believe in children eating Their breakfast a...</td>\n",
              "    </tr>\n",
              "    <tr>\n",
              "      <th>553527</th>\n",
              "      <td>7010226</td>\n",
              "      <td>13</td>\n",
              "      <td>Why did you come ?</td>\n",
              "    </tr>\n",
              "  </tbody>\n",
              "</table>\n",
              "</div>\n",
              "      <button class=\"colab-df-convert\" onclick=\"convertToInteractive('df-10e6e78b-1f00-4e1e-b8e7-5f52bb21b851')\"\n",
              "              title=\"Convert this dataframe to an interactive table.\"\n",
              "              style=\"display:none;\">\n",
              "        \n",
              "  <svg xmlns=\"http://www.w3.org/2000/svg\" height=\"24px\"viewBox=\"0 0 24 24\"\n",
              "       width=\"24px\">\n",
              "    <path d=\"M0 0h24v24H0V0z\" fill=\"none\"/>\n",
              "    <path d=\"M18.56 5.44l.94 2.06.94-2.06 2.06-.94-2.06-.94-.94-2.06-.94 2.06-2.06.94zm-11 1L8.5 8.5l.94-2.06 2.06-.94-2.06-.94L8.5 2.5l-.94 2.06-2.06.94zm10 10l.94 2.06.94-2.06 2.06-.94-2.06-.94-.94-2.06-.94 2.06-2.06.94z\"/><path d=\"M17.41 7.96l-1.37-1.37c-.4-.4-.92-.59-1.43-.59-.52 0-1.04.2-1.43.59L10.3 9.45l-7.72 7.72c-.78.78-.78 2.05 0 2.83L4 21.41c.39.39.9.59 1.41.59.51 0 1.02-.2 1.41-.59l7.78-7.78 2.81-2.81c.8-.78.8-2.07 0-2.86zM5.41 20L4 18.59l7.72-7.72 1.47 1.35L5.41 20z\"/>\n",
              "  </svg>\n",
              "      </button>\n",
              "      \n",
              "  <style>\n",
              "    .colab-df-container {\n",
              "      display:flex;\n",
              "      flex-wrap:wrap;\n",
              "      gap: 12px;\n",
              "    }\n",
              "\n",
              "    .colab-df-convert {\n",
              "      background-color: #E8F0FE;\n",
              "      border: none;\n",
              "      border-radius: 50%;\n",
              "      cursor: pointer;\n",
              "      display: none;\n",
              "      fill: #1967D2;\n",
              "      height: 32px;\n",
              "      padding: 0 0 0 0;\n",
              "      width: 32px;\n",
              "    }\n",
              "\n",
              "    .colab-df-convert:hover {\n",
              "      background-color: #E2EBFA;\n",
              "      box-shadow: 0px 1px 2px rgba(60, 64, 67, 0.3), 0px 1px 3px 1px rgba(60, 64, 67, 0.15);\n",
              "      fill: #174EA6;\n",
              "    }\n",
              "\n",
              "    [theme=dark] .colab-df-convert {\n",
              "      background-color: #3B4455;\n",
              "      fill: #D2E3FC;\n",
              "    }\n",
              "\n",
              "    [theme=dark] .colab-df-convert:hover {\n",
              "      background-color: #434B5C;\n",
              "      box-shadow: 0px 1px 3px 1px rgba(0, 0, 0, 0.15);\n",
              "      filter: drop-shadow(0px 1px 2px rgba(0, 0, 0, 0.3));\n",
              "      fill: #FFFFFF;\n",
              "    }\n",
              "  </style>\n",
              "\n",
              "      <script>\n",
              "        const buttonEl =\n",
              "          document.querySelector('#df-10e6e78b-1f00-4e1e-b8e7-5f52bb21b851 button.colab-df-convert');\n",
              "        buttonEl.style.display =\n",
              "          google.colab.kernel.accessAllowed ? 'block' : 'none';\n",
              "\n",
              "        async function convertToInteractive(key) {\n",
              "          const element = document.querySelector('#df-10e6e78b-1f00-4e1e-b8e7-5f52bb21b851');\n",
              "          const dataTable =\n",
              "            await google.colab.kernel.invokeFunction('convertToInteractive',\n",
              "                                                     [key], {});\n",
              "          if (!dataTable) return;\n",
              "\n",
              "          const docLinkHtml = 'Like what you see? Visit the ' +\n",
              "            '<a target=\"_blank\" href=https://colab.research.google.com/notebooks/data_table.ipynb>data table notebook</a>'\n",
              "            + ' to learn more about interactive tables.';\n",
              "          element.innerHTML = '';\n",
              "          dataTable['output_type'] = 'display_data';\n",
              "          await google.colab.output.renderOutput(dataTable, element);\n",
              "          const docLink = document.createElement('div');\n",
              "          docLink.innerHTML = docLinkHtml;\n",
              "          element.appendChild(docLink);\n",
              "        }\n",
              "      </script>\n",
              "    </div>\n",
              "  </div>\n",
              "  "
            ]
          },
          "metadata": {},
          "execution_count": 165
        }
      ]
    },
    {
      "cell_type": "code",
      "source": [
        "first_dialogue = first_half.loc[first_half['dialogue_id'] == row_with_max_turn['dialogue_id'].values[0]]\n",
        "first_dialogue"
      ],
      "metadata": {
        "colab": {
          "base_uri": "https://localhost:8080/",
          "height": 0
        },
        "id": "jTmRIreoHiXY",
        "outputId": "095575e5-c638-4461-c6f6-e4cc44d54851"
      },
      "execution_count": 166,
      "outputs": [
        {
          "output_type": "execute_result",
          "data": {
            "text/plain": [
              "        dialogue_id  turn                                  uttr\n",
              "139339      2848381     1               Good morning , father .\n",
              "139340      2848381     2              Good morning , Darling .\n",
              "139341      2848381     3       Good morning , Aunt Josephine .\n",
              "139342      2848381     4                Good morning , Kitty .\n",
              "139343      2848381     5             Good morning , Lawrence .\n",
              "139344      2848381     6            Goodbye , Aunt josephine .\n",
              "139345      2848381     7  Goodbye , Kitty . Have a good time ."
            ],
            "text/html": [
              "\n",
              "  <div id=\"df-f2d4bd7b-a61c-41db-85bc-f297336ae607\">\n",
              "    <div class=\"colab-df-container\">\n",
              "      <div>\n",
              "<style scoped>\n",
              "    .dataframe tbody tr th:only-of-type {\n",
              "        vertical-align: middle;\n",
              "    }\n",
              "\n",
              "    .dataframe tbody tr th {\n",
              "        vertical-align: top;\n",
              "    }\n",
              "\n",
              "    .dataframe thead th {\n",
              "        text-align: right;\n",
              "    }\n",
              "</style>\n",
              "<table border=\"1\" class=\"dataframe\">\n",
              "  <thead>\n",
              "    <tr style=\"text-align: right;\">\n",
              "      <th></th>\n",
              "      <th>dialogue_id</th>\n",
              "      <th>turn</th>\n",
              "      <th>uttr</th>\n",
              "    </tr>\n",
              "  </thead>\n",
              "  <tbody>\n",
              "    <tr>\n",
              "      <th>139339</th>\n",
              "      <td>2848381</td>\n",
              "      <td>1</td>\n",
              "      <td>Good morning , father .</td>\n",
              "    </tr>\n",
              "    <tr>\n",
              "      <th>139340</th>\n",
              "      <td>2848381</td>\n",
              "      <td>2</td>\n",
              "      <td>Good morning , Darling .</td>\n",
              "    </tr>\n",
              "    <tr>\n",
              "      <th>139341</th>\n",
              "      <td>2848381</td>\n",
              "      <td>3</td>\n",
              "      <td>Good morning , Aunt Josephine .</td>\n",
              "    </tr>\n",
              "    <tr>\n",
              "      <th>139342</th>\n",
              "      <td>2848381</td>\n",
              "      <td>4</td>\n",
              "      <td>Good morning , Kitty .</td>\n",
              "    </tr>\n",
              "    <tr>\n",
              "      <th>139343</th>\n",
              "      <td>2848381</td>\n",
              "      <td>5</td>\n",
              "      <td>Good morning , Lawrence .</td>\n",
              "    </tr>\n",
              "    <tr>\n",
              "      <th>139344</th>\n",
              "      <td>2848381</td>\n",
              "      <td>6</td>\n",
              "      <td>Goodbye , Aunt josephine .</td>\n",
              "    </tr>\n",
              "    <tr>\n",
              "      <th>139345</th>\n",
              "      <td>2848381</td>\n",
              "      <td>7</td>\n",
              "      <td>Goodbye , Kitty . Have a good time .</td>\n",
              "    </tr>\n",
              "  </tbody>\n",
              "</table>\n",
              "</div>\n",
              "      <button class=\"colab-df-convert\" onclick=\"convertToInteractive('df-f2d4bd7b-a61c-41db-85bc-f297336ae607')\"\n",
              "              title=\"Convert this dataframe to an interactive table.\"\n",
              "              style=\"display:none;\">\n",
              "        \n",
              "  <svg xmlns=\"http://www.w3.org/2000/svg\" height=\"24px\"viewBox=\"0 0 24 24\"\n",
              "       width=\"24px\">\n",
              "    <path d=\"M0 0h24v24H0V0z\" fill=\"none\"/>\n",
              "    <path d=\"M18.56 5.44l.94 2.06.94-2.06 2.06-.94-2.06-.94-.94-2.06-.94 2.06-2.06.94zm-11 1L8.5 8.5l.94-2.06 2.06-.94-2.06-.94L8.5 2.5l-.94 2.06-2.06.94zm10 10l.94 2.06.94-2.06 2.06-.94-2.06-.94-.94-2.06-.94 2.06-2.06.94z\"/><path d=\"M17.41 7.96l-1.37-1.37c-.4-.4-.92-.59-1.43-.59-.52 0-1.04.2-1.43.59L10.3 9.45l-7.72 7.72c-.78.78-.78 2.05 0 2.83L4 21.41c.39.39.9.59 1.41.59.51 0 1.02-.2 1.41-.59l7.78-7.78 2.81-2.81c.8-.78.8-2.07 0-2.86zM5.41 20L4 18.59l7.72-7.72 1.47 1.35L5.41 20z\"/>\n",
              "  </svg>\n",
              "      </button>\n",
              "      \n",
              "  <style>\n",
              "    .colab-df-container {\n",
              "      display:flex;\n",
              "      flex-wrap:wrap;\n",
              "      gap: 12px;\n",
              "    }\n",
              "\n",
              "    .colab-df-convert {\n",
              "      background-color: #E8F0FE;\n",
              "      border: none;\n",
              "      border-radius: 50%;\n",
              "      cursor: pointer;\n",
              "      display: none;\n",
              "      fill: #1967D2;\n",
              "      height: 32px;\n",
              "      padding: 0 0 0 0;\n",
              "      width: 32px;\n",
              "    }\n",
              "\n",
              "    .colab-df-convert:hover {\n",
              "      background-color: #E2EBFA;\n",
              "      box-shadow: 0px 1px 2px rgba(60, 64, 67, 0.3), 0px 1px 3px 1px rgba(60, 64, 67, 0.15);\n",
              "      fill: #174EA6;\n",
              "    }\n",
              "\n",
              "    [theme=dark] .colab-df-convert {\n",
              "      background-color: #3B4455;\n",
              "      fill: #D2E3FC;\n",
              "    }\n",
              "\n",
              "    [theme=dark] .colab-df-convert:hover {\n",
              "      background-color: #434B5C;\n",
              "      box-shadow: 0px 1px 3px 1px rgba(0, 0, 0, 0.15);\n",
              "      filter: drop-shadow(0px 1px 2px rgba(0, 0, 0, 0.3));\n",
              "      fill: #FFFFFF;\n",
              "    }\n",
              "  </style>\n",
              "\n",
              "      <script>\n",
              "        const buttonEl =\n",
              "          document.querySelector('#df-f2d4bd7b-a61c-41db-85bc-f297336ae607 button.colab-df-convert');\n",
              "        buttonEl.style.display =\n",
              "          google.colab.kernel.accessAllowed ? 'block' : 'none';\n",
              "\n",
              "        async function convertToInteractive(key) {\n",
              "          const element = document.querySelector('#df-f2d4bd7b-a61c-41db-85bc-f297336ae607');\n",
              "          const dataTable =\n",
              "            await google.colab.kernel.invokeFunction('convertToInteractive',\n",
              "                                                     [key], {});\n",
              "          if (!dataTable) return;\n",
              "\n",
              "          const docLinkHtml = 'Like what you see? Visit the ' +\n",
              "            '<a target=\"_blank\" href=https://colab.research.google.com/notebooks/data_table.ipynb>data table notebook</a>'\n",
              "            + ' to learn more about interactive tables.';\n",
              "          element.innerHTML = '';\n",
              "          dataTable['output_type'] = 'display_data';\n",
              "          await google.colab.output.renderOutput(dataTable, element);\n",
              "          const docLink = document.createElement('div');\n",
              "          docLink.innerHTML = docLinkHtml;\n",
              "          element.appendChild(docLink);\n",
              "        }\n",
              "      </script>\n",
              "    </div>\n",
              "  </div>\n",
              "  "
            ]
          },
          "metadata": {},
          "execution_count": 166
        }
      ]
    },
    {
      "cell_type": "code",
      "source": [
        "second_dialogue = second_half.loc[second_half['dialogue_id'] == row_with_max_turn['dialogue_id'].values[0]]\n",
        "second_dialogue"
      ],
      "metadata": {
        "colab": {
          "base_uri": "https://localhost:8080/",
          "height": 0
        },
        "id": "X_lkLZ9FIB-U",
        "outputId": "b16d36ee-9b01-4442-bcc0-15bfc77864bf"
      },
      "execution_count": 167,
      "outputs": [
        {
          "output_type": "execute_result",
          "data": {
            "text/plain": [
              "       dialogue_id  turn                                               uttr\n",
              "88503      2848381     8                                           I will !\n",
              "88504      2848381     9                       Take good care Of yourself !\n",
              "88505      2848381    10                                           I will !\n",
              "88506      2848381    11                      Goodbye , darling ! Goodbye !\n",
              "88507      2848381    12                     Must we have A draft , Henry ?\n",
              "88508      2848381    13  I believe in children eating Their breakfast a..."
            ],
            "text/html": [
              "\n",
              "  <div id=\"df-9d50b9f7-0b39-46d7-b095-538418fb37c4\">\n",
              "    <div class=\"colab-df-container\">\n",
              "      <div>\n",
              "<style scoped>\n",
              "    .dataframe tbody tr th:only-of-type {\n",
              "        vertical-align: middle;\n",
              "    }\n",
              "\n",
              "    .dataframe tbody tr th {\n",
              "        vertical-align: top;\n",
              "    }\n",
              "\n",
              "    .dataframe thead th {\n",
              "        text-align: right;\n",
              "    }\n",
              "</style>\n",
              "<table border=\"1\" class=\"dataframe\">\n",
              "  <thead>\n",
              "    <tr style=\"text-align: right;\">\n",
              "      <th></th>\n",
              "      <th>dialogue_id</th>\n",
              "      <th>turn</th>\n",
              "      <th>uttr</th>\n",
              "    </tr>\n",
              "  </thead>\n",
              "  <tbody>\n",
              "    <tr>\n",
              "      <th>88503</th>\n",
              "      <td>2848381</td>\n",
              "      <td>8</td>\n",
              "      <td>I will !</td>\n",
              "    </tr>\n",
              "    <tr>\n",
              "      <th>88504</th>\n",
              "      <td>2848381</td>\n",
              "      <td>9</td>\n",
              "      <td>Take good care Of yourself !</td>\n",
              "    </tr>\n",
              "    <tr>\n",
              "      <th>88505</th>\n",
              "      <td>2848381</td>\n",
              "      <td>10</td>\n",
              "      <td>I will !</td>\n",
              "    </tr>\n",
              "    <tr>\n",
              "      <th>88506</th>\n",
              "      <td>2848381</td>\n",
              "      <td>11</td>\n",
              "      <td>Goodbye , darling ! Goodbye !</td>\n",
              "    </tr>\n",
              "    <tr>\n",
              "      <th>88507</th>\n",
              "      <td>2848381</td>\n",
              "      <td>12</td>\n",
              "      <td>Must we have A draft , Henry ?</td>\n",
              "    </tr>\n",
              "    <tr>\n",
              "      <th>88508</th>\n",
              "      <td>2848381</td>\n",
              "      <td>13</td>\n",
              "      <td>I believe in children eating Their breakfast a...</td>\n",
              "    </tr>\n",
              "  </tbody>\n",
              "</table>\n",
              "</div>\n",
              "      <button class=\"colab-df-convert\" onclick=\"convertToInteractive('df-9d50b9f7-0b39-46d7-b095-538418fb37c4')\"\n",
              "              title=\"Convert this dataframe to an interactive table.\"\n",
              "              style=\"display:none;\">\n",
              "        \n",
              "  <svg xmlns=\"http://www.w3.org/2000/svg\" height=\"24px\"viewBox=\"0 0 24 24\"\n",
              "       width=\"24px\">\n",
              "    <path d=\"M0 0h24v24H0V0z\" fill=\"none\"/>\n",
              "    <path d=\"M18.56 5.44l.94 2.06.94-2.06 2.06-.94-2.06-.94-.94-2.06-.94 2.06-2.06.94zm-11 1L8.5 8.5l.94-2.06 2.06-.94-2.06-.94L8.5 2.5l-.94 2.06-2.06.94zm10 10l.94 2.06.94-2.06 2.06-.94-2.06-.94-.94-2.06-.94 2.06-2.06.94z\"/><path d=\"M17.41 7.96l-1.37-1.37c-.4-.4-.92-.59-1.43-.59-.52 0-1.04.2-1.43.59L10.3 9.45l-7.72 7.72c-.78.78-.78 2.05 0 2.83L4 21.41c.39.39.9.59 1.41.59.51 0 1.02-.2 1.41-.59l7.78-7.78 2.81-2.81c.8-.78.8-2.07 0-2.86zM5.41 20L4 18.59l7.72-7.72 1.47 1.35L5.41 20z\"/>\n",
              "  </svg>\n",
              "      </button>\n",
              "      \n",
              "  <style>\n",
              "    .colab-df-container {\n",
              "      display:flex;\n",
              "      flex-wrap:wrap;\n",
              "      gap: 12px;\n",
              "    }\n",
              "\n",
              "    .colab-df-convert {\n",
              "      background-color: #E8F0FE;\n",
              "      border: none;\n",
              "      border-radius: 50%;\n",
              "      cursor: pointer;\n",
              "      display: none;\n",
              "      fill: #1967D2;\n",
              "      height: 32px;\n",
              "      padding: 0 0 0 0;\n",
              "      width: 32px;\n",
              "    }\n",
              "\n",
              "    .colab-df-convert:hover {\n",
              "      background-color: #E2EBFA;\n",
              "      box-shadow: 0px 1px 2px rgba(60, 64, 67, 0.3), 0px 1px 3px 1px rgba(60, 64, 67, 0.15);\n",
              "      fill: #174EA6;\n",
              "    }\n",
              "\n",
              "    [theme=dark] .colab-df-convert {\n",
              "      background-color: #3B4455;\n",
              "      fill: #D2E3FC;\n",
              "    }\n",
              "\n",
              "    [theme=dark] .colab-df-convert:hover {\n",
              "      background-color: #434B5C;\n",
              "      box-shadow: 0px 1px 3px 1px rgba(0, 0, 0, 0.15);\n",
              "      filter: drop-shadow(0px 1px 2px rgba(0, 0, 0, 0.3));\n",
              "      fill: #FFFFFF;\n",
              "    }\n",
              "  </style>\n",
              "\n",
              "      <script>\n",
              "        const buttonEl =\n",
              "          document.querySelector('#df-9d50b9f7-0b39-46d7-b095-538418fb37c4 button.colab-df-convert');\n",
              "        buttonEl.style.display =\n",
              "          google.colab.kernel.accessAllowed ? 'block' : 'none';\n",
              "\n",
              "        async function convertToInteractive(key) {\n",
              "          const element = document.querySelector('#df-9d50b9f7-0b39-46d7-b095-538418fb37c4');\n",
              "          const dataTable =\n",
              "            await google.colab.kernel.invokeFunction('convertToInteractive',\n",
              "                                                     [key], {});\n",
              "          if (!dataTable) return;\n",
              "\n",
              "          const docLinkHtml = 'Like what you see? Visit the ' +\n",
              "            '<a target=\"_blank\" href=https://colab.research.google.com/notebooks/data_table.ipynb>data table notebook</a>'\n",
              "            + ' to learn more about interactive tables.';\n",
              "          element.innerHTML = '';\n",
              "          dataTable['output_type'] = 'display_data';\n",
              "          await google.colab.output.renderOutput(dataTable, element);\n",
              "          const docLink = document.createElement('div');\n",
              "          docLink.innerHTML = docLinkHtml;\n",
              "          element.appendChild(docLink);\n",
              "        }\n",
              "      </script>\n",
              "    </div>\n",
              "  </div>\n",
              "  "
            ]
          },
          "metadata": {},
          "execution_count": 167
        }
      ]
    },
    {
      "cell_type": "markdown",
      "source": [
        "The algorithm correctly split the dialogue into two parts, exactly in half."
      ],
      "metadata": {
        "id": "ILqAIhamJ34Y"
      }
    },
    {
      "cell_type": "markdown",
      "source": [
        "##  Generate a Dataframe with other Random Dialogues "
      ],
      "metadata": {
        "id": "MO_GaTpoPWZn"
      }
    },
    {
      "cell_type": "markdown",
      "source": [
        "From the original dataset we produced a dataframe containing all the other dialogues that were not involved in the *first_sentences* and *second_sentences* dataframes."
      ],
      "metadata": {
        "id": "dDntL7Ss5jos"
      }
    },
    {
      "cell_type": "code",
      "source": [
        "# Get the dialogue_id values for rows that occur only once\n",
        "taken_dialogues = final_df['dialogue_id'].unique()\n",
        "\n",
        "# Filter the DataFrame to rows with unique dialogue_id values\n",
        "wrong_sentences = df[~df['dialogue_id'].isin(taken_dialogues)]"
      ],
      "metadata": {
        "id": "rjeqQUtvqejr"
      },
      "execution_count": 168,
      "outputs": []
    },
    {
      "cell_type": "markdown",
      "source": [
        "### Preprocess"
      ],
      "metadata": {
        "id": "nREalfTtL7et"
      }
    },
    {
      "cell_type": "code",
      "source": [
        "wrong_sentences['eb+_emot'].value_counts()[:7]"
      ],
      "metadata": {
        "colab": {
          "base_uri": "https://localhost:8080/"
        },
        "id": "NHabJZrK37tP",
        "outputId": "e46d3b36-659b-4b67-85f0-a056f9c65ea7"
      },
      "execution_count": 169,
      "outputs": [
        {
          "output_type": "execute_result",
          "data": {
            "text/plain": [
              "questioning      774194\n",
              "furious          120924\n",
              "acknowledging    103431\n",
              "trusting          99048\n",
              "wishing           77093\n",
              "anticipating      75324\n",
              "suggesting        74861\n",
              "Name: eb+_emot, dtype: int64"
            ]
          },
          "metadata": {},
          "execution_count": 169
        }
      ]
    },
    {
      "cell_type": "markdown",
      "source": [
        "The distribution of the emotions over this dataset is quite unbalanced, so as before, we filter out some dialogues that contains the *questioning* emotion."
      ],
      "metadata": {
        "id": "2AM-2HsX5750"
      }
    },
    {
      "cell_type": "code",
      "source": [
        "questioning_dialogues_to_mantain = 65000"
      ],
      "metadata": {
        "id": "Den_stGv4aA6"
      },
      "execution_count": 170,
      "outputs": []
    },
    {
      "cell_type": "code",
      "source": [
        "# Get the dialogue_id values where eb+_emot == 'questioning'\n",
        "questioning_dialogues = wrong_sentences.loc[wrong_sentences['eb+_emot'] == 'questioning', 'dialogue_id'].unique()\n",
        "\n",
        "# Get the dialogue_id of the dialogues conatining 'questioning' that has to be removed\n",
        "questioning_dialogues_to_remove = questioning_dialogues[:(len(questioning_dialogues)-questioning_dialogues_to_mantain)]\n",
        "\n",
        "# Filter out the exceeding dialogues containing 'questioning' for each dialogue_id\n",
        "wrong_sentences = wrong_sentences[~wrong_sentences['dialogue_id'].isin(questioning_dialogues_to_remove)]\n",
        "\n",
        "# Reset the index of the filtered DataFrame\n",
        "wrong_sentences = wrong_sentences.reset_index(drop=True)"
      ],
      "metadata": {
        "id": "KJ3WgC4Q4KSL"
      },
      "execution_count": 171,
      "outputs": []
    },
    {
      "cell_type": "code",
      "source": [
        "wrong_sentences['eb+_emot'].value_counts()[:7]"
      ],
      "metadata": {
        "colab": {
          "base_uri": "https://localhost:8080/"
        },
        "id": "QqSsrGhV4Ynr",
        "outputId": "3b7899b0-65c7-4e73-c1da-7c3672ff447f"
      },
      "execution_count": 172,
      "outputs": [
        {
          "output_type": "execute_result",
          "data": {
            "text/plain": [
              "questioning      84760\n",
              "furious          58234\n",
              "trusting         44940\n",
              "acknowledging    43890\n",
              "wishing          39806\n",
              "anticipating     36286\n",
              "suggesting       34432\n",
              "Name: eb+_emot, dtype: int64"
            ]
          },
          "metadata": {},
          "execution_count": 172
        }
      ]
    },
    {
      "cell_type": "markdown",
      "source": [
        "Now the distribution looks quite homogeneous."
      ],
      "metadata": {
        "id": "-U5wuLK16Rrw"
      }
    },
    {
      "cell_type": "markdown",
      "source": [
        "### Split the Utterances Randomly"
      ],
      "metadata": {
        "id": "owN69saxNIG6"
      }
    },
    {
      "cell_type": "markdown",
      "source": [
        "For each dialogue we select the first randomic utterances in order to put them togheter next."
      ],
      "metadata": {
        "id": "FKdcoVqoNdQG"
      }
    },
    {
      "cell_type": "code",
      "source": [
        "# Store the turns of each dialogue in the wrong_sentences dataframe\n",
        "max_turns = wrong_sentences.groupby('dialogue_id')['turn'].transform('max')\n",
        "\n",
        "# Generate a list of random integers between 1 and max_turn for each row \n",
        "random_ints = [random.randint(0, max_turn-1) for max_turn in max_turns]\n",
        "\n",
        "# Subtract the random integers from the max_turns values\n",
        "max_turns = max_turns - random_ints"
      ],
      "metadata": {
        "id": "a-GcK8hy9PwV"
      },
      "execution_count": 173,
      "outputs": []
    },
    {
      "cell_type": "code",
      "source": [
        "wrong_sentences = wrong_sentences.loc[wrong_sentences['turn'] <= max_turns, ['dialogue_id','turn', 'uttr']]"
      ],
      "metadata": {
        "id": "cHKeAuFr6wPM"
      },
      "execution_count": 174,
      "outputs": []
    },
    {
      "cell_type": "code",
      "source": [
        "wrong_sentences"
      ],
      "metadata": {
        "colab": {
          "base_uri": "https://localhost:8080/",
          "height": 0
        },
        "id": "iUdKqB4w75y1",
        "outputId": "62b2c4e7-ee88-4ef2-98d4-a357bf26b4df"
      },
      "execution_count": 175,
      "outputs": [
        {
          "output_type": "execute_result",
          "data": {
            "text/plain": [
              "        dialogue_id  turn                                               uttr\n",
              "0                97     1  You moron ! What fool washes diapers by the we...\n",
              "1                97     2                                 You useless fool !\n",
              "2                99     1                               How dare you sleep !\n",
              "4               100     1                                Clean the kitchen .\n",
              "5               100     2                   I cleaned the kitchen , ma 'am .\n",
              "...             ...   ...                                                ...\n",
              "740237      8819565     1  What is it about you ... that drives me crazy ...\n",
              "740238      8819565     2  I 've never been able to igure out ... but thi...\n",
              "740239      8819998     1           Hello , Mr. Hindle . Follow your heart .\n",
              "740241      8820637     1                                        Thank God !\n",
              "740242      8820637     2                     So tell me one of your moves .\n",
              "\n",
              "[546500 rows x 3 columns]"
            ],
            "text/html": [
              "\n",
              "  <div id=\"df-15e03be7-6519-4bed-8e62-dafd2cb6e0c3\">\n",
              "    <div class=\"colab-df-container\">\n",
              "      <div>\n",
              "<style scoped>\n",
              "    .dataframe tbody tr th:only-of-type {\n",
              "        vertical-align: middle;\n",
              "    }\n",
              "\n",
              "    .dataframe tbody tr th {\n",
              "        vertical-align: top;\n",
              "    }\n",
              "\n",
              "    .dataframe thead th {\n",
              "        text-align: right;\n",
              "    }\n",
              "</style>\n",
              "<table border=\"1\" class=\"dataframe\">\n",
              "  <thead>\n",
              "    <tr style=\"text-align: right;\">\n",
              "      <th></th>\n",
              "      <th>dialogue_id</th>\n",
              "      <th>turn</th>\n",
              "      <th>uttr</th>\n",
              "    </tr>\n",
              "  </thead>\n",
              "  <tbody>\n",
              "    <tr>\n",
              "      <th>0</th>\n",
              "      <td>97</td>\n",
              "      <td>1</td>\n",
              "      <td>You moron ! What fool washes diapers by the we...</td>\n",
              "    </tr>\n",
              "    <tr>\n",
              "      <th>1</th>\n",
              "      <td>97</td>\n",
              "      <td>2</td>\n",
              "      <td>You useless fool !</td>\n",
              "    </tr>\n",
              "    <tr>\n",
              "      <th>2</th>\n",
              "      <td>99</td>\n",
              "      <td>1</td>\n",
              "      <td>How dare you sleep !</td>\n",
              "    </tr>\n",
              "    <tr>\n",
              "      <th>4</th>\n",
              "      <td>100</td>\n",
              "      <td>1</td>\n",
              "      <td>Clean the kitchen .</td>\n",
              "    </tr>\n",
              "    <tr>\n",
              "      <th>5</th>\n",
              "      <td>100</td>\n",
              "      <td>2</td>\n",
              "      <td>I cleaned the kitchen , ma 'am .</td>\n",
              "    </tr>\n",
              "    <tr>\n",
              "      <th>...</th>\n",
              "      <td>...</td>\n",
              "      <td>...</td>\n",
              "      <td>...</td>\n",
              "    </tr>\n",
              "    <tr>\n",
              "      <th>740237</th>\n",
              "      <td>8819565</td>\n",
              "      <td>1</td>\n",
              "      <td>What is it about you ... that drives me crazy ...</td>\n",
              "    </tr>\n",
              "    <tr>\n",
              "      <th>740238</th>\n",
              "      <td>8819565</td>\n",
              "      <td>2</td>\n",
              "      <td>I 've never been able to igure out ... but thi...</td>\n",
              "    </tr>\n",
              "    <tr>\n",
              "      <th>740239</th>\n",
              "      <td>8819998</td>\n",
              "      <td>1</td>\n",
              "      <td>Hello , Mr. Hindle . Follow your heart .</td>\n",
              "    </tr>\n",
              "    <tr>\n",
              "      <th>740241</th>\n",
              "      <td>8820637</td>\n",
              "      <td>1</td>\n",
              "      <td>Thank God !</td>\n",
              "    </tr>\n",
              "    <tr>\n",
              "      <th>740242</th>\n",
              "      <td>8820637</td>\n",
              "      <td>2</td>\n",
              "      <td>So tell me one of your moves .</td>\n",
              "    </tr>\n",
              "  </tbody>\n",
              "</table>\n",
              "<p>546500 rows × 3 columns</p>\n",
              "</div>\n",
              "      <button class=\"colab-df-convert\" onclick=\"convertToInteractive('df-15e03be7-6519-4bed-8e62-dafd2cb6e0c3')\"\n",
              "              title=\"Convert this dataframe to an interactive table.\"\n",
              "              style=\"display:none;\">\n",
              "        \n",
              "  <svg xmlns=\"http://www.w3.org/2000/svg\" height=\"24px\"viewBox=\"0 0 24 24\"\n",
              "       width=\"24px\">\n",
              "    <path d=\"M0 0h24v24H0V0z\" fill=\"none\"/>\n",
              "    <path d=\"M18.56 5.44l.94 2.06.94-2.06 2.06-.94-2.06-.94-.94-2.06-.94 2.06-2.06.94zm-11 1L8.5 8.5l.94-2.06 2.06-.94-2.06-.94L8.5 2.5l-.94 2.06-2.06.94zm10 10l.94 2.06.94-2.06 2.06-.94-2.06-.94-.94-2.06-.94 2.06-2.06.94z\"/><path d=\"M17.41 7.96l-1.37-1.37c-.4-.4-.92-.59-1.43-.59-.52 0-1.04.2-1.43.59L10.3 9.45l-7.72 7.72c-.78.78-.78 2.05 0 2.83L4 21.41c.39.39.9.59 1.41.59.51 0 1.02-.2 1.41-.59l7.78-7.78 2.81-2.81c.8-.78.8-2.07 0-2.86zM5.41 20L4 18.59l7.72-7.72 1.47 1.35L5.41 20z\"/>\n",
              "  </svg>\n",
              "      </button>\n",
              "      \n",
              "  <style>\n",
              "    .colab-df-container {\n",
              "      display:flex;\n",
              "      flex-wrap:wrap;\n",
              "      gap: 12px;\n",
              "    }\n",
              "\n",
              "    .colab-df-convert {\n",
              "      background-color: #E8F0FE;\n",
              "      border: none;\n",
              "      border-radius: 50%;\n",
              "      cursor: pointer;\n",
              "      display: none;\n",
              "      fill: #1967D2;\n",
              "      height: 32px;\n",
              "      padding: 0 0 0 0;\n",
              "      width: 32px;\n",
              "    }\n",
              "\n",
              "    .colab-df-convert:hover {\n",
              "      background-color: #E2EBFA;\n",
              "      box-shadow: 0px 1px 2px rgba(60, 64, 67, 0.3), 0px 1px 3px 1px rgba(60, 64, 67, 0.15);\n",
              "      fill: #174EA6;\n",
              "    }\n",
              "\n",
              "    [theme=dark] .colab-df-convert {\n",
              "      background-color: #3B4455;\n",
              "      fill: #D2E3FC;\n",
              "    }\n",
              "\n",
              "    [theme=dark] .colab-df-convert:hover {\n",
              "      background-color: #434B5C;\n",
              "      box-shadow: 0px 1px 3px 1px rgba(0, 0, 0, 0.15);\n",
              "      filter: drop-shadow(0px 1px 2px rgba(0, 0, 0, 0.3));\n",
              "      fill: #FFFFFF;\n",
              "    }\n",
              "  </style>\n",
              "\n",
              "      <script>\n",
              "        const buttonEl =\n",
              "          document.querySelector('#df-15e03be7-6519-4bed-8e62-dafd2cb6e0c3 button.colab-df-convert');\n",
              "        buttonEl.style.display =\n",
              "          google.colab.kernel.accessAllowed ? 'block' : 'none';\n",
              "\n",
              "        async function convertToInteractive(key) {\n",
              "          const element = document.querySelector('#df-15e03be7-6519-4bed-8e62-dafd2cb6e0c3');\n",
              "          const dataTable =\n",
              "            await google.colab.kernel.invokeFunction('convertToInteractive',\n",
              "                                                     [key], {});\n",
              "          if (!dataTable) return;\n",
              "\n",
              "          const docLinkHtml = 'Like what you see? Visit the ' +\n",
              "            '<a target=\"_blank\" href=https://colab.research.google.com/notebooks/data_table.ipynb>data table notebook</a>'\n",
              "            + ' to learn more about interactive tables.';\n",
              "          element.innerHTML = '';\n",
              "          dataTable['output_type'] = 'display_data';\n",
              "          await google.colab.output.renderOutput(dataTable, element);\n",
              "          const docLink = document.createElement('div');\n",
              "          docLink.innerHTML = docLinkHtml;\n",
              "          element.appendChild(docLink);\n",
              "        }\n",
              "      </script>\n",
              "    </div>\n",
              "  </div>\n",
              "  "
            ]
          },
          "metadata": {},
          "execution_count": 175
        }
      ]
    },
    {
      "cell_type": "markdown",
      "source": [
        "## Merge the Utterances togheter"
      ],
      "metadata": {
        "id": "LQQRVB3mKBS3"
      }
    },
    {
      "cell_type": "markdown",
      "source": [
        "Let's now merge the utterances of the same dialogues togheter."
      ],
      "metadata": {
        "id": "-tEDL69_K479"
      }
    },
    {
      "cell_type": "code",
      "source": [
        "first_sentences = first_half.groupby('dialogue_id')['uttr'].agg(' '.join).reset_index()\n",
        "second_sentences = second_half.groupby('dialogue_id')['uttr'].agg(' '.join).reset_index()\n",
        "wrong_sentences = wrong_sentences.groupby('dialogue_id')['uttr'].agg(' '.join).reset_index()"
      ],
      "metadata": {
        "id": "4q0iI3PeLD40"
      },
      "execution_count": 176,
      "outputs": []
    },
    {
      "cell_type": "code",
      "source": [
        "first_sentences"
      ],
      "metadata": {
        "colab": {
          "base_uri": "https://localhost:8080/",
          "height": 0
        },
        "id": "4VeyG5jaM6tW",
        "outputId": "980aa40b-e1bb-4ed4-d5ad-72e9e340dc7b"
      },
      "execution_count": 177,
      "outputs": [
        {
          "output_type": "execute_result",
          "data": {
            "text/plain": [
              "        dialogue_id                                               uttr\n",
              "0                76  Granny . Don 't tell anyone . Keep it . That '...\n",
              "1               200                          How about Oshin ? Oshin .\n",
              "2               217       Your medicine . Open your mouth . Granny ...\n",
              "3               355  Sir , I 'd like some private moment with my mo...\n",
              "4               379  What the hell ? No one 's here . Dammit ! Chie...\n",
              "...             ...                                                ...\n",
              "162094      8820466  There 's another . It 's not happy , exactly ....\n",
              "162095      8820525  Minister , I really think I should sign as wel...\n",
              "162096      8820568  Father , it 's God 's work . No , it is this w...\n",
              "162097      8820571  Trying to force a nun back to the convent when...\n",
              "162098      8820621  Well .. .. this is just the way it was suppose...\n",
              "\n",
              "[162099 rows x 2 columns]"
            ],
            "text/html": [
              "\n",
              "  <div id=\"df-082496db-73c2-4f9d-8276-f6968790c9ed\">\n",
              "    <div class=\"colab-df-container\">\n",
              "      <div>\n",
              "<style scoped>\n",
              "    .dataframe tbody tr th:only-of-type {\n",
              "        vertical-align: middle;\n",
              "    }\n",
              "\n",
              "    .dataframe tbody tr th {\n",
              "        vertical-align: top;\n",
              "    }\n",
              "\n",
              "    .dataframe thead th {\n",
              "        text-align: right;\n",
              "    }\n",
              "</style>\n",
              "<table border=\"1\" class=\"dataframe\">\n",
              "  <thead>\n",
              "    <tr style=\"text-align: right;\">\n",
              "      <th></th>\n",
              "      <th>dialogue_id</th>\n",
              "      <th>uttr</th>\n",
              "    </tr>\n",
              "  </thead>\n",
              "  <tbody>\n",
              "    <tr>\n",
              "      <th>0</th>\n",
              "      <td>76</td>\n",
              "      <td>Granny . Don 't tell anyone . Keep it . That '...</td>\n",
              "    </tr>\n",
              "    <tr>\n",
              "      <th>1</th>\n",
              "      <td>200</td>\n",
              "      <td>How about Oshin ? Oshin .</td>\n",
              "    </tr>\n",
              "    <tr>\n",
              "      <th>2</th>\n",
              "      <td>217</td>\n",
              "      <td>Your medicine . Open your mouth . Granny ...</td>\n",
              "    </tr>\n",
              "    <tr>\n",
              "      <th>3</th>\n",
              "      <td>355</td>\n",
              "      <td>Sir , I 'd like some private moment with my mo...</td>\n",
              "    </tr>\n",
              "    <tr>\n",
              "      <th>4</th>\n",
              "      <td>379</td>\n",
              "      <td>What the hell ? No one 's here . Dammit ! Chie...</td>\n",
              "    </tr>\n",
              "    <tr>\n",
              "      <th>...</th>\n",
              "      <td>...</td>\n",
              "      <td>...</td>\n",
              "    </tr>\n",
              "    <tr>\n",
              "      <th>162094</th>\n",
              "      <td>8820466</td>\n",
              "      <td>There 's another . It 's not happy , exactly ....</td>\n",
              "    </tr>\n",
              "    <tr>\n",
              "      <th>162095</th>\n",
              "      <td>8820525</td>\n",
              "      <td>Minister , I really think I should sign as wel...</td>\n",
              "    </tr>\n",
              "    <tr>\n",
              "      <th>162096</th>\n",
              "      <td>8820568</td>\n",
              "      <td>Father , it 's God 's work . No , it is this w...</td>\n",
              "    </tr>\n",
              "    <tr>\n",
              "      <th>162097</th>\n",
              "      <td>8820571</td>\n",
              "      <td>Trying to force a nun back to the convent when...</td>\n",
              "    </tr>\n",
              "    <tr>\n",
              "      <th>162098</th>\n",
              "      <td>8820621</td>\n",
              "      <td>Well .. .. this is just the way it was suppose...</td>\n",
              "    </tr>\n",
              "  </tbody>\n",
              "</table>\n",
              "<p>162099 rows × 2 columns</p>\n",
              "</div>\n",
              "      <button class=\"colab-df-convert\" onclick=\"convertToInteractive('df-082496db-73c2-4f9d-8276-f6968790c9ed')\"\n",
              "              title=\"Convert this dataframe to an interactive table.\"\n",
              "              style=\"display:none;\">\n",
              "        \n",
              "  <svg xmlns=\"http://www.w3.org/2000/svg\" height=\"24px\"viewBox=\"0 0 24 24\"\n",
              "       width=\"24px\">\n",
              "    <path d=\"M0 0h24v24H0V0z\" fill=\"none\"/>\n",
              "    <path d=\"M18.56 5.44l.94 2.06.94-2.06 2.06-.94-2.06-.94-.94-2.06-.94 2.06-2.06.94zm-11 1L8.5 8.5l.94-2.06 2.06-.94-2.06-.94L8.5 2.5l-.94 2.06-2.06.94zm10 10l.94 2.06.94-2.06 2.06-.94-2.06-.94-.94-2.06-.94 2.06-2.06.94z\"/><path d=\"M17.41 7.96l-1.37-1.37c-.4-.4-.92-.59-1.43-.59-.52 0-1.04.2-1.43.59L10.3 9.45l-7.72 7.72c-.78.78-.78 2.05 0 2.83L4 21.41c.39.39.9.59 1.41.59.51 0 1.02-.2 1.41-.59l7.78-7.78 2.81-2.81c.8-.78.8-2.07 0-2.86zM5.41 20L4 18.59l7.72-7.72 1.47 1.35L5.41 20z\"/>\n",
              "  </svg>\n",
              "      </button>\n",
              "      \n",
              "  <style>\n",
              "    .colab-df-container {\n",
              "      display:flex;\n",
              "      flex-wrap:wrap;\n",
              "      gap: 12px;\n",
              "    }\n",
              "\n",
              "    .colab-df-convert {\n",
              "      background-color: #E8F0FE;\n",
              "      border: none;\n",
              "      border-radius: 50%;\n",
              "      cursor: pointer;\n",
              "      display: none;\n",
              "      fill: #1967D2;\n",
              "      height: 32px;\n",
              "      padding: 0 0 0 0;\n",
              "      width: 32px;\n",
              "    }\n",
              "\n",
              "    .colab-df-convert:hover {\n",
              "      background-color: #E2EBFA;\n",
              "      box-shadow: 0px 1px 2px rgba(60, 64, 67, 0.3), 0px 1px 3px 1px rgba(60, 64, 67, 0.15);\n",
              "      fill: #174EA6;\n",
              "    }\n",
              "\n",
              "    [theme=dark] .colab-df-convert {\n",
              "      background-color: #3B4455;\n",
              "      fill: #D2E3FC;\n",
              "    }\n",
              "\n",
              "    [theme=dark] .colab-df-convert:hover {\n",
              "      background-color: #434B5C;\n",
              "      box-shadow: 0px 1px 3px 1px rgba(0, 0, 0, 0.15);\n",
              "      filter: drop-shadow(0px 1px 2px rgba(0, 0, 0, 0.3));\n",
              "      fill: #FFFFFF;\n",
              "    }\n",
              "  </style>\n",
              "\n",
              "      <script>\n",
              "        const buttonEl =\n",
              "          document.querySelector('#df-082496db-73c2-4f9d-8276-f6968790c9ed button.colab-df-convert');\n",
              "        buttonEl.style.display =\n",
              "          google.colab.kernel.accessAllowed ? 'block' : 'none';\n",
              "\n",
              "        async function convertToInteractive(key) {\n",
              "          const element = document.querySelector('#df-082496db-73c2-4f9d-8276-f6968790c9ed');\n",
              "          const dataTable =\n",
              "            await google.colab.kernel.invokeFunction('convertToInteractive',\n",
              "                                                     [key], {});\n",
              "          if (!dataTable) return;\n",
              "\n",
              "          const docLinkHtml = 'Like what you see? Visit the ' +\n",
              "            '<a target=\"_blank\" href=https://colab.research.google.com/notebooks/data_table.ipynb>data table notebook</a>'\n",
              "            + ' to learn more about interactive tables.';\n",
              "          element.innerHTML = '';\n",
              "          dataTable['output_type'] = 'display_data';\n",
              "          await google.colab.output.renderOutput(dataTable, element);\n",
              "          const docLink = document.createElement('div');\n",
              "          docLink.innerHTML = docLinkHtml;\n",
              "          element.appendChild(docLink);\n",
              "        }\n",
              "      </script>\n",
              "    </div>\n",
              "  </div>\n",
              "  "
            ]
          },
          "metadata": {},
          "execution_count": 177
        }
      ]
    },
    {
      "cell_type": "code",
      "source": [
        "second_sentences"
      ],
      "metadata": {
        "colab": {
          "base_uri": "https://localhost:8080/",
          "height": 0
        },
        "id": "1-7Vzsh0M88_",
        "outputId": "313832df-763e-473e-f1a4-4d9a9b07acfc"
      },
      "execution_count": 178,
      "outputs": [
        {
          "output_type": "execute_result",
          "data": {
            "text/plain": [
              "        dialogue_id                                               uttr\n",
              "0                76  Granny , thank you so much . Hey ! She 's ready .\n",
              "1               200                               Thank you , ma 'am !\n",
              "2               217                                  Don 't spill it .\n",
              "3               355                Okay . Until midnight . Thank you .\n",
              "4               379  So he did live here . Maybe he got tipped off ...\n",
              "...             ...                                                ...\n",
              "162094      8820466  Then let 's give it a try . You feel ready ? J...\n",
              "162095      8820525  Okay , Buckbeak . Come quickly . Come with us ...\n",
              "162096      8820568  Yes , yes . God kept you here . He brought us ...\n",
              "162097      8820571  Well , for example , right now , by the nature...\n",
              "162098      8820621             It 's negative ? No , it 's positive .\n",
              "\n",
              "[162099 rows x 2 columns]"
            ],
            "text/html": [
              "\n",
              "  <div id=\"df-4789326d-ecb7-4731-9712-8cf242b1405a\">\n",
              "    <div class=\"colab-df-container\">\n",
              "      <div>\n",
              "<style scoped>\n",
              "    .dataframe tbody tr th:only-of-type {\n",
              "        vertical-align: middle;\n",
              "    }\n",
              "\n",
              "    .dataframe tbody tr th {\n",
              "        vertical-align: top;\n",
              "    }\n",
              "\n",
              "    .dataframe thead th {\n",
              "        text-align: right;\n",
              "    }\n",
              "</style>\n",
              "<table border=\"1\" class=\"dataframe\">\n",
              "  <thead>\n",
              "    <tr style=\"text-align: right;\">\n",
              "      <th></th>\n",
              "      <th>dialogue_id</th>\n",
              "      <th>uttr</th>\n",
              "    </tr>\n",
              "  </thead>\n",
              "  <tbody>\n",
              "    <tr>\n",
              "      <th>0</th>\n",
              "      <td>76</td>\n",
              "      <td>Granny , thank you so much . Hey ! She 's ready .</td>\n",
              "    </tr>\n",
              "    <tr>\n",
              "      <th>1</th>\n",
              "      <td>200</td>\n",
              "      <td>Thank you , ma 'am !</td>\n",
              "    </tr>\n",
              "    <tr>\n",
              "      <th>2</th>\n",
              "      <td>217</td>\n",
              "      <td>Don 't spill it .</td>\n",
              "    </tr>\n",
              "    <tr>\n",
              "      <th>3</th>\n",
              "      <td>355</td>\n",
              "      <td>Okay . Until midnight . Thank you .</td>\n",
              "    </tr>\n",
              "    <tr>\n",
              "      <th>4</th>\n",
              "      <td>379</td>\n",
              "      <td>So he did live here . Maybe he got tipped off ...</td>\n",
              "    </tr>\n",
              "    <tr>\n",
              "      <th>...</th>\n",
              "      <td>...</td>\n",
              "      <td>...</td>\n",
              "    </tr>\n",
              "    <tr>\n",
              "      <th>162094</th>\n",
              "      <td>8820466</td>\n",
              "      <td>Then let 's give it a try . You feel ready ? J...</td>\n",
              "    </tr>\n",
              "    <tr>\n",
              "      <th>162095</th>\n",
              "      <td>8820525</td>\n",
              "      <td>Okay , Buckbeak . Come quickly . Come with us ...</td>\n",
              "    </tr>\n",
              "    <tr>\n",
              "      <th>162096</th>\n",
              "      <td>8820568</td>\n",
              "      <td>Yes , yes . God kept you here . He brought us ...</td>\n",
              "    </tr>\n",
              "    <tr>\n",
              "      <th>162097</th>\n",
              "      <td>8820571</td>\n",
              "      <td>Well , for example , right now , by the nature...</td>\n",
              "    </tr>\n",
              "    <tr>\n",
              "      <th>162098</th>\n",
              "      <td>8820621</td>\n",
              "      <td>It 's negative ? No , it 's positive .</td>\n",
              "    </tr>\n",
              "  </tbody>\n",
              "</table>\n",
              "<p>162099 rows × 2 columns</p>\n",
              "</div>\n",
              "      <button class=\"colab-df-convert\" onclick=\"convertToInteractive('df-4789326d-ecb7-4731-9712-8cf242b1405a')\"\n",
              "              title=\"Convert this dataframe to an interactive table.\"\n",
              "              style=\"display:none;\">\n",
              "        \n",
              "  <svg xmlns=\"http://www.w3.org/2000/svg\" height=\"24px\"viewBox=\"0 0 24 24\"\n",
              "       width=\"24px\">\n",
              "    <path d=\"M0 0h24v24H0V0z\" fill=\"none\"/>\n",
              "    <path d=\"M18.56 5.44l.94 2.06.94-2.06 2.06-.94-2.06-.94-.94-2.06-.94 2.06-2.06.94zm-11 1L8.5 8.5l.94-2.06 2.06-.94-2.06-.94L8.5 2.5l-.94 2.06-2.06.94zm10 10l.94 2.06.94-2.06 2.06-.94-2.06-.94-.94-2.06-.94 2.06-2.06.94z\"/><path d=\"M17.41 7.96l-1.37-1.37c-.4-.4-.92-.59-1.43-.59-.52 0-1.04.2-1.43.59L10.3 9.45l-7.72 7.72c-.78.78-.78 2.05 0 2.83L4 21.41c.39.39.9.59 1.41.59.51 0 1.02-.2 1.41-.59l7.78-7.78 2.81-2.81c.8-.78.8-2.07 0-2.86zM5.41 20L4 18.59l7.72-7.72 1.47 1.35L5.41 20z\"/>\n",
              "  </svg>\n",
              "      </button>\n",
              "      \n",
              "  <style>\n",
              "    .colab-df-container {\n",
              "      display:flex;\n",
              "      flex-wrap:wrap;\n",
              "      gap: 12px;\n",
              "    }\n",
              "\n",
              "    .colab-df-convert {\n",
              "      background-color: #E8F0FE;\n",
              "      border: none;\n",
              "      border-radius: 50%;\n",
              "      cursor: pointer;\n",
              "      display: none;\n",
              "      fill: #1967D2;\n",
              "      height: 32px;\n",
              "      padding: 0 0 0 0;\n",
              "      width: 32px;\n",
              "    }\n",
              "\n",
              "    .colab-df-convert:hover {\n",
              "      background-color: #E2EBFA;\n",
              "      box-shadow: 0px 1px 2px rgba(60, 64, 67, 0.3), 0px 1px 3px 1px rgba(60, 64, 67, 0.15);\n",
              "      fill: #174EA6;\n",
              "    }\n",
              "\n",
              "    [theme=dark] .colab-df-convert {\n",
              "      background-color: #3B4455;\n",
              "      fill: #D2E3FC;\n",
              "    }\n",
              "\n",
              "    [theme=dark] .colab-df-convert:hover {\n",
              "      background-color: #434B5C;\n",
              "      box-shadow: 0px 1px 3px 1px rgba(0, 0, 0, 0.15);\n",
              "      filter: drop-shadow(0px 1px 2px rgba(0, 0, 0, 0.3));\n",
              "      fill: #FFFFFF;\n",
              "    }\n",
              "  </style>\n",
              "\n",
              "      <script>\n",
              "        const buttonEl =\n",
              "          document.querySelector('#df-4789326d-ecb7-4731-9712-8cf242b1405a button.colab-df-convert');\n",
              "        buttonEl.style.display =\n",
              "          google.colab.kernel.accessAllowed ? 'block' : 'none';\n",
              "\n",
              "        async function convertToInteractive(key) {\n",
              "          const element = document.querySelector('#df-4789326d-ecb7-4731-9712-8cf242b1405a');\n",
              "          const dataTable =\n",
              "            await google.colab.kernel.invokeFunction('convertToInteractive',\n",
              "                                                     [key], {});\n",
              "          if (!dataTable) return;\n",
              "\n",
              "          const docLinkHtml = 'Like what you see? Visit the ' +\n",
              "            '<a target=\"_blank\" href=https://colab.research.google.com/notebooks/data_table.ipynb>data table notebook</a>'\n",
              "            + ' to learn more about interactive tables.';\n",
              "          element.innerHTML = '';\n",
              "          dataTable['output_type'] = 'display_data';\n",
              "          await google.colab.output.renderOutput(dataTable, element);\n",
              "          const docLink = document.createElement('div');\n",
              "          docLink.innerHTML = docLinkHtml;\n",
              "          element.appendChild(docLink);\n",
              "        }\n",
              "      </script>\n",
              "    </div>\n",
              "  </div>\n",
              "  "
            ]
          },
          "metadata": {},
          "execution_count": 178
        }
      ]
    },
    {
      "cell_type": "markdown",
      "source": [
        "Check the correctness of the dataframes produced: *first_sentences* and *second_sentences* must have an equal number of dialogues."
      ],
      "metadata": {
        "id": "sQTdW5tTOqq2"
      }
    },
    {
      "cell_type": "code",
      "source": [
        "len(first_sentences) == len(second_sentences) == len(final_df['dialogue_id'].unique())"
      ],
      "metadata": {
        "colab": {
          "base_uri": "https://localhost:8080/"
        },
        "id": "hkVEGmjPOvGu",
        "outputId": "8f4575b9-3df3-4ec6-acc1-473c658516f8"
      },
      "execution_count": 179,
      "outputs": [
        {
          "output_type": "execute_result",
          "data": {
            "text/plain": [
              "True"
            ]
          },
          "metadata": {},
          "execution_count": 179
        }
      ]
    },
    {
      "cell_type": "code",
      "source": [
        "wrong_sentences"
      ],
      "metadata": {
        "id": "CnD5mTAV5TG8",
        "colab": {
          "base_uri": "https://localhost:8080/",
          "height": 0
        },
        "outputId": "bf7391da-ccc5-4c7a-ed48-69c412bcabf5"
      },
      "execution_count": 180,
      "outputs": [
        {
          "output_type": "execute_result",
          "data": {
            "text/plain": [
              "        dialogue_id                                               uttr\n",
              "0                 1  So , let 's take a look at what 's going on ar...\n",
              "1                53  Good for you ! That 's a big piece . Is it yum...\n",
              "2                68  Is this rice ? It 's your pay for a year . You...\n",
              "3                84        It 's breakfast time ! You must be hungry .\n",
              "4                97  You moron ! What fool washes diapers by the we...\n",
              "...             ...                                                ...\n",
              "352747      8820579                            Bring her back to him .\n",
              "352748      8820594  Okay , so we 're cool . We 're going to be gre...\n",
              "352749      8820596  Check it out , the \" Chan-Chan Man \" ! I 'm st...\n",
              "352750      8820631          Wow , I can 't believe that 's our baby .\n",
              "352751      8820637         Thank God ! So tell me one of your moves .\n",
              "\n",
              "[352752 rows x 2 columns]"
            ],
            "text/html": [
              "\n",
              "  <div id=\"df-9dfd2587-0139-401c-91a7-cda807ebda48\">\n",
              "    <div class=\"colab-df-container\">\n",
              "      <div>\n",
              "<style scoped>\n",
              "    .dataframe tbody tr th:only-of-type {\n",
              "        vertical-align: middle;\n",
              "    }\n",
              "\n",
              "    .dataframe tbody tr th {\n",
              "        vertical-align: top;\n",
              "    }\n",
              "\n",
              "    .dataframe thead th {\n",
              "        text-align: right;\n",
              "    }\n",
              "</style>\n",
              "<table border=\"1\" class=\"dataframe\">\n",
              "  <thead>\n",
              "    <tr style=\"text-align: right;\">\n",
              "      <th></th>\n",
              "      <th>dialogue_id</th>\n",
              "      <th>uttr</th>\n",
              "    </tr>\n",
              "  </thead>\n",
              "  <tbody>\n",
              "    <tr>\n",
              "      <th>0</th>\n",
              "      <td>1</td>\n",
              "      <td>So , let 's take a look at what 's going on ar...</td>\n",
              "    </tr>\n",
              "    <tr>\n",
              "      <th>1</th>\n",
              "      <td>53</td>\n",
              "      <td>Good for you ! That 's a big piece . Is it yum...</td>\n",
              "    </tr>\n",
              "    <tr>\n",
              "      <th>2</th>\n",
              "      <td>68</td>\n",
              "      <td>Is this rice ? It 's your pay for a year . You...</td>\n",
              "    </tr>\n",
              "    <tr>\n",
              "      <th>3</th>\n",
              "      <td>84</td>\n",
              "      <td>It 's breakfast time ! You must be hungry .</td>\n",
              "    </tr>\n",
              "    <tr>\n",
              "      <th>4</th>\n",
              "      <td>97</td>\n",
              "      <td>You moron ! What fool washes diapers by the we...</td>\n",
              "    </tr>\n",
              "    <tr>\n",
              "      <th>...</th>\n",
              "      <td>...</td>\n",
              "      <td>...</td>\n",
              "    </tr>\n",
              "    <tr>\n",
              "      <th>352747</th>\n",
              "      <td>8820579</td>\n",
              "      <td>Bring her back to him .</td>\n",
              "    </tr>\n",
              "    <tr>\n",
              "      <th>352748</th>\n",
              "      <td>8820594</td>\n",
              "      <td>Okay , so we 're cool . We 're going to be gre...</td>\n",
              "    </tr>\n",
              "    <tr>\n",
              "      <th>352749</th>\n",
              "      <td>8820596</td>\n",
              "      <td>Check it out , the \" Chan-Chan Man \" ! I 'm st...</td>\n",
              "    </tr>\n",
              "    <tr>\n",
              "      <th>352750</th>\n",
              "      <td>8820631</td>\n",
              "      <td>Wow , I can 't believe that 's our baby .</td>\n",
              "    </tr>\n",
              "    <tr>\n",
              "      <th>352751</th>\n",
              "      <td>8820637</td>\n",
              "      <td>Thank God ! So tell me one of your moves .</td>\n",
              "    </tr>\n",
              "  </tbody>\n",
              "</table>\n",
              "<p>352752 rows × 2 columns</p>\n",
              "</div>\n",
              "      <button class=\"colab-df-convert\" onclick=\"convertToInteractive('df-9dfd2587-0139-401c-91a7-cda807ebda48')\"\n",
              "              title=\"Convert this dataframe to an interactive table.\"\n",
              "              style=\"display:none;\">\n",
              "        \n",
              "  <svg xmlns=\"http://www.w3.org/2000/svg\" height=\"24px\"viewBox=\"0 0 24 24\"\n",
              "       width=\"24px\">\n",
              "    <path d=\"M0 0h24v24H0V0z\" fill=\"none\"/>\n",
              "    <path d=\"M18.56 5.44l.94 2.06.94-2.06 2.06-.94-2.06-.94-.94-2.06-.94 2.06-2.06.94zm-11 1L8.5 8.5l.94-2.06 2.06-.94-2.06-.94L8.5 2.5l-.94 2.06-2.06.94zm10 10l.94 2.06.94-2.06 2.06-.94-2.06-.94-.94-2.06-.94 2.06-2.06.94z\"/><path d=\"M17.41 7.96l-1.37-1.37c-.4-.4-.92-.59-1.43-.59-.52 0-1.04.2-1.43.59L10.3 9.45l-7.72 7.72c-.78.78-.78 2.05 0 2.83L4 21.41c.39.39.9.59 1.41.59.51 0 1.02-.2 1.41-.59l7.78-7.78 2.81-2.81c.8-.78.8-2.07 0-2.86zM5.41 20L4 18.59l7.72-7.72 1.47 1.35L5.41 20z\"/>\n",
              "  </svg>\n",
              "      </button>\n",
              "      \n",
              "  <style>\n",
              "    .colab-df-container {\n",
              "      display:flex;\n",
              "      flex-wrap:wrap;\n",
              "      gap: 12px;\n",
              "    }\n",
              "\n",
              "    .colab-df-convert {\n",
              "      background-color: #E8F0FE;\n",
              "      border: none;\n",
              "      border-radius: 50%;\n",
              "      cursor: pointer;\n",
              "      display: none;\n",
              "      fill: #1967D2;\n",
              "      height: 32px;\n",
              "      padding: 0 0 0 0;\n",
              "      width: 32px;\n",
              "    }\n",
              "\n",
              "    .colab-df-convert:hover {\n",
              "      background-color: #E2EBFA;\n",
              "      box-shadow: 0px 1px 2px rgba(60, 64, 67, 0.3), 0px 1px 3px 1px rgba(60, 64, 67, 0.15);\n",
              "      fill: #174EA6;\n",
              "    }\n",
              "\n",
              "    [theme=dark] .colab-df-convert {\n",
              "      background-color: #3B4455;\n",
              "      fill: #D2E3FC;\n",
              "    }\n",
              "\n",
              "    [theme=dark] .colab-df-convert:hover {\n",
              "      background-color: #434B5C;\n",
              "      box-shadow: 0px 1px 3px 1px rgba(0, 0, 0, 0.15);\n",
              "      filter: drop-shadow(0px 1px 2px rgba(0, 0, 0, 0.3));\n",
              "      fill: #FFFFFF;\n",
              "    }\n",
              "  </style>\n",
              "\n",
              "      <script>\n",
              "        const buttonEl =\n",
              "          document.querySelector('#df-9dfd2587-0139-401c-91a7-cda807ebda48 button.colab-df-convert');\n",
              "        buttonEl.style.display =\n",
              "          google.colab.kernel.accessAllowed ? 'block' : 'none';\n",
              "\n",
              "        async function convertToInteractive(key) {\n",
              "          const element = document.querySelector('#df-9dfd2587-0139-401c-91a7-cda807ebda48');\n",
              "          const dataTable =\n",
              "            await google.colab.kernel.invokeFunction('convertToInteractive',\n",
              "                                                     [key], {});\n",
              "          if (!dataTable) return;\n",
              "\n",
              "          const docLinkHtml = 'Like what you see? Visit the ' +\n",
              "            '<a target=\"_blank\" href=https://colab.research.google.com/notebooks/data_table.ipynb>data table notebook</a>'\n",
              "            + ' to learn more about interactive tables.';\n",
              "          element.innerHTML = '';\n",
              "          dataTable['output_type'] = 'display_data';\n",
              "          await google.colab.output.renderOutput(dataTable, element);\n",
              "          const docLink = document.createElement('div');\n",
              "          docLink.innerHTML = docLinkHtml;\n",
              "          element.appendChild(docLink);\n",
              "        }\n",
              "      </script>\n",
              "    </div>\n",
              "  </div>\n",
              "  "
            ]
          },
          "metadata": {},
          "execution_count": 180
        }
      ]
    },
    {
      "cell_type": "markdown",
      "source": [
        "### Combine Correlated and Not Correlated Responses"
      ],
      "metadata": {
        "id": "dFN4TScHOzha"
      }
    },
    {
      "cell_type": "markdown",
      "source": [
        "Concatenate the dataframes *second_sentences* and *wrong_sentences* in order to obtain a unique dataset containing correlated sentences to the *first_sentences* dataframe and other sentences that are not correlated.\n",
        "This is done in order to be able to train NSP on the dataset."
      ],
      "metadata": {
        "id": "46NkBev-O_mn"
      }
    },
    {
      "cell_type": "code",
      "source": [
        "secondXwrong_sentences = pd.concat([second_sentences, wrong_sentences])\n",
        "\n",
        "# Sort the resulting dataframe by 'dialogue_id'\n",
        "secondXwrong_sentences = secondXwrong_sentences.sort_values(by='dialogue_id')"
      ],
      "metadata": {
        "id": "P8ONrF5JxF0T"
      },
      "execution_count": 181,
      "outputs": []
    },
    {
      "cell_type": "code",
      "source": [
        "secondXwrong_sentences"
      ],
      "metadata": {
        "colab": {
          "base_uri": "https://localhost:8080/",
          "height": 0
        },
        "id": "qdlElcXRxMSg",
        "outputId": "9732d7b0-5465-4ec1-f20c-08b2fac64a08"
      },
      "execution_count": 182,
      "outputs": [
        {
          "output_type": "execute_result",
          "data": {
            "text/plain": [
              "        dialogue_id                                               uttr\n",
              "0                 1  So , let 's take a look at what 's going on ar...\n",
              "1                53  Good for you ! That 's a big piece . Is it yum...\n",
              "2                68  Is this rice ? It 's your pay for a year . You...\n",
              "0                76  Granny , thank you so much . Hey ! She 's ready .\n",
              "3                84        It 's breakfast time ! You must be hungry .\n",
              "...             ...                                                ...\n",
              "352748      8820594  Okay , so we 're cool . We 're going to be gre...\n",
              "352749      8820596  Check it out , the \" Chan-Chan Man \" ! I 'm st...\n",
              "162098      8820621             It 's negative ? No , it 's positive .\n",
              "352750      8820631          Wow , I can 't believe that 's our baby .\n",
              "352751      8820637         Thank God ! So tell me one of your moves .\n",
              "\n",
              "[514851 rows x 2 columns]"
            ],
            "text/html": [
              "\n",
              "  <div id=\"df-7b3967e6-3cc6-4660-94a0-e112de6a5549\">\n",
              "    <div class=\"colab-df-container\">\n",
              "      <div>\n",
              "<style scoped>\n",
              "    .dataframe tbody tr th:only-of-type {\n",
              "        vertical-align: middle;\n",
              "    }\n",
              "\n",
              "    .dataframe tbody tr th {\n",
              "        vertical-align: top;\n",
              "    }\n",
              "\n",
              "    .dataframe thead th {\n",
              "        text-align: right;\n",
              "    }\n",
              "</style>\n",
              "<table border=\"1\" class=\"dataframe\">\n",
              "  <thead>\n",
              "    <tr style=\"text-align: right;\">\n",
              "      <th></th>\n",
              "      <th>dialogue_id</th>\n",
              "      <th>uttr</th>\n",
              "    </tr>\n",
              "  </thead>\n",
              "  <tbody>\n",
              "    <tr>\n",
              "      <th>0</th>\n",
              "      <td>1</td>\n",
              "      <td>So , let 's take a look at what 's going on ar...</td>\n",
              "    </tr>\n",
              "    <tr>\n",
              "      <th>1</th>\n",
              "      <td>53</td>\n",
              "      <td>Good for you ! That 's a big piece . Is it yum...</td>\n",
              "    </tr>\n",
              "    <tr>\n",
              "      <th>2</th>\n",
              "      <td>68</td>\n",
              "      <td>Is this rice ? It 's your pay for a year . You...</td>\n",
              "    </tr>\n",
              "    <tr>\n",
              "      <th>0</th>\n",
              "      <td>76</td>\n",
              "      <td>Granny , thank you so much . Hey ! She 's ready .</td>\n",
              "    </tr>\n",
              "    <tr>\n",
              "      <th>3</th>\n",
              "      <td>84</td>\n",
              "      <td>It 's breakfast time ! You must be hungry .</td>\n",
              "    </tr>\n",
              "    <tr>\n",
              "      <th>...</th>\n",
              "      <td>...</td>\n",
              "      <td>...</td>\n",
              "    </tr>\n",
              "    <tr>\n",
              "      <th>352748</th>\n",
              "      <td>8820594</td>\n",
              "      <td>Okay , so we 're cool . We 're going to be gre...</td>\n",
              "    </tr>\n",
              "    <tr>\n",
              "      <th>352749</th>\n",
              "      <td>8820596</td>\n",
              "      <td>Check it out , the \" Chan-Chan Man \" ! I 'm st...</td>\n",
              "    </tr>\n",
              "    <tr>\n",
              "      <th>162098</th>\n",
              "      <td>8820621</td>\n",
              "      <td>It 's negative ? No , it 's positive .</td>\n",
              "    </tr>\n",
              "    <tr>\n",
              "      <th>352750</th>\n",
              "      <td>8820631</td>\n",
              "      <td>Wow , I can 't believe that 's our baby .</td>\n",
              "    </tr>\n",
              "    <tr>\n",
              "      <th>352751</th>\n",
              "      <td>8820637</td>\n",
              "      <td>Thank God ! So tell me one of your moves .</td>\n",
              "    </tr>\n",
              "  </tbody>\n",
              "</table>\n",
              "<p>514851 rows × 2 columns</p>\n",
              "</div>\n",
              "      <button class=\"colab-df-convert\" onclick=\"convertToInteractive('df-7b3967e6-3cc6-4660-94a0-e112de6a5549')\"\n",
              "              title=\"Convert this dataframe to an interactive table.\"\n",
              "              style=\"display:none;\">\n",
              "        \n",
              "  <svg xmlns=\"http://www.w3.org/2000/svg\" height=\"24px\"viewBox=\"0 0 24 24\"\n",
              "       width=\"24px\">\n",
              "    <path d=\"M0 0h24v24H0V0z\" fill=\"none\"/>\n",
              "    <path d=\"M18.56 5.44l.94 2.06.94-2.06 2.06-.94-2.06-.94-.94-2.06-.94 2.06-2.06.94zm-11 1L8.5 8.5l.94-2.06 2.06-.94-2.06-.94L8.5 2.5l-.94 2.06-2.06.94zm10 10l.94 2.06.94-2.06 2.06-.94-2.06-.94-.94-2.06-.94 2.06-2.06.94z\"/><path d=\"M17.41 7.96l-1.37-1.37c-.4-.4-.92-.59-1.43-.59-.52 0-1.04.2-1.43.59L10.3 9.45l-7.72 7.72c-.78.78-.78 2.05 0 2.83L4 21.41c.39.39.9.59 1.41.59.51 0 1.02-.2 1.41-.59l7.78-7.78 2.81-2.81c.8-.78.8-2.07 0-2.86zM5.41 20L4 18.59l7.72-7.72 1.47 1.35L5.41 20z\"/>\n",
              "  </svg>\n",
              "      </button>\n",
              "      \n",
              "  <style>\n",
              "    .colab-df-container {\n",
              "      display:flex;\n",
              "      flex-wrap:wrap;\n",
              "      gap: 12px;\n",
              "    }\n",
              "\n",
              "    .colab-df-convert {\n",
              "      background-color: #E8F0FE;\n",
              "      border: none;\n",
              "      border-radius: 50%;\n",
              "      cursor: pointer;\n",
              "      display: none;\n",
              "      fill: #1967D2;\n",
              "      height: 32px;\n",
              "      padding: 0 0 0 0;\n",
              "      width: 32px;\n",
              "    }\n",
              "\n",
              "    .colab-df-convert:hover {\n",
              "      background-color: #E2EBFA;\n",
              "      box-shadow: 0px 1px 2px rgba(60, 64, 67, 0.3), 0px 1px 3px 1px rgba(60, 64, 67, 0.15);\n",
              "      fill: #174EA6;\n",
              "    }\n",
              "\n",
              "    [theme=dark] .colab-df-convert {\n",
              "      background-color: #3B4455;\n",
              "      fill: #D2E3FC;\n",
              "    }\n",
              "\n",
              "    [theme=dark] .colab-df-convert:hover {\n",
              "      background-color: #434B5C;\n",
              "      box-shadow: 0px 1px 3px 1px rgba(0, 0, 0, 0.15);\n",
              "      filter: drop-shadow(0px 1px 2px rgba(0, 0, 0, 0.3));\n",
              "      fill: #FFFFFF;\n",
              "    }\n",
              "  </style>\n",
              "\n",
              "      <script>\n",
              "        const buttonEl =\n",
              "          document.querySelector('#df-7b3967e6-3cc6-4660-94a0-e112de6a5549 button.colab-df-convert');\n",
              "        buttonEl.style.display =\n",
              "          google.colab.kernel.accessAllowed ? 'block' : 'none';\n",
              "\n",
              "        async function convertToInteractive(key) {\n",
              "          const element = document.querySelector('#df-7b3967e6-3cc6-4660-94a0-e112de6a5549');\n",
              "          const dataTable =\n",
              "            await google.colab.kernel.invokeFunction('convertToInteractive',\n",
              "                                                     [key], {});\n",
              "          if (!dataTable) return;\n",
              "\n",
              "          const docLinkHtml = 'Like what you see? Visit the ' +\n",
              "            '<a target=\"_blank\" href=https://colab.research.google.com/notebooks/data_table.ipynb>data table notebook</a>'\n",
              "            + ' to learn more about interactive tables.';\n",
              "          element.innerHTML = '';\n",
              "          dataTable['output_type'] = 'display_data';\n",
              "          await google.colab.output.renderOutput(dataTable, element);\n",
              "          const docLink = document.createElement('div');\n",
              "          docLink.innerHTML = docLinkHtml;\n",
              "          element.appendChild(docLink);\n",
              "        }\n",
              "      </script>\n",
              "    </div>\n",
              "  </div>\n",
              "  "
            ]
          },
          "metadata": {},
          "execution_count": 182
        }
      ]
    },
    {
      "cell_type": "markdown",
      "source": [
        "## Download the Resulting Datasets"
      ],
      "metadata": {
        "id": "H7Nqrg7kPIwm"
      }
    },
    {
      "cell_type": "code",
      "source": [
        "first_sentences.to_csv('first_sentences.csv', index=False)\n",
        "files.download('first_sentences.csv')"
      ],
      "metadata": {
        "id": "nFMpvQcmPMgh",
        "colab": {
          "base_uri": "https://localhost:8080/",
          "height": 17
        },
        "outputId": "3d56233d-7710-4b11-a1a0-d4b9dc05d5ea"
      },
      "execution_count": 183,
      "outputs": [
        {
          "output_type": "display_data",
          "data": {
            "text/plain": [
              "<IPython.core.display.Javascript object>"
            ],
            "application/javascript": [
              "\n",
              "    async function download(id, filename, size) {\n",
              "      if (!google.colab.kernel.accessAllowed) {\n",
              "        return;\n",
              "      }\n",
              "      const div = document.createElement('div');\n",
              "      const label = document.createElement('label');\n",
              "      label.textContent = `Downloading \"${filename}\": `;\n",
              "      div.appendChild(label);\n",
              "      const progress = document.createElement('progress');\n",
              "      progress.max = size;\n",
              "      div.appendChild(progress);\n",
              "      document.body.appendChild(div);\n",
              "\n",
              "      const buffers = [];\n",
              "      let downloaded = 0;\n",
              "\n",
              "      const channel = await google.colab.kernel.comms.open(id);\n",
              "      // Send a message to notify the kernel that we're ready.\n",
              "      channel.send({})\n",
              "\n",
              "      for await (const message of channel.messages) {\n",
              "        // Send a message to notify the kernel that we're ready.\n",
              "        channel.send({})\n",
              "        if (message.buffers) {\n",
              "          for (const buffer of message.buffers) {\n",
              "            buffers.push(buffer);\n",
              "            downloaded += buffer.byteLength;\n",
              "            progress.value = downloaded;\n",
              "          }\n",
              "        }\n",
              "      }\n",
              "      const blob = new Blob(buffers, {type: 'application/binary'});\n",
              "      const a = document.createElement('a');\n",
              "      a.href = window.URL.createObjectURL(blob);\n",
              "      a.download = filename;\n",
              "      div.appendChild(a);\n",
              "      a.click();\n",
              "      div.remove();\n",
              "    }\n",
              "  "
            ]
          },
          "metadata": {}
        },
        {
          "output_type": "display_data",
          "data": {
            "text/plain": [
              "<IPython.core.display.Javascript object>"
            ],
            "application/javascript": [
              "download(\"download_136ea15c-2354-4285-8971-0d10654e5168\", \"first_sentences.csv\", 24449098)"
            ]
          },
          "metadata": {}
        }
      ]
    },
    {
      "cell_type": "code",
      "source": [
        "secondXwrong_sentences.to_csv('second_sentences.csv', index=False)\n",
        "files.download('second_sentences.csv')"
      ],
      "metadata": {
        "id": "K_TDK2ftPNg5",
        "colab": {
          "base_uri": "https://localhost:8080/",
          "height": 17
        },
        "outputId": "5bd9124e-ddd2-47cc-b812-2a675d86c359"
      },
      "execution_count": 184,
      "outputs": [
        {
          "output_type": "display_data",
          "data": {
            "text/plain": [
              "<IPython.core.display.Javascript object>"
            ],
            "application/javascript": [
              "\n",
              "    async function download(id, filename, size) {\n",
              "      if (!google.colab.kernel.accessAllowed) {\n",
              "        return;\n",
              "      }\n",
              "      const div = document.createElement('div');\n",
              "      const label = document.createElement('label');\n",
              "      label.textContent = `Downloading \"${filename}\": `;\n",
              "      div.appendChild(label);\n",
              "      const progress = document.createElement('progress');\n",
              "      progress.max = size;\n",
              "      div.appendChild(progress);\n",
              "      document.body.appendChild(div);\n",
              "\n",
              "      const buffers = [];\n",
              "      let downloaded = 0;\n",
              "\n",
              "      const channel = await google.colab.kernel.comms.open(id);\n",
              "      // Send a message to notify the kernel that we're ready.\n",
              "      channel.send({})\n",
              "\n",
              "      for await (const message of channel.messages) {\n",
              "        // Send a message to notify the kernel that we're ready.\n",
              "        channel.send({})\n",
              "        if (message.buffers) {\n",
              "          for (const buffer of message.buffers) {\n",
              "            buffers.push(buffer);\n",
              "            downloaded += buffer.byteLength;\n",
              "            progress.value = downloaded;\n",
              "          }\n",
              "        }\n",
              "      }\n",
              "      const blob = new Blob(buffers, {type: 'application/binary'});\n",
              "      const a = document.createElement('a');\n",
              "      a.href = window.URL.createObjectURL(blob);\n",
              "      a.download = filename;\n",
              "      div.appendChild(a);\n",
              "      a.click();\n",
              "      div.remove();\n",
              "    }\n",
              "  "
            ]
          },
          "metadata": {}
        },
        {
          "output_type": "display_data",
          "data": {
            "text/plain": [
              "<IPython.core.display.Javascript object>"
            ],
            "application/javascript": [
              "download(\"download_faf3780c-e2d6-4145-971d-cef08afff668\", \"second_sentences.csv\", 57035600)"
            ]
          },
          "metadata": {}
        }
      ]
    }
  ],
  "metadata": {
    "colab": {
      "provenance": [],
      "authorship_tag": "ABX9TyNHbahtRKBD8bjGblsI1mko",
      "include_colab_link": true
    },
    "kernelspec": {
      "display_name": "Python 3",
      "name": "python3"
    },
    "language_info": {
      "name": "python"
    }
  },
  "nbformat": 4,
  "nbformat_minor": 0
}