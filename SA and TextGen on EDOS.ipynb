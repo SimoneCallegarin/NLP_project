{
  "cells": [
    {
      "cell_type": "markdown",
      "metadata": {
        "id": "view-in-github",
        "colab_type": "text"
      },
      "source": [
        "<a href=\"https://colab.research.google.com/github/SimoneCallegarin/NLP_project/blob/main/SA%20and%20TextGen%20on%20EDOS.ipynb\" target=\"_parent\"><img src=\"https://colab.research.google.com/assets/colab-badge.svg\" alt=\"Open In Colab\"/></a>"
      ]
    },
    {
      "cell_type": "markdown",
      "id": "f45f1ef2-f6fb-4657-967f-1c6cb58e433f",
      "metadata": {
        "id": "f45f1ef2-f6fb-4657-967f-1c6cb58e433f",
        "tags": []
      },
      "source": [
        "# **Environment Setup**"
      ]
    },
    {
      "cell_type": "markdown",
      "id": "6cf90fe4-005f-43ae-9706-4d23bd0b088e",
      "metadata": {
        "id": "6cf90fe4-005f-43ae-9706-4d23bd0b088e"
      },
      "source": [
        "## **Libraries Imports**"
      ]
    },
    {
      "cell_type": "code",
      "execution_count": null,
      "id": "d19243d1-9a72-4d70-a0ac-72054e3c4bc3",
      "metadata": {
        "id": "d19243d1-9a72-4d70-a0ac-72054e3c4bc3"
      },
      "outputs": [],
      "source": [
        "import pandas as pd\n",
        "import re\n",
        "from collections import Counter\n",
        "#from google.colab import files"
      ]
    },
    {
      "cell_type": "code",
      "execution_count": null,
      "id": "jRudjrwPN3mq",
      "metadata": {
        "id": "jRudjrwPN3mq"
      },
      "outputs": [],
      "source": [
        "# Downsampling:\n",
        "!pip install --quiet --root-user-action=ignore hyperopt\n",
        "from sklearn.model_selection import train_test_split\n",
        "from sklearn.utils import resample\n",
        "from sklearn.preprocessing import LabelEncoder\n",
        "from sklearn.linear_model import LogisticRegression\n",
        "from sklearn.metrics import classification_report, confusion_matrix, ConfusionMatrixDisplay, accuracy_score\n",
        "from sklearn.multiclass import OneVsRestClassifier\n",
        "from sklearn.ensemble import RandomForestClassifier\n",
        "from sklearn.model_selection import GridSearchCV,ShuffleSplit\n",
        "from sklearn.svm import SVC\n",
        "from sklearn.model_selection import RandomizedSearchCV\n",
        "from scipy.stats import uniform,randint\n",
        "from xgboost import XGBClassifier\n",
        "import hyperopt\n",
        "from hyperopt import fmin, tpe, hp, STATUS_OK, Trials"
      ]
    },
    {
      "cell_type": "code",
      "execution_count": null,
      "id": "KtLmNWEYN6s7",
      "metadata": {
        "id": "KtLmNWEYN6s7"
      },
      "outputs": [],
      "source": [
        "# Preprocessing:\n",
        "!pip install --quiet --root-user-action=ignore pyspark\n",
        "from pyspark.sql import SparkSession\n",
        "from pyspark.ml.feature import Tokenizer, StopWordsRemover\n",
        "from pyspark.sql.functions import regexp_replace, lower, trim, size, col, array_except, array, lit, udf, row_number\n",
        "from pyspark.sql.types import ArrayType, StringType\n",
        "from pyspark.sql.window import Window\n",
        "from pyspark.ml import Pipeline"
      ]
    },
    {
      "cell_type": "code",
      "execution_count": null,
      "id": "B21D3fyPN95q",
      "metadata": {
        "id": "B21D3fyPN95q",
        "colab": {
          "referenced_widgets": [
            "e769b350c46048d9a8eba28e8a5037f6"
          ]
        },
        "outputId": "336958a7-2a6c-432a-ab12-6ead8c1a760e"
      },
      "outputs": [
        {
          "data": {
            "application/vnd.jupyter.widget-view+json": {
              "model_id": "e769b350c46048d9a8eba28e8a5037f6",
              "version_major": 2,
              "version_minor": 0
            },
            "text/plain": [
              "Output()"
            ]
          },
          "metadata": {},
          "output_type": "display_data"
        }
      ],
      "source": [
        "# Interactive table library:\n",
        "!pip install --quiet --root-user-action=ignore ipyaggrid\n",
        "import ipyaggrid\n",
        "from IPython.display import display\n",
        "from ipywidgets import widgets\n",
        "# Enable the custom widget manager\n",
        "display(widgets.Output())"
      ]
    },
    {
      "cell_type": "code",
      "execution_count": null,
      "id": "bo0bPNMXOBMh",
      "metadata": {
        "id": "bo0bPNMXOBMh"
      },
      "outputs": [],
      "source": [
        "# Clustering:\n",
        "from sklearn.feature_extraction.text import TfidfVectorizer\n",
        "from sklearn.cluster import KMeans\n",
        "from sklearn import metrics\n",
        "from pyspark.ml.clustering import LDA\n",
        "#from pyspark.ml.feature import CountVectorizer, IDF\n",
        "from pyspark.sql.functions import regexp_replace, split\n",
        "from numpy import float32,argmax"
      ]
    },
    {
      "cell_type": "code",
      "execution_count": null,
      "id": "85b7cd6e-aa65-4f53-8738-dbcf7e6e0942",
      "metadata": {
        "id": "85b7cd6e-aa65-4f53-8738-dbcf7e6e0942"
      },
      "outputs": [],
      "source": [
        "import warnings\n",
        "warnings.filterwarnings(\"ignore\", category=DeprecationWarning)"
      ]
    },
    {
      "cell_type": "code",
      "execution_count": null,
      "id": "c1f22508-c2ec-43b5-85e8-cdce33859ac4",
      "metadata": {
        "collapsed": true,
        "jupyter": {
          "outputs_hidden": true
        },
        "tags": [],
        "id": "c1f22508-c2ec-43b5-85e8-cdce33859ac4",
        "outputId": "06f63ef3-e067-453a-b306-d204ffa679c2"
      },
      "outputs": [
        {
          "name": "stderr",
          "output_type": "stream",
          "text": [
            "/usr/local/lib/python3.9/dist-packages/tensorflow_addons/utils/tfa_eol_msg.py:23: UserWarning: \n",
            "\n",
            "TensorFlow Addons (TFA) has ended development and introduction of new features.\n",
            "TFA has entered a minimal maintenance and release mode until a planned end of life in May 2024.\n",
            "Please modify downstream libraries to take dependencies from other repositories in our TensorFlow community (e.g. Keras, Keras-CV, and Keras-NLP). \n",
            "\n",
            "For more information see: https://github.com/tensorflow/addons/issues/2807 \n",
            "\n",
            "  warnings.warn(\n",
            "/usr/local/lib/python3.9/dist-packages/tensorflow_addons/utils/ensure_tf_install.py:53: UserWarning: Tensorflow Addons supports using Python ops for all Tensorflow versions above or equal to 2.10.0 and strictly below 2.13.0 (nightly versions are not supported). \n",
            " The versions of TensorFlow you are currently using is 2.9.2 and is not supported. \n",
            "Some things might work, some things might not.\n",
            "If you were to encounter a bug, do not file an issue.\n",
            "If you want to make sure you're using a tested and supported configuration, either change the TensorFlow version or the TensorFlow Addons's version. \n",
            "You can find the compatibility matrix in TensorFlow Addon's readme:\n",
            "https://github.com/tensorflow/addons\n",
            "  warnings.warn(\n"
          ]
        }
      ],
      "source": [
        "!pip install --quiet --root-user-action=ignore tensorflow_addons \n",
        "from tensorflow.data import Dataset,experimental\n",
        "from tensorflow.keras.layers import Input,Dense,LSTM,TextVectorization,Reshape,Flatten,Embedding,Dropout,Bidirectional\n",
        "from tensorflow.keras.models import Sequential,Model\n",
        "from tensorflow import expand_dims,string,strings\n",
        "from tensorflow.keras.metrics import Accuracy\n",
        "from tensorflow_addons.metrics import F1Score\n",
        "from tensorflow.keras.callbacks import ReduceLROnPlateau,EarlyStopping,ModelCheckpoint\n",
        "from tensorflow.keras.utils import to_categorical\n",
        "from tensorflow import initializers,convert_to_tensor\n",
        "from tensorflow.keras.optimizers import Adam\n",
        "from tensorflow.keras.constraints import max_norm"
      ]
    },
    {
      "cell_type": "code",
      "execution_count": null,
      "id": "ff7441d7-302f-43a0-8cfa-d438f2ca9720",
      "metadata": {
        "id": "ff7441d7-302f-43a0-8cfa-d438f2ca9720"
      },
      "outputs": [],
      "source": [
        "#HF Transformers\n",
        "from transformers import RobertaTokenizerFast,AutoModelForSequenceClassification,Trainer,TrainingArguments,DataCollatorWithPadding,AlbertTokenizerFast\n",
        "from datasets import load_dataset,Dataset"
      ]
    },
    {
      "cell_type": "code",
      "execution_count": null,
      "id": "sfaFWuKBOEPT",
      "metadata": {
        "id": "sfaFWuKBOEPT"
      },
      "outputs": [],
      "source": [
        "# Graphs:\n",
        "%%capture\n",
        "import matplotlib.pyplot as plt\n",
        "import seaborn as sns\n",
        "from sklearn.decomposition import PCA\n",
        "\n",
        "%matplotlib inline\n",
        "fig, ax = plt.subplots(figsize=(14, 5))"
      ]
    },
    {
      "cell_type": "markdown",
      "id": "BdHBJ7yylGNy",
      "metadata": {
        "id": "BdHBJ7yylGNy"
      },
      "source": [
        "A function for printing graphs in a formatted way"
      ]
    },
    {
      "cell_type": "code",
      "execution_count": null,
      "id": "AuJdLlLVTVs9",
      "metadata": {
        "id": "AuJdLlLVTVs9"
      },
      "outputs": [],
      "source": [
        "def print_graph(title, xlab, ylab, rotated):\n",
        "    plt.title(title)\n",
        "    plt.ylabel(ylab, fontsize=12)\n",
        "    plt.xlabel(xlab, fontsize=12)\n",
        "    if rotated:\n",
        "        plt.xticks(rotation=90)"
      ]
    },
    {
      "cell_type": "markdown",
      "id": "d2a7ed31-b213-4699-a7e6-f238b36c20f5",
      "metadata": {
        "id": "d2a7ed31-b213-4699-a7e6-f238b36c20f5"
      },
      "source": [
        "## **Dataset Download**"
      ]
    },
    {
      "cell_type": "markdown",
      "id": "Q4QsJh3vXPBQ",
      "metadata": {
        "id": "Q4QsJh3vXPBQ"
      },
      "source": [
        "Loading the paths of the data that will be used."
      ]
    },
    {
      "cell_type": "code",
      "execution_count": null,
      "id": "44a6e0d3-bc28-4ea1-8ffb-aae536515a53",
      "metadata": {
        "id": "44a6e0d3-bc28-4ea1-8ffb-aae536515a53"
      },
      "outputs": [],
      "source": [
        "csv_path_initial = \"https://media.githubusercontent.com/media/SimoneCallegarin/NLP_project/main/Data/EDOS_1M.csv\"\n",
        "csv_path_preprocessed_texts = \"https://media.githubusercontent.com/media/SimoneCallegarin/NLP_project/main/Data/preprocessed_texts.csv\"\n",
        "csv_path_preprocessed_tokens = \"https://media.githubusercontent.com/media/SimoneCallegarin/NLP_project/main/Data/preprocessed_tokens.csv\""
      ]
    },
    {
      "cell_type": "markdown",
      "id": "1507a5b1-0b66-43ff-917d-d1471686fb79",
      "metadata": {
        "id": "1507a5b1-0b66-43ff-917d-d1471686fb79",
        "tags": []
      },
      "source": [
        "# **Dataset Import and Cleaning**"
      ]
    },
    {
      "cell_type": "markdown",
      "id": "ab35de5c-fc8f-46bb-bc52-d749d72afb98",
      "metadata": {
        "id": "ab35de5c-fc8f-46bb-bc52-d749d72afb98"
      },
      "source": [
        "We will now import the EDOS dataset and clean it from:\n",
        "    \n",
        "- duplicates\n",
        "- null values"
      ]
    },
    {
      "cell_type": "code",
      "execution_count": null,
      "id": "f0a21112-c0f5-42c8-88df-86a518380847",
      "metadata": {
        "id": "f0a21112-c0f5-42c8-88df-86a518380847"
      },
      "outputs": [],
      "source": [
        "df = pd.read_csv(csv_path_initial)"
      ]
    },
    {
      "cell_type": "code",
      "execution_count": null,
      "id": "1abc4089-56a5-4cb6-be49-9dc69a6139c1",
      "metadata": {
        "colab": {
          "base_uri": "https://localhost:8080/"
        },
        "id": "1abc4089-56a5-4cb6-be49-9dc69a6139c1",
        "outputId": "df0cd43f-5554-4e24-8501-4ea1952be0a9"
      },
      "outputs": [
        {
          "name": "stdout",
          "output_type": "stream",
          "text": [
            "<class 'pandas.core.frame.DataFrame'>\n",
            "RangeIndex: 2829426 entries, 0 to 2829425\n",
            "Data columns (total 5 columns):\n",
            " #   Column            Dtype  \n",
            "---  ------            -----  \n",
            " 0   dialogue_id       int64  \n",
            " 1   turn              int64  \n",
            " 2   uttr              object \n",
            " 3   eb+_emot          object \n",
            " 4   label_confidence  float64\n",
            "dtypes: float64(1), int64(2), object(2)\n",
            "memory usage: 107.9+ MB\n"
          ]
        }
      ],
      "source": [
        "df.info()"
      ]
    },
    {
      "cell_type": "code",
      "execution_count": null,
      "id": "402417f7-acab-41fc-adcf-5661d075773b",
      "metadata": {
        "colab": {
          "base_uri": "https://localhost:8080/",
          "height": 206
        },
        "id": "402417f7-acab-41fc-adcf-5661d075773b",
        "outputId": "f5f6181c-c42d-4581-b172-f01791fda168"
      },
      "outputs": [
        {
          "data": {
            "text/html": [
              "\n",
              "  <div id=\"df-0877874a-ac20-4bdf-8f3c-2c92d0295316\">\n",
              "    <div class=\"colab-df-container\">\n",
              "      <div>\n",
              "<style scoped>\n",
              "    .dataframe tbody tr th:only-of-type {\n",
              "        vertical-align: middle;\n",
              "    }\n",
              "\n",
              "    .dataframe tbody tr th {\n",
              "        vertical-align: top;\n",
              "    }\n",
              "\n",
              "    .dataframe thead th {\n",
              "        text-align: right;\n",
              "    }\n",
              "</style>\n",
              "<table border=\"1\" class=\"dataframe\">\n",
              "  <thead>\n",
              "    <tr style=\"text-align: right;\">\n",
              "      <th></th>\n",
              "      <th>dialogue_id</th>\n",
              "      <th>turn</th>\n",
              "      <th>uttr</th>\n",
              "      <th>eb+_emot</th>\n",
              "      <th>label_confidence</th>\n",
              "    </tr>\n",
              "  </thead>\n",
              "  <tbody>\n",
              "    <tr>\n",
              "      <th>0</th>\n",
              "      <td>97</td>\n",
              "      <td>1</td>\n",
              "      <td>You moron ! What fool washes diapers by the we...</td>\n",
              "      <td>angry</td>\n",
              "      <td>0.437522</td>\n",
              "    </tr>\n",
              "    <tr>\n",
              "      <th>1</th>\n",
              "      <td>97</td>\n",
              "      <td>2</td>\n",
              "      <td>You useless fool !</td>\n",
              "      <td>furious</td>\n",
              "      <td>0.731564</td>\n",
              "    </tr>\n",
              "    <tr>\n",
              "      <th>2</th>\n",
              "      <td>99</td>\n",
              "      <td>1</td>\n",
              "      <td>How dare you sleep !</td>\n",
              "      <td>furious</td>\n",
              "      <td>0.605636</td>\n",
              "    </tr>\n",
              "    <tr>\n",
              "      <th>3</th>\n",
              "      <td>99</td>\n",
              "      <td>2</td>\n",
              "      <td>Up ! Go and clean the house .</td>\n",
              "      <td>prepared</td>\n",
              "      <td>0.650449</td>\n",
              "    </tr>\n",
              "    <tr>\n",
              "      <th>4</th>\n",
              "      <td>100</td>\n",
              "      <td>1</td>\n",
              "      <td>Clean the kitchen .</td>\n",
              "      <td>prepared</td>\n",
              "      <td>0.742187</td>\n",
              "    </tr>\n",
              "  </tbody>\n",
              "</table>\n",
              "</div>\n",
              "      <button class=\"colab-df-convert\" onclick=\"convertToInteractive('df-0877874a-ac20-4bdf-8f3c-2c92d0295316')\"\n",
              "              title=\"Convert this dataframe to an interactive table.\"\n",
              "              style=\"display:none;\">\n",
              "        \n",
              "  <svg xmlns=\"http://www.w3.org/2000/svg\" height=\"24px\"viewBox=\"0 0 24 24\"\n",
              "       width=\"24px\">\n",
              "    <path d=\"M0 0h24v24H0V0z\" fill=\"none\"/>\n",
              "    <path d=\"M18.56 5.44l.94 2.06.94-2.06 2.06-.94-2.06-.94-.94-2.06-.94 2.06-2.06.94zm-11 1L8.5 8.5l.94-2.06 2.06-.94-2.06-.94L8.5 2.5l-.94 2.06-2.06.94zm10 10l.94 2.06.94-2.06 2.06-.94-2.06-.94-.94-2.06-.94 2.06-2.06.94z\"/><path d=\"M17.41 7.96l-1.37-1.37c-.4-.4-.92-.59-1.43-.59-.52 0-1.04.2-1.43.59L10.3 9.45l-7.72 7.72c-.78.78-.78 2.05 0 2.83L4 21.41c.39.39.9.59 1.41.59.51 0 1.02-.2 1.41-.59l7.78-7.78 2.81-2.81c.8-.78.8-2.07 0-2.86zM5.41 20L4 18.59l7.72-7.72 1.47 1.35L5.41 20z\"/>\n",
              "  </svg>\n",
              "      </button>\n",
              "      \n",
              "  <style>\n",
              "    .colab-df-container {\n",
              "      display:flex;\n",
              "      flex-wrap:wrap;\n",
              "      gap: 12px;\n",
              "    }\n",
              "\n",
              "    .colab-df-convert {\n",
              "      background-color: #E8F0FE;\n",
              "      border: none;\n",
              "      border-radius: 50%;\n",
              "      cursor: pointer;\n",
              "      display: none;\n",
              "      fill: #1967D2;\n",
              "      height: 32px;\n",
              "      padding: 0 0 0 0;\n",
              "      width: 32px;\n",
              "    }\n",
              "\n",
              "    .colab-df-convert:hover {\n",
              "      background-color: #E2EBFA;\n",
              "      box-shadow: 0px 1px 2px rgba(60, 64, 67, 0.3), 0px 1px 3px 1px rgba(60, 64, 67, 0.15);\n",
              "      fill: #174EA6;\n",
              "    }\n",
              "\n",
              "    [theme=dark] .colab-df-convert {\n",
              "      background-color: #3B4455;\n",
              "      fill: #D2E3FC;\n",
              "    }\n",
              "\n",
              "    [theme=dark] .colab-df-convert:hover {\n",
              "      background-color: #434B5C;\n",
              "      box-shadow: 0px 1px 3px 1px rgba(0, 0, 0, 0.15);\n",
              "      filter: drop-shadow(0px 1px 2px rgba(0, 0, 0, 0.3));\n",
              "      fill: #FFFFFF;\n",
              "    }\n",
              "  </style>\n",
              "\n",
              "      <script>\n",
              "        const buttonEl =\n",
              "          document.querySelector('#df-0877874a-ac20-4bdf-8f3c-2c92d0295316 button.colab-df-convert');\n",
              "        buttonEl.style.display =\n",
              "          google.colab.kernel.accessAllowed ? 'block' : 'none';\n",
              "\n",
              "        async function convertToInteractive(key) {\n",
              "          const element = document.querySelector('#df-0877874a-ac20-4bdf-8f3c-2c92d0295316');\n",
              "          const dataTable =\n",
              "            await google.colab.kernel.invokeFunction('convertToInteractive',\n",
              "                                                     [key], {});\n",
              "          if (!dataTable) return;\n",
              "\n",
              "          const docLinkHtml = 'Like what you see? Visit the ' +\n",
              "            '<a target=\"_blank\" href=https://colab.research.google.com/notebooks/data_table.ipynb>data table notebook</a>'\n",
              "            + ' to learn more about interactive tables.';\n",
              "          element.innerHTML = '';\n",
              "          dataTable['output_type'] = 'display_data';\n",
              "          await google.colab.output.renderOutput(dataTable, element);\n",
              "          const docLink = document.createElement('div');\n",
              "          docLink.innerHTML = docLinkHtml;\n",
              "          element.appendChild(docLink);\n",
              "        }\n",
              "      </script>\n",
              "    </div>\n",
              "  </div>\n",
              "  "
            ],
            "text/plain": [
              "   dialogue_id  turn                                               uttr  \\\n",
              "0           97     1  You moron ! What fool washes diapers by the we...   \n",
              "1           97     2                                 You useless fool !   \n",
              "2           99     1                               How dare you sleep !   \n",
              "3           99     2                      Up ! Go and clean the house .   \n",
              "4          100     1                                Clean the kitchen .   \n",
              "\n",
              "   eb+_emot  label_confidence  \n",
              "0     angry          0.437522  \n",
              "1   furious          0.731564  \n",
              "2   furious          0.605636  \n",
              "3  prepared          0.650449  \n",
              "4  prepared          0.742187  "
            ]
          },
          "execution_count": 12,
          "metadata": {},
          "output_type": "execute_result"
        }
      ],
      "source": [
        "df.head()"
      ]
    },
    {
      "cell_type": "code",
      "execution_count": null,
      "id": "727417ea-754c-450c-8a7a-6590bbd7085d",
      "metadata": {
        "colab": {
          "base_uri": "https://localhost:8080/"
        },
        "id": "727417ea-754c-450c-8a7a-6590bbd7085d",
        "outputId": "55a4d6a4-cfaa-4848-f9ed-89700c3bb2db"
      },
      "outputs": [
        {
          "data": {
            "text/plain": [
              "0"
            ]
          },
          "execution_count": 13,
          "metadata": {},
          "output_type": "execute_result"
        }
      ],
      "source": [
        "df.duplicated().sum()"
      ]
    },
    {
      "cell_type": "code",
      "execution_count": null,
      "id": "b9ab2bb0-4174-4776-af17-faed9e3f89ab",
      "metadata": {
        "id": "b9ab2bb0-4174-4776-af17-faed9e3f89ab"
      },
      "outputs": [],
      "source": [
        "def isEnglish(s):\n",
        "    try:\n",
        "        s.encode(encoding='utf-8').decode('ascii')\n",
        "    except UnicodeDecodeError:\n",
        "        return None\n",
        "    else:\n",
        "        return s"
      ]
    },
    {
      "cell_type": "code",
      "execution_count": null,
      "id": "f5a21ae0-ca0c-4433-838d-04eb231d8daf",
      "metadata": {
        "colab": {
          "base_uri": "https://localhost:8080/"
        },
        "id": "f5a21ae0-ca0c-4433-838d-04eb231d8daf",
        "outputId": "671878ef-0d6f-4472-cf4c-ddfd17554dc0"
      },
      "outputs": [
        {
          "data": {
            "text/plain": [
              "2829426"
            ]
          },
          "execution_count": 15,
          "metadata": {},
          "output_type": "execute_result"
        }
      ],
      "source": [
        "df['uttr'].apply(lambda s: isEnglish(s)).size  #same size as before, no rows were removed "
      ]
    },
    {
      "cell_type": "markdown",
      "id": "ad3a64c8-d226-4f39-a96e-f67d8af7d94b",
      "metadata": {
        "id": "ad3a64c8-d226-4f39-a96e-f67d8af7d94b"
      },
      "source": [
        "As we can see the dataset was already cleaned since we have no duplicated, null rows or not-ASCII characters (which usually means we are dealing with a multilingual dataset), so we can proceed to the next steps without worries."
      ]
    },
    {
      "cell_type": "markdown",
      "id": "oioWIKKyMUMm",
      "metadata": {
        "id": "oioWIKKyMUMm"
      },
      "source": [
        "--- \n",
        "Here instead we load two already preprocessed version of the dataset (in the **Dataset Preprocessing** section), one with only text preprocessing and the other a full tokenization and preprocessing. Data is made available in the [github repository](https://github.com/SimoneCallegarin/NLP_project/blob/main/Data)."
      ]
    },
    {
      "cell_type": "code",
      "execution_count": null,
      "id": "2VsKyigWxfmS",
      "metadata": {
        "id": "2VsKyigWxfmS"
      },
      "outputs": [],
      "source": [
        "texts_df = pd.read_csv(csv_path_preprocessed_texts)\n",
        "tokens_df = pd.read_csv(csv_path_preprocessed_tokens)"
      ]
    },
    {
      "cell_type": "markdown",
      "id": "d95277ac-a8e0-432d-b59c-e3a01d196c8c",
      "metadata": {
        "id": "d95277ac-a8e0-432d-b59c-e3a01d196c8c",
        "tags": []
      },
      "source": [
        "# **Preliminary Analysis**"
      ]
    },
    {
      "cell_type": "markdown",
      "id": "3aa84b09-07a8-4993-a192-1b27761d7488",
      "metadata": {
        "id": "3aa84b09-07a8-4993-a192-1b27761d7488",
        "jp-MarkdownHeadingCollapsed": true,
        "tags": []
      },
      "source": [
        "## **EDA - Exploratory Data Analysis**"
      ]
    },
    {
      "cell_type": "markdown",
      "id": "a5bb5d8d-019a-4420-8fac-eeb101338726",
      "metadata": {
        "id": "a5bb5d8d-019a-4420-8fac-eeb101338726"
      },
      "source": [
        "Before diving into the training and evaluation of many different NLP models, we will perform the EDA (Exploratory Data Analysis) to have basic but fundamental insights about the data.\n",
        "\n",
        "In particular we will get:\n",
        "\n",
        "- basic informations about the dataset\n",
        "- some descriptive statistics"
      ]
    },
    {
      "cell_type": "markdown",
      "id": "06a09ed1-8131-485a-b503-198176ecdb90",
      "metadata": {
        "id": "06a09ed1-8131-485a-b503-198176ecdb90",
        "tags": []
      },
      "source": [
        "### **Basic Understanding of the Dataset**"
      ]
    },
    {
      "cell_type": "markdown",
      "id": "aeb08598-57f6-4b91-b30e-914483725610",
      "metadata": {
        "id": "aeb08598-57f6-4b91-b30e-914483725610"
      },
      "source": [
        "As stated on the dataset website, EDOS contains short phrases (from 3 to 5 utterances), each labeled with an emotion. Let's get a better look at them"
      ]
    },
    {
      "cell_type": "code",
      "execution_count": null,
      "id": "b5afc920-4ef2-4807-bed0-9e43fa9e519d",
      "metadata": {
        "colab": {
          "base_uri": "https://localhost:8080/"
        },
        "id": "b5afc920-4ef2-4807-bed0-9e43fa9e519d",
        "outputId": "9704ee43-1578-4760-9e2b-4331d87fb74d"
      },
      "outputs": [
        {
          "name": "stdout",
          "output_type": "stream",
          "text": [
            "['You moron ! What fool washes diapers by the well !', 'You useless fool !', 'How dare you sleep !', 'Up ! Go and clean the house .', 'Clean the kitchen .']\n"
          ]
        }
      ],
      "source": [
        "print([x for x in df['uttr'][0:5]])"
      ]
    },
    {
      "cell_type": "markdown",
      "id": "292e6c40-1c75-495d-a3d1-66784bc5ff19",
      "metadata": {
        "id": "292e6c40-1c75-495d-a3d1-66784bc5ff19"
      },
      "source": [
        "Let's now check all the possible values of the emotion type, which will be our target in case of sentiment analysis"
      ]
    },
    {
      "cell_type": "code",
      "execution_count": null,
      "id": "246784a3-ee6c-4583-9e78-a2e3c94bddf6",
      "metadata": {
        "colab": {
          "base_uri": "https://localhost:8080/"
        },
        "id": "246784a3-ee6c-4583-9e78-a2e3c94bddf6",
        "outputId": "a37c9038-05be-4601-a411-dfca505def76"
      },
      "outputs": [
        {
          "name": "stdout",
          "output_type": "stream",
          "text": [
            "['angry' 'furious' 'prepared' 'acknowledging' 'trusting' 'confident'\n",
            " 'hopeful' 'caring' 'sentimental' 'anticipating' 'wishing' 'surprised'\n",
            " 'ashamed' 'questioning' 'sad' 'nostalgic' 'devastated' 'terrified'\n",
            " 'embarrassed' 'lonely' 'encouraging' 'suggesting' 'content' 'afraid'\n",
            " 'impressed' 'agreeing' 'apprehensive' 'proud' 'annoyed' 'anxious'\n",
            " 'grateful' 'excited' 'neutral' 'faithful' 'guilty' 'consoling'\n",
            " 'disgusted' 'disappointed' 'jealous' 'joyful' 'sympathizing']\n"
          ]
        }
      ],
      "source": [
        "emotions = df['eb+_emot'].unique()\n",
        "print(emotions)"
      ]
    },
    {
      "cell_type": "markdown",
      "id": "0c57b8df-a91a-4a17-9910-cea2784c187d",
      "metadata": {
        "id": "0c57b8df-a91a-4a17-9910-cea2784c187d"
      },
      "source": [
        "With all these possible emotions to predict, it's very probable that we will have to deal with unbalanced classes"
      ]
    },
    {
      "cell_type": "code",
      "execution_count": null,
      "id": "ZlGvQw03L6W3",
      "metadata": {
        "colab": {
          "base_uri": "https://localhost:8080/"
        },
        "id": "ZlGvQw03L6W3",
        "outputId": "f9cb104f-c37d-48bd-bc4b-e2ae34003349"
      },
      "outputs": [
        {
          "data": {
            "image/png": "[encoded data removed]",
            "text/plain": [
              "<Figure size 1400x500 with 1 Axes>"
            ]
          },
          "metadata": {},
          "output_type": "display_data"
        }
      ],
      "source": [
        "fig, ax = plt.subplots(figsize=(14, 5))\n",
        "sns.countplot(data=df, x='eb+_emot', order=df['eb+_emot'].value_counts().index, ax=ax)\n",
        "print_graph('Emotion\\'s occurrences', 'Number of Occurrences', 'Emotions', True)"
      ]
    },
    {
      "cell_type": "code",
      "execution_count": null,
      "id": "b247feea-4c20-4750-9a72-d3fb98386955",
      "metadata": {
        "colab": {
          "base_uri": "https://localhost:8080/"
        },
        "id": "b247feea-4c20-4750-9a72-d3fb98386955",
        "outputId": "dddf1edc-e56b-4ec4-9af0-15144fbd4093"
      },
      "outputs": [
        {
          "data": {
            "text/plain": [
              "questioning      841556\n",
              "furious          169917\n",
              "acknowledging    138165\n",
              "trusting         134197\n",
              "wishing          108668\n",
              "Name: eb+_emot, dtype: int64"
            ]
          },
          "execution_count": 20,
          "metadata": {},
          "output_type": "execute_result"
        }
      ],
      "source": [
        "df['eb+_emot'].value_counts()[:5]"
      ]
    },
    {
      "cell_type": "markdown",
      "id": "54943111-332c-422e-8a0a-383aa3d18188",
      "metadata": {
        "id": "54943111-332c-422e-8a0a-383aa3d18188"
      },
      "source": [
        "As we can see, we have quite an unbalancing here with the 'questioning' texts being over 800k while all the others stay under 200k.\n",
        "\n",
        "We will have to deal with it in the next phases when we will have to train models on this dataset"
      ]
    },
    {
      "cell_type": "markdown",
      "id": "bafd7ffb-ec30-4dd9-93b3-f139fd3e5611",
      "metadata": {
        "id": "bafd7ffb-ec30-4dd9-93b3-f139fd3e5611"
      },
      "source": [
        "### **Descriptive Statistics**"
      ]
    },
    {
      "cell_type": "markdown",
      "id": "4e3222ef-6147-4cc4-9716-e93dac304e1f",
      "metadata": {
        "id": "4e3222ef-6147-4cc4-9716-e93dac304e1f"
      },
      "source": [
        "We will use some text visualization techniques for better and instant insights about:\n",
        "\n",
        "- text lengths distribution\n",
        "- word number distribution"
      ]
    },
    {
      "cell_type": "code",
      "execution_count": null,
      "id": "Dwd3OCowSa1Z",
      "metadata": {
        "colab": {
          "base_uri": "https://localhost:8080/"
        },
        "id": "Dwd3OCowSa1Z",
        "outputId": "61f376f6-a912-4e28-d115-0f1bcc745edc"
      },
      "outputs": [
        {
          "data": {
            "image/png": "[encoded data removed]",
            "text/plain": [
              "<Figure size 900x400 with 1 Axes>"
            ]
          },
          "metadata": {},
          "output_type": "display_data"
        }
      ],
      "source": [
        "sns.displot(df['uttr'].str.len(), kde = False, bins = 30, height=4, aspect=9/4)\n",
        "print_graph(\"Text lenghts distribution\", \"Text lenght\", \"Count\", False)"
      ]
    },
    {
      "cell_type": "code",
      "execution_count": null,
      "id": "SLz-fbU3l-zu",
      "metadata": {
        "colab": {
          "base_uri": "https://localhost:8080/"
        },
        "id": "SLz-fbU3l-zu",
        "outputId": "99567a21-4f1d-4db1-f90f-08be2354ad89"
      },
      "outputs": [
        {
          "data": {
            "image/png": "[encoded data removed]",
            "text/plain": [
              "<Figure size 900x400 with 1 Axes>"
            ]
          },
          "metadata": {},
          "output_type": "display_data"
        }
      ],
      "source": [
        "sns.displot(df['uttr'].str.split().map(lambda x: len(x)), kde = False, bins = 11, height=4, aspect=9/4)\n",
        "print_graph(\"Text lenghts distribution\", \"Text lenght\", \"Count\", False)"
      ]
    },
    {
      "cell_type": "markdown",
      "id": "c3e8daf9-6b46-4d70-a54d-98b6500ea4dd",
      "metadata": {
        "id": "c3e8daf9-6b46-4d70-a54d-98b6500ea4dd"
      },
      "source": [
        "It's clear that most texts' vocabulary size stays under 20 words, with the most being between 2 and 10.\n",
        "\n",
        "But we can also see we have pretty long texts too so let's have a look at one of them"
      ]
    },
    {
      "cell_type": "code",
      "execution_count": null,
      "id": "f487e90b-6e05-417c-9631-7ecc6633a75b",
      "metadata": {
        "colab": {
          "base_uri": "https://localhost:8080/"
        },
        "id": "f487e90b-6e05-417c-9631-7ecc6633a75b",
        "outputId": "cf5d75f2-28cc-418e-e614-5e6e334480a6"
      },
      "outputs": [
        {
          "data": {
            "application/vnd.google.colaboratory.intrinsic+json": {
              "type": "string"
            },
            "text/plain": [
              "\"Glenn , why don 't you tell us about the top looks ? Kris , we love the ram look of your makeup , and some of the smaller sculptural details were very impressive . It was a very comprehensive makeup . Wayne , your use of proportion was excellent this week . We were also blown away by how much killer sculpting you pulled off . Who is the winner of this challenge ?\""
            ]
          },
          "execution_count": 23,
          "metadata": {},
          "output_type": "execute_result"
        }
      ],
      "source": [
        "df[(df['uttr'].str.len() > 300)]['uttr'].iloc[0]"
      ]
    },
    {
      "cell_type": "markdown",
      "id": "tBOpO8sLtoQj",
      "metadata": {
        "id": "tBOpO8sLtoQj",
        "tags": []
      },
      "source": [
        "## **Dataset Preprocessing**"
      ]
    },
    {
      "cell_type": "markdown",
      "id": "214b49e7-17c2-4e1a-8341-970528c147a2",
      "metadata": {
        "id": "214b49e7-17c2-4e1a-8341-970528c147a2",
        "tags": []
      },
      "source": [
        "### **Downsampling**"
      ]
    },
    {
      "cell_type": "markdown",
      "id": "94d0b1f4-aabc-45a3-bcc4-54cb380d4b45",
      "metadata": {
        "id": "94d0b1f4-aabc-45a3-bcc4-54cb380d4b45"
      },
      "source": [
        "We have to decide how much data to have for each class. Since we don't want to have repeating data points, we will keep the number of samples corresponding to the ones we have in the least populated class. So the number of discarded points of a certain class will be proportional to the original size of that class."
      ]
    },
    {
      "cell_type": "code",
      "execution_count": null,
      "id": "ce40d6fc-ebaa-4567-9e70-e346b1648abb",
      "metadata": {
        "id": "ce40d6fc-ebaa-4567-9e70-e346b1648abb"
      },
      "outputs": [],
      "source": [
        "ds = df[['eb+_emot','uttr']]"
      ]
    },
    {
      "cell_type": "code",
      "execution_count": null,
      "id": "be22c37a-af23-407a-a711-f3257f508267",
      "metadata": {
        "colab": {
          "base_uri": "https://localhost:8080/"
        },
        "id": "be22c37a-af23-407a-a711-f3257f508267",
        "outputId": "d6260b06-b248-4eeb-90f6-8267c00a5daf"
      },
      "outputs": [
        {
          "name": "stdout",
          "output_type": "stream",
          "text": [
            "Number of samples: 8578\n",
            "Number of classes: 41\n"
          ]
        }
      ],
      "source": [
        "n_samples = ds['eb+_emot'].value_counts()[-1]\n",
        "print(\"Number of samples:\",n_samples)\n",
        "n_classes = ds['eb+_emot'].unique().size\n",
        "print(\"Number of classes:\",n_classes)"
      ]
    },
    {
      "cell_type": "code",
      "execution_count": null,
      "id": "c75504c3-82ac-4b85-9ada-36b754d1c026",
      "metadata": {
        "id": "c75504c3-82ac-4b85-9ada-36b754d1c026",
        "tags": []
      },
      "outputs": [],
      "source": [
        "downsample_ds = pd.DataFrame(columns=ds.columns)\n",
        "for label in ds['eb+_emot'].unique():\n",
        "    partial_ds = resample(ds[ds['eb+_emot']==label],random_state=42,replace=True,n_samples=n_samples)\n",
        "    downsample_ds = pd.concat([downsample_ds,partial_ds])"
      ]
    },
    {
      "cell_type": "code",
      "execution_count": null,
      "id": "5528b08c-0720-4cde-9395-28d6778cbaf5",
      "metadata": {
        "colab": {
          "base_uri": "https://localhost:8080/"
        },
        "id": "5528b08c-0720-4cde-9395-28d6778cbaf5",
        "outputId": "7601bc64-bb99-479a-ed5f-0848a99b7956",
        "tags": []
      },
      "outputs": [
        {
          "data": {
            "text/plain": [
              "angry            8578\n",
              "suggesting       8578\n",
              "afraid           8578\n",
              "impressed        8578\n",
              "agreeing         8578\n",
              "apprehensive     8578\n",
              "proud            8578\n",
              "annoyed          8578\n",
              "anxious          8578\n",
              "grateful         8578\n",
              "excited          8578\n",
              "neutral          8578\n",
              "faithful         8578\n",
              "guilty           8578\n",
              "consoling        8578\n",
              "disgusted        8578\n",
              "disappointed     8578\n",
              "jealous          8578\n",
              "joyful           8578\n",
              "content          8578\n",
              "encouraging      8578\n",
              "furious          8578\n",
              "lonely           8578\n",
              "prepared         8578\n",
              "acknowledging    8578\n",
              "trusting         8578\n",
              "confident        8578\n",
              "hopeful          8578\n",
              "caring           8578\n",
              "sentimental      8578\n",
              "anticipating     8578\n",
              "wishing          8578\n",
              "surprised        8578\n",
              "ashamed          8578\n",
              "questioning      8578\n",
              "sad              8578\n",
              "nostalgic        8578\n",
              "devastated       8578\n",
              "terrified        8578\n",
              "embarrassed      8578\n",
              "sympathizing     8578\n",
              "Name: eb+_emot, dtype: int64"
            ]
          },
          "execution_count": 13,
          "metadata": {},
          "output_type": "execute_result"
        }
      ],
      "source": [
        "downsample_ds['eb+_emot'].value_counts()"
      ]
    },
    {
      "cell_type": "markdown",
      "id": "3Omy8G1PJ-Uq",
      "metadata": {
        "id": "3Omy8G1PJ-Uq"
      },
      "source": [
        "### **Spark Preprocessing**"
      ]
    },
    {
      "cell_type": "markdown",
      "id": "VGEi_CkQ905S",
      "metadata": {
        "id": "VGEi_CkQ905S"
      },
      "source": [
        "We used *pyspark* to scale the workload to any size by running it distributed across multiple nodes."
      ]
    },
    {
      "cell_type": "code",
      "execution_count": null,
      "id": "Mpuxa_tIfOzN",
      "metadata": {
        "id": "Mpuxa_tIfOzN",
        "outputId": "13782034-9e7c-4516-df8e-8e00d7d7db44"
      },
      "outputs": [
        {
          "name": "stderr",
          "output_type": "stream",
          "text": [
            "Setting default log level to \"WARN\".\n",
            "To adjust logging level use sc.setLogLevel(newLevel). For SparkR, use setLogLevel(newLevel).\n",
            "23/05/05 12:27:48 WARN NativeCodeLoader: Unable to load native-hadoop library for your platform... using builtin-java classes where applicable\n",
            "23/05/05 12:27:49 WARN Utils: Service 'SparkUI' could not bind on port 4040. Attempting port 4041.\n"
          ]
        }
      ],
      "source": [
        "# Create a SparkSession\n",
        "spark = SparkSession.builder.appName('Preprocess').getOrCreate()"
      ]
    },
    {
      "cell_type": "code",
      "execution_count": null,
      "id": "iuaJh3w8gC7B",
      "metadata": {
        "colab": {
          "base_uri": "https://localhost:8080/"
        },
        "id": "iuaJh3w8gC7B",
        "outputId": "fe420baa-01b7-46d2-9825-8cd0b0dcca98"
      },
      "outputs": [
        {
          "name": "stderr",
          "output_type": "stream",
          "text": [
            "23/05/05 12:28:03 WARN TaskSetManager: Stage 0 contains a task of very large size (4430 KiB). The maximum recommended task size is 1000 KiB.\n",
            "[Stage 0:>                                                          (0 + 1) / 1]\r"
          ]
        },
        {
          "name": "stdout",
          "output_type": "stream",
          "text": [
            "+--------+-----------------------------------------------------------------------------------------------------------------------------------------+\n",
            "|eb+_emot|uttr                                                                                                                                     |\n",
            "+--------+-----------------------------------------------------------------------------------------------------------------------------------------+\n",
            "|angry   |It 's fired up by powerful negative emotions , like fear , rage , anger , and hate .                                                     |\n",
            "|angry   |Hell no !                                                                                                                                |\n",
            "|angry   |Yuki Yuki won 't get up Yuki !                                                                                                           |\n",
            "|angry   |Jesus Christ , they 're shooting at us !                                                                                                 |\n",
            "|angry   |Damn it , Alexander ... shoot ! What the hell ! Why won 't you help me ?                                                                 |\n",
            "|angry   |So , your neighbors called in a complaint , said you were firing a gun this morning .                                                    |\n",
            "|angry   |Twelve years I missed going to effing , freaking , fucking Taco Bell ?                                                                   |\n",
            "|angry   |Belt .                                                                                                                                   |\n",
            "|angry   |Jesus Christ , what a fucking mess . You 're one dumb son of a bitch , you know that ? What the hell were you thinking ?                 |\n",
            "|angry   |Holnists . Goddamn !                                                                                                                     |\n",
            "|angry   |Burn the place down ! More alcohol ! Pour alcohol on everything !                                                                        |\n",
            "|angry   |It 's because you feel , you get so angry . That 's the proof of it , surely .                                                           |\n",
            "|angry   |A rebellion ! See , a crowd fleeing ! Listen I cannot catch the words Death !                                                            |\n",
            "|angry   |Lung !                                                                                                                                   |\n",
            "|angry   |You 've got bigger issues ... Our friend here shooting videos of the two of us together . He says the whole thing 's a misunderstanding .|\n",
            "|angry   |Dammit .                                                                                                                                 |\n",
            "|angry   |Check his home and office right now . Destroy him or discredit him immediately .                                                         |\n",
            "|angry   |These birds are boycotting me . I 'm throwing food .                                                                                     |\n",
            "|angry   |Whores ! Get this !                                                                                                                      |\n",
            "|angry   |Wait here . Do nothing . He 's insane .                                                                                                  |\n",
            "+--------+-----------------------------------------------------------------------------------------------------------------------------------------+\n",
            "only showing top 20 rows\n",
            "\n"
          ]
        },
        {
          "name": "stderr",
          "output_type": "stream",
          "text": [
            "                                                                                \r"
          ]
        }
      ],
      "source": [
        "# Convert Pandas DataFrame to Spark DataFrame\n",
        "df_spark = spark.createDataFrame(downsample_ds)\n",
        "\n",
        "# Show the first few rows of the Spark DataFrame\n",
        "df_spark.show(truncate=False)"
      ]
    },
    {
      "cell_type": "code",
      "execution_count": null,
      "id": "DwN9YWdXLvX9",
      "metadata": {
        "id": "DwN9YWdXLvX9"
      },
      "outputs": [],
      "source": [
        "# Define a function to expand contractions\n",
        "def expand_contractions(text):\n",
        "    contractions = {\n",
        "        \"ain 't\": \"am not\", \"aren 't\": \"are not\", \"can 't\": \"cannot\", \"can 't 've\": \"cannot have\", \"'cause\": \"because\", \"could 've\": \"could have\", \"couldn 't\": \"could not\", \"couldn 't 've\": \"could not have\", \"didn 't\": \"did not\", \"doesn 't\": \"does not\", \"don 't\": \"do not\", \"hadn 't\": \"had not\", \"hadn 't've\": \"had not have\", \"hasn 't\": \"has not\", \"haven 't\": \"have not\", \"he 'd\": \"he would\", \"he 'd 've\": \"he would have\", \"he 'll\": \"he will\", \"he 'll 've\": \"he will have\", \"he 's\": \"he is\", \"how 'd\": \"how did\", \"how 'd 'y\": \"how do you\", \"how 'll\": \"how will\", \"how 's\": \"how is\", \"i 'd\": \"i would\", \"i 'd've\": \"i would have\", \"i 'll\": \"i will\", \"i 'll've\": \"i will have\", \"i 'm\": \"i am\", \"i 've\": \"i have\", \"isn 't\": \"is not\", \"it 'd\": \"it would\", \"it 'd've\": \"it would have\", \"it 'll\": \"it will\", \"it 'll've\": \"it will have\", \"it 's\": \"it is\", \"let 's\": \"let us\", \"ma 'am\": \"madam\", \"mayn 't\": \"may not\", \"might 've\": \"might have\", \"mightn 't\": \"might not\", \"mightn 't 've\": \"might not have\", \"must 've\": \"must have\", \"mustn 't\": \"must not\", \"mustn 't 've\": \"must not have\", \"needn 't\": \"need not\", \"needn 't 've\": \"need not have\", \"o 'clock\": \"of the clock\", \"oughtn 't\": \"ought not\", \"oughtn 't 've\": \"ought not have\", \"shan 't\": \"shall not\", \"sha 'n 't\": \"shall not\", \"shan 't 've\": \"shall not have\", \"she 'd\": \"she would\", \"she 'd 've\": \"she would have\", \"she 'll\": \"she will\", \"she 'll 've\": \"she will have\", \"she 's\": \"she is\", \"should 've\": \"should have\", \"shouldn 't\": \"should not\", \"shouldn 't 've\": \"should not have\", \"so 've\": \"so have\", \"so 's\": \"so is\", \"that 'd\": \"that would\", \"that 'd 've\": \"that would have\", \"that 's\": \"that is\", \"there 'd\": \"there would\", \"there 'd've\": \"there would have\", \"there 's\": \"there is\", \"they 'd\": \"they would\", \"they 'd 've\": \"they would have\", \"they 'll\": \"they will\", \"they 'll 've\": \"they will have\", \"they 're\": \"they are\", \"they 've\": \"they have\", \"to 've\": \"to have\", \"wasn 't\": \"was not\", \"we 'd\": \"we would\", \"we 'd 've\": \"we would have\", \"we 'll\": \"we will\", \"we 'll 've\": \"we will have\", \"we 're\": \"we are\", \"we 've\": \"we have\", \"weren 't\": \"were not\", \"what 'll\": \"what will\", \"what 'll 've\": \"what will have\", \"what 're\": \"what are\", \"what 's\": \"what is\", \"what 've\": \"what have\", \"when 's\": \"when is\", \"when 've\": \"when have\", \"where 'd\": \"where did\", \"where 's\": \"where is\", \"where 've\": \"where have\", \"who 'll\": \"who will\", \"who 'll've\": \"who will have\", \"who 's\": \"who is\", \"who 've\": \"who have\", \"why 's\": \"why is\", \"why 've\": \"why have\", \"will 've\": \"will have\", \"won 't\": \"will not\", \"won 't've\": \"will not have\", \"would 've\": \"would have\", \"wouldn 't\": \"would not\", \"wouldn 't've\": \"would not have\", \"y 'all\": \"you all\", \"y 'all 'd\": \"you all would\", \"y 'all 'd've\": \"you all would have\", \"y 'all 're\": \"you all are\", \"y 'all 've\": \"you all have\", \"you 'd\": \"you would\", \"you 'd 've\": \"you would have\", \"you 'll\": \"you will\", \"you 'll 've\": \"you will have\", \"you 're\": \"you are\", \"you 've\": \"you have\"\n",
        "    }\n",
        "    for contraction, replacement in contractions.items():\n",
        "        text = text.replace(contraction, replacement)\n",
        "    return text"
      ]
    },
    {
      "cell_type": "markdown",
      "id": "_YL7yvid-ZDj",
      "metadata": {
        "id": "_YL7yvid-ZDj"
      },
      "source": [
        "Applying to the text of the dataset the following:\n",
        "* Lowercase the texts of the utterances (the 'uttr' column)\n",
        "* Expand contractions\n",
        "* Remove punctuation\n",
        "* Remove numbers\n",
        "* Remove leading and trailing spaces of each sentence\n",
        "* Replace all multiple spaces between each word (generated in previous steps) with a single space"
      ]
    },
    {
      "cell_type": "code",
      "execution_count": null,
      "id": "nOjhHd75UVp1",
      "metadata": {
        "id": "nOjhHd75UVp1"
      },
      "outputs": [],
      "source": [
        "# Lowercase utterances words\n",
        "texts_df_sp = df_spark.select('eb+_emot', lower('uttr').alias('cleaned_text'))\n",
        "\n",
        "# Expand contractions \n",
        "texts_df_sp = texts_df_sp.withColumn('cleaned_text',udf(expand_contractions, StringType())('cleaned_text'))\n",
        "\n",
        "# Remove punctuation and numbers \n",
        "texts_df_sp = texts_df_sp.withColumn('cleaned_text', regexp_replace('cleaned_text', '[^a-zA-Z\\s]+', ''))\n",
        "\n",
        "# Remove leading and trailing spaces\n",
        "texts_df_sp = texts_df_sp.withColumn('cleaned_text', trim(texts_df_sp['cleaned_text']))\n",
        "\n",
        "# Replace multiple spaces with single spaces\n",
        "texts_df_sp = texts_df_sp.withColumn('cleaned_text', regexp_replace('cleaned_text', '\\s+', ' '))"
      ]
    },
    {
      "cell_type": "markdown",
      "id": "HJ3u6fSHMrrl",
      "metadata": {
        "id": "HJ3u6fSHMrrl"
      },
      "source": [
        "For completeness we printed some rows for each emotion of the preprocessed dataframe obtained in this stage."
      ]
    },
    {
      "cell_type": "code",
      "execution_count": null,
      "id": "KR7q70F3MQND",
      "metadata": {
        "colab": {
          "base_uri": "https://localhost:8080/"
        },
        "id": "KR7q70F3MQND",
        "outputId": "4d4d7ed2-74f1-49f2-c2b2-6343dd7d1517"
      },
      "outputs": [
        {
          "name": "stdout",
          "output_type": "stream",
          "text": [
            "+------------+------------------------------------------------------------------------------------------------------------------------------------------------------------------------------------------------------------------------------------------------------------+----------+\n",
            "|eb+_emot    |cleaned_text                                                                                                                                                                                                                                                |row_number|\n",
            "+------------+------------------------------------------------------------------------------------------------------------------------------------------------------------------------------------------------------------------------------------------------------------+----------+\n",
            "|afraid      |a bad idea jack s right you will just stir up a hornets nest                                                                                                                                                                                                |1         |\n",
            "|afraid      |a bad smell means something is wrong with the air or water                                                                                                                                                                                                  |2         |\n",
            "|agreeing    |a bargain i would say i can think of a cheaper alternative                                                                                                                                                                                                  |1         |\n",
            "|agreeing    |a better one                                                                                                                                                                                                                                                |2         |\n",
            "|angry       |a a human being b a monkey c a dog damn it                                                                                                                                                                                                                  |1         |\n",
            "|angry       |a barrier to love                                                                                                                                                                                                                                           |2         |\n",
            "|content     |a beautiful house yes i live here                                                                                                                                                                                                                           |1         |\n",
            "|content     |a beer i am staying in                                                                                                                                                                                                                                      |2         |\n",
            "|devastated  |a a operation cancelled                                                                                                                                                                                                                                     |1         |\n",
            "|devastated  |a big gamble i have lost everything on me flat broke                                                                                                                                                                                                        |2         |\n",
            "|disappointed|a bit dissapointing not to see the jau i mean it was a very very very longshot we found a lot of fish down there and almost all of them hated the light and were tucked away in nasty little rock or wood crevices so you could not get a clear shot of them|1         |\n",
            "|disappointed|a car came as usual to take him to work but it did not bring anyone back                                                                                                                                                                                    |2         |\n",
            "|embarrassed |a ballet would have bored an uncouth soldier i was an uncouth soldier once                                                                                                                                                                                  |1         |\n",
            "|embarrassed |a biithering idiot                                                                                                                                                                                                                                          |2         |\n",
            "|excited     |a baby dinosaur ha                                                                                                                                                                                                                                          |1         |\n",
            "|excited     |a baby dragon                                                                                                                                                                                                                                               |2         |\n",
            "|faithful    |a acknowledge that you are a sinner b believe in jesus christ                                                                                                                                                                                               |1         |\n",
            "|faithful    |a bleedinggood samaritan you are just take em they will make you feel better                                                                                                                                                                                |2         |\n",
            "|furious     |a folkmoot what is this the dark ages you expect me to drop everything for a pointless round of who pissed who off spare me a folkmoot has been called i would rather watch paint dry off a nun s crack                                                     |1         |\n",
            "|furious     |a fool calm down my child                                                                                                                                                                                                                                   |2         |\n",
            "+------------+------------------------------------------------------------------------------------------------------------------------------------------------------------------------------------------------------------------------------------------------------------+----------+\n",
            "only showing top 20 rows\n",
            "\n"
          ]
        }
      ],
      "source": [
        "# define a window specification to partition the rows by eb+_emot and order them by the default order\n",
        "window_spec = Window.partitionBy(\"eb+_emot\").orderBy(\"cleaned_text\")\n",
        "\n",
        "# assign a row number to each row within each group of eb+_emot values\n",
        "df_with_row_number = texts_df_sp.withColumn(\"row_number\", row_number().over(window_spec))\n",
        "\n",
        "# filter the rows with row numbers less than or equal to 2\n",
        "print_df = df_with_row_number.filter(\"row_number <= 2\")\n",
        "\n",
        "# print the resulting DataFrame\n",
        "print_df.show(truncate=False)"
      ]
    },
    {
      "cell_type": "markdown",
      "id": "NNGXgTIH_ge8",
      "metadata": {
        "id": "NNGXgTIH_ge8"
      },
      "source": [
        "Tokenize the text that was preprocessed before, remove the stop words from the tokens, and remove rows left without token."
      ]
    },
    {
      "cell_type": "code",
      "execution_count": null,
      "id": "QT44MtFP3C0T",
      "metadata": {
        "id": "QT44MtFP3C0T"
      },
      "outputs": [],
      "source": [
        "# Tokenize text \n",
        "tokenizer = Tokenizer(inputCol='cleaned_text', outputCol='tokens')\n",
        "\n",
        "# Filter out stop words\n",
        "stop_words = StopWordsRemover.loadDefaultStopWords('english')\n",
        "stopwords_remover = StopWordsRemover(inputCol='tokens', outputCol='filtered_tokens', stopWords=stop_words)\n",
        "\n",
        "pipeline = Pipeline(stages=[tokenizer, stopwords_remover])\n",
        "\n",
        "# Execute the pipeline and select the two interesting rows\n",
        "tokens_df_sp = pipeline.fit(texts_df_sp).transform(texts_df_sp).select('eb+_emot','filtered_tokens')\n",
        "\n",
        "# Filter utterances without tokens\n",
        "tokens_df_sp = tokens_df_sp.filter(size(col('filtered_tokens')) != 0)"
      ]
    },
    {
      "cell_type": "markdown",
      "id": "xIXaQSkFyput",
      "metadata": {
        "id": "xIXaQSkFyput"
      },
      "source": [
        "For completeness we printed some rows for each emotion of the preprocessed dataframe obtained with the last stage."
      ]
    },
    {
      "cell_type": "code",
      "execution_count": null,
      "id": "aqlI-NxzN4tY",
      "metadata": {
        "colab": {
          "base_uri": "https://localhost:8080/"
        },
        "id": "aqlI-NxzN4tY",
        "outputId": "a377bd0a-1963-43f0-9314-65b18f0b91f6"
      },
      "outputs": [
        {
          "name": "stdout",
          "output_type": "stream",
          "text": [
            "+------------+---------------------------------------------------------------------------------------------------------------------------------------------------------+----------+\n",
            "|eb+_emot    |filtered_tokens                                                                                                                                          |row_number|\n",
            "+------------+---------------------------------------------------------------------------------------------------------------------------------------------------------+----------+\n",
            "|afraid      |[aah, latches, afraid]                                                                                                                                   |1         |\n",
            "|afraid      |[abby, somebody, tried, kill, lab, safe]                                                                                                                 |2         |\n",
            "|agreeing    |[aah]                                                                                                                                                    |1         |\n",
            "|agreeing    |[aah]                                                                                                                                                    |2         |\n",
            "|angry       |[aaaaaaaaaaaaargh, noooooooooooooooooooo, noooooooooooooooooooo, inhales, deeply]                                                                        |1         |\n",
            "|angry       |[aaaaaaaaahhhhhhh, hell, damnation, got, another, one]                                                                                                   |2         |\n",
            "|content     |[aah, whoa, take, easy]                                                                                                                                  |1         |\n",
            "|content     |[aaron, survive]                                                                                                                                         |2         |\n",
            "|devastated  |[aah, burned]                                                                                                                                            |1         |\n",
            "|devastated  |[aang, sake, finds, fire, nation, invaded, home, devastated]                                                                                             |2         |\n",
            "|disappointed|[aah, time, betrays, us]                                                                                                                                 |1         |\n",
            "|disappointed|[aargh, missed]                                                                                                                                          |2         |\n",
            "|embarrassed |[abortion, appletinis]                                                                                                                                   |1         |\n",
            "|embarrassed |[absolute, bollocks, sorry, excuse]                                                                                                                      |2         |\n",
            "|excited     |[aaaa]                                                                                                                                                   |1         |\n",
            "|excited     |[aaaaaaaaaaaaagh]                                                                                                                                        |2         |\n",
            "|faithful    |[abandon, humanity, crisis, must, return, earth, allow, taelon, go, earth, replicant, destroyed, allow, irrelevant, synod, names, successor, quo, equals]|1         |\n",
            "|faithful    |[abandon, mother]                                                                                                                                        |2         |\n",
            "|furious     |[aaaah, idiot, fucking, eye, doin]                                                                                                                       |1         |\n",
            "|furious     |[aaaahhh, put, something, door, fuck]                                                                                                                    |2         |\n",
            "+------------+---------------------------------------------------------------------------------------------------------------------------------------------------------+----------+\n",
            "only showing top 20 rows\n",
            "\n"
          ]
        }
      ],
      "source": [
        "# define a window specification to partition the rows by eb+_emot and order them by the default order\n",
        "window_spec = Window.partitionBy(\"eb+_emot\").orderBy(\"filtered_tokens\")\n",
        "\n",
        "# assign a row number to each row within each group of eb+_emot values\n",
        "df_with_row_number = tokens_df_sp.withColumn(\"row_number\", row_number().over(window_spec))\n",
        "\n",
        "# filter the rows with row numbers less than or equal to 2\n",
        "print_df = df_with_row_number.filter(\"row_number <= 2\")\n",
        "\n",
        "# print the resulting DataFrame\n",
        "print_df.show(truncate=False)"
      ]
    },
    {
      "cell_type": "markdown",
      "id": "ZDxJWp8RyDdF",
      "metadata": {
        "id": "ZDxJWp8RyDdF"
      },
      "source": [
        "### **Store the Preprocessed Datasets**"
      ]
    },
    {
      "cell_type": "markdown",
      "id": "IX7-xqXxw-UG",
      "metadata": {
        "id": "IX7-xqXxw-UG"
      },
      "source": [
        "Convert the spark dataframes that have been preprocessed and download them.\n",
        "We proceeded to upload them in the github repository."
      ]
    },
    {
      "cell_type": "code",
      "execution_count": null,
      "id": "zQsUjSgHASs9",
      "metadata": {
        "id": "zQsUjSgHASs9"
      },
      "outputs": [],
      "source": [
        "texts_df = texts_df_sp.toPandas()\n",
        "tokens_df = tokens_df_sp.toPandas()"
      ]
    },
    {
      "cell_type": "code",
      "execution_count": null,
      "id": "amWQY1l_fmmc",
      "metadata": {
        "colab": {
          "base_uri": "https://localhost:8080/"
        },
        "id": "amWQY1l_fmmc",
        "outputId": "52832939-2499-4b8e-e15e-dc0e8e93c3ec"
      },
      "outputs": [
        {
          "data": {
            "application/javascript": [
              "\n",
              "    async function download(id, filename, size) {\n",
              "      if (!google.colab.kernel.accessAllowed) {\n",
              "        return;\n",
              "      }\n",
              "      const div = document.createElement('div');\n",
              "      const label = document.createElement('label');\n",
              "      label.textContent = `Downloading \"${filename}\": `;\n",
              "      div.appendChild(label);\n",
              "      const progress = document.createElement('progress');\n",
              "      progress.max = size;\n",
              "      div.appendChild(progress);\n",
              "      document.body.appendChild(div);\n",
              "\n",
              "      const buffers = [];\n",
              "      let downloaded = 0;\n",
              "\n",
              "      const channel = await google.colab.kernel.comms.open(id);\n",
              "      // Send a message to notify the kernel that we're ready.\n",
              "      channel.send({})\n",
              "\n",
              "      for await (const message of channel.messages) {\n",
              "        // Send a message to notify the kernel that we're ready.\n",
              "        channel.send({})\n",
              "        if (message.buffers) {\n",
              "          for (const buffer of message.buffers) {\n",
              "            buffers.push(buffer);\n",
              "            downloaded += buffer.byteLength;\n",
              "            progress.value = downloaded;\n",
              "          }\n",
              "        }\n",
              "      }\n",
              "      const blob = new Blob(buffers, {type: 'application/binary'});\n",
              "      const a = document.createElement('a');\n",
              "      a.href = window.URL.createObjectURL(blob);\n",
              "      a.download = filename;\n",
              "      div.appendChild(a);\n",
              "      a.click();\n",
              "      div.remove();\n",
              "    }\n",
              "  "
            ],
            "text/plain": [
              "<IPython.core.display.Javascript object>"
            ]
          },
          "metadata": {},
          "output_type": "display_data"
        },
        {
          "data": {
            "application/javascript": [
              "download(\"download_01247c91-e391-4635-83a6-bae697141b96\", \"preprocessed_texts.csv\", 27058331)"
            ],
            "text/plain": [
              "<IPython.core.display.Javascript object>"
            ]
          },
          "metadata": {},
          "output_type": "display_data"
        }
      ],
      "source": [
        "texts_df.to_csv('preprocessed_texts.csv', index=False ,encoding = 'utf-8') \n",
        "files.download('preprocessed_texts.csv')"
      ]
    },
    {
      "cell_type": "code",
      "execution_count": null,
      "id": "xaDMrS-JNJFe",
      "metadata": {
        "colab": {
          "base_uri": "https://localhost:8080/"
        },
        "id": "xaDMrS-JNJFe",
        "outputId": "74377a98-938a-4168-cfd4-98c3c636f31d"
      },
      "outputs": [
        {
          "data": {
            "application/javascript": [
              "\n",
              "    async function download(id, filename, size) {\n",
              "      if (!google.colab.kernel.accessAllowed) {\n",
              "        return;\n",
              "      }\n",
              "      const div = document.createElement('div');\n",
              "      const label = document.createElement('label');\n",
              "      label.textContent = `Downloading \"${filename}\": `;\n",
              "      div.appendChild(label);\n",
              "      const progress = document.createElement('progress');\n",
              "      progress.max = size;\n",
              "      div.appendChild(progress);\n",
              "      document.body.appendChild(div);\n",
              "\n",
              "      const buffers = [];\n",
              "      let downloaded = 0;\n",
              "\n",
              "      const channel = await google.colab.kernel.comms.open(id);\n",
              "      // Send a message to notify the kernel that we're ready.\n",
              "      channel.send({})\n",
              "\n",
              "      for await (const message of channel.messages) {\n",
              "        // Send a message to notify the kernel that we're ready.\n",
              "        channel.send({})\n",
              "        if (message.buffers) {\n",
              "          for (const buffer of message.buffers) {\n",
              "            buffers.push(buffer);\n",
              "            downloaded += buffer.byteLength;\n",
              "            progress.value = downloaded;\n",
              "          }\n",
              "        }\n",
              "      }\n",
              "      const blob = new Blob(buffers, {type: 'application/binary'});\n",
              "      const a = document.createElement('a');\n",
              "      a.href = window.URL.createObjectURL(blob);\n",
              "      a.download = filename;\n",
              "      div.appendChild(a);\n",
              "      a.click();\n",
              "      div.remove();\n",
              "    }\n",
              "  "
            ],
            "text/plain": [
              "<IPython.core.display.Javascript object>"
            ]
          },
          "metadata": {},
          "output_type": "display_data"
        },
        {
          "data": {
            "application/javascript": [
              "download(\"download_3e91889c-2f07-4804-9521-0d485f4fd1a8\", \"preprocessed_tokens.csv\", 24635331)"
            ],
            "text/plain": [
              "<IPython.core.display.Javascript object>"
            ]
          },
          "metadata": {},
          "output_type": "display_data"
        }
      ],
      "source": [
        "tokens_df.to_csv('preprocessed_tokens.csv', index=False ,encoding = 'utf-8') \n",
        "files.download('preprocessed_tokens.csv')"
      ]
    },
    {
      "cell_type": "markdown",
      "id": "X-eumt7sx030",
      "metadata": {
        "id": "X-eumt7sx030"
      },
      "source": [
        "### **Preprocessing Results**"
      ]
    },
    {
      "cell_type": "markdown",
      "id": "_t8ABUUK_762",
      "metadata": {
        "id": "_t8ABUUK_762"
      },
      "source": [
        "These are the results of the preprocessing phase. Data is made available in the [github repository](https://github.com/SimoneCallegarin/NLP_project/blob/main/Data)."
      ]
    },
    {
      "cell_type": "code",
      "execution_count": null,
      "id": "oNPUASpqxfmT",
      "metadata": {
        "colab": {
          "base_uri": "https://localhost:8080/"
        },
        "id": "oNPUASpqxfmT",
        "outputId": "c8543f64-d1b2-493f-cfbb-70b063e77c02"
      },
      "outputs": [
        {
          "name": "stdout",
          "output_type": "stream",
          "text": [
            "<class 'pandas.core.frame.DataFrame'>\n",
            "RangeIndex: 351698 entries, 0 to 351697\n",
            "Data columns (total 2 columns):\n",
            " #   Column        Non-Null Count   Dtype \n",
            "---  ------        --------------   ----- \n",
            " 0   eb+_emot      351698 non-null  object\n",
            " 1   cleaned_text  351698 non-null  object\n",
            "dtypes: object(2)\n",
            "memory usage: 5.4+ MB\n"
          ]
        }
      ],
      "source": [
        "texts_df.info()"
      ]
    },
    {
      "cell_type": "code",
      "execution_count": null,
      "id": "_EtcIPPSNoxY",
      "metadata": {
        "colab": {
          "base_uri": "https://localhost:8080/"
        },
        "id": "_EtcIPPSNoxY",
        "outputId": "79c60b55-cfe0-4de4-e578-310681494322"
      },
      "outputs": [
        {
          "name": "stdout",
          "output_type": "stream",
          "text": [
            "<class 'pandas.core.frame.DataFrame'>\n",
            "RangeIndex: 349920 entries, 0 to 349919\n",
            "Data columns (total 2 columns):\n",
            " #   Column           Non-Null Count   Dtype \n",
            "---  ------           --------------   ----- \n",
            " 0   eb+_emot         349920 non-null  object\n",
            " 1   filtered_tokens  349920 non-null  object\n",
            "dtypes: object(2)\n",
            "memory usage: 5.3+ MB\n"
          ]
        }
      ],
      "source": [
        "tokens_df.info()"
      ]
    },
    {
      "cell_type": "markdown",
      "id": "agC4-m7azkPa",
      "metadata": {
        "id": "agC4-m7azkPa"
      },
      "source": [
        "Showing the resulting dataframes:"
      ]
    },
    {
      "cell_type": "code",
      "execution_count": null,
      "id": "cs6TUv-qOSYY",
      "metadata": {
        "colab": {
          "base_uri": "https://localhost:8080/"
        },
        "id": "cs6TUv-qOSYY",
        "outputId": "a1abc15b-8eef-4170-f71b-9bfd14b2b42f"
      },
      "outputs": [
        {
          "name": "stdout",
          "output_type": "stream",
          "text": [
            "            eb+_emot                                       cleaned_text\n",
            "0              angry  it is fired up by powerful negative emotions l...\n",
            "1              angry                                            hell no\n",
            "2              angry                     yuki yuki will not get up yuki\n",
            "3              angry               jesus christ they are shooting at us\n",
            "4              angry  damn it alexander shoot what the hell why will...\n",
            "...              ...                                                ...\n",
            "351693  sympathizing  hello oishisan it is your fault things have tu...\n",
            "351694  sympathizing                                       sorry mother\n",
            "351695  sympathizing                  i am really sorry do not sweat it\n",
            "351696  sympathizing                        i am sorry what is going on\n",
            "351697  sympathizing                                you know i am sorry\n",
            "\n",
            "[351698 rows x 2 columns]\n"
          ]
        }
      ],
      "source": [
        "print(texts_df)"
      ]
    },
    {
      "cell_type": "code",
      "execution_count": null,
      "id": "fSLuHl9jLRWo",
      "metadata": {
        "colab": {
          "base_uri": "https://localhost:8080/"
        },
        "id": "fSLuHl9jLRWo",
        "outputId": "dce6ee4b-3df5-4b42-bad8-95c8e1a8b7c9"
      },
      "outputs": [
        {
          "name": "stdout",
          "output_type": "stream",
          "text": [
            "            eb+_emot                                    filtered_tokens\n",
            "0              angry  ['fired', 'powerful', 'negative', 'emotions', ...\n",
            "1              angry                                           ['hell']\n",
            "2              angry                    ['yuki', 'yuki', 'get', 'yuki']\n",
            "3              angry              ['jesus', 'christ', 'shooting', 'us']\n",
            "4              angry     ['damn', 'alexander', 'shoot', 'hell', 'help']\n",
            "...              ...                                                ...\n",
            "349915  sympathizing  ['hello', 'oishisan', 'fault', 'things', 'turn...\n",
            "349916  sympathizing                                ['sorry', 'mother']\n",
            "349917  sympathizing                       ['really', 'sorry', 'sweat']\n",
            "349918  sympathizing                                 ['sorry', 'going']\n",
            "349919  sympathizing                                  ['know', 'sorry']\n",
            "\n",
            "[349920 rows x 2 columns]\n"
          ]
        }
      ],
      "source": [
        "print(tokens_df)"
      ]
    },
    {
      "cell_type": "markdown",
      "id": "7a20cf27-9d94-425d-8571-e63df42dfedf",
      "metadata": {
        "id": "7a20cf27-9d94-425d-8571-e63df42dfedf",
        "tags": []
      },
      "source": [
        "## **Clustering**"
      ]
    },
    {
      "cell_type": "markdown",
      "id": "1a56fcaf-d832-4aff-b19e-42f6a51671c2",
      "metadata": {
        "id": "1a56fcaf-d832-4aff-b19e-42f6a51671c2"
      },
      "source": [
        "In this section we will apply some clustering techniques to check what groups can be found and if those corresponds, even partially, to our known classes."
      ]
    },
    {
      "cell_type": "code",
      "execution_count": null,
      "id": "HMHlOTN4NKXp",
      "metadata": {
        "id": "HMHlOTN4NKXp"
      },
      "outputs": [],
      "source": [
        "tokens_df = pd.read_csv(csv_path_preprocessed_tokens) # this is the preprocessed dataset we are using (tokenization and stop words removal)"
      ]
    },
    {
      "cell_type": "code",
      "execution_count": null,
      "id": "oj5UEHlz4qhl",
      "metadata": {
        "id": "oj5UEHlz4qhl"
      },
      "outputs": [],
      "source": [
        "emotions = tokens_df['eb+_emot'].unique()\n",
        "n_topics = len(emotions)"
      ]
    },
    {
      "cell_type": "code",
      "execution_count": null,
      "id": "CM4NqtT74I_8",
      "metadata": {
        "id": "CM4NqtT74I_8"
      },
      "outputs": [],
      "source": [
        "min_doc_freq = 120\n",
        "max_doc_freq = 0.7"
      ]
    },
    {
      "cell_type": "markdown",
      "id": "529bc61b-89d3-4081-909f-e09b46e03bd0",
      "metadata": {
        "id": "529bc61b-89d3-4081-909f-e09b46e03bd0"
      },
      "source": [
        "### **Vectorization with TF-IDF**"
      ]
    },
    {
      "cell_type": "markdown",
      "id": "88fdbbb0-2e44-49bb-88e3-4342020ce5fe",
      "metadata": {
        "id": "88fdbbb0-2e44-49bb-88e3-4342020ce5fe"
      },
      "source": [
        "Before diving into clustering, we will have to preprocess our dataset. In particular we will have to vectorize our texts and to do that we will use TF-IDF."
      ]
    },
    {
      "cell_type": "code",
      "execution_count": null,
      "id": "6aaf8394-b11d-4e49-b10d-c63098c85750",
      "metadata": {
        "id": "6aaf8394-b11d-4e49-b10d-c63098c85750"
      },
      "outputs": [],
      "source": [
        "X = tokens_df['filtered_tokens']\n",
        "y = tokens_df['eb+_emot']"
      ]
    },
    {
      "cell_type": "markdown",
      "id": "a8f73d4c-d8e1-4a4f-93b9-f0c19897006e",
      "metadata": {
        "id": "a8f73d4c-d8e1-4a4f-93b9-f0c19897006e"
      },
      "source": [
        "We will remove numbers since they don't represent any meaningful information in our semantical context and they only enlarge TF-IDF vectors slowing down training and preprocessing steps.\n",
        "\n",
        "We will remove numbers and stopwords from the corpus, plus words appearing in less than 10 documents or in more than the 80% of the collection (to remove corpus-specific stopwords)."
      ]
    },
    {
      "cell_type": "code",
      "execution_count": null,
      "id": "2f2bc0f3-6802-4f9d-b14f-818852923598",
      "metadata": {
        "id": "2f2bc0f3-6802-4f9d-b14f-818852923598"
      },
      "outputs": [],
      "source": [
        "tfidf_vec = TfidfVectorizer(strip_accents='unicode',\n",
        "                            stop_words='english',\n",
        "                            lowercase=True,\n",
        "                            min_df=min_doc_freq,\n",
        "                            max_df=max_doc_freq\n",
        "                           )"
      ]
    },
    {
      "cell_type": "code",
      "execution_count": null,
      "id": "KpKa-_j-oU-X",
      "metadata": {
        "id": "KpKa-_j-oU-X"
      },
      "outputs": [],
      "source": [
        "Xf = tfidf_vec.fit_transform(X)"
      ]
    },
    {
      "cell_type": "code",
      "execution_count": null,
      "id": "c84b52c8-b793-45b6-8066-1010d9bfca0f",
      "metadata": {
        "colab": {
          "base_uri": "https://localhost:8080/"
        },
        "id": "c84b52c8-b793-45b6-8066-1010d9bfca0f",
        "outputId": "2d851fbd-956a-4933-9360-4bfee8675208"
      },
      "outputs": [
        {
          "data": {
            "text/plain": [
              "2016"
            ]
          },
          "execution_count": 56,
          "metadata": {},
          "output_type": "execute_result"
        }
      ],
      "source": [
        "tfidf_vec.get_feature_names_out().size"
      ]
    },
    {
      "cell_type": "code",
      "execution_count": null,
      "id": "s7F1bc1a2-EB",
      "metadata": {
        "colab": {
          "base_uri": "https://localhost:8080/"
        },
        "id": "s7F1bc1a2-EB",
        "outputId": "360f298f-85af-4cbd-9e2f-d2b60b2bb536"
      },
      "outputs": [
        {
          "name": "stdout",
          "output_type": "stream",
          "text": [
            "Vocabulary: \n",
            "['able' 'absolutely' 'accept' ... 'young' 'younger' 'youth']\n"
          ]
        }
      ],
      "source": [
        "print('Vocabulary: ')\n",
        "print(tfidf_vec.get_feature_names_out())"
      ]
    },
    {
      "cell_type": "markdown",
      "id": "06a1b702-c6cb-424e-a262-a340eca5bee7",
      "metadata": {
        "id": "06a1b702-c6cb-424e-a262-a340eca5bee7"
      },
      "source": [
        "### **Clustering with K-Means**"
      ]
    },
    {
      "cell_type": "markdown",
      "id": "cG1VjIhwOPSl",
      "metadata": {
        "id": "cG1VjIhwOPSl"
      },
      "source": [
        "K-Means clustering algorithm is applyed to already fully preprocessed and vectorized data. The random seed and other hyperparameters have been chosen between many possible combination in order to select the one with higher number of clusters as well defined as possible."
      ]
    },
    {
      "cell_type": "code",
      "execution_count": null,
      "id": "13e73866-662d-4144-ad3e-f7053f19077b",
      "metadata": {
        "colab": {
          "base_uri": "https://localhost:8080/",
          "height": 75
        },
        "id": "13e73866-662d-4144-ad3e-f7053f19077b",
        "outputId": "fd7de101-d68e-460a-d41a-52a50ac9ac88",
        "tags": []
      },
      "outputs": [
        {
          "data": {
            "text/html": [
              "<style>#sk-container-id-1 {color: black;background-color: white;}#sk-container-id-1 pre{padding: 0;}#sk-container-id-1 div.sk-toggleable {background-color: white;}#sk-container-id-1 label.sk-toggleable__label {cursor: pointer;display: block;width: 100%;margin-bottom: 0;padding: 0.3em;box-sizing: border-box;text-align: center;}#sk-container-id-1 label.sk-toggleable__label-arrow:before {content: \"▸\";float: left;margin-right: 0.25em;color: #696969;}#sk-container-id-1 label.sk-toggleable__label-arrow:hover:before {color: black;}#sk-container-id-1 div.sk-estimator:hover label.sk-toggleable__label-arrow:before {color: black;}#sk-container-id-1 div.sk-toggleable__content {max-height: 0;max-width: 0;overflow: hidden;text-align: left;background-color: #f0f8ff;}#sk-container-id-1 div.sk-toggleable__content pre {margin: 0.2em;color: black;border-radius: 0.25em;background-color: #f0f8ff;}#sk-container-id-1 input.sk-toggleable__control:checked~div.sk-toggleable__content {max-height: 200px;max-width: 100%;overflow: auto;}#sk-container-id-1 input.sk-toggleable__control:checked~label.sk-toggleable__label-arrow:before {content: \"▾\";}#sk-container-id-1 div.sk-estimator input.sk-toggleable__control:checked~label.sk-toggleable__label {background-color: #d4ebff;}#sk-container-id-1 div.sk-label input.sk-toggleable__control:checked~label.sk-toggleable__label {background-color: #d4ebff;}#sk-container-id-1 input.sk-hidden--visually {border: 0;clip: rect(1px 1px 1px 1px);clip: rect(1px, 1px, 1px, 1px);height: 1px;margin: -1px;overflow: hidden;padding: 0;position: absolute;width: 1px;}#sk-container-id-1 div.sk-estimator {font-family: monospace;background-color: #f0f8ff;border: 1px dotted black;border-radius: 0.25em;box-sizing: border-box;margin-bottom: 0.5em;}#sk-container-id-1 div.sk-estimator:hover {background-color: #d4ebff;}#sk-container-id-1 div.sk-parallel-item::after {content: \"\";width: 100%;border-bottom: 1px solid gray;flex-grow: 1;}#sk-container-id-1 div.sk-label:hover label.sk-toggleable__label {background-color: #d4ebff;}#sk-container-id-1 div.sk-serial::before {content: \"\";position: absolute;border-left: 1px solid gray;box-sizing: border-box;top: 0;bottom: 0;left: 50%;z-index: 0;}#sk-container-id-1 div.sk-serial {display: flex;flex-direction: column;align-items: center;background-color: white;padding-right: 0.2em;padding-left: 0.2em;position: relative;}#sk-container-id-1 div.sk-item {position: relative;z-index: 1;}#sk-container-id-1 div.sk-parallel {display: flex;align-items: stretch;justify-content: center;background-color: white;position: relative;}#sk-container-id-1 div.sk-item::before, #sk-container-id-1 div.sk-parallel-item::before {content: \"\";position: absolute;border-left: 1px solid gray;box-sizing: border-box;top: 0;bottom: 0;left: 50%;z-index: -1;}#sk-container-id-1 div.sk-parallel-item {display: flex;flex-direction: column;z-index: 1;position: relative;background-color: white;}#sk-container-id-1 div.sk-parallel-item:first-child::after {align-self: flex-end;width: 50%;}#sk-container-id-1 div.sk-parallel-item:last-child::after {align-self: flex-start;width: 50%;}#sk-container-id-1 div.sk-parallel-item:only-child::after {width: 0;}#sk-container-id-1 div.sk-dashed-wrapped {border: 1px dashed gray;margin: 0 0.4em 0.5em 0.4em;box-sizing: border-box;padding-bottom: 0.4em;background-color: white;}#sk-container-id-1 div.sk-label label {font-family: monospace;font-weight: bold;display: inline-block;line-height: 1.2em;}#sk-container-id-1 div.sk-label-container {text-align: center;}#sk-container-id-1 div.sk-container {/* jupyter's `normalize.less` sets `[hidden] { display: none; }` but bootstrap.min.css set `[hidden] { display: none !important; }` so we also need the `!important` here to be able to override the default hidden behavior on the sphinx rendered scikit-learn.org. See: https://github.com/scikit-learn/scikit-learn/issues/21755 */display: inline-block !important;position: relative;}#sk-container-id-1 div.sk-text-repr-fallback {display: none;}</style><div id=\"sk-container-id-1\" class=\"sk-top-container\"><div class=\"sk-text-repr-fallback\"><pre>KMeans(max_iter=100, n_clusters=41, n_init=7, random_state=2153, verbose=False)</pre><b>In a Jupyter environment, please rerun this cell to show the HTML representation or trust the notebook. <br />On GitHub, the HTML representation is unable to render, please try loading this page with nbviewer.org.</b></div><div class=\"sk-container\" hidden><div class=\"sk-item\"><div class=\"sk-estimator sk-toggleable\"><input class=\"sk-toggleable__control sk-hidden--visually\" id=\"sk-estimator-id-1\" type=\"checkbox\" checked><label for=\"sk-estimator-id-1\" class=\"sk-toggleable__label sk-toggleable__label-arrow\">KMeans</label><div class=\"sk-toggleable__content\"><pre>KMeans(max_iter=100, n_clusters=41, n_init=7, random_state=2153, verbose=False)</pre></div></div></div></div></div>"
            ],
            "text/plain": [
              "KMeans(max_iter=100, n_clusters=41, n_init=7, random_state=2153, verbose=False)"
            ]
          },
          "execution_count": 58,
          "metadata": {},
          "output_type": "execute_result"
        }
      ],
      "source": [
        "kmeans = KMeans(n_clusters=n_topics,\n",
        "                max_iter=100,\n",
        "                n_init=7,\n",
        "                verbose=False,\n",
        "                random_state=2153)\n",
        "kmeans.fit(Xf)"
      ]
    },
    {
      "cell_type": "code",
      "execution_count": null,
      "id": "Rht7Yoijp7rR",
      "metadata": {
        "colab": {
          "base_uri": "https://localhost:8080/"
        },
        "id": "Rht7Yoijp7rR",
        "outputId": "156c8fc3-884f-4792-d8e2-935917cd5efc"
      },
      "outputs": [
        {
          "name": "stdout",
          "output_type": "stream",
          "text": [
            "Number of clusters identified: 13\n",
            "Number of data points in each cluster:\n",
            "Counter({1: 212332, 32: 10789, 33: 8675, 24: 6642, 15: 6449, 17: 6404, 11: 6302, 23: 6039, 34: 5696, 36: 5687, 14: 5510, 2: 5328, 3: 5091, 8: 4849, 39: 4258, 27: 4224, 40: 4035, 21: 3802, 22: 3754, 16: 3545, 7: 3455, 37: 3304, 25: 3217, 13: 3058, 0: 2948, 5: 2100, 10: 1828, 4: 1757, 19: 1602, 35: 1448, 26: 1359, 30: 895, 6: 674, 29: 656, 28: 479, 18: 403, 20: 378, 9: 274, 31: 257, 12: 256, 38: 161})\n"
          ]
        }
      ],
      "source": [
        "# Predict the cluster labels for each data point\n",
        "labels = kmeans.predict(Xf)\n",
        "\n",
        "# Create a dictionary that maps each topic to its corresponding cluster label\n",
        "topic_map = {}\n",
        "for i, topic in enumerate(emotions):\n",
        "    topic_map[topic] = labels[i]\n",
        "\n",
        "# Create a dictionary that maps each cluster label to a list of topics\n",
        "cluster_topics = {}\n",
        "for topic, cluster in topic_map.items():\n",
        "    if cluster not in cluster_topics:\n",
        "        cluster_topics[cluster] = []\n",
        "    cluster_topics[cluster].append(topic)\n",
        "\n",
        "print(\"Number of clusters identified:\",len(cluster_topics.items()))\n",
        "\n",
        "print(\"Number of data points in each cluster:\")\n",
        "print(Counter(labels))"
      ]
    },
    {
      "cell_type": "markdown",
      "id": "oJ5vQxWyPS-R",
      "metadata": {
        "id": "oJ5vQxWyPS-R"
      },
      "source": [
        "The number of clusters identified is quite low compared to the number of topics (41 emotions) given. Clusters' data points are also quite unbalanced in distribution.\n",
        "\n",
        "The algorithm has been able only to identify some of the original topics, while the others (29 emotions) have been all merged togheter in a big cluster:"
      ]
    },
    {
      "cell_type": "code",
      "execution_count": null,
      "id": "eJB8R2t8VMEG",
      "metadata": {
        "colab": {
          "base_uri": "https://localhost:8080/"
        },
        "id": "eJB8R2t8VMEG",
        "outputId": "a41a8781-62ba-4608-9d3f-5410e2a6c2e7"
      },
      "outputs": [
        {
          "name": "stdout",
          "output_type": "stream",
          "text": [
            "Topics for each cluster label:\n",
            "Cluster 32: angry\n",
            "Cluster 1: furious, prepared, acknowledging, confident, caring, sentimental, wishing, surprised, ashamed, questioning, nostalgic, terrified, embarrassed, lonely, encouraging, suggesting, content, afraid, impressed, apprehensive, proud, annoyed, anxious, grateful, neutral, faithful, jealous, joyful, sympathizing\n",
            "Cluster 13: trusting\n",
            "Cluster 0: hopeful\n",
            "Cluster 12: anticipating\n",
            "Cluster 17: sad\n",
            "Cluster 23: devastated\n",
            "Cluster 16: agreeing\n",
            "Cluster 11: excited\n",
            "Cluster 31: guilty\n",
            "Cluster 14: consoling\n",
            "Cluster 8: disgusted\n",
            "Cluster 15: disappointed\n"
          ]
        }
      ],
      "source": [
        "# Print the topics for each cluster label\n",
        "print(\"Topics for each cluster label:\")\n",
        "for cluster, topics in cluster_topics.items():\n",
        "    print(\"Cluster {}: {}\".format(cluster, \", \".join(topics)))"
      ]
    },
    {
      "cell_type": "markdown",
      "id": "JZt06TuUROoC",
      "metadata": {
        "id": "JZt06TuUROoC"
      },
      "source": [
        "Let's have a look to the content of the clusters by showing the top terms per clusters."
      ]
    },
    {
      "cell_type": "code",
      "execution_count": null,
      "id": "01ea9adf-fb05-4ef9-9be4-16b476d520f9",
      "metadata": {
        "colab": {
          "base_uri": "https://localhost:8080/"
        },
        "id": "01ea9adf-fb05-4ef9-9be4-16b476d520f9",
        "outputId": "972edf1c-6d39-427c-8623-165d84f9f58b"
      },
      "outputs": [
        {
          "name": "stdout",
          "output_type": "stream",
          "text": [
            "Top terms per cluster:\n",
            "Cluster 0 :\t['years', 'ago', 'old', 'know', 'like', 'time', 'remember', 'life', 'long', 'seen'] -> ['hopeful']\n",
            "Cluster 1 :\t['good', 'want', 'think', 'yes', 'look', 'yeah', 'okay', 'tell', 'make', 'way'] -> ['furious', 'prepared', 'acknowledging', 'confident', 'caring', 'sentimental', 'wishing', 'surprised', 'ashamed', 'questioning', 'nostalgic', 'terrified', 'embarrassed', 'lonely', 'encouraging', 'suggesting', 'content', 'afraid', 'impressed', 'apprehensive', 'proud', 'annoyed', 'anxious', 'grateful', 'neutral', 'faithful', 'jealous', 'joyful', 'sympathizing']\n",
            "Cluster 2 :\t['really', 'know', 'sorry', 'like', 'good', 'think', 'want', 'yeah', 'oh', 'time']\n",
            "Cluster 3 :\t['man', 'old', 'like', 'know', 'good', 'young', 'oh', 'got', 'come', 'look']\n",
            "Cluster 4 :\t['live', 'long', 'life', 'want', 'like', 'know', 'used', 'let', 'house', 'come']\n",
            "Cluster 5 :\t['dead', 'thought', 'man', 'body', 'know', 'son', 'killed', 'like', 'think', 'meat']\n",
            "Cluster 6 :\t['madam', 'excuse', 'sorry', 'yes', 'thank', 'good', 'hello', 'come', 'like', 'morning']\n",
            "Cluster 7 :\t['hey', 'come', 'look', 'got', 'guys', 'sorry', 'let', 'know', 'right', 'good']\n",
            "Cluster 8 :\t['little', 'bit', 'like', 'know', 'nervous', 'girl', 'look', 'think', 'got', 'yeah'] -> ['disgusted']\n",
            "Cluster 9 :\t['stage', 'right', 'nervous', 'like', 'know', 'new', 'let', 'performance', 'think', 'day']\n",
            "Cluster 10 :\t['course', 'yes', 'know', 'yeah', 'oh', 'right', 'come', 'like', 'sure', 'good']\n",
            "Cluster 11 :\t['come', 'want', 'home', 'know', 'look', 'yes', 'way', 'okay', 'later', 'yeah'] -> ['excited']\n",
            "Cluster 12 :\t['goddamn', 'son', 'bitch', 'hell', 'shit', 'jesus', 'kid', 'thing', 'fuck', 'come'] -> ['anticipating']\n",
            "Cluster 13 :\t['help', 'need', 'want', 'know', 'sorry', 'trying', 'let', 'come', 'like', 'maybe'] -> ['trusting']\n",
            "Cluster 14 :\t['going', 'know', 'home', 'think', 'come', 'tell', 'like', 'right', 'let', 'make'] -> ['consoling']\n",
            "Cluster 15 :\t['let', 'come', 'right', 'try', 'know', 'okay', 'hope', 'got', 'talk', 'home'] -> ['disappointed']\n",
            "Cluster 16 :\t['god', 'oh', 'thank', 'bless', 'damn', 'sake', 'believe', 'good', 'love', 'look'] -> ['agreeing']\n",
            "Cluster 17 :\t['got', 'right', 'know', 'yeah', 'look', 'think', 'good', 'come', 'okay', 'away'] -> ['sad']\n",
            "Cluster 18 :\t['figure', 'trying', 'know', 'got', 'let', 'want', 'gonna', 'yeah', 'going', 'like']\n",
            "Cluster 19 :\t['pretty', 'good', 'sure', 'girl', 'look', 'like', 'know', 'think', 'really', 'yeah']\n",
            "Cluster 20 :\t['officer', 'police', 'sorry', 'thank', 'know', 'good', 'excuse', 'said', 'got', 'chief']\n",
            "Cluster 21 :\t['sir', 'thanks', 'yes', 'good', 'excuse', 'sorry', 'coming', 'mr', 'right', 'ready']\n",
            "Cluster 22 :\t['love', 'know', 'like', 'oh', 'want', 'think', 'yes', 'life', 'make', 'heart']\n",
            "Cluster 23 :\t['right', 'yeah', 'okay', 'know', 'come', 'yes', 'hope', 'gonna', 'good', 'think'] -> ['devastated']\n",
            "Cluster 24 :\t['time', 'long', 'good', 'know', 'come', 'think', 'like', 'right', 'ago', 'got']\n",
            "Cluster 25 :\t['leave', 'want', 'message', 'let', 'come', 'right', 'away', 'know', 'going', 'stay']\n",
            "Cluster 26 :\t['baby', 'oh', 'come', 'want', 'like', 'know', 'love', 'hey', 'yeah', 'got']\n",
            "Cluster 27 :\t['need', 'know', 'talk', 'right', 'think', 'gonna', 'sorry', 'time', 'going', 'come']\n",
            "Cluster 28 :\t['feet', 'like', 'right', 'oh', 'know', 'got', 'stand', 'little', 'feel', 'hurt']\n",
            "Cluster 29 :\t['trust', 'know', 'right', 'got', 'want', 'like', 'people', 'need', 'going', 'look']\n",
            "Cluster 30 :\t['minute', 'wait', 'right', 'got', 'come', 'excuse', 'know', 'okay', 'need', 'sorry']\n",
            "Cluster 31 :\t['pig', 'like', 'fat', 'disgusting', 'fucking', 'look', 'filthy', 'dirty', 'shit', 'blood'] -> ['guilty']\n",
            "Cluster 32 :\t['like', 'looks', 'look', 'know', 'feel', 'think', 'yeah', 'want', 'people', 'seen'] -> ['angry']\n",
            "Cluster 33 :\t['know', 'want', 'think', 'yeah', 'tell', 'gonna', 'maybe', 'yes', 'good', 'mean']\n",
            "Cluster 34 :\t['oh', 'yeah', 'sorry', 'yes', 'look', 'right', 'know', 'come', 'good', 'like']\n",
            "Cluster 35 :\t['friends', 'good', 'like', 'know', 'got', 'want', 'best', 'come', 'family', 'make']\n",
            "Cluster 36 :\t['sorry', 'late', 'know', 'right', 'come', 'hear', 'excuse', 'mr', 'want', 'thought']\n",
            "Cluster 37 :\t['stop', 'later', 'talk', 'okay', 'tell', 'let', 'know', 'ok', 'yeah', 'come']\n",
            "Cluster 38 :\t['stood', 'like', 'time', 'thought', 'standing', 'got', 'know', 'little', 'world', 'right']\n",
            "Cluster 39 :\t['say', 'know', 'goodbye', 'want', 'sorry', 'like', 'let', 'think', 'come', 'got']\n",
            "Cluster 40 :\t['thank', 'mr', 'coming', 'yes', 'oh', 'sir', 'good', 'right', 'thanks', 'welcome']\n"
          ]
        }
      ],
      "source": [
        "print(\"Top terms per cluster:\")\n",
        "vocab = tfidf_vec.get_feature_names_out()\n",
        "\n",
        "for i in range(kmeans.n_clusters):\n",
        "    centroid = kmeans.cluster_centers_[i]    \n",
        "    sorted_terms = centroid.argsort()[::-1]\n",
        "    if i in cluster_topics.keys():   \n",
        "      print(f\"Cluster {i} :\\t{[vocab[j] for j in sorted_terms[:10]]}\",\"->\",(cluster_topics[i]))\n",
        "    else:\n",
        "      print(f\"Cluster {i} :\\t{[vocab[j] for j in sorted_terms[:10]]}\")"
      ]
    },
    {
      "cell_type": "markdown",
      "id": "89e59809-ee8d-4bc5-965d-554417e34257",
      "metadata": {
        "id": "89e59809-ee8d-4bc5-965d-554417e34257"
      },
      "source": [
        "Results don't look very promising. We can see that many words repeat in different clusters like 'come' or 'know' and this suggests that KMeans algorithm didn't succeed in splitting datapoints into clear, distinct clusters."
      ]
    },
    {
      "cell_type": "code",
      "execution_count": null,
      "id": "yf9MHkrGR_Ad",
      "metadata": {
        "colab": {
          "base_uri": "https://localhost:8080/",
          "height": 847
        },
        "id": "yf9MHkrGR_Ad",
        "outputId": "65e162c2-c677-4510-a275-6e7b4069bde1"
      },
      "outputs": [
        {
          "data": {
            "text/plain": [
              "Text(0.5, 1.0, 'KMeans Clustering')"
            ]
          },
          "execution_count": 62,
          "metadata": {},
          "output_type": "execute_result"
        },
        {
          "data": {
            "image/png": "[encoded data removed]",
            "text/plain": [
              "<Figure size 1100x800 with 1 Axes>"
            ]
          },
          "metadata": {},
          "output_type": "display_data"
        }
      ],
      "source": [
        "# Reduce the dimensionality of the data to two dimensions using PCA\n",
        "pca = PCA(n_components=2)\n",
        "X_pca = pca.fit_transform(Xf.toarray())\n",
        "\n",
        "# Define a list of markers and colors to use for the scatter plot\n",
        "markers = [\"o\", \"s\", \"^\", \"D\", \"v\", \"p\", \"P\", \"*\", \"h\", \"H\", \">\", \"<\", \".\", \"1\", \"2\", \"3\", \"4\", \"8\", \"s\", \"p\", \"P\", \"*\", \"h\", \"H\", \"+\", \"x\", \"d\"]\n",
        "colors = ['#3b1dff', '#2d48d3', '#2952c8', '#265abf', '#2462b7', '#2268b0', '#206faa', '#1e75a4', '#1c7b9e', '#1a8098', '#168b8d', '#139582', '#09a772', '#07c062']\n",
        "\n",
        "# Set the size of the figure\n",
        "plt.figure(figsize=(11, 8))\n",
        "\n",
        "# Plot the data points with different colors and markers corresponding to their cluster labels\n",
        "i=1\n",
        "for cluster, topics in cluster_topics.items():\n",
        "    marker = markers[i % len(markers)]\n",
        "    color = colors[i % len(colors)]\n",
        "    if len(topics) > 2:\n",
        "      plt.scatter(X_pca[labels == cluster, 0], X_pca[labels == cluster, 1], c=color, marker=marker, label=\"Cluster {} contains {} emotion\".format(cluster,len(topics)))\n",
        "    else:\n",
        "      plt.scatter(X_pca[labels == cluster, 0], X_pca[labels == cluster, 1], c=color, marker=marker, label=\"Cluster {} contains {}\".format(cluster,topics))\n",
        "\n",
        "    # Annotate the scatter plot with the topic names\n",
        "    for j, topic in enumerate(emotions):\n",
        "        if topic_map[topic] == cluster:\n",
        "            x, y = X_pca[j, 0], X_pca[j, 1]\n",
        "            plt.annotate(topic, xy=(x, y), xytext=(5, 5), textcoords=\"offset points\", fontsize=12, color=color,\n",
        "                        bbox=dict(boxstyle=\"round\", fc=\"white\", ec=\"gray\", lw=1, alpha=0.8))\n",
        "    i = i+1\n",
        "        \n",
        "# Adjust the plot to ensure that the bounding boxes don't overlap\n",
        "plt.tight_layout()\n",
        "plt.savefig(\"scatter_plot.png\", dpi=300, bbox_inches=\"tight\")\n",
        "\n",
        "# Add a legend to the plot\n",
        "plt.legend(loc=\"best\")\n",
        "\n",
        "plt.title(\"KMeans Clustering\")"
      ]
    },
    {
      "cell_type": "markdown",
      "id": "rXh7fj7DSfAy",
      "metadata": {
        "id": "rXh7fj7DSfAy"
      },
      "source": [
        "Also from the graph we can see that the clusters are not well identified."
      ]
    },
    {
      "cell_type": "markdown",
      "id": "fJD5sOzKR8qE",
      "metadata": {
        "id": "fJD5sOzKR8qE"
      },
      "source": [
        "To have a better idea of how KMeans performed in our task, let's compute extrisinc evaluation metrics."
      ]
    },
    {
      "cell_type": "code",
      "execution_count": null,
      "id": "bcd95195-b719-4b24-9fe5-375be1392e0f",
      "metadata": {
        "colab": {
          "base_uri": "https://localhost:8080/"
        },
        "id": "bcd95195-b719-4b24-9fe5-375be1392e0f",
        "outputId": "c91c9123-fa84-4d13-ebdd-957a20b8b25f"
      },
      "outputs": [
        {
          "name": "stdout",
          "output_type": "stream",
          "text": [
            "Extrinsic evaluation measures:\n",
            "Homogeneity: 0.06563872051104021\n",
            "Completeness: 0.12161833478804444\n",
            "V-measure: 0.08526110670084419\n",
            "Adjusted Rand-Index: 0.0034418133560289764\n"
          ]
        }
      ],
      "source": [
        "print('Extrinsic evaluation measures:')\n",
        "print(\"Homogeneity:\", str(metrics.homogeneity_score(tokens_df['eb+_emot'], kmeans.labels_)))\n",
        "print(\"Completeness:\", str(metrics.completeness_score(tokens_df['eb+_emot'], kmeans.labels_)))\n",
        "print(\"V-measure:\", str(metrics.v_measure_score(tokens_df['eb+_emot'], kmeans.labels_)))\n",
        "print(\"Adjusted Rand-Index:\", str(metrics.adjusted_rand_score(tokens_df['eb+_emot'], kmeans.labels_)))"
      ]
    },
    {
      "cell_type": "markdown",
      "id": "ae98a581-a329-42ac-8a9d-016953f0e58d",
      "metadata": {
        "id": "ae98a581-a329-42ac-8a9d-016953f0e58d"
      },
      "source": [
        "As expected, results are not very accurate. This could be caused by many different characteristics of our dataset like for example non-spherical clusters or unequal cluster size or density. We probably need a more complex clustering algorithm"
      ]
    },
    {
      "cell_type": "markdown",
      "id": "c6d6a16c-03fa-4b7c-a498-6af6c0e220dc",
      "metadata": {
        "id": "c6d6a16c-03fa-4b7c-a498-6af6c0e220dc"
      },
      "source": [
        "### **Clustering with LDA**"
      ]
    },
    {
      "cell_type": "markdown",
      "id": "dd00354f-1735-4a51-9a88-e4ca6d83c938",
      "metadata": {
        "id": "dd00354f-1735-4a51-9a88-e4ca6d83c938"
      },
      "source": [
        "KMeans algorithm tries to associate each data point to a single cluster and in our case this may have been one of the reasons of its bad performance. Let's try to generate again the clusters by using Latent Dirichlet Allocation, which will associate each datapoints to a variety of topics (clusters) which could be useful in more complex datasets like ours."
      ]
    },
    {
      "cell_type": "code",
      "execution_count": null,
      "id": "fYK8mc-dcEur",
      "metadata": {
        "colab": {
          "base_uri": "https://localhost:8080/",
          "height": 75
        },
        "id": "fYK8mc-dcEur",
        "outputId": "e9fc1bec-675f-408f-8bcf-c6af004fc943"
      },
      "outputs": [
        {
          "data": {
            "text/html": [
              "<style>#sk-container-id-2 {color: black;background-color: white;}#sk-container-id-2 pre{padding: 0;}#sk-container-id-2 div.sk-toggleable {background-color: white;}#sk-container-id-2 label.sk-toggleable__label {cursor: pointer;display: block;width: 100%;margin-bottom: 0;padding: 0.3em;box-sizing: border-box;text-align: center;}#sk-container-id-2 label.sk-toggleable__label-arrow:before {content: \"▸\";float: left;margin-right: 0.25em;color: #696969;}#sk-container-id-2 label.sk-toggleable__label-arrow:hover:before {color: black;}#sk-container-id-2 div.sk-estimator:hover label.sk-toggleable__label-arrow:before {color: black;}#sk-container-id-2 div.sk-toggleable__content {max-height: 0;max-width: 0;overflow: hidden;text-align: left;background-color: #f0f8ff;}#sk-container-id-2 div.sk-toggleable__content pre {margin: 0.2em;color: black;border-radius: 0.25em;background-color: #f0f8ff;}#sk-container-id-2 input.sk-toggleable__control:checked~div.sk-toggleable__content {max-height: 200px;max-width: 100%;overflow: auto;}#sk-container-id-2 input.sk-toggleable__control:checked~label.sk-toggleable__label-arrow:before {content: \"▾\";}#sk-container-id-2 div.sk-estimator input.sk-toggleable__control:checked~label.sk-toggleable__label {background-color: #d4ebff;}#sk-container-id-2 div.sk-label input.sk-toggleable__control:checked~label.sk-toggleable__label {background-color: #d4ebff;}#sk-container-id-2 input.sk-hidden--visually {border: 0;clip: rect(1px 1px 1px 1px);clip: rect(1px, 1px, 1px, 1px);height: 1px;margin: -1px;overflow: hidden;padding: 0;position: absolute;width: 1px;}#sk-container-id-2 div.sk-estimator {font-family: monospace;background-color: #f0f8ff;border: 1px dotted black;border-radius: 0.25em;box-sizing: border-box;margin-bottom: 0.5em;}#sk-container-id-2 div.sk-estimator:hover {background-color: #d4ebff;}#sk-container-id-2 div.sk-parallel-item::after {content: \"\";width: 100%;border-bottom: 1px solid gray;flex-grow: 1;}#sk-container-id-2 div.sk-label:hover label.sk-toggleable__label {background-color: #d4ebff;}#sk-container-id-2 div.sk-serial::before {content: \"\";position: absolute;border-left: 1px solid gray;box-sizing: border-box;top: 0;bottom: 0;left: 50%;z-index: 0;}#sk-container-id-2 div.sk-serial {display: flex;flex-direction: column;align-items: center;background-color: white;padding-right: 0.2em;padding-left: 0.2em;position: relative;}#sk-container-id-2 div.sk-item {position: relative;z-index: 1;}#sk-container-id-2 div.sk-parallel {display: flex;align-items: stretch;justify-content: center;background-color: white;position: relative;}#sk-container-id-2 div.sk-item::before, #sk-container-id-2 div.sk-parallel-item::before {content: \"\";position: absolute;border-left: 1px solid gray;box-sizing: border-box;top: 0;bottom: 0;left: 50%;z-index: -1;}#sk-container-id-2 div.sk-parallel-item {display: flex;flex-direction: column;z-index: 1;position: relative;background-color: white;}#sk-container-id-2 div.sk-parallel-item:first-child::after {align-self: flex-end;width: 50%;}#sk-container-id-2 div.sk-parallel-item:last-child::after {align-self: flex-start;width: 50%;}#sk-container-id-2 div.sk-parallel-item:only-child::after {width: 0;}#sk-container-id-2 div.sk-dashed-wrapped {border: 1px dashed gray;margin: 0 0.4em 0.5em 0.4em;box-sizing: border-box;padding-bottom: 0.4em;background-color: white;}#sk-container-id-2 div.sk-label label {font-family: monospace;font-weight: bold;display: inline-block;line-height: 1.2em;}#sk-container-id-2 div.sk-label-container {text-align: center;}#sk-container-id-2 div.sk-container {/* jupyter's `normalize.less` sets `[hidden] { display: none; }` but bootstrap.min.css set `[hidden] { display: none !important; }` so we also need the `!important` here to be able to override the default hidden behavior on the sphinx rendered scikit-learn.org. See: https://github.com/scikit-learn/scikit-learn/issues/21755 */display: inline-block !important;position: relative;}#sk-container-id-2 div.sk-text-repr-fallback {display: none;}</style><div id=\"sk-container-id-2\" class=\"sk-top-container\"><div class=\"sk-text-repr-fallback\"><pre>LatentDirichletAllocation(n_components=41, random_state=42)</pre><b>In a Jupyter environment, please rerun this cell to show the HTML representation or trust the notebook. <br />On GitHub, the HTML representation is unable to render, please try loading this page with nbviewer.org.</b></div><div class=\"sk-container\" hidden><div class=\"sk-item\"><div class=\"sk-estimator sk-toggleable\"><input class=\"sk-toggleable__control sk-hidden--visually\" id=\"sk-estimator-id-2\" type=\"checkbox\" checked><label for=\"sk-estimator-id-2\" class=\"sk-toggleable__label sk-toggleable__label-arrow\">LatentDirichletAllocation</label><div class=\"sk-toggleable__content\"><pre>LatentDirichletAllocation(n_components=41, random_state=42)</pre></div></div></div></div></div>"
            ],
            "text/plain": [
              "LatentDirichletAllocation(n_components=41, random_state=42)"
            ]
          },
          "execution_count": 65,
          "metadata": {},
          "output_type": "execute_result"
        }
      ],
      "source": [
        "from sklearn.feature_extraction.text import CountVectorizer\n",
        "from sklearn.decomposition import LatentDirichletAllocation, PCA\n",
        "from sklearn.preprocessing import StandardScaler\n",
        "\n",
        "# Convert the tokenized data to a bag-of-words representation using scikit-learn's CountVectorizer\n",
        "vectorizer = CountVectorizer()\n",
        "Xc = vectorizer.fit_transform(tokens_df['filtered_tokens'])\n",
        "\n",
        "# Fit an LDA model to the bag-of-words data  \n",
        "lda = LatentDirichletAllocation(n_components=n_topics, random_state=42)\n",
        "lda.fit(Xc)"
      ]
    },
    {
      "cell_type": "code",
      "execution_count": null,
      "id": "bWxGdHp0ceMz",
      "metadata": {
        "id": "bWxGdHp0ceMz"
      },
      "outputs": [],
      "source": [
        "# Get the topic distributions for the documents\n",
        "topic_distributions = lda.transform(Xc)\n",
        "\n",
        "# Perform dimensionality reduction with PCA\n",
        "scaler = StandardScaler()\n",
        "topic_distributions_scaled = scaler.fit_transform(topic_distributions)\n",
        "\n",
        "pca = PCA(n_components=2, random_state=42)\n",
        "X_pca = pca.fit_transform(topic_distributions_scaled)"
      ]
    },
    {
      "cell_type": "code",
      "execution_count": null,
      "id": "2jQLiJLimKnZ",
      "metadata": {
        "colab": {
          "base_uri": "https://localhost:8080/"
        },
        "id": "2jQLiJLimKnZ",
        "outputId": "68392ff6-5948-4b9b-b768-8f20d9528341"
      },
      "outputs": [
        {
          "data": {
            "text/plain": [
              "array([ 0,  0,  0, ..., 40, 40, 40])"
            ]
          },
          "execution_count": 67,
          "metadata": {},
          "output_type": "execute_result"
        }
      ],
      "source": [
        "pd.factorize(tokens_df['eb+_emot'])[0]"
      ]
    },
    {
      "cell_type": "code",
      "execution_count": null,
      "id": "FnXtR3qojna0",
      "metadata": {
        "colab": {
          "base_uri": "https://localhost:8080/",
          "height": 435
        },
        "id": "FnXtR3qojna0",
        "outputId": "b0148296-3589-426b-b76e-079c09925429"
      },
      "outputs": [
        {
          "data": {
            "image/png": "[encoded data removed]",
            "text/plain": [
              "<Figure size 640x480 with 2 Axes>"
            ]
          },
          "metadata": {},
          "output_type": "display_data"
        }
      ],
      "source": [
        "# Plot the topic distributions in a scatter plot\n",
        "plt.scatter(X_pca[:, 0], X_pca[:, 1], c=pd.factorize(tokens_df['eb+_emot'])[0], cmap='viridis')\n",
        "plt.colorbar()\n",
        "plt.show()"
      ]
    },
    {
      "cell_type": "code",
      "execution_count": null,
      "id": "XvO9alHmEqSz",
      "metadata": {
        "id": "XvO9alHmEqSz"
      },
      "outputs": [],
      "source": [
        "import gensim\n",
        "from gensim.corpora import Dictionary\n",
        "from gensim.matutils import Sparse2Corpus\n",
        "import pandas as pd"
      ]
    },
    {
      "cell_type": "code",
      "execution_count": null,
      "id": "TiwmyQRZEoy7",
      "metadata": {
        "id": "TiwmyQRZEoy7"
      },
      "outputs": [],
      "source": [
        "corpus = Sparse2Corpus(Xf, documents_columns=False)\n",
        "dictionary = Dictionary.from_corpus(corpus, id2word=dict((i,word) for i, word in enumerate(tfidf_vec.get_feature_names_out())))"
      ]
    },
    {
      "cell_type": "code",
      "execution_count": null,
      "id": "43E4_2j1E5T-",
      "metadata": {
        "id": "43E4_2j1E5T-"
      },
      "outputs": [],
      "source": [
        "# Train the LDA model on the corpus\n",
        "lda_model = gensim.models.ldamodel.LdaModel(corpus=corpus, id2word=dictionary, num_topics=n_topics, passes=10)"
      ]
    },
    {
      "cell_type": "code",
      "execution_count": null,
      "id": "-dLPPc8YbcVC",
      "metadata": {
        "id": "-dLPPc8YbcVC"
      },
      "outputs": [],
      "source": [
        "# Print the topics and their keywords\n",
        "for topic in lda_model.print_topics():\n",
        "    print(topic)\n",
        "\n",
        "# Visualize the topics with a graph\n",
        "topics = lda_model.show_topics(formatted=False)\n",
        "fig, ax = plt.subplots(figsize=(8, 6))\n",
        "for topic in topics:\n",
        "    x = [word[0] for word in topic[1]]\n",
        "    y = [word[1] for word in topic[1]]\n",
        "    ax.plot(x, y, label='Topic ' + str(topic[0]))\n",
        "ax.legend()\n",
        "plt.xlabel('Word')\n",
        "plt.ylabel('Probability')\n",
        "plt.show()"
      ]
    },
    {
      "cell_type": "code",
      "execution_count": null,
      "id": "v3U6_sH0dnpz",
      "metadata": {
        "id": "v3U6_sH0dnpz"
      },
      "outputs": [],
      "source": [
        "from pyspark.ml.feature import CountVectorizer, IDF\n",
        "from pyspark.ml.clustering import LDA\n",
        "\n",
        "# Define the number of topics and iterations for LDA\n",
        "num_topics = 41\n",
        "max_iterations = 10\n",
        "\n",
        "# Create a CountVectorizer object to convert text to a bag-of-words vector\n",
        "cv = CountVectorizer(inputCol=\"filtered_tokens\", outputCol=\"raw_features\")\n",
        "\n",
        "# Fit the CountVectorizer model to the data\n",
        "cv_model = cv.fit(df_spark_lda)\n",
        "\n",
        "# Transform the data using the CountVectorizer model\n",
        "df_features = cv_model.transform(df_spark_lda)\n",
        "\n",
        "# Create an IDF object to compute the TF-IDF weights\n",
        "idf = IDF(inputCol=\"raw_features\", outputCol=\"features\")\n",
        "\n",
        "# Fit the IDF model to the data\n",
        "idf_model = idf.fit(df_features)\n",
        "\n",
        "# Transform the data using the IDF model\n",
        "df_tfidf = idf_model.transform(df_features)\n",
        "\n",
        "# Create an LDA object and set its parameters\n",
        "lda = LDA(k=num_topics, maxIter=max_iterations)\n",
        "\n",
        "# Fit the LDA model to the data\n",
        "lda_model = lda.fit(df_tfidf)\n",
        "\n",
        "# Extract the top words in each topic\n",
        "topics = lda_model.describeTopics(maxTermsPerTopic=10)\n",
        "\n",
        "# Show the top words in each topic\n",
        "topics.show()"
      ]
    },
    {
      "cell_type": "code",
      "execution_count": null,
      "id": "Pd6WUEEYhWSw",
      "metadata": {
        "id": "Pd6WUEEYhWSw"
      },
      "outputs": [],
      "source": [
        "df_topics.show()"
      ]
    },
    {
      "cell_type": "code",
      "execution_count": null,
      "id": "T1liBTczghDs",
      "metadata": {
        "id": "T1liBTczghDs"
      },
      "outputs": [],
      "source": [
        "# Extract the topic distributions for each document\n",
        "df_topics = lda_model.transform(df_tfidf)\n",
        "\n",
        "# Convert the topic distributions to a numpy array\n",
        "topics = np.array(df_topics.select(\"topicDistribution\").rdd.map(lambda x: x[0]).collect())\n",
        "\n",
        "# Use a LabelEncoder to convert the topic labels to integers\n",
        "label_encoder = LabelEncoder()\n",
        "labels = label_encoder.fit_transform(df_topics.select(\"eb+_emot\").rdd.map(lambda x: x[0]).collect())\n",
        "\n",
        "# Reduce the dimensionality of the topic distributions using PCA\n",
        "pca = PCA(n_components=2, random_state=42)\n",
        "topics_pca = pca.fit_transform(topics)"
      ]
    },
    {
      "cell_type": "code",
      "execution_count": null,
      "id": "a1J7eQmehj-Y",
      "metadata": {
        "id": "a1J7eQmehj-Y"
      },
      "outputs": [],
      "source": [
        "# Create a scatter plot of the PCA embeddings\n",
        "fig, ax = plt.subplots(figsize=(12, 10))\n",
        "ax.scatter(topics_pca[:, 0], topics_pca[:, 1], c=labels)\n",
        "ax.set_title(\"LDA Clustering with PCA\")\n",
        "ax.set_xlabel(\"PCA Component 1\")\n",
        "ax.set_ylabel(\"PCA Component 2\")"
      ]
    },
    {
      "cell_type": "code",
      "execution_count": null,
      "id": "jPiNqfg30kIr",
      "metadata": {
        "id": "jPiNqfg30kIr"
      },
      "outputs": [],
      "source": [
        "print(len(labels))"
      ]
    },
    {
      "cell_type": "code",
      "execution_count": null,
      "id": "m2QlrFfDk0jR",
      "metadata": {
        "id": "m2QlrFfDk0jR"
      },
      "outputs": [],
      "source": [
        "from sklearn.preprocessing import LabelEncoder\n",
        "\n",
        "# Create a scatter plot of the PCA embeddings with a larger plot size\n",
        "fig, ax = plt.subplots(figsize=(12, 10))\n",
        "# Plot the markers and annotate them with text labels\n",
        "for i in range(num_topics):\n",
        "    ax.scatter(topics_pca[labels==i, 0], topics_pca[labels==i, 1], s=50, cmap='viridis', alpha=0.5, label=\"Cluster \"+str(i))\n",
        "    ax.annotate(str(i), (topics_pca[i, 0], topics_pca[i, 1]))\n",
        "ax.set_title(\"LDA Clustering with PCA\")\n",
        "ax.set_xlabel(\"PCA Component 1\")\n",
        "ax.set_ylabel(\"PCA Component 2\")\n",
        "fig.colorbar(scatter)\n",
        "plt.show()"
      ]
    },
    {
      "cell_type": "code",
      "execution_count": null,
      "id": "aiRsMoEUNz59",
      "metadata": {
        "id": "aiRsMoEUNz59"
      },
      "outputs": [],
      "source": [
        "%%capture\n",
        "!pip install pyspark"
      ]
    },
    {
      "cell_type": "code",
      "execution_count": null,
      "id": "WXXaufIPOv32",
      "metadata": {
        "id": "WXXaufIPOv32"
      },
      "outputs": [],
      "source": [
        "# Create a SparkSession\n",
        "spark_lda = SparkSession.builder.appName('LDA_clustering').config(\"spark.executor.memory\", \"8g\").config(\"spark.executor.instances\", \"4\").config(\"spark.hadoop.fs.defaultFS\", \"hdfs://namenode:8020\").getOrCreate()"
      ]
    },
    {
      "cell_type": "code",
      "execution_count": null,
      "id": "1xBHtPhWOv33",
      "metadata": {
        "id": "1xBHtPhWOv33"
      },
      "outputs": [],
      "source": [
        "# Convert Pandas DataFrame to Spark DataFrame\n",
        "df_spark_lda = spark_lda.createDataFrame(tokens_df)\n",
        "\n",
        "# Show the first few rows of the Spark DataFrame\n",
        "df_spark_lda.show(truncate=False)"
      ]
    },
    {
      "cell_type": "code",
      "execution_count": null,
      "id": "fbEMRlvfQqew",
      "metadata": {
        "id": "fbEMRlvfQqew"
      },
      "outputs": [],
      "source": [
        "# Remove brackets and quotes from filtered_tokens column\n",
        "df_spark_lda = df_spark_lda.withColumn(\"filtered_tokens\", regexp_replace(col(\"filtered_tokens\"), \"[\\[\\]\\']\", \"\"))\n",
        "\n",
        "# Split filtered_tokens column on commas to create an array of strings\n",
        "df_spark_lda = df_spark_lda.withColumn(\"filtered_tokens\", split(col(\"filtered_tokens\"), \", \"))\n",
        "\n",
        "# Show the first few rows of the Spark DataFrame\n",
        "df_spark_lda.show(truncate=False)"
      ]
    },
    {
      "cell_type": "code",
      "execution_count": null,
      "id": "38R2hjys2_N8",
      "metadata": {
        "id": "38R2hjys2_N8"
      },
      "outputs": [],
      "source": [
        "# Compute the term frequency of the words\n",
        "vectorizer = CountVectorizer(inputCol=\"filtered_tokens\", outputCol=\"raw_features\", minDF=min_doc_freq, maxDF=max_doc_freq)\n",
        "vectorizerModel  = vectorizer.fit(df_spark_lda)\n",
        "df_vectorized = vectorizerModel.transform(df_spark_lda)"
      ]
    },
    {
      "cell_type": "code",
      "execution_count": null,
      "id": "RBB1ePaz3UVP",
      "metadata": {
        "id": "RBB1ePaz3UVP"
      },
      "outputs": [],
      "source": [
        "# Compute the IDF (inverse document frequency) of the words\n",
        "idf = IDF(inputCol=\"raw_features\", outputCol=\"features\")\n",
        "idfModel = idf.fit(df_vectorized)\n",
        "df_features = idfModel.transform(df_vectorized)"
      ]
    },
    {
      "cell_type": "code",
      "execution_count": null,
      "id": "b01niZ7ula-F",
      "metadata": {
        "id": "b01niZ7ula-F"
      },
      "outputs": [],
      "source": [
        "df_features.cache()\n",
        "\n",
        "lda = LDA(k=n_topics, maxIter=10, optimizer=\"online\", featuresCol=\"features\")\n",
        "\n",
        "df_features.unpersist()"
      ]
    },
    {
      "cell_type": "code",
      "execution_count": null,
      "id": "lm3XQu4xoyZi",
      "metadata": {
        "id": "lm3XQu4xoyZi"
      },
      "outputs": [],
      "source": [
        "# Tune the hyperparameters of the LDA algorithm\n",
        "lda = LDA(k=n_topics, maxIter=10, optimizer=\"online\", featuresCol=\"features\")\n",
        "\n",
        "# Fit the LDA model\n",
        "lda_model = lda.fit(df_features)"
      ]
    },
    {
      "cell_type": "code",
      "execution_count": null,
      "id": "8BDMR82-c3aP",
      "metadata": {
        "id": "8BDMR82-c3aP"
      },
      "outputs": [],
      "source": [
        "topics.show()"
      ]
    },
    {
      "cell_type": "code",
      "execution_count": null,
      "id": "me9UrBdDb8dk",
      "metadata": {
        "id": "me9UrBdDb8dk"
      },
      "outputs": [],
      "source": [
        "import matplotlib.pyplot as plt\n",
        "import numpy as np\n",
        "\n",
        "# Get the top words in each topic\n",
        "topics = lda_model.describeTopics(maxTermsPerTopic=10)\n",
        "\n",
        "# Extract the top words and their probabilities\n",
        "words = topics.select(\"termIndices\").rdd.flatMap(lambda x: x).collect()\n",
        "probs = topics.select(\"termWeights\").rdd.flatMap(lambda x: x).collect()\n",
        "\n",
        "# Check if there are any topics\n",
        "num_topics = len(words) // 10\n",
        "if num_topics == 0:\n",
        "    print(\"No topics found\")\n",
        "else:\n",
        "    # Create a horizontal bar chart for each topic\n",
        "    fig, axs = plt.subplots(num_topics, 1, figsize=(6, num_topics * 0.5))\n",
        "\n",
        "    for i in range(num_topics):\n",
        "        # Get the top words and their probabilities for this topic\n",
        "        topic_words = [vocab[int(idx)] for idx in words[i*10:(i+1)*10]]\n",
        "        topic_probs = probs[i*10:(i+1)*10]\n",
        "\n",
        "        # Plot the top words and their probabilities as a horizontal bar chart\n",
        "        y_pos = np.arange(len(topic_words))\n",
        "        axs[i].barh(y_pos, topic_probs, align='center')\n",
        "        axs[i].set_yticks(y_pos)\n",
        "        axs[i].set_yticklabels(topic_words)\n",
        "        axs[i].invert_yaxis() \n",
        "        axs[i].set_xlabel('Probability')\n",
        "        axs[i].set_title('Topic ' + str(i+1))\n",
        "\n",
        "    plt.tight_layout()\n",
        "    plt.show()"
      ]
    },
    {
      "cell_type": "code",
      "execution_count": null,
      "id": "BM2E51KrsFzT",
      "metadata": {
        "id": "BM2E51KrsFzT"
      },
      "outputs": [],
      "source": [
        "# Fit a CountVectorizer model to the tokenized data\n",
        "vectorizer = CountVectorizer(inputCol=\"filtered_tokens\", outputCol=\"features\")\n",
        "vectorizerModel = vectorizer.fit(df_spark_lda)\n",
        "countVectors = vectorizerModel.transform(df_spark_lda).select(\"eb+_emot\", \"features\")\n",
        "\n",
        "# Train an LDA model on the count vectors\n",
        "num_topics = 6\n",
        "lda = LDA(k=num_topics, maxIter=10)\n",
        "lda_model = lda.fit(countVectors)\n",
        "\n",
        "# Transform the count vectors into a DataFrame of topic distributions\n",
        "transformed = lda_model.transform(countVectors)\n",
        "topic_distribution = transformed.select(\"eb+_emot\", \"topicDistribution\")\n",
        "\n",
        "# Join the topic distribution DataFrame with the original DataFrame\n",
        "result = df_spark_lda.join(topic_distribution, \"eb+_emot\")\n",
        "result.show()"
      ]
    },
    {
      "cell_type": "code",
      "execution_count": null,
      "id": "nhv6-jhVlL-N",
      "metadata": {
        "id": "nhv6-jhVlL-N"
      },
      "outputs": [],
      "source": [
        "# Get the topics and their associated word distributions\n",
        "topics = lda_model.describeTopics(maxTermsPerTopic=10)\n",
        "\n",
        "# Arrange the graphs in a 7x6 grid\n",
        "fig, axs = plt.subplots(nrows=7, ncols=6, figsize=(20, 20))\n",
        "\n",
        "# Plot the word distributions for each topic\n",
        "for i in range(topics.count()):\n",
        "    row = i // 6\n",
        "    col = i % 6\n",
        "    topic = topics.select(\"termWeights\", \"termIndices\").where(f\"topic = {i}\").first()\n",
        "    weights = topic['termWeights']\n",
        "    words = [vectorizerModel.vocabulary[idx] for idx in topic['termIndices']]\n",
        "    axs[row, col].bar(words, weights)\n",
        "    axs[row, col].set_title(\"Topic \" + str(i))\n",
        "    plt.setp(axs[row, col].get_xticklabels(), rotation=\"vertical\")\n",
        "\n",
        "# Hide unused subplots\n",
        "for i in range(topics.count(), 7 * 6):\n",
        "    row = i // 6\n",
        "    col = i % 6\n",
        "    axs[row, col].axis('off')\n",
        "\n",
        "# Display the graphs\n",
        "plt.tight_layout()\n",
        "plt.show()"
      ]
    },
    {
      "cell_type": "code",
      "execution_count": null,
      "id": "zK_hkTOAcOub",
      "metadata": {
        "id": "zK_hkTOAcOub"
      },
      "outputs": [],
      "source": [
        "topics = lda_model.describeTopics(maxTermsPerTopic=10)\n",
        "vocabulary = vectorizerModel.vocabulary\n",
        "for row in topics.rdd.collect():\n",
        "    print(\"Topic: {}\".format(row.topic))\n",
        "    for i in range(len(row.termIndices)):\n",
        "        print(\"{}: {}\".format(vocabulary[row.termIndices[i]], row.termWeights[i]))\n",
        "    print(\"\\n\")"
      ]
    },
    {
      "cell_type": "code",
      "execution_count": null,
      "id": "7jMIa0qGE08y",
      "metadata": {
        "id": "7jMIa0qGE08y"
      },
      "outputs": [],
      "source": [
        "import pyLDAvis\n",
        "print(pyLDAvis.__version__)"
      ]
    },
    {
      "cell_type": "code",
      "execution_count": null,
      "id": "KCoJ_2aUFDfk",
      "metadata": {
        "id": "KCoJ_2aUFDfk"
      },
      "outputs": [],
      "source": [
        "!pip install scikit-learn\n",
        "!pip install pyLDAvis"
      ]
    },
    {
      "cell_type": "code",
      "execution_count": null,
      "id": "rL-hxv3NElXk",
      "metadata": {
        "id": "rL-hxv3NElXk"
      },
      "outputs": [],
      "source": [
        "import pyLDAvis\n",
        "\n",
        "# Extract the topic-term distributions and document-topic distributions from the LDA model\n",
        "topic_term_dists = lda_model.topicsMatrix().toArray().T\n",
        "doc_topic_dists = lda_model.transform(df_features).select(\"topicDistribution\").rdd.map(lambda x: x[0].toArray()).collect()\n",
        "\n",
        "# Convert the document-term matrix back to a format that can be used by PyLDAVis\n",
        "vocab = vectorizerModel.vocabulary\n",
        "doc_lengths = df_features.selectExpr(\"size(filtered_tokens) as doc_length\").rdd.map(lambda x: x[0]).collect()\n",
        "term_frequency = df_features.select(\"features\").rdd.flatMap(lambda x: x[0].toArray()).collect()\n",
        "\n",
        "# Create a Pandas DataFrame from the PySpark DataFrame\n",
        "data_pandas = df_features.toPandas()\n",
        "\n",
        "# Define a function to convert the PySpark DataFrame to a format that can be used by PyLDAVis\n",
        "def get_document_topic_distribution(doc_topic_distribution):\n",
        "    return list(doc_topic_distribution)\n",
        "\n",
        "udf_get_document_topic_distribution = udf(get_document_topic_distribution, ArrayType(StringType()))\n",
        "data_pandas['topicDistribution'] = data_pandas['topicDistribution'].apply(lambda x: [float(i) for i in x])\n",
        "data_pandas['document_topic_distribution'] = data_pandas['topicDistribution'].apply(udf_get_document_topic_distribution)\n",
        "\n",
        "# Visualize the topics using PyLDAVis\n",
        "vis_data = pyLDAvis.prepare(topic_term_dists, doc_topic_dists, doc_lengths, vocab, term_frequency)\n",
        "pyLDAvis.display(vis_data)"
      ]
    },
    {
      "cell_type": "markdown",
      "id": "a8ee87fc-4aaf-44bc-bdfe-4b1e7dc03716",
      "metadata": {
        "id": "a8ee87fc-4aaf-44bc-bdfe-4b1e7dc03716"
      },
      "source": [
        "## **Embeddings**"
      ]
    },
    {
      "cell_type": "markdown",
      "id": "oEbaYUCKQAOS",
      "metadata": {
        "id": "oEbaYUCKQAOS"
      },
      "source": [
        "### **Word2Vec**"
      ]
    },
    {
      "cell_type": "markdown",
      "id": "sjDIZBGoQFFm",
      "metadata": {
        "id": "sjDIZBGoQFFm"
      },
      "source": [
        "Let's prepare the dataset for the tokenization under a Word2Vec model. \n",
        "First we need to remove the non-alphabetic characters. \n",
        "We proceed by trasforming everything into lowercase, by removing punctuaction, and by removing sentences that are only 1 word long, since they won't be useful for training the model."
      ]
    },
    {
      "cell_type": "code",
      "execution_count": null,
      "id": "Y8G_L425nA5z",
      "metadata": {
        "colab": {
          "base_uri": "https://localhost:8080/"
        },
        "id": "Y8G_L425nA5z",
        "outputId": "8390a299-5c43-469e-b2f7-9a5d23bde9eb"
      },
      "outputs": [
        {
          "data": {
            "text/plain": [
              "['You moron ! What fool washes diapers by the well !',\n",
              " 'You useless fool !',\n",
              " 'How dare you sleep !',\n",
              " 'Up ! Go and clean the house .',\n",
              " 'Clean the kitchen .',\n",
              " \"I cleaned the kitchen , ma 'am .\",\n",
              " 'Your name means to trust . It also means truth . And endurance . Or it could be god .',\n",
              " \"You were given a great name . You 'd better live up to it .\",\n",
              " \"I 'll go home in the spring once the snow melts .\",\n",
              " \"Listen . No matter how tough it gets I wouldn 't bring shame to you and your dad . I promise I won 't .\",\n",
              " 'Your medicine . Open your mouth .',\n",
              " 'Granny ...',\n",
              " \"Don 't spill it .\",\n",
              " 'Granny !',\n",
              " 'Oshin .',\n",
              " \"Brandon said he 's headed down to Galway .\",\n",
              " \"Craking , Galway , it 's the same thing . He 's really heading down there ...\",\n",
              " 'Hi there , Welcome to the Stockroom .',\n",
              " \"I don 't really work here . I 've never even been to a store like this .\",\n",
              " \"Don 't get me wrong . I 'm not a prude . I like sex .\"]"
            ]
          },
          "execution_count": 4,
          "metadata": {},
          "output_type": "execute_result"
        }
      ],
      "source": [
        "from pandas.core.common import flatten\n",
        "\n",
        "sentences = df['uttr']\n",
        "sentences = list(flatten(sentences))\n",
        "sentences[:20]"
      ]
    },
    {
      "cell_type": "code",
      "execution_count": null,
      "id": "yhMI0BtJQJ1Y",
      "metadata": {
        "id": "yhMI0BtJQJ1Y"
      },
      "outputs": [],
      "source": [
        "tokenized_sentences = [re.sub('\\W', ' ', sentence).lower().split() for sentence in sentences]\n",
        "tokenized_sentences = [sentence for sentence in tokenized_sentences if len(sentence) > 1]"
      ]
    },
    {
      "cell_type": "markdown",
      "id": "6BUTJotAQM0R",
      "metadata": {
        "id": "6BUTJotAQM0R"
      },
      "source": [
        "Loading of the model."
      ]
    },
    {
      "cell_type": "code",
      "execution_count": null,
      "id": "t2Yyhh0qQJnk",
      "metadata": {
        "id": "t2Yyhh0qQJnk"
      },
      "outputs": [],
      "source": [
        "w2v_model = Word2Vec(sentences=tokenized_sentences,\n",
        "                     min_count=20,\n",
        "                     window=5,\n",
        "                     vector_size=300,\n",
        "                     sample=6e-5, \n",
        "                     alpha=0.03, \n",
        "                     min_alpha=0.0007, \n",
        "                     negative=20)"
      ]
    },
    {
      "cell_type": "code",
      "execution_count": null,
      "id": "N1efWXK-QJf6",
      "metadata": {
        "colab": {
          "base_uri": "https://localhost:8080/"
        },
        "id": "N1efWXK-QJf6",
        "outputId": "cefe22cb-8377-48a1-a83a-ae0cba9d9741"
      },
      "outputs": [
        {
          "data": {
            "text/plain": [
              "25983"
            ]
          },
          "execution_count": 7,
          "metadata": {},
          "output_type": "execute_result"
        }
      ],
      "source": [
        "len(w2v_model.wv)  #number of learned vectors"
      ]
    },
    {
      "cell_type": "markdown",
      "id": "Kr82OcvkQkLV",
      "metadata": {
        "id": "Kr82OcvkQkLV"
      },
      "source": [
        "Let's evaluate if the model has learned a significant embedding"
      ]
    },
    {
      "cell_type": "code",
      "execution_count": null,
      "id": "lTj6fcadQJSO",
      "metadata": {
        "colab": {
          "base_uri": "https://localhost:8080/"
        },
        "id": "lTj6fcadQJSO",
        "outputId": "b3ae4b1e-ec12-4f5e-8ff2-ea5916e6108b"
      },
      "outputs": [
        {
          "data": {
            "text/plain": [
              "[('cunt', 0.716732382774353),\n",
              " ('idiot', 0.6909536719322205),\n",
              " ('faggot', 0.6816585063934326),\n",
              " ('retard', 0.6795588731765747),\n",
              " ('asshole', 0.679030179977417),\n",
              " ('fucking', 0.6769351363182068),\n",
              " ('prick', 0.6580446362495422),\n",
              " ('dickhead', 0.6530579924583435),\n",
              " ('cocksucker', 0.6490021347999573),\n",
              " ('mutt', 0.6460972428321838)]"
            ]
          },
          "execution_count": 8,
          "metadata": {},
          "output_type": "execute_result"
        }
      ],
      "source": [
        "term = \"moron\"\n",
        "w2v_model.wv.most_similar(term)"
      ]
    },
    {
      "cell_type": "markdown",
      "id": "4d7S-VAzQvty",
      "metadata": {
        "id": "4d7S-VAzQvty"
      },
      "source": [
        "Visualization of the representation space with TSNE"
      ]
    },
    {
      "cell_type": "code",
      "execution_count": null,
      "id": "SUDUk0q1Qb8v",
      "metadata": {
        "colab": {
          "base_uri": "https://localhost:8080/"
        },
        "id": "SUDUk0q1Qb8v",
        "outputId": "4989eb32-b37f-4677-f071-d6a742fdd753"
      },
      "outputs": [
        {
          "name": "stdout",
          "output_type": "stream",
          "text": [
            "['cig', 'willie', 'measured', 'poses', 'using', 'bandits', 'franc', 'ministers', 'snot', 'pappa', 'sessions', 'prudence', 'weenie', 'whores', 'picker', 'endings', 'trained', 'apricot', 'pepperoni', 'plotting', 'band', 'responsibilities', 'moons', 'widely', 'thunderstorm', 'screams', 'silicone', 'acceptable', 'dyke', 'robo', 'instantaneous', 'frogs', 'nightingale', 'cora', 'transmit', 'talyn', 'gwi', 'fireworks', 'analysis', 'pheasant', 'fie', 'entice', 'pressured', 'brownies', 'ruler', 'crumbled', 'guilders', 'loosened', 'warmth', 'mortis', 'brianna', 'evolution', 'comedy', 'brim', 'horrific', 'bodyguards', 'kidney', 'comm', 'cosima', 'alexandra', 'polls', 'gallop', 'pennsylvania', 'partners', 'chewing', 'delight', 'treat', 'aptitude', 'cinderella', 'ransom', 'wendell', 'eckhart', 'flavors', 'bulbs', 'scrap', 'arrangement', 'ethan', 'reshma', 'foremost', 'schizo', 'clarify', 'scruffy', 'dementia', 'settlements', 'legacy', 'ftl', 'healed', 'holloway', 't', 'ammo', 'aye', 'playtime', '40', 'swore', 'doctor', 'mosley', 'tad', 'klingons', 'caveman', 'chester', 'félix', 'eiji', 'interesting', 'consistently', 'teacher', 'walkie', 'enthusiasm', 'compression', 'sea', 'lieut', 'oranges', 'napping', 'worked', 'criminals', 'managing', 'majority', 'homesick', 'sheri', 'boa', 'connected', 'connie', 'knowwhat', 'surprises', 'gentry', 'bronson', 'arang', 'smear', 'shanti', 'bodily', 'shootings', 'useful', 'strife', 'timeline', 'crows', 'hitching', 'midori', 'cheapest', 'equality', 'grandchild', 'scrawny', 'princeton', 'dirtied', 'back', 'proceedings', 'shone', 'convict', 'serial', 'offensive', 'naughty', 'webber', 'mikado', 'alison', 'rush', 'appeals', 'meteor', 'rigs', 'malcolm', 'captain', 'awol', 'bashed', 'irv', 'courier', 'attractions', 'nylon', 'smokes', 'soak', 'lebanon', 'improvised', 'crossword', 'lowering', 'lars', 'popov', 'eraser', 'punish', 'shampoo', 'pernell', 'disappointed', 'osman', 'misuse', 'paradise', 'lazy', 'so', 'clemens', 'horribly', 'typewriter', 'healthy', 'libby', 'protector', 'shady', 'lobe', 'dissertation', 'doubling', 'rosetta', 'catwalk', 'proves', 'prosperity', 'thicker', 'administer', 'dominant', 'nikolai', 'figs', 'encouraging', 'colds', 'bit', 'depleted', 'chilled', 'horne', 'napkins', 'calmed', 'thieves', 'sensory', 'forbes', 'storey', 'anomaly', 'toil', 'pathology', 'beyond', 'salute', 'flips', 'sr', 'shun', 'arrange', 'buster', 'topsy', 'roommate', 'circuit', 'tomato', 'simmer', 'chateau', 'hou', 'abduct', 'ts', 'hughes', 'beware', 'aneurysm', 'ver', 'auditorium', 'struggle', 'specimen', 'venom', 'nostrils', 'catty', 'freund', 'aims', 'crossfire', 'basin', 'myles', 'skis', 'parasites', 'harem', 'vitality', 'gérard', 'institution', 'singers', 'accompany', 'seatbelts', 'luka', 'worried', 'raffaele', 'spells', 'concert', 'ltd', 'immense', 'thriving', 'bess', 'creams', 'unload', 'hiccups', 'motivation', 'scheming', 'rig', 'traitorous', 'garrow', 'yard', 'theoretically', 'australians', 'doubles', 'campaign', 'vee', '20', 'for', 'romain', 'showered', 'battery', 'meade', 'smallest', 'jeremiah', 'femme', 'artifact', 'lieutenants', 'kowloon', 'crib', '56', 'hub', 'search', 'disability', 'disturbed', 'iwo', 'caste', 'miserable', 'strolling', 'sabrina', 'relieve', 'drunks', 'ljust', 'endearing', 'backup', 'twinkle', 'enormously', 'myself', 'uneven', 'bottled', 'danube', 'whoo', 'mumbo', 'aftermath', 'hedges', 'secure', 'geoffrey', '250', 'superstition', 'lockhart', 'ado', 'pad', 'cremation', 'spain', 'python', 'publish', 'shagging', 'treachery', 'captains', 'department', 'visibility', 'shelf', 'weights', 'haze', 'vanishing', 'morrow', 'brooklyn', 'immoral', 'moreno', 'regroup', 'dubious', 'hymns', 'previous', 'oughta', 'carnal', 'irons', 'progressing', 'coz', 'noelle', 'sebastian', 'tracking', 'finder', 'tactic', 'mathis', 'uptight', 'scrubs', 'ready', 'unseemly', 'cyrus', 'education', 'amazed', 'ballpark', 'rook', 'ruddy', 'jubilee', 'go', 'sokka', 'socket', 'predators', 'suave', 'gogo', 'truman', 'quince', 'oishi', 'junior', 'gabrielle', 'hovering', 'venomous', 'office', 'come', 'monty', 'candace', 'excuse', 'unreliable', 'joke', 'inhabit', 'leslie', 'language', 'strikes', 'skate', 'redo', 'gracias', 'pros', 'samson', 'tingle', 'assumed', 'socialist', 'bajor', 'locating', 'watched', 'tense', 'neville', 'aisle', 'date', 'lever', 'interference', 'cellphone', 'spotter', 'seer', 'kinds', 'ryan', 'quixote', 'je', 'transgression', 'trail', 'warms', 'cholesterol', 'ah', 'dealt', 'tha', 'marx', 'digging', 'lombardo', 'rhea', 'overweight', 'kerrigan', 'bump', '0f', 'disposed', 'science', 'indicated', 'seeking', 'volts', 'nigh', 'paragraph', 'ehh', 'exquisite', 'prepped', 'wrist', 'mins', 'snuff', 'mehta', 'marvel', 'rapist', 'dining', 'girls', 'hollywood', 'edgar', 'motive', 'tempura', 'tempted', 'fantasize', 'anaesthetic', 'spines', 'distinct', 'climax', 'stacks', 'tokens', 'pence', 'caitlin', 'gently', 'thermal', 'anonymous', 'uncertain', 'rolled', 'eyebrow', 'siege', 'later', 'bulk', 'future', 'upright', 'dew', 'hurting', 'enrico', 'dairy', 'regret', 'smile', 'academic', 'volker', 'specify', 'scapegoat', 'shouting', 'awesome', 'juices', 'sharing', 'imaginative', '45', 'thigh', 'hol', 'valdez', 'pak', 'migraine', 'fleed', 'haha', 'walks', 'mistakes', 'less', 'promoting']\n"
          ]
        }
      ],
      "source": [
        "sample = random.sample(list(w2v_model.wv.key_to_index), 500)\n",
        "print(sample)\n",
        "\n",
        "word_vectors = w2v_model.wv[sample]\n",
        "\n",
        "tsne = TSNE(n_components=3, n_iter=2000)\n",
        "tsne_embedding = tsne.fit_transform(word_vectors)\n",
        "x, y, z = np.transpose(tsne_embedding)"
      ]
    },
    {
      "cell_type": "code",
      "execution_count": null,
      "id": "UBdKtKmMQ4_r",
      "metadata": {
        "colab": {
          "base_uri": "https://localhost:8080/",
          "height": 542
        },
        "id": "UBdKtKmMQ4_r",
        "outputId": "b5ed1d92-ca81-4322-d700-24e47725dcd7"
      },
      "outputs": [
        {
          "data": {
            "text/html": [
              "<html>\n",
              "<head><meta charset=\"utf-8\" /></head>\n",
              "<body>\n",
              "    <div>            <script src=\"https://cdnjs.cloudflare.com/ajax/libs/mathjax/2.7.5/MathJax.js?config=TeX-AMS-MML_SVG\"></script><script type=\"text/javascript\">if (window.MathJax && window.MathJax.Hub && window.MathJax.Hub.Config) {window.MathJax.Hub.Config({SVG: {font: \"STIX-Web\"}});}</script>                <script type=\"text/javascript\">window.PlotlyConfig = {MathJaxConfig: 'local'};</script>\n",
              "        <script src=\"https://cdn.plot.ly/plotly-2.18.2.min.js\"></script>                <div id=\"e17b9d87-77bb-4392-af79-29e61f865e81\" class=\"plotly-graph-div\" style=\"height:525px; width:100%;\"></div>            <script type=\"text/javascript\">                                    window.PLOTLYENV=window.PLOTLYENV || {};                                    if (document.getElementById(\"e17b9d87-77bb-4392-af79-29e61f865e81\")) {                    Plotly.newPlot(                        \"e17b9d87-77bb-4392-af79-29e61f865e81\",                        [{\"hovertemplate\":\"x=%{x}<br>y=%{y}<br>z=%{z}<br>text=%{text}<extra></extra>\",\"legendgroup\":\"\",\"marker\":{\"color\":\"#636efa\",\"symbol\":\"circle\",\"line\":{\"width\":2},\"size\":3},\"mode\":\"markers+text\",\"name\":\"\",\"scene\":\"scene\",\"showlegend\":false,\"text\":[\"cig\",\"willie\",\"measured\",\"poses\",\"using\",\"bandits\",\"franc\",\"ministers\",\"snot\",\"pappa\",\"sessions\",\"prudence\",\"weenie\",\"whores\",\"picker\",\"endings\",\"trained\",\"apricot\",\"pepperoni\",\"plotting\",\"band\",\"responsibilities\",\"moons\",\"widely\",\"thunderstorm\",\"screams\",\"silicone\",\"acceptable\",\"dyke\",\"robo\",\"instantaneous\",\"frogs\",\"nightingale\",\"cora\",\"transmit\",\"talyn\",\"gwi\",\"fireworks\",\"analysis\",\"pheasant\",\"fie\",\"entice\",\"pressured\",\"brownies\",\"ruler\",\"crumbled\",\"guilders\",\"loosened\",\"warmth\",\"mortis\",\"brianna\",\"evolution\",\"comedy\",\"brim\",\"horrific\",\"bodyguards\",\"kidney\",\"comm\",\"cosima\",\"alexandra\",\"polls\",\"gallop\",\"pennsylvania\",\"partners\",\"chewing\",\"delight\",\"treat\",\"aptitude\",\"cinderella\",\"ransom\",\"wendell\",\"eckhart\",\"flavors\",\"bulbs\",\"scrap\",\"arrangement\",\"ethan\",\"reshma\",\"foremost\",\"schizo\",\"clarify\",\"scruffy\",\"dementia\",\"settlements\",\"legacy\",\"ftl\",\"healed\",\"holloway\",\"t\",\"ammo\",\"aye\",\"playtime\",\"40\",\"swore\",\"doctor\",\"mosley\",\"tad\",\"klingons\",\"caveman\",\"chester\",\"f\\u00e9lix\",\"eiji\",\"interesting\",\"consistently\",\"teacher\",\"walkie\",\"enthusiasm\",\"compression\",\"sea\",\"lieut\",\"oranges\",\"napping\",\"worked\",\"criminals\",\"managing\",\"majority\",\"homesick\",\"sheri\",\"boa\",\"connected\",\"connie\",\"knowwhat\",\"surprises\",\"gentry\",\"bronson\",\"arang\",\"smear\",\"shanti\",\"bodily\",\"shootings\",\"useful\",\"strife\",\"timeline\",\"crows\",\"hitching\",\"midori\",\"cheapest\",\"equality\",\"grandchild\",\"scrawny\",\"princeton\",\"dirtied\",\"back\",\"proceedings\",\"shone\",\"convict\",\"serial\",\"offensive\",\"naughty\",\"webber\",\"mikado\",\"alison\",\"rush\",\"appeals\",\"meteor\",\"rigs\",\"malcolm\",\"captain\",\"awol\",\"bashed\",\"irv\",\"courier\",\"attractions\",\"nylon\",\"smokes\",\"soak\",\"lebanon\",\"improvised\",\"crossword\",\"lowering\",\"lars\",\"popov\",\"eraser\",\"punish\",\"shampoo\",\"pernell\",\"disappointed\",\"osman\",\"misuse\",\"paradise\",\"lazy\",\"so\",\"clemens\",\"horribly\",\"typewriter\",\"healthy\",\"libby\",\"protector\",\"shady\",\"lobe\",\"dissertation\",\"doubling\",\"rosetta\",\"catwalk\",\"proves\",\"prosperity\",\"thicker\",\"administer\",\"dominant\",\"nikolai\"],\"x\":[66.7339859008789,50.957828521728516,-23.655244827270508,-39.21465301513672,-10.654646873474121,-37.588565826416016,23.26506996154785,-102.47048950195312,73.38060760498047,29.84362030029297,-64.19629669189453,-114.75153350830078,39.082889556884766,9.26508903503418,54.74708557128906,-29.23492431640625,-53.56203842163086,34.091529846191406,55.424888610839844,-37.837127685546875,-14.971192359924316,-82.06970977783203,-16.701976776123047,-28.868457794189453,7.376326560974121,101.48857879638672,50.002872467041016,-36.057498931884766,10.106717109680176,7.187516689300537,15.703412055969238,13.612570762634277,-16.8116512298584,15.829606056213379,-11.104711532592773,-22.462827682495117,-35.7492561340332,19.48770523071289,-32.50831985473633,23.186460494995117,-1.5776525735855103,0.554516077041626,-26.042875289916992,55.449832916259766,-82.23387908935547,-19.54029083251953,31.14189338684082,11.614360809326172,-34.49576187133789,34.11851119995117,24.04642105102539,-59.56557083129883,-19.919795989990234,51.890438079833984,-39.46983337402344,-35.920047760009766,-2.0073349475860596,0.45254579186439514,11.274090766906738,9.327648162841797,-10.7610445022583,21.06903076171875,-54.800758361816406,-110.68610382080078,80.19844818115234,-31.13381576538086,-94.27281951904297,-49.0184440612793,-19.14473533630371,-89.17213439941406,21.686641693115234,-22.209308624267578,41.45911407470703,76.37227630615234,78.98180389404297,-68.91814422607422,60.90745544433594,14.180989265441895,-64.90116882324219,42.0711784362793,-59.13625717163086,52.466636657714844,-73.3089828491211,-6.701031684875488,-64.38105010986328,16.275196075439453,20.031089782714844,13.237740516662598,77.56254577636719,53.84634017944336,25.51354217529297,29.92450714111328,39.67548751831055,-95.63340759277344,-71.10929107666016,12.84161376953125,94.326904296875,-15.755476951599121,41.212318420410156,34.00027084350586,5.702548503875732,14.271684646606445,-16.330108642578125,-30.58769416809082,-90.5026626586914,37.93370056152344,-46.038848876953125,17.32118034362793,8.410717964172363,-5.546863079071045,49.18086242675781,32.62746810913086,-49.06132888793945,-50.62324523925781,-50.43912124633789,-92.47331237792969,-5.106032848358154,18.89128303527832,15.838041305541992,-45.38806915283203,32.505714416503906,22.21866798400879,-49.754661560058594,34.402042388916016,18.643342971801758,-19.154356002807617,35.65272903442383,-25.7146053314209,-15.659475326538086,-33.03330993652344,-44.462669372558594,-72.50614166259766,-15.289487838745117,15.046452522277832,26.960933685302734,-35.97019577026367,49.383872985839844,-84.39785766601562,-43.19111251831055,61.2005500793457,-66.11089324951172,39.15167236328125,33.00205612182617,-67.22734069824219,-18.071643829345703,-62.61753463745117,-73.3884506225586,-25.632579803466797,36.314205169677734,14.959525108337402,-11.18668270111084,46.480140686035156,24.836009979248047,-56.049415588378906,-3.7812178134918213,18.13785743713379,39.65691375732422,-6.635012149810791,13.266270637512207,98.67278289794922,20.740673065185547,-78.48902130126953,11.691596031188965,40.22206115722656,73.2909927368164,36.27688980102539,16.364120483398438,13.558624267578125,10.840217590332031,23.198366165161133,27.528715133666992,-24.82246971130371,51.388946533203125,-90.97200775146484,56.74440002441406,5.9168853759765625,85.52487182617188,-7.662353992462158,-55.671817779541016,-37.354095458984375,75.81379699707031,94.14273834228516,28.099145889282227,94.14763641357422,22.27069854736328,-31.947715759277344,29.672691345214844,-85.66368103027344,2.344245195388794,-1.7168301343917847,21.11412811279297,3.081139326095581,-8.233421325683594,12.787960052490234,-68.98249816894531,-56.24197006225586,60.473419189453125,-75.30592346191406,-47.38477325439453,-18.72904396057129],\"y\":[28.136377334594727,-57.467437744140625,76.1182632446289,5.00098991394043,72.33488464355469,-27.757322311401367,-18.93763542175293,10.818009376525879,15.853161811828613,-26.59934425354004,-2.783877372741699,10.567748069763184,10.294889450073242,16.880395889282227,23.025691986083984,6.912230014801025,-9.930036544799805,45.53994369506836,64.32135772705078,-50.496055603027344,-22.36935043334961,44.93492126464844,47.76615524291992,21.831342697143555,10.986589431762695,-17.676353454589844,56.763160705566406,50.00050354003906,-81.51869201660156,81.41669464111328,60.59482955932617,83.21466064453125,-46.1460075378418,-77.28749084472656,34.51944351196289,7.488373279571533,-65.38330078125,-28.843915939331055,51.7569694519043,5.759549617767334,30.075042724609375,-3.251624345779419,-31.681358337402344,51.60464096069336,64.88948059082031,27.545677185058594,-12.622733116149902,36.67560958862305,28.120864868164062,48.974971771240234,-85.32670593261719,69.27589416503906,-10.96772289276123,40.615440368652344,27.850872039794922,-17.759843826293945,89.99998474121094,39.545745849609375,-39.142940521240234,-99.9134750366211,-1.412939190864563,0.47132641077041626,-42.47075271606445,-12.866262435913086,29.114952087402344,71.76268005371094,-19.497434616088867,13.15281867980957,-31.22369956970215,-48.102333068847656,-63.39887619018555,-0.9993268847465515,74.44229888916016,39.29495620727539,59.33241271972656,30.04656982421875,-83.61328887939453,-24.867755889892578,0.10491610318422318,-14.17337417602539,18.875839233398438,3.705171585083008,25.34503746032715,28.884647369384766,56.94633865356445,33.90621566772461,77.01231384277344,-81.04012298583984,-38.82647705078125,24.84234046936035,-51.50775909423828,-40.47114944458008,27.021743774414062,33.40931701660156,13.03676986694336,-52.28676223754883,3.942211866378784,33.53033447265625,1.171083927154541,-53.622535705566406,-58.1303596496582,-34.788753509521484,41.589942932128906,5.038012981414795,-25.577800750732422,43.24536895751953,19.31812858581543,46.02456283569336,99.58424377441406,-19.807085037231445,62.535160064697266,-23.08453369140625,-26.109155654907227,-36.992801666259766,-31.729114532470703,19.76247215270996,10.02196979522705,-47.652137756347656,-27.437822341918945,64.81533813476562,-76.04386901855469,-33.39830017089844,13.224104881286621,-40.64665985107422,-56.99784469604492,-21.957324981689453,37.94175338745117,-50.003726959228516,8.829754829406738,4.533771514892578,62.97832489013672,43.83903503417969,13.276419639587402,73.07333374023438,-1.8927069902420044,-68.38945770263672,30.037839889526367,12.707069396972656,-46.87500762939453,9.833651542663574,-41.082557678222656,31.564594268798828,1.806148648262024,-25.982471466064453,55.75535583496094,-33.818115234375,-46.66236877441406,71.50397491455078,6.523674011230469,-93.11918640136719,-14.404805183410645,-97.02247619628906,-52.90768051147461,-17.871503829956055,58.29658889770508,20.51294708251953,-90.63728332519531,-12.668776512145996,-58.28145217895508,25.460683822631836,-29.88286781311035,-56.664710998535156,3.972189426422119,56.09809112548828,52.43709182739258,62.53432846069336,-36.88286590576172,20.627710342407227,3.355334997177124,27.7602481842041,-58.75564193725586,-19.40392303466797,26.53281593322754,14.675504684448242,60.38901138305664,-34.83392333984375,0.2083062380552292,-55.61018753051758,1.2453691959381104,86.27629852294922,7.3011345863342285,-18.620800018310547,-37.249080657958984,-23.88546371459961,-12.34791374206543,51.406883239746094,-91.17571258544922,50.79901123046875,43.46991729736328,76.0527114868164,-9.218303680419922,15.406457901000977,-39.23688507080078,-17.698110580444336,6.982179164886475,79.65493774414062,68.20809936523438,2.1512575149536133,61.6320915222168,-70.47018432617188],\"z\":[-0.6990430951118469,-46.31098556518555,29.15321159362793,14.155463218688965,67.43136596679688,69.09339141845703,78.10189056396484,-3.437392473220825,-43.76649856567383,-18.100759506225586,25.599464416503906,20.777462005615234,-38.11946487426758,-86.89020538330078,-27.72908592224121,-61.78240203857422,71.11593627929688,-37.214454650878906,-41.415794372558594,57.95381164550781,-96.05009460449219,-4.038200378417969,3.762850761413574,-29.167255401611328,6.261804103851318,2.788447856903076,1.1551487445831299,-61.42774963378906,51.893394470214844,14.138993263244629,21.21739387512207,-29.232213973999023,-73.9528579711914,15.90330982208252,79.23151397705078,49.66091537475586,52.602745056152344,-88.50467681884766,75.69723510742188,-30.404020309448242,-21.626131057739258,11.685691833496094,26.4056339263916,-45.04666519165039,-25.413394927978516,15.697593688964844,82.31123352050781,14.316471099853516,-84.76362609863281,27.314067840576172,-2.898113489151001,16.64253807067871,-63.98027801513672,-16.529964447021484,15.635055541992188,58.780921936035156,43.213661193847656,72.76351928710938,-2.1299259662628174,12.580726623535156,29.375635147094727,10.968876838684082,-56.596763610839844,-3.9425275325775146,-45.17425537109375,-22.687467575073242,49.828861236572266,-1.6711798906326294,-43.482357025146484,12.637155532836914,-4.7707839012146,14.189485549926758,-41.53941345214844,5.4368743896484375,-24.119382858276367,14.510976791381836,4.508418560028076,-9.697986602783203,-0.6367461085319519,-33.80508041381836,19.152475357055664,-51.57326889038086,40.26230239868164,23.72174644470215,-13.450573921203613,52.516090393066406,34.09739685058594,-25.414825439453125,51.04878616333008,45.62267303466797,76.25094604492188,-80.16685485839844,88.314208984375,-40.04436492919922,63.40201187133789,-13.317683219909668,33.47256088256836,39.20676803588867,6.650601863861084,-35.682491302490234,1.6579004526138306,-24.01752471923828,-59.98819351196289,-4.437989234924316,-11.425347328186035,52.56770324707031,-47.47841262817383,36.47287368774414,-15.00143814086914,25.603023529052734,-59.58439254760742,21.622455596923828,-39.99934387207031,70.25273895263672,19.30089569091797,5.77846622467041,-63.033477783203125,9.018830299377441,54.139564514160156,40.97580337524414,11.412120819091797,-42.04909896850586,-60.6675910949707,42.471038818359375,-30.915346145629883,-6.71165657043457,4.75897741317749,-3.7663230895996094,65.36883544921875,32.637413024902344,-58.714019775390625,-22.914766311645508,32.2464599609375,-11.222089767456055,26.265661239624023,8.986647605895996,-71.5622787475586,-3.402453899383545,-28.487455368041992,-30.85533905029297,-42.080936431884766,-34.70546340942383,-102.44313049316406,3.004930019378662,-13.971217155456543,44.72718048095703,46.09840393066406,53.59732437133789,-67.08248901367188,-35.648582458496094,-22.331697463989258,-7.214334964752197,-68.70957946777344,1.7162784337997437,32.69877624511719,2.424142360687256,-41.277122497558594,77.74476623535156,36.80506896972656,-7.656198978424072,7.6191487312316895,0.6484200358390808,26.33578872680664,-23.332298278808594,-46.08671569824219,-4.542518138885498,30.609731674194336,19.55438995361328,-48.44777297973633,35.19913864135742,20.78780174255371,12.642647743225098,-1.1776381731033325,-43.83052444458008,-14.822799682617188,15.312095642089844,60.77544021606445,-9.336373329162598,11.892260551452637,-24.469369888305664,-55.224918365478516,32.523277282714844,-3.715704917907715,17.7270450592041,-64.1806411743164,-75.38695526123047,-18.861623764038086,-29.30990219116211,-79.43789672851562,44.94145965576172,-50.39523696899414,36.13504409790039,23.584514617919922,18.87495994567871,-28.482467651367188,-22.345930099487305,4.555832862854004,52.43512725830078,21.025924682617188,-6.778532981872559],\"type\":\"scatter3d\",\"textfont\":{\"size\":10}}],                        {\"template\":{\"data\":{\"histogram2dcontour\":[{\"type\":\"histogram2dcontour\",\"colorbar\":{\"outlinewidth\":0,\"ticks\":\"\"},\"colorscale\":[[0.0,\"#0d0887\"],[0.1111111111111111,\"#46039f\"],[0.2222222222222222,\"#7201a8\"],[0.3333333333333333,\"#9c179e\"],[0.4444444444444444,\"#bd3786\"],[0.5555555555555556,\"#d8576b\"],[0.6666666666666666,\"#ed7953\"],[0.7777777777777778,\"#fb9f3a\"],[0.8888888888888888,\"#fdca26\"],[1.0,\"#f0f921\"]]}],\"choropleth\":[{\"type\":\"choropleth\",\"colorbar\":{\"outlinewidth\":0,\"ticks\":\"\"}}],\"histogram2d\":[{\"type\":\"histogram2d\",\"colorbar\":{\"outlinewidth\":0,\"ticks\":\"\"},\"colorscale\":[[0.0,\"#0d0887\"],[0.1111111111111111,\"#46039f\"],[0.2222222222222222,\"#7201a8\"],[0.3333333333333333,\"#9c179e\"],[0.4444444444444444,\"#bd3786\"],[0.5555555555555556,\"#d8576b\"],[0.6666666666666666,\"#ed7953\"],[0.7777777777777778,\"#fb9f3a\"],[0.8888888888888888,\"#fdca26\"],[1.0,\"#f0f921\"]]}],\"heatmap\":[{\"type\":\"heatmap\",\"colorbar\":{\"outlinewidth\":0,\"ticks\":\"\"},\"colorscale\":[[0.0,\"#0d0887\"],[0.1111111111111111,\"#46039f\"],[0.2222222222222222,\"#7201a8\"],[0.3333333333333333,\"#9c179e\"],[0.4444444444444444,\"#bd3786\"],[0.5555555555555556,\"#d8576b\"],[0.6666666666666666,\"#ed7953\"],[0.7777777777777778,\"#fb9f3a\"],[0.8888888888888888,\"#fdca26\"],[1.0,\"#f0f921\"]]}],\"heatmapgl\":[{\"type\":\"heatmapgl\",\"colorbar\":{\"outlinewidth\":0,\"ticks\":\"\"},\"colorscale\":[[0.0,\"#0d0887\"],[0.1111111111111111,\"#46039f\"],[0.2222222222222222,\"#7201a8\"],[0.3333333333333333,\"#9c179e\"],[0.4444444444444444,\"#bd3786\"],[0.5555555555555556,\"#d8576b\"],[0.6666666666666666,\"#ed7953\"],[0.7777777777777778,\"#fb9f3a\"],[0.8888888888888888,\"#fdca26\"],[1.0,\"#f0f921\"]]}],\"contourcarpet\":[{\"type\":\"contourcarpet\",\"colorbar\":{\"outlinewidth\":0,\"ticks\":\"\"}}],\"contour\":[{\"type\":\"contour\",\"colorbar\":{\"outlinewidth\":0,\"ticks\":\"\"},\"colorscale\":[[0.0,\"#0d0887\"],[0.1111111111111111,\"#46039f\"],[0.2222222222222222,\"#7201a8\"],[0.3333333333333333,\"#9c179e\"],[0.4444444444444444,\"#bd3786\"],[0.5555555555555556,\"#d8576b\"],[0.6666666666666666,\"#ed7953\"],[0.7777777777777778,\"#fb9f3a\"],[0.8888888888888888,\"#fdca26\"],[1.0,\"#f0f921\"]]}],\"surface\":[{\"type\":\"surface\",\"colorbar\":{\"outlinewidth\":0,\"ticks\":\"\"},\"colorscale\":[[0.0,\"#0d0887\"],[0.1111111111111111,\"#46039f\"],[0.2222222222222222,\"#7201a8\"],[0.3333333333333333,\"#9c179e\"],[0.4444444444444444,\"#bd3786\"],[0.5555555555555556,\"#d8576b\"],[0.6666666666666666,\"#ed7953\"],[0.7777777777777778,\"#fb9f3a\"],[0.8888888888888888,\"#fdca26\"],[1.0,\"#f0f921\"]]}],\"mesh3d\":[{\"type\":\"mesh3d\",\"colorbar\":{\"outlinewidth\":0,\"ticks\":\"\"}}],\"scatter\":[{\"fillpattern\":{\"fillmode\":\"overlay\",\"size\":10,\"solidity\":0.2},\"type\":\"scatter\"}],\"parcoords\":[{\"type\":\"parcoords\",\"line\":{\"colorbar\":{\"outlinewidth\":0,\"ticks\":\"\"}}}],\"scatterpolargl\":[{\"type\":\"scatterpolargl\",\"marker\":{\"colorbar\":{\"outlinewidth\":0,\"ticks\":\"\"}}}],\"bar\":[{\"error_x\":{\"color\":\"#2a3f5f\"},\"error_y\":{\"color\":\"#2a3f5f\"},\"marker\":{\"line\":{\"color\":\"#E5ECF6\",\"width\":0.5},\"pattern\":{\"fillmode\":\"overlay\",\"size\":10,\"solidity\":0.2}},\"type\":\"bar\"}],\"scattergeo\":[{\"type\":\"scattergeo\",\"marker\":{\"colorbar\":{\"outlinewidth\":0,\"ticks\":\"\"}}}],\"scatterpolar\":[{\"type\":\"scatterpolar\",\"marker\":{\"colorbar\":{\"outlinewidth\":0,\"ticks\":\"\"}}}],\"histogram\":[{\"marker\":{\"pattern\":{\"fillmode\":\"overlay\",\"size\":10,\"solidity\":0.2}},\"type\":\"histogram\"}],\"scattergl\":[{\"type\":\"scattergl\",\"marker\":{\"colorbar\":{\"outlinewidth\":0,\"ticks\":\"\"}}}],\"scatter3d\":[{\"type\":\"scatter3d\",\"line\":{\"colorbar\":{\"outlinewidth\":0,\"ticks\":\"\"}},\"marker\":{\"colorbar\":{\"outlinewidth\":0,\"ticks\":\"\"}}}],\"scattermapbox\":[{\"type\":\"scattermapbox\",\"marker\":{\"colorbar\":{\"outlinewidth\":0,\"ticks\":\"\"}}}],\"scatterternary\":[{\"type\":\"scatterternary\",\"marker\":{\"colorbar\":{\"outlinewidth\":0,\"ticks\":\"\"}}}],\"scattercarpet\":[{\"type\":\"scattercarpet\",\"marker\":{\"colorbar\":{\"outlinewidth\":0,\"ticks\":\"\"}}}],\"carpet\":[{\"aaxis\":{\"endlinecolor\":\"#2a3f5f\",\"gridcolor\":\"white\",\"linecolor\":\"white\",\"minorgridcolor\":\"white\",\"startlinecolor\":\"#2a3f5f\"},\"baxis\":{\"endlinecolor\":\"#2a3f5f\",\"gridcolor\":\"white\",\"linecolor\":\"white\",\"minorgridcolor\":\"white\",\"startlinecolor\":\"#2a3f5f\"},\"type\":\"carpet\"}],\"table\":[{\"cells\":{\"fill\":{\"color\":\"#EBF0F8\"},\"line\":{\"color\":\"white\"}},\"header\":{\"fill\":{\"color\":\"#C8D4E3\"},\"line\":{\"color\":\"white\"}},\"type\":\"table\"}],\"barpolar\":[{\"marker\":{\"line\":{\"color\":\"#E5ECF6\",\"width\":0.5},\"pattern\":{\"fillmode\":\"overlay\",\"size\":10,\"solidity\":0.2}},\"type\":\"barpolar\"}],\"pie\":[{\"automargin\":true,\"type\":\"pie\"}]},\"layout\":{\"autotypenumbers\":\"strict\",\"colorway\":[\"#636efa\",\"#EF553B\",\"#00cc96\",\"#ab63fa\",\"#FFA15A\",\"#19d3f3\",\"#FF6692\",\"#B6E880\",\"#FF97FF\",\"#FECB52\"],\"font\":{\"color\":\"#2a3f5f\"},\"hovermode\":\"closest\",\"hoverlabel\":{\"align\":\"left\"},\"paper_bgcolor\":\"white\",\"plot_bgcolor\":\"#E5ECF6\",\"polar\":{\"bgcolor\":\"#E5ECF6\",\"angularaxis\":{\"gridcolor\":\"white\",\"linecolor\":\"white\",\"ticks\":\"\"},\"radialaxis\":{\"gridcolor\":\"white\",\"linecolor\":\"white\",\"ticks\":\"\"}},\"ternary\":{\"bgcolor\":\"#E5ECF6\",\"aaxis\":{\"gridcolor\":\"white\",\"linecolor\":\"white\",\"ticks\":\"\"},\"baxis\":{\"gridcolor\":\"white\",\"linecolor\":\"white\",\"ticks\":\"\"},\"caxis\":{\"gridcolor\":\"white\",\"linecolor\":\"white\",\"ticks\":\"\"}},\"coloraxis\":{\"colorbar\":{\"outlinewidth\":0,\"ticks\":\"\"}},\"colorscale\":{\"sequential\":[[0.0,\"#0d0887\"],[0.1111111111111111,\"#46039f\"],[0.2222222222222222,\"#7201a8\"],[0.3333333333333333,\"#9c179e\"],[0.4444444444444444,\"#bd3786\"],[0.5555555555555556,\"#d8576b\"],[0.6666666666666666,\"#ed7953\"],[0.7777777777777778,\"#fb9f3a\"],[0.8888888888888888,\"#fdca26\"],[1.0,\"#f0f921\"]],\"sequentialminus\":[[0.0,\"#0d0887\"],[0.1111111111111111,\"#46039f\"],[0.2222222222222222,\"#7201a8\"],[0.3333333333333333,\"#9c179e\"],[0.4444444444444444,\"#bd3786\"],[0.5555555555555556,\"#d8576b\"],[0.6666666666666666,\"#ed7953\"],[0.7777777777777778,\"#fb9f3a\"],[0.8888888888888888,\"#fdca26\"],[1.0,\"#f0f921\"]],\"diverging\":[[0,\"#8e0152\"],[0.1,\"#c51b7d\"],[0.2,\"#de77ae\"],[0.3,\"#f1b6da\"],[0.4,\"#fde0ef\"],[0.5,\"#f7f7f7\"],[0.6,\"#e6f5d0\"],[0.7,\"#b8e186\"],[0.8,\"#7fbc41\"],[0.9,\"#4d9221\"],[1,\"#276419\"]]},\"xaxis\":{\"gridcolor\":\"white\",\"linecolor\":\"white\",\"ticks\":\"\",\"title\":{\"standoff\":15},\"zerolinecolor\":\"white\",\"automargin\":true,\"zerolinewidth\":2},\"yaxis\":{\"gridcolor\":\"white\",\"linecolor\":\"white\",\"ticks\":\"\",\"title\":{\"standoff\":15},\"zerolinecolor\":\"white\",\"automargin\":true,\"zerolinewidth\":2},\"scene\":{\"xaxis\":{\"backgroundcolor\":\"#E5ECF6\",\"gridcolor\":\"white\",\"linecolor\":\"white\",\"showbackground\":true,\"ticks\":\"\",\"zerolinecolor\":\"white\",\"gridwidth\":2},\"yaxis\":{\"backgroundcolor\":\"#E5ECF6\",\"gridcolor\":\"white\",\"linecolor\":\"white\",\"showbackground\":true,\"ticks\":\"\",\"zerolinecolor\":\"white\",\"gridwidth\":2},\"zaxis\":{\"backgroundcolor\":\"#E5ECF6\",\"gridcolor\":\"white\",\"linecolor\":\"white\",\"showbackground\":true,\"ticks\":\"\",\"zerolinecolor\":\"white\",\"gridwidth\":2}},\"shapedefaults\":{\"line\":{\"color\":\"#2a3f5f\"}},\"annotationdefaults\":{\"arrowcolor\":\"#2a3f5f\",\"arrowhead\":0,\"arrowwidth\":1},\"geo\":{\"bgcolor\":\"white\",\"landcolor\":\"#E5ECF6\",\"subunitcolor\":\"white\",\"showland\":true,\"showlakes\":true,\"lakecolor\":\"white\"},\"title\":{\"x\":0.05},\"mapbox\":{\"style\":\"light\"}}},\"scene\":{\"domain\":{\"x\":[0.0,1.0],\"y\":[0.0,1.0]},\"xaxis\":{\"title\":{\"text\":\"x\"}},\"yaxis\":{\"title\":{\"text\":\"y\"}},\"zaxis\":{\"title\":{\"text\":\"z\"}}},\"legend\":{\"tracegroupgap\":0},\"margin\":{\"t\":60}},                        {\"responsive\": true}                    ).then(function(){\n",
              "                            \n",
              "var gd = document.getElementById('e17b9d87-77bb-4392-af79-29e61f865e81');\n",
              "var x = new MutationObserver(function (mutations, observer) {{\n",
              "        var display = window.getComputedStyle(gd).display;\n",
              "        if (!display || display === 'none') {{\n",
              "            console.log([gd, 'removed!']);\n",
              "            Plotly.purge(gd);\n",
              "            observer.disconnect();\n",
              "        }}\n",
              "}});\n",
              "\n",
              "// Listen for the removal of the full notebook cells\n",
              "var notebookContainer = gd.closest('#notebook-container');\n",
              "if (notebookContainer) {{\n",
              "    x.observe(notebookContainer, {childList: true});\n",
              "}}\n",
              "\n",
              "// Listen for the clearing of the current output cell\n",
              "var outputEl = gd.closest('.output');\n",
              "if (outputEl) {{\n",
              "    x.observe(outputEl, {childList: true});\n",
              "}}\n",
              "\n",
              "                        })                };                            </script>        </div>\n",
              "</body>\n",
              "</html>"
            ]
          },
          "metadata": {},
          "output_type": "display_data"
        }
      ],
      "source": [
        "fig = px.scatter_3d(x=x[:200],y=y[:200],z=z[:200],text=sample[:200])\n",
        "fig.update_traces(marker=dict(size=3,line=dict(width=2)),textfont_size=10)\n",
        "fig.show()"
      ]
    },
    {
      "cell_type": "markdown",
      "id": "de2fa51f-a59e-4507-a575-6f1f42b6f7b2",
      "metadata": {
        "id": "de2fa51f-a59e-4507-a575-6f1f42b6f7b2"
      },
      "source": [
        "## **Indexing for Keyword Search**"
      ]
    },
    {
      "cell_type": "code",
      "execution_count": null,
      "id": "f7cfebeb-8608-43e9-83b8-aef2aa8749e2",
      "metadata": {
        "id": "f7cfebeb-8608-43e9-83b8-aef2aa8749e2"
      },
      "outputs": [],
      "source": [
        "#TODO"
      ]
    },
    {
      "cell_type": "markdown",
      "id": "a3d1fe13-e08b-4f74-837e-33638f7f1b39",
      "metadata": {
        "id": "a3d1fe13-e08b-4f74-837e-33638f7f1b39",
        "tags": []
      },
      "source": [
        "# **Sentiment Analysis**"
      ]
    },
    {
      "cell_type": "markdown",
      "id": "7ddf05df-653c-4f9f-be10-8bf58362801d",
      "metadata": {
        "id": "7ddf05df-653c-4f9f-be10-8bf58362801d"
      },
      "source": [
        "In this first part we will try many different Machine Learning models and compare the performance between TF-IDF and WordEmbedding vectorization approach.\n",
        "We have three main challenges in this part:\n",
        "\n",
        "- class imbalance\n",
        "- dataset size\n",
        "- hyperparameter tuning\n",
        "\n",
        "We can't handle the whole dataset with the available resources, we will downsample it, keeping only a small portion. Since downsampling is often also used to resolve class imbalance problems,we will take advantage of that to mantain the same amount of data for each class of our problem.\n",
        "\n",
        "For what regards hyperparameter tuning, we will use GridSearch with 5-Fold Cross Validation or Bayesian Optimization with HyperOpt Library.\n",
        "\n",
        "For what regards evaluation, we will simply split the dataset between train set and test set (20%), avoiding validation set.\n",
        "When we will train deep learning models instead we will split between train and validation set to use learning rate schedulers, early stopping and other tools to improve performance of the model based on validation loss."
      ]
    },
    {
      "cell_type": "markdown",
      "id": "0d291e9b-6097-4b72-accf-9a1d4b14eb9b",
      "metadata": {
        "id": "0d291e9b-6097-4b72-accf-9a1d4b14eb9b",
        "tags": []
      },
      "source": [
        "## **Training and Evaluation with TF-IDF Vectorization**"
      ]
    },
    {
      "cell_type": "code",
      "execution_count": null,
      "id": "68760f7d-6272-4a10-bf0e-206dfe2a70f3",
      "metadata": {
        "id": "68760f7d-6272-4a10-bf0e-206dfe2a70f3"
      },
      "outputs": [],
      "source": [
        "X = final_df['cleaned_text']\n",
        "y = final_df['eb+_emot']"
      ]
    },
    {
      "cell_type": "markdown",
      "id": "628e81c1-3e83-4bae-a39f-25230cb7ba7b",
      "metadata": {
        "id": "628e81c1-3e83-4bae-a39f-25230cb7ba7b"
      },
      "source": [
        "### **Train, Test Splitting**"
      ]
    },
    {
      "cell_type": "code",
      "execution_count": null,
      "id": "7b706300-4f14-4b58-9fcb-ca503919bf92",
      "metadata": {
        "id": "7b706300-4f14-4b58-9fcb-ca503919bf92"
      },
      "outputs": [],
      "source": [
        "train_x,test_x,train_y,test_y = train_test_split(X,y,test_size=0.2,stratify=y,random_state=42)"
      ]
    },
    {
      "cell_type": "markdown",
      "id": "5de646a9-8371-4835-8e4c-10536b89fb06",
      "metadata": {
        "id": "5de646a9-8371-4835-8e4c-10536b89fb06",
        "tags": []
      },
      "source": [
        "### **Vectorization with TF-IDF**"
      ]
    },
    {
      "cell_type": "markdown",
      "id": "571eeb4c-c78d-48f1-9843-7ae8893c487b",
      "metadata": {
        "id": "571eeb4c-c78d-48f1-9843-7ae8893c487b"
      },
      "source": [
        "As before (Clustering section) we will preprocess and vectorize the corpus but this time we will also vectorize the labels."
      ]
    },
    {
      "cell_type": "markdown",
      "id": "f08036c2-9cf7-4f76-aa4a-df4c3a55b6b9",
      "metadata": {
        "id": "f08036c2-9cf7-4f76-aa4a-df4c3a55b6b9"
      },
      "source": [
        "After some tests, we found out that keeping both generic and corpus-specific stopwords gives a significant boost to the performance. This is an expected behaviour since most of the sentences in the dataset are quite short and often contain 1 or more stopwords. Removing them causes a massive reduction of informations.\n",
        "\n",
        "Observe this example to better understand this concept:\n",
        "\n",
        "Let's suppose that we have a sentence\n",
        "\"Are you my real father, Ben?\" that has 'questioning' as the target value.\n",
        "If we apply stopwords and punctuation removal it becomes:\n",
        "\"real father ben\"\n",
        "which is quite ambiguous.\n",
        "\n",
        "The ambiguity is given by the fact that the whole sentence could also have been\n",
        "\"You cannot be my real father, Ben!\" that has 'angry' or 'furious' as the target value.\n",
        "\n",
        "\n",
        "For what regards corpus-specific words, they mostly were noise in the full dataset, but, given our downsampled split, they probably represent some useful information for the classifiers.\n"
      ]
    },
    {
      "cell_type": "code",
      "execution_count": null,
      "id": "a1cec1bc-d52f-4913-addf-a42b67d86a95",
      "metadata": {
        "id": "a1cec1bc-d52f-4913-addf-a42b67d86a95"
      },
      "outputs": [],
      "source": [
        "tfidf_vec = TfidfVectorizer(strip_accents='unicode',\n",
        "                            stop_words=None,\n",
        "                            lowercase=True,\n",
        "                            min_df=30,\n",
        "                            max_df=1.0,\n",
        "                            dtype=float32\n",
        "                           )"
      ]
    },
    {
      "cell_type": "markdown",
      "id": "4f43d04d-7d87-48da-b0b1-b9f910ac761f",
      "metadata": {
        "id": "4f43d04d-7d87-48da-b0b1-b9f910ac761f"
      },
      "source": [
        "Best performance is given by min_df = 0 and max_df = 1.0, which means that no words are removed. In that case we would have a vocabulary of roughly 80k terms and a terrible performance/training time ratio, so we set min_df = 30, which reduces vocabulary to roughly 5k terms and improves greatly the training time while mantaining almost unchanged the performance of the classifiers."
      ]
    },
    {
      "cell_type": "code",
      "execution_count": null,
      "id": "c4e970f8-62c4-46da-9c46-54110a965b70",
      "metadata": {
        "id": "c4e970f8-62c4-46da-9c46-54110a965b70"
      },
      "outputs": [],
      "source": [
        "train_x = tfidf_vec.fit_transform(train_x)\n",
        "test_x = tfidf_vec.transform(test_x)"
      ]
    },
    {
      "cell_type": "code",
      "execution_count": null,
      "id": "7aec3e84-5d37-46e6-baa0-ffb738f0de3f",
      "metadata": {
        "id": "7aec3e84-5d37-46e6-baa0-ffb738f0de3f",
        "outputId": "4eb1235c-fe0f-45e3-b022-3751cb3d5fcf"
      },
      "outputs": [
        {
          "data": {
            "text/plain": [
              "array(['aah', 'aaron', 'abandon', ..., 'zombie', 'zone', 'zoo'],\n",
              "      dtype=object)"
            ]
          },
          "execution_count": 18,
          "metadata": {},
          "output_type": "execute_result"
        }
      ],
      "source": [
        "tfidf_vec.get_feature_names_out()"
      ]
    },
    {
      "cell_type": "code",
      "execution_count": null,
      "id": "f4d7da9e-d63e-49ad-9f20-e0f980c092fd",
      "metadata": {
        "id": "f4d7da9e-d63e-49ad-9f20-e0f980c092fd",
        "outputId": "3671ac24-dcc7-41da-96e8-8da592927081"
      },
      "outputs": [
        {
          "data": {
            "text/plain": [
              "(281358, 5587)"
            ]
          },
          "execution_count": 19,
          "metadata": {},
          "output_type": "execute_result"
        }
      ],
      "source": [
        "train_x.shape"
      ]
    },
    {
      "cell_type": "markdown",
      "id": "9c39dc0c-4f84-4860-975b-11d96356acd3",
      "metadata": {
        "id": "9c39dc0c-4f84-4860-975b-11d96356acd3"
      },
      "source": [
        "We now need to encode labels. To do that we can use Label Encoding, which associates a integer number to each class,so in our case each one of our emotions will be mapped to a number between 0 and 40.\n",
        "In alternative we also can use One-Hot Encoding, which transforms each class to a sparse one-hot encoded vector.\n",
        "\n",
        "Label Encoding introduces a problem because the model may derive a ordinal correlation of some sort due to the fact that labels are mathematically related (i.e: if 0 is cat, 1 is dog and 2 is tiger, the model could derive that average between cat and tiger is dog whic is obviously wrong).\n",
        "\n",
        "In multi-class sentiment analysis both encodings are interesting but after some tests we found out that label encoding works best, capturing the intuitive ordinal relationship between the emotions (i.e: angry is 0, furious is 1 so furious > angry)."
      ]
    },
    {
      "cell_type": "code",
      "execution_count": null,
      "id": "92a1a0a3-a9e9-4093-b932-edcbe60f9a41",
      "metadata": {
        "id": "92a1a0a3-a9e9-4093-b932-edcbe60f9a41"
      },
      "outputs": [],
      "source": [
        "le = LabelEncoder()\n",
        "train_y = le.fit_transform(train_y)\n",
        "test_y = le.transform(test_y)"
      ]
    },
    {
      "cell_type": "markdown",
      "id": "bf508df9-5662-427e-be72-48ef06029cad",
      "metadata": {
        "id": "bf508df9-5662-427e-be72-48ef06029cad",
        "tags": []
      },
      "source": [
        "### **Linear Classifier**"
      ]
    },
    {
      "cell_type": "markdown",
      "id": "40fe96c2-0dd3-4924-b992-430a5140982f",
      "metadata": {
        "id": "40fe96c2-0dd3-4924-b992-430a5140982f"
      },
      "source": [
        "#### **Multinomial Logistic Regression**"
      ]
    },
    {
      "cell_type": "markdown",
      "id": "ffb5f659-e7af-407c-9f58-80a015dbf664",
      "metadata": {
        "id": "ffb5f659-e7af-407c-9f58-80a015dbf664"
      },
      "source": [
        "Since the original Logistic Regression model was made with binary classification problems in mind, it doesn't natively support multi classification problems. However, SKLearn implementation supports multiclass problem, so we are going to use Multinomial Logistic Regression, which is a single classifier, instead of  OneVSRest or OneVSOne approaches."
      ]
    },
    {
      "cell_type": "code",
      "execution_count": null,
      "id": "8229eda7-f91a-46d8-8219-d1a028a329ef",
      "metadata": {
        "id": "8229eda7-f91a-46d8-8219-d1a028a329ef"
      },
      "outputs": [],
      "source": [
        "params = {'n_jobs':[-1],\n",
        "          'multi_class':['multinomial'],\n",
        "          'solver':['saga'],\n",
        "          'C':[1,0.1,0.01],\n",
        "          'max_iter':[100],\n",
        "          'penalty':['l1','l2']}"
      ]
    },
    {
      "cell_type": "code",
      "execution_count": null,
      "id": "568a6d15-69ca-4e3f-a47d-53ec212a776a",
      "metadata": {
        "id": "568a6d15-69ca-4e3f-a47d-53ec212a776a"
      },
      "outputs": [],
      "source": [
        "log_reg = LogisticRegression()"
      ]
    },
    {
      "cell_type": "code",
      "execution_count": null,
      "id": "19df4544-9cbb-4471-8906-8cb2db4690d8",
      "metadata": {
        "id": "19df4544-9cbb-4471-8906-8cb2db4690d8"
      },
      "outputs": [],
      "source": [
        "gs = GridSearchCV(log_reg,params,cv=2,scoring='accuracy')"
      ]
    },
    {
      "cell_type": "code",
      "execution_count": null,
      "id": "30de1f00-1015-461a-b8a0-7d46a4527ae8",
      "metadata": {
        "collapsed": true,
        "id": "30de1f00-1015-461a-b8a0-7d46a4527ae8",
        "jupyter": {
          "outputs_hidden": true
        },
        "outputId": "2f71e17d-ac0b-4b62-a115-605fb13c842a",
        "tags": []
      },
      "outputs": [
        {
          "data": {
            "text/html": [
              "<style>#sk-container-id-1 {color: black;background-color: white;}#sk-container-id-1 pre{padding: 0;}#sk-container-id-1 div.sk-toggleable {background-color: white;}#sk-container-id-1 label.sk-toggleable__label {cursor: pointer;display: block;width: 100%;margin-bottom: 0;padding: 0.3em;box-sizing: border-box;text-align: center;}#sk-container-id-1 label.sk-toggleable__label-arrow:before {content: \"▸\";float: left;margin-right: 0.25em;color: #696969;}#sk-container-id-1 label.sk-toggleable__label-arrow:hover:before {color: black;}#sk-container-id-1 div.sk-estimator:hover label.sk-toggleable__label-arrow:before {color: black;}#sk-container-id-1 div.sk-toggleable__content {max-height: 0;max-width: 0;overflow: hidden;text-align: left;background-color: #f0f8ff;}#sk-container-id-1 div.sk-toggleable__content pre {margin: 0.2em;color: black;border-radius: 0.25em;background-color: #f0f8ff;}#sk-container-id-1 input.sk-toggleable__control:checked~div.sk-toggleable__content {max-height: 200px;max-width: 100%;overflow: auto;}#sk-container-id-1 input.sk-toggleable__control:checked~label.sk-toggleable__label-arrow:before {content: \"▾\";}#sk-container-id-1 div.sk-estimator input.sk-toggleable__control:checked~label.sk-toggleable__label {background-color: #d4ebff;}#sk-container-id-1 div.sk-label input.sk-toggleable__control:checked~label.sk-toggleable__label {background-color: #d4ebff;}#sk-container-id-1 input.sk-hidden--visually {border: 0;clip: rect(1px 1px 1px 1px);clip: rect(1px, 1px, 1px, 1px);height: 1px;margin: -1px;overflow: hidden;padding: 0;position: absolute;width: 1px;}#sk-container-id-1 div.sk-estimator {font-family: monospace;background-color: #f0f8ff;border: 1px dotted black;border-radius: 0.25em;box-sizing: border-box;margin-bottom: 0.5em;}#sk-container-id-1 div.sk-estimator:hover {background-color: #d4ebff;}#sk-container-id-1 div.sk-parallel-item::after {content: \"\";width: 100%;border-bottom: 1px solid gray;flex-grow: 1;}#sk-container-id-1 div.sk-label:hover label.sk-toggleable__label {background-color: #d4ebff;}#sk-container-id-1 div.sk-serial::before {content: \"\";position: absolute;border-left: 1px solid gray;box-sizing: border-box;top: 0;bottom: 0;left: 50%;z-index: 0;}#sk-container-id-1 div.sk-serial {display: flex;flex-direction: column;align-items: center;background-color: white;padding-right: 0.2em;padding-left: 0.2em;position: relative;}#sk-container-id-1 div.sk-item {position: relative;z-index: 1;}#sk-container-id-1 div.sk-parallel {display: flex;align-items: stretch;justify-content: center;background-color: white;position: relative;}#sk-container-id-1 div.sk-item::before, #sk-container-id-1 div.sk-parallel-item::before {content: \"\";position: absolute;border-left: 1px solid gray;box-sizing: border-box;top: 0;bottom: 0;left: 50%;z-index: -1;}#sk-container-id-1 div.sk-parallel-item {display: flex;flex-direction: column;z-index: 1;position: relative;background-color: white;}#sk-container-id-1 div.sk-parallel-item:first-child::after {align-self: flex-end;width: 50%;}#sk-container-id-1 div.sk-parallel-item:last-child::after {align-self: flex-start;width: 50%;}#sk-container-id-1 div.sk-parallel-item:only-child::after {width: 0;}#sk-container-id-1 div.sk-dashed-wrapped {border: 1px dashed gray;margin: 0 0.4em 0.5em 0.4em;box-sizing: border-box;padding-bottom: 0.4em;background-color: white;}#sk-container-id-1 div.sk-label label {font-family: monospace;font-weight: bold;display: inline-block;line-height: 1.2em;}#sk-container-id-1 div.sk-label-container {text-align: center;}#sk-container-id-1 div.sk-container {/* jupyter's `normalize.less` sets `[hidden] { display: none; }` but bootstrap.min.css set `[hidden] { display: none !important; }` so we also need the `!important` here to be able to override the default hidden behavior on the sphinx rendered scikit-learn.org. See: https://github.com/scikit-learn/scikit-learn/issues/21755 */display: inline-block !important;position: relative;}#sk-container-id-1 div.sk-text-repr-fallback {display: none;}</style><div id=\"sk-container-id-1\" class=\"sk-top-container\"><div class=\"sk-text-repr-fallback\"><pre>GridSearchCV(cv=2, estimator=LogisticRegression(),\n",
              "             param_grid={&#x27;C&#x27;: [1, 0.1, 0.01], &#x27;max_iter&#x27;: [100],\n",
              "                         &#x27;multi_class&#x27;: [&#x27;multinomial&#x27;], &#x27;n_jobs&#x27;: [-1],\n",
              "                         &#x27;penalty&#x27;: [&#x27;l1&#x27;, &#x27;l2&#x27;], &#x27;solver&#x27;: [&#x27;saga&#x27;]},\n",
              "             scoring=&#x27;accuracy&#x27;)</pre><b>In a Jupyter environment, please rerun this cell to show the HTML representation or trust the notebook. <br />On GitHub, the HTML representation is unable to render, please try loading this page with nbviewer.org.</b></div><div class=\"sk-container\" hidden><div class=\"sk-item sk-dashed-wrapped\"><div class=\"sk-label-container\"><div class=\"sk-label sk-toggleable\"><input class=\"sk-toggleable__control sk-hidden--visually\" id=\"sk-estimator-id-1\" type=\"checkbox\" ><label for=\"sk-estimator-id-1\" class=\"sk-toggleable__label sk-toggleable__label-arrow\">GridSearchCV</label><div class=\"sk-toggleable__content\"><pre>GridSearchCV(cv=2, estimator=LogisticRegression(),\n",
              "             param_grid={&#x27;C&#x27;: [1, 0.1, 0.01], &#x27;max_iter&#x27;: [100],\n",
              "                         &#x27;multi_class&#x27;: [&#x27;multinomial&#x27;], &#x27;n_jobs&#x27;: [-1],\n",
              "                         &#x27;penalty&#x27;: [&#x27;l1&#x27;, &#x27;l2&#x27;], &#x27;solver&#x27;: [&#x27;saga&#x27;]},\n",
              "             scoring=&#x27;accuracy&#x27;)</pre></div></div></div><div class=\"sk-parallel\"><div class=\"sk-parallel-item\"><div class=\"sk-item\"><div class=\"sk-label-container\"><div class=\"sk-label sk-toggleable\"><input class=\"sk-toggleable__control sk-hidden--visually\" id=\"sk-estimator-id-2\" type=\"checkbox\" ><label for=\"sk-estimator-id-2\" class=\"sk-toggleable__label sk-toggleable__label-arrow\">estimator: LogisticRegression</label><div class=\"sk-toggleable__content\"><pre>LogisticRegression()</pre></div></div></div><div class=\"sk-serial\"><div class=\"sk-item\"><div class=\"sk-estimator sk-toggleable\"><input class=\"sk-toggleable__control sk-hidden--visually\" id=\"sk-estimator-id-3\" type=\"checkbox\" ><label for=\"sk-estimator-id-3\" class=\"sk-toggleable__label sk-toggleable__label-arrow\">LogisticRegression</label><div class=\"sk-toggleable__content\"><pre>LogisticRegression()</pre></div></div></div></div></div></div></div></div></div></div>"
            ],
            "text/plain": [
              "GridSearchCV(cv=2, estimator=LogisticRegression(),\n",
              "             param_grid={'C': [1, 0.1, 0.01], 'max_iter': [100],\n",
              "                         'multi_class': ['multinomial'], 'n_jobs': [-1],\n",
              "                         'penalty': ['l1', 'l2'], 'solver': ['saga']},\n",
              "             scoring='accuracy')"
            ]
          },
          "execution_count": 37,
          "metadata": {},
          "output_type": "execute_result"
        }
      ],
      "source": [
        "gs.fit(train_x,train_y)"
      ]
    },
    {
      "cell_type": "code",
      "execution_count": null,
      "id": "ccd6ee00-73c2-4c3a-8ae7-106041163664",
      "metadata": {
        "id": "ccd6ee00-73c2-4c3a-8ae7-106041163664",
        "outputId": "0f0b4da1-0a8f-4264-eae3-8c369669ac2e"
      },
      "outputs": [
        {
          "name": "stdout",
          "output_type": "stream",
          "text": [
            "The best parameters are {'C': 1, 'max_iter': 100, 'multi_class': 'multinomial', 'n_jobs': -1, 'penalty': 'l2', 'solver': 'saga'}\n"
          ]
        }
      ],
      "source": [
        "print(f\"The best parameters are {gs.best_params_}\")"
      ]
    },
    {
      "cell_type": "code",
      "execution_count": null,
      "id": "96bc85b4-ae5a-4eed-afeb-7ad684c64e58",
      "metadata": {
        "id": "96bc85b4-ae5a-4eed-afeb-7ad684c64e58"
      },
      "outputs": [],
      "source": [
        "y_pred = gs.predict(test_x)"
      ]
    },
    {
      "cell_type": "code",
      "execution_count": null,
      "id": "784f1294-1f9d-44b1-8459-28f5d8dd3845",
      "metadata": {
        "collapsed": true,
        "jupyter": {
          "outputs_hidden": true
        },
        "tags": [],
        "id": "784f1294-1f9d-44b1-8459-28f5d8dd3845",
        "outputId": "33d3d013-7f34-4f0b-9869-9466464c7895"
      },
      "outputs": [
        {
          "name": "stdout",
          "output_type": "stream",
          "text": [
            "               precision    recall  f1-score   support\n",
            "\n",
            "acknowledging       0.38      0.39      0.38      1716\n",
            "       afraid       0.65      0.55      0.60      1716\n",
            "     agreeing       0.48      0.47      0.48      1716\n",
            "        angry       0.63      0.53      0.57      1716\n",
            "      annoyed       0.51      0.50      0.50      1715\n",
            " anticipating       0.51      0.56      0.54      1716\n",
            "      anxious       0.69      0.69      0.69      1715\n",
            " apprehensive       0.53      0.56      0.54      1716\n",
            "      ashamed       0.57      0.51      0.54      1715\n",
            "       caring       0.49      0.50      0.49      1715\n",
            "    confident       0.43      0.40      0.41      1716\n",
            "    consoling       0.65      0.62      0.64      1716\n",
            "      content       0.59      0.61      0.60      1715\n",
            "   devastated       0.59      0.57      0.58      1715\n",
            " disappointed       0.59      0.57      0.58      1716\n",
            "    disgusted       0.73      0.72      0.72      1715\n",
            "  embarrassed       0.77      0.59      0.67      1716\n",
            "  encouraging       0.68      0.68      0.68      1715\n",
            "      excited       0.42      0.58      0.49      1716\n",
            "     faithful       0.62      0.63      0.63      1715\n",
            "      furious       0.54      0.51      0.53      1716\n",
            "     grateful       0.77      0.73      0.74      1716\n",
            "       guilty       0.57      0.53      0.55      1716\n",
            "      hopeful       0.46      0.42      0.44      1716\n",
            "    impressed       0.54      0.52      0.53      1715\n",
            "      jealous       0.55      0.58      0.57      1715\n",
            "       joyful       0.64      0.63      0.63      1715\n",
            "       lonely       0.77      0.79      0.78      1716\n",
            "      neutral       0.53      0.59      0.56      1716\n",
            "    nostalgic       0.56      0.66      0.61      1715\n",
            "     prepared       0.61      0.68      0.64      1716\n",
            "        proud       0.54      0.57      0.56      1716\n",
            "  questioning       0.41      0.40      0.40      1715\n",
            "          sad       0.48      0.40      0.44      1716\n",
            "  sentimental       0.54      0.57      0.56      1716\n",
            "   suggesting       0.51      0.53      0.52      1716\n",
            "    surprised       0.59      0.58      0.58      1716\n",
            " sympathizing       0.80      0.81      0.80      1716\n",
            "    terrified       0.53      0.65      0.59      1716\n",
            "     trusting       0.49      0.45      0.47      1715\n",
            "      wishing       0.68      0.67      0.68      1715\n",
            "\n",
            "     accuracy                           0.57     70340\n",
            "    macro avg       0.58      0.57      0.57     70340\n",
            " weighted avg       0.58      0.57      0.57     70340\n",
            "\n"
          ]
        }
      ],
      "source": [
        "print(classification_report(test_y,y_pred))"
      ]
    },
    {
      "cell_type": "markdown",
      "id": "b2c83433-5032-48da-8640-13ef36bb64f8",
      "metadata": {
        "id": "b2c83433-5032-48da-8640-13ef36bb64f8",
        "tags": []
      },
      "source": [
        "### **Random Forest Classifier**"
      ]
    },
    {
      "cell_type": "code",
      "execution_count": null,
      "id": "4b1f8be4-ad1a-4a76-a607-ba91a3120ddb",
      "metadata": {
        "id": "4b1f8be4-ad1a-4a76-a607-ba91a3120ddb"
      },
      "outputs": [],
      "source": [
        "search_space = {\n",
        "    'bootstrap': True,\n",
        "    'max_features': 'sqrt',\n",
        "    'min_samples_leaf': hp.quniform('min_samples_leaf',1, 5,1),\n",
        "    'min_samples_split': hp.quniform('min_samples_split',1, 4,1),\n",
        "    'n_estimators': 100\n",
        "}"
      ]
    },
    {
      "cell_type": "code",
      "execution_count": null,
      "id": "de7f879c-d891-48ec-9fda-7cba21ccbf71",
      "metadata": {
        "id": "de7f879c-d891-48ec-9fda-7cba21ccbf71"
      },
      "outputs": [],
      "source": [
        "def hyperparameter_tuning(space):\n",
        "    random_forest = RandomForestClassifier(bootstrap=space['bootstrap'],\n",
        "                                          max_depth=None,\n",
        "                                          max_features=space['max_features'],\n",
        "                                          min_samples_leaf=int(space['min_samples_leaf']),\n",
        "                                          min_samples_split=int(space['min_samples_split']))\n",
        "\n",
        "    random_forest.fit(train_x, train_y)\n",
        "\n",
        "    y_pred = random_forest.predict(test_x)\n",
        "    accuracy = accuracy_score(test_y, y_pred)\n",
        "    print (\"SCORE:\", accuracy)\n",
        "    return {'loss': -accuracy, 'status': STATUS_OK, 'model': random_forest}"
      ]
    },
    {
      "cell_type": "code",
      "execution_count": null,
      "id": "34937cff-fde2-40fb-968b-5d7fc2a567ab",
      "metadata": {
        "id": "34937cff-fde2-40fb-968b-5d7fc2a567ab",
        "tags": []
      },
      "outputs": [],
      "source": [
        "trials = Trials()\n",
        "best = fmin(fn=hyperparameter_tuning,\n",
        "            space=search_space,\n",
        "            algo=tpe.suggest,\n",
        "            max_evals=50,\n",
        "            trials=trials)\n",
        "\n",
        "print (best)"
      ]
    },
    {
      "cell_type": "code",
      "execution_count": null,
      "id": "0b8c2055-5529-439f-88e8-04d37c9182b5",
      "metadata": {
        "id": "0b8c2055-5529-439f-88e8-04d37c9182b5",
        "outputId": "9db60092-5cb6-4bfb-f9a8-dcdbe38b7763",
        "tags": []
      },
      "outputs": [
        {
          "name": "stdout",
          "output_type": "stream",
          "text": [
            "              precision    recall  f1-score   support\n",
            "\n",
            "           0       0.40      0.35      0.38      1716\n",
            "           1       0.66      0.55      0.60      1716\n",
            "           2       0.46      0.46      0.46      1716\n",
            "           3       0.63      0.52      0.57      1716\n",
            "           4       0.46      0.42      0.44      1715\n",
            "           5       0.47      0.51      0.49      1716\n",
            "           6       0.77      0.79      0.78      1715\n",
            "           7       0.42      0.62      0.50      1716\n",
            "           8       0.66      0.56      0.61      1715\n",
            "           9       0.44      0.46      0.45      1715\n",
            "          10       0.37      0.35      0.36      1716\n",
            "          11       0.74      0.72      0.73      1716\n",
            "          12       0.62      0.58      0.60      1715\n",
            "          13       0.64      0.57      0.60      1715\n",
            "          14       0.56      0.62      0.59      1716\n",
            "          15       0.69      0.65      0.67      1715\n",
            "          16       0.82      0.58      0.68      1716\n",
            "          17       0.75      0.77      0.76      1715\n",
            "          18       0.36      0.49      0.41      1716\n",
            "          19       0.56      0.57      0.57      1715\n",
            "          20       0.49      0.42      0.45      1716\n",
            "          21       0.74      0.78      0.76      1716\n",
            "          22       0.55      0.51      0.53      1716\n",
            "          23       0.41      0.38      0.39      1716\n",
            "          24       0.55      0.53      0.54      1715\n",
            "          25       0.53      0.51      0.52      1715\n",
            "          26       0.66      0.62      0.64      1715\n",
            "          27       0.79      0.84      0.82      1716\n",
            "          28       0.48      0.63      0.54      1716\n",
            "          29       0.47      0.69      0.56      1715\n",
            "          30       0.52      0.56      0.54      1716\n",
            "          31       0.57      0.52      0.54      1716\n",
            "          32       0.44      0.47      0.45      1715\n",
            "          33       0.45      0.28      0.35      1716\n",
            "          34       0.56      0.50      0.53      1716\n",
            "          35       0.52      0.55      0.53      1716\n",
            "          36       0.61      0.56      0.58      1716\n",
            "          37       0.76      0.88      0.81      1716\n",
            "          38       0.46      0.48      0.47      1716\n",
            "          39       0.35      0.37      0.36      1715\n",
            "          40       0.71      0.62      0.66      1715\n",
            "\n",
            "    accuracy                           0.56     70340\n",
            "   macro avg       0.56      0.56      0.56     70340\n",
            "weighted avg       0.56      0.56      0.56     70340\n",
            "\n",
            "0.5566676144441285\n"
          ]
        }
      ],
      "source": [
        "random_forest = RandomForestClassifier(max_depth=None,\n",
        "                                       min_samples_leaf=1,\n",
        "                                       min_samples_split=2,\n",
        "                                       bootstrap=True,\n",
        "                                       max_features='sqrt',\n",
        "                                       n_estimators=100)\n",
        "random_forest.fit(train_x,train_y)\n",
        "y_pred = random_forest.predict(test_x)\n",
        "print(classification_report(test_y,y_pred))"
      ]
    },
    {
      "cell_type": "markdown",
      "id": "ee01c8db-52f9-43b6-9475-7fad9fabaf2a",
      "metadata": {
        "id": "ee01c8db-52f9-43b6-9475-7fad9fabaf2a",
        "tags": []
      },
      "source": [
        "### **XGB Classifier**"
      ]
    },
    {
      "cell_type": "markdown",
      "id": "f666ab66-4351-463e-a9a7-7417218d17ab",
      "metadata": {
        "id": "f666ab66-4351-463e-a9a7-7417218d17ab"
      },
      "source": [
        "XGBoost is an ensemble algorithm, in particular a boosting one. It has the reputation of being one of the most effective ML algorithm for both regression and classification and it's often used in Kaggle Competitions with good results. Thank to GPU acceleration we can train a XGB instance in few minutes so we will tune its hyperparameters using Bayesian Optimization which differs from GridSearch and RandomSearch for being an informed search algorithm, which uses previous iterations to decide where to search next in the search space. For this reason a single iteration is usually longer than the ones on uninformed algorithms like grid search but it usually converges faster to good solutions."
      ]
    },
    {
      "cell_type": "code",
      "execution_count": null,
      "id": "62412f4b-fb35-42fa-b59e-d76ab5a1e306",
      "metadata": {
        "id": "62412f4b-fb35-42fa-b59e-d76ab5a1e306",
        "tags": []
      },
      "outputs": [],
      "source": [
        "search_space={'max_depth': hp.quniform(\"max_depth\", 8, 12, 1),\n",
        "              'gamma': 0.5,\n",
        "              'reg_alpha' : hp.quniform('reg_alpha', 40,180,1),\n",
        "              'reg_lambda' : hp.uniform('reg_lambda', 0,1),\n",
        "              'colsample_bytree' : hp.uniform('colsample_bytree', 0.5,1),\n",
        "              'min_child_weight' : hp.quniform('min_child_weight', 0, 10, 1),\n",
        "              'learning_rate':hp.uniform('learning_rate',0.01,0.2),\n",
        "              'n_estimators': 350 }"
      ]
    },
    {
      "cell_type": "code",
      "execution_count": null,
      "id": "115269b2-b7bf-46cd-a0a1-7aae54809ed3",
      "metadata": {
        "id": "115269b2-b7bf-46cd-a0a1-7aae54809ed3"
      },
      "outputs": [],
      "source": [
        "def hyperparameter_tuning(space):\n",
        "    xgb = XGBClassifier(n_estimators =space['n_estimators'], max_depth = int(space['max_depth']), gamma = space['gamma'],\n",
        "                         reg_alpha = int(space['reg_alpha']),min_child_weight=space['min_child_weight'],\n",
        "                         colsample_bytree=space['colsample_bytree'],tree_method='gpu_hist',gpu_id=0,objective='multi:softmax',\n",
        "                         learning_rate=space['learning_rate'])   \n",
        "    xgb.fit(train_x, train_y)\n",
        "\n",
        "    y_pred = xgb.predict(test_x)\n",
        "    accuracy = accuracy_score(test_y, y_pred)\n",
        "    print (\"SCORE:\", accuracy)\n",
        "    return {'loss': -accuracy, 'status': STATUS_OK, 'model': xgb}"
      ]
    },
    {
      "cell_type": "code",
      "execution_count": null,
      "id": "73c45df7-bb09-4c5d-9e5b-b54d3e9b00b8",
      "metadata": {
        "id": "73c45df7-bb09-4c5d-9e5b-b54d3e9b00b8",
        "tags": []
      },
      "outputs": [],
      "source": [
        "trials = Trials()\n",
        "best = fmin(fn=hyperparameter_tuning,\n",
        "            space=search_space,\n",
        "            algo=tpe.suggest,\n",
        "            max_evals=50,\n",
        "            trials=trials)\n",
        "\n",
        "print (best)"
      ]
    },
    {
      "cell_type": "code",
      "execution_count": null,
      "id": "50b6da8a-d0de-4031-80c4-e1ceb9901e55",
      "metadata": {
        "id": "50b6da8a-d0de-4031-80c4-e1ceb9901e55",
        "outputId": "88569118-18f4-4eaa-c39a-f6b6e36b1665",
        "tags": []
      },
      "outputs": [
        {
          "name": "stdout",
          "output_type": "stream",
          "text": [
            "              precision    recall  f1-score   support\n",
            "\n",
            "           0       0.42      0.40      0.41      1716\n",
            "           1       0.68      0.61      0.64      1716\n",
            "           2       0.51      0.49      0.50      1716\n",
            "           3       0.65      0.56      0.60      1716\n",
            "           4       0.53      0.48      0.50      1715\n",
            "           5       0.54      0.54      0.54      1716\n",
            "           6       0.78      0.78      0.78      1715\n",
            "           7       0.55      0.60      0.57      1716\n",
            "           8       0.63      0.56      0.59      1715\n",
            "           9       0.53      0.52      0.53      1715\n",
            "          10       0.43      0.41      0.42      1716\n",
            "          11       0.72      0.70      0.71      1716\n",
            "          12       0.63      0.65      0.64      1715\n",
            "          13       0.63      0.61      0.62      1715\n",
            "          14       0.64      0.65      0.64      1716\n",
            "          15       0.71      0.66      0.69      1715\n",
            "          16       0.77      0.64      0.70      1716\n",
            "          17       0.74      0.76      0.75      1715\n",
            "          18       0.33      0.58      0.42      1716\n",
            "          19       0.66      0.62      0.64      1715\n",
            "          20       0.57      0.51      0.54      1716\n",
            "          21       0.78      0.80      0.79      1716\n",
            "          22       0.61      0.57      0.59      1716\n",
            "          23       0.50      0.46      0.48      1716\n",
            "          24       0.58      0.53      0.55      1715\n",
            "          25       0.57      0.60      0.59      1715\n",
            "          26       0.69      0.68      0.68      1715\n",
            "          27       0.82      0.84      0.83      1716\n",
            "          28       0.54      0.63      0.58      1716\n",
            "          29       0.60      0.66      0.63      1715\n",
            "          30       0.61      0.63      0.62      1716\n",
            "          31       0.58      0.59      0.59      1716\n",
            "          32       0.46      0.48      0.47      1715\n",
            "          33       0.47      0.41      0.44      1716\n",
            "          34       0.57      0.56      0.57      1716\n",
            "          35       0.57      0.59      0.58      1716\n",
            "          36       0.62      0.63      0.63      1716\n",
            "          37       0.79      0.85      0.82      1716\n",
            "          38       0.54      0.55      0.55      1716\n",
            "          39       0.44      0.44      0.44      1715\n",
            "          40       0.75      0.63      0.69      1715\n",
            "\n",
            "    accuracy                           0.60     70340\n",
            "   macro avg       0.60      0.60      0.60     70340\n",
            "weighted avg       0.60      0.60      0.60     70340\n",
            "\n"
          ]
        }
      ],
      "source": [
        "xgb = XGBClassifier(n_estimators=350,\n",
        "                    max_depth=8,\n",
        "                    gamma=0.5,\n",
        "                    verbosity = 0,\n",
        "                    tree_method='gpu_hist', \n",
        "                    gpu_id=0,\n",
        "                    objective='multi:softmax')  #0.43\n",
        "xgb.fit(train_x, train_y)\n",
        "\n",
        "y_pred = xgb.predict(test_x)\n",
        "print(classification_report(test_y,y_pred))"
      ]
    },
    {
      "cell_type": "markdown",
      "id": "0272be36-08c8-4e39-af19-b44ce94ead39",
      "metadata": {
        "id": "0272be36-08c8-4e39-af19-b44ce94ead39",
        "tags": []
      },
      "source": [
        "### **Neural Networks**"
      ]
    },
    {
      "cell_type": "markdown",
      "id": "61938817-968c-4121-9419-45cdcd984d0f",
      "metadata": {
        "id": "61938817-968c-4121-9419-45cdcd984d0f"
      },
      "source": [
        "Before feeding our data to the neural networks, we need to convert them to numpy arrays and since we only have 30 GB RAM, we also need to reduce their size by converting all the vectors from float32 to float16 to reduce the amount of RAM occupied by the arrays while they stay in memory during training and inference of our models.\n",
        "\n",
        "\n",
        "We will also pick the first 20% of the test data to create a validation set that we will use to adjust learning rate and other parameters during the training phase."
      ]
    },
    {
      "cell_type": "code",
      "execution_count": null,
      "id": "9bbb7714-1280-40bf-9ad7-3190a3d8d14f",
      "metadata": {
        "id": "9bbb7714-1280-40bf-9ad7-3190a3d8d14f"
      },
      "outputs": [],
      "source": [
        "train_x = train_x.toarray()\n",
        "test_x = test_x.toarray()"
      ]
    },
    {
      "cell_type": "code",
      "execution_count": null,
      "id": "f156145e-274b-4651-995a-ac869c63e069",
      "metadata": {
        "id": "f156145e-274b-4651-995a-ac869c63e069"
      },
      "outputs": [],
      "source": [
        "train_x = train_x.astype(\"float16\")\n",
        "test_x = test_x.astype(\"float16\")"
      ]
    },
    {
      "cell_type": "code",
      "execution_count": null,
      "id": "3b146133-dba0-4bc0-b046-85d79e7a19c8",
      "metadata": {
        "id": "3b146133-dba0-4bc0-b046-85d79e7a19c8"
      },
      "outputs": [],
      "source": [
        "full_size = test_x.shape[0]\n",
        "val_size = 0.2\n",
        "val_x = test_x[:int(val_size*full_size)]\n",
        "test_x = test_x[int(val_size*full_size)+1:]"
      ]
    },
    {
      "cell_type": "code",
      "execution_count": null,
      "id": "2848bbf4-7bae-418a-80ad-e7e2b719c6d9",
      "metadata": {
        "id": "2848bbf4-7bae-418a-80ad-e7e2b719c6d9"
      },
      "outputs": [],
      "source": [
        "val_y = test_y[:int(val_size*full_size)]\n",
        "test_y = test_y[int(val_size*full_size)+1:]"
      ]
    },
    {
      "cell_type": "code",
      "execution_count": null,
      "id": "80d4a655-9ca5-4921-a351-188e82247417",
      "metadata": {
        "id": "80d4a655-9ca5-4921-a351-188e82247417",
        "outputId": "c9a599ba-168f-4eb3-ea08-c788ac951fe4"
      },
      "outputs": [
        {
          "data": {
            "text/plain": [
              "(14068, 5516)"
            ]
          },
          "execution_count": 15,
          "metadata": {},
          "output_type": "execute_result"
        }
      ],
      "source": [
        "val_x.shape"
      ]
    },
    {
      "cell_type": "code",
      "execution_count": null,
      "id": "63e253bd-828f-417c-900e-54475ae28799",
      "metadata": {
        "id": "63e253bd-828f-417c-900e-54475ae28799",
        "outputId": "8243df70-8596-450a-8622-92f014592dad"
      },
      "outputs": [
        {
          "data": {
            "text/plain": [
              "(56271, 5516)"
            ]
          },
          "execution_count": 16,
          "metadata": {},
          "output_type": "execute_result"
        }
      ],
      "source": [
        "test_x.shape"
      ]
    },
    {
      "cell_type": "markdown",
      "id": "c6778c51-95ba-427e-b828-39e57c7a22a3",
      "metadata": {
        "id": "c6778c51-95ba-427e-b828-39e57c7a22a3",
        "tags": []
      },
      "source": [
        "#### **Artificial Neural Network**"
      ]
    },
    {
      "cell_type": "code",
      "execution_count": null,
      "id": "1e3e2e0c-6094-42f6-b63a-f375e31f3cc6",
      "metadata": {
        "id": "1e3e2e0c-6094-42f6-b63a-f375e31f3cc6"
      },
      "outputs": [],
      "source": [
        "dropout_rate = 0.2"
      ]
    },
    {
      "cell_type": "code",
      "execution_count": null,
      "id": "7e1263be-8a98-4502-8656-14b3ad797ef9",
      "metadata": {
        "id": "7e1263be-8a98-4502-8656-14b3ad797ef9"
      },
      "outputs": [],
      "source": [
        "vocab_size = tfidf_vec.get_feature_names_out().size"
      ]
    },
    {
      "cell_type": "markdown",
      "id": "7f405594-729b-4f2e-9bda-be208db4bb0f",
      "metadata": {
        "id": "7f405594-729b-4f2e-9bda-be208db4bb0f"
      },
      "source": [
        "As first model, we will build,train and evaluate a simple ANN, made of 2 Dense layers with 64 neurons each, plus the classification head that will produce the probabilities by applying softmax activation function to the input logits.\n",
        "\n",
        "As regularization technique, we will also add two Dropout layers with rate=0.2. This means that at each iteration, 20% of the neurons of the layer on which dropout is applied won't be used. In this way the model should be able to better generalize on unseen data and reduce overfitting as a consequence."
      ]
    },
    {
      "cell_type": "code",
      "execution_count": null,
      "id": "3e7a6d20-bb42-4160-b7ac-d0a91faed964",
      "metadata": {
        "id": "3e7a6d20-bb42-4160-b7ac-d0a91faed964"
      },
      "outputs": [],
      "source": [
        "model = Sequential()\n",
        "model.add(Dense(64,input_dim=vocab_size,activation=\"relu\"))\n",
        "model.add(Dropout(dropout_rate))\n",
        "model.add(Dense(64,activation=\"relu\"))\n",
        "model.add(Dropout(dropout_rate))\n",
        "model.add(Dense(41,activation=\"softmax\"))"
      ]
    },
    {
      "cell_type": "code",
      "execution_count": null,
      "id": "7d116caf-8e77-4169-a175-cb40244e6d22",
      "metadata": {
        "id": "7d116caf-8e77-4169-a175-cb40244e6d22"
      },
      "outputs": [],
      "source": [
        "model.compile(optimizer=\"adam\",loss=\"sparse_categorical_crossentropy\",metrics=\"accuracy\")"
      ]
    },
    {
      "cell_type": "code",
      "execution_count": null,
      "id": "6d746844-97f4-414e-ae56-35c5ed30a34f",
      "metadata": {
        "id": "6d746844-97f4-414e-ae56-35c5ed30a34f"
      },
      "outputs": [],
      "source": [
        "lr_sched = ReduceLROnPlateau(mode='max',monitor='val_accuracy',verbose=3,patience=5,factor=0.1)\n",
        "mdl_check = ModelCheckpoint(\"model_ckpt\",verbose=3,monitor='val_accuracy',save_best_only=True,mode='max')\n",
        "early_stop = EarlyStopping(monitor='val_accuracy',patience=11,verbose=3)"
      ]
    },
    {
      "cell_type": "code",
      "execution_count": null,
      "id": "4098c36d-79e2-4695-b1f0-7471b99b38be",
      "metadata": {
        "id": "4098c36d-79e2-4695-b1f0-7471b99b38be",
        "tags": []
      },
      "outputs": [],
      "source": [
        "model.fit(x=train_x,y=train_y,validation_data=(val_x,val_y),epochs=60,callbacks=[lr_sched,mdl_check,early_stop],batch_size=32)"
      ]
    },
    {
      "cell_type": "code",
      "execution_count": null,
      "id": "3ea8a46e-90b7-4a2b-a498-54b872accbfa",
      "metadata": {
        "id": "3ea8a46e-90b7-4a2b-a498-54b872accbfa",
        "outputId": "3a13b80f-be58-498c-9786-02c017c0058e"
      },
      "outputs": [
        {
          "name": "stdout",
          "output_type": "stream",
          "text": [
            "1759/1759 [==============================] - 6s 3ms/step - loss: 1.7009 - accuracy: 0.5813\n"
          ]
        },
        {
          "data": {
            "text/plain": [
              "[1.700945258140564, 0.5812585353851318]"
            ]
          },
          "execution_count": 23,
          "metadata": {},
          "output_type": "execute_result"
        }
      ],
      "source": [
        "model.evaluate(x=test_x,y=test_y)"
      ]
    },
    {
      "cell_type": "markdown",
      "id": "8b280016-f7ac-48a9-a5bd-4ddf8f4d9242",
      "metadata": {
        "id": "8b280016-f7ac-48a9-a5bd-4ddf8f4d9242",
        "tags": []
      },
      "source": [
        "#### **LSTM Neural Network**"
      ]
    },
    {
      "cell_type": "markdown",
      "id": "2197de3d-9694-4bc6-a124-e35975457d9e",
      "metadata": {
        "id": "2197de3d-9694-4bc6-a124-e35975457d9e"
      },
      "source": [
        "Let's try to add three Bidirectional LSTM (Long Short Term Memory) layers, to see if we can outperform the XGBoost algorithm.\n",
        "As regularization we will use dropout just like before and also add layer weight constraints."
      ]
    },
    {
      "cell_type": "code",
      "execution_count": null,
      "id": "f4399303-dbbf-4b2b-9eb7-e4ad909fcfc3",
      "metadata": {
        "id": "f4399303-dbbf-4b2b-9eb7-e4ad909fcfc3"
      },
      "outputs": [],
      "source": [
        "train_x = train_x.reshape(-1,1,vocab_size)\n",
        "test_x = test_x.reshape(-1,1,vocab_size)\n",
        "val_x = val_x.reshape(-1,1,vocab_size)"
      ]
    },
    {
      "cell_type": "code",
      "execution_count": null,
      "id": "8cf9f510-0b5d-4342-a48f-1d7f5f4a9053",
      "metadata": {
        "id": "8cf9f510-0b5d-4342-a48f-1d7f5f4a9053",
        "outputId": "bbc85e8a-caa4-4f31-83a1-3275a0b8e349"
      },
      "outputs": [
        {
          "data": {
            "text/plain": [
              "(281358, 1, 5516)"
            ]
          },
          "execution_count": 20,
          "metadata": {},
          "output_type": "execute_result"
        }
      ],
      "source": [
        "train_x.shape"
      ]
    },
    {
      "cell_type": "code",
      "execution_count": null,
      "id": "c92e23a6-be73-4c4c-8754-44e8a38a38ad",
      "metadata": {
        "id": "c92e23a6-be73-4c4c-8754-44e8a38a38ad",
        "tags": []
      },
      "outputs": [],
      "source": [
        "model = Sequential()\n",
        "model.add(Bidirectional(LSTM(96,return_sequences=True,input_shape=(1,vocab_size))))\n",
        "model.add(Dropout(dropout_rate))\n",
        "model.add(Bidirectional(LSTM(96,return_sequences=True,kernel_initializer='normal',kernel_constraint=max_norm(5))))\n",
        "model.add(Dropout(dropout_rate))\n",
        "model.add(Bidirectional(LSTM(96,return_sequences=False,kernel_initializer='normal',kernel_constraint=max_norm(5))))\n",
        "model.add(Dropout(dropout_rate))\n",
        "model.add(Dense(64,activation=\"relu\",kernel_initializer='normal',kernel_constraint=max_norm(5)))\n",
        "model.add(Dense(41,activation=\"softmax\"))"
      ]
    },
    {
      "cell_type": "code",
      "execution_count": null,
      "id": "84d7d228-055c-49a2-a9c4-099b96e674ee",
      "metadata": {
        "id": "84d7d228-055c-49a2-a9c4-099b96e674ee"
      },
      "outputs": [],
      "source": [
        "model.compile(optimizer=Adam(learning_rate=0.001),loss=\"sparse_categorical_crossentropy\",metrics=\"accuracy\")"
      ]
    },
    {
      "cell_type": "code",
      "execution_count": null,
      "id": "d05c66b3-d6a8-4790-9eea-34eb531789ac",
      "metadata": {
        "id": "d05c66b3-d6a8-4790-9eea-34eb531789ac"
      },
      "outputs": [],
      "source": [
        "lr_sched = ReduceLROnPlateau(mode='max',monitor='val_accuracy',verbose=3,patience=5,factor=0.1)\n",
        "mdl_check = ModelCheckpoint(\"model_ckpt\",verbose=3,monitor='val_accuracy',save_best_only=True,mode='max')\n",
        "early_stop = EarlyStopping(monitor='val_accuracy',patience=11,verbose=3)"
      ]
    },
    {
      "cell_type": "code",
      "execution_count": null,
      "id": "5867f8a9-f190-4053-9a43-e23d7b054f72",
      "metadata": {
        "collapsed": true,
        "id": "5867f8a9-f190-4053-9a43-e23d7b054f72",
        "jupyter": {
          "outputs_hidden": true
        },
        "outputId": "541024ca-715f-4635-e7eb-11559c11b9ac",
        "tags": []
      },
      "outputs": [
        {
          "name": "stderr",
          "output_type": "stream",
          "text": [
            "2023-05-03 18:01:02.644498: W tensorflow/core/framework/cpu_allocator_impl.cc:82] Allocation of 6207882912 exceeds 10% of free system memory.\n",
            "2023-05-03 18:01:09.266733: W tensorflow/core/framework/cpu_allocator_impl.cc:82] Allocation of 6207882912 exceeds 10% of free system memory.\n"
          ]
        },
        {
          "name": "stdout",
          "output_type": "stream",
          "text": [
            "Epoch 1/90\n",
            "4397/4397 [==============================] - ETA: 0s - loss: 2.5472 - accuracy: 0.2984\n",
            "Epoch 1: val_accuracy improved from -inf to 0.40468, saving model to model_ckpt\n"
          ]
        },
        {
          "name": "stderr",
          "output_type": "stream",
          "text": [
            "WARNING:absl:Found untraced functions such as lstm_cell_1_layer_call_fn, lstm_cell_1_layer_call_and_return_conditional_losses, lstm_cell_2_layer_call_fn, lstm_cell_2_layer_call_and_return_conditional_losses, lstm_cell_4_layer_call_fn while saving (showing 5 of 12). These functions will not be directly callable after loading.\n"
          ]
        },
        {
          "name": "stdout",
          "output_type": "stream",
          "text": [
            "INFO:tensorflow:Assets written to: model_ckpt/assets\n"
          ]
        },
        {
          "name": "stderr",
          "output_type": "stream",
          "text": [
            "INFO:tensorflow:Assets written to: model_ckpt/assets\n"
          ]
        },
        {
          "name": "stdout",
          "output_type": "stream",
          "text": [
            "4397/4397 [==============================] - 133s 27ms/step - loss: 2.5472 - accuracy: 0.2984 - val_loss: 2.1482 - val_accuracy: 0.4047 - lr: 0.0010\n",
            "Epoch 2/90\n",
            "4397/4397 [==============================] - ETA: 0s - loss: 1.9597 - accuracy: 0.4539\n",
            "Epoch 2: val_accuracy improved from 0.40468 to 0.49680, saving model to model_ckpt\n"
          ]
        },
        {
          "name": "stderr",
          "output_type": "stream",
          "text": [
            "WARNING:absl:Found untraced functions such as lstm_cell_1_layer_call_fn, lstm_cell_1_layer_call_and_return_conditional_losses, lstm_cell_2_layer_call_fn, lstm_cell_2_layer_call_and_return_conditional_losses, lstm_cell_4_layer_call_fn while saving (showing 5 of 12). These functions will not be directly callable after loading.\n"
          ]
        },
        {
          "name": "stdout",
          "output_type": "stream",
          "text": [
            "INFO:tensorflow:Assets written to: model_ckpt/assets\n"
          ]
        },
        {
          "name": "stderr",
          "output_type": "stream",
          "text": [
            "INFO:tensorflow:Assets written to: model_ckpt/assets\n"
          ]
        },
        {
          "name": "stdout",
          "output_type": "stream",
          "text": [
            "4397/4397 [==============================] - 114s 26ms/step - loss: 1.9597 - accuracy: 0.4539 - val_loss: 1.8043 - val_accuracy: 0.4968 - lr: 0.0010\n",
            "Epoch 3/90\n",
            "4396/4397 [============================>.] - ETA: 0s - loss: 1.6898 - accuracy: 0.5228\n",
            "Epoch 3: val_accuracy improved from 0.49680 to 0.53846, saving model to model_ckpt\n"
          ]
        },
        {
          "name": "stderr",
          "output_type": "stream",
          "text": [
            "WARNING:absl:Found untraced functions such as lstm_cell_1_layer_call_fn, lstm_cell_1_layer_call_and_return_conditional_losses, lstm_cell_2_layer_call_fn, lstm_cell_2_layer_call_and_return_conditional_losses, lstm_cell_4_layer_call_fn while saving (showing 5 of 12). These functions will not be directly callable after loading.\n"
          ]
        },
        {
          "name": "stdout",
          "output_type": "stream",
          "text": [
            "INFO:tensorflow:Assets written to: model_ckpt/assets\n"
          ]
        },
        {
          "name": "stderr",
          "output_type": "stream",
          "text": [
            "INFO:tensorflow:Assets written to: model_ckpt/assets\n"
          ]
        },
        {
          "name": "stdout",
          "output_type": "stream",
          "text": [
            "4397/4397 [==============================] - 115s 26ms/step - loss: 1.6898 - accuracy: 0.5228 - val_loss: 1.6571 - val_accuracy: 0.5385 - lr: 0.0010\n",
            "Epoch 4/90\n",
            "4397/4397 [==============================] - ETA: 0s - loss: 1.5374 - accuracy: 0.5616\n",
            "Epoch 4: val_accuracy improved from 0.53846 to 0.55864, saving model to model_ckpt\n"
          ]
        },
        {
          "name": "stderr",
          "output_type": "stream",
          "text": [
            "WARNING:absl:Found untraced functions such as lstm_cell_1_layer_call_fn, lstm_cell_1_layer_call_and_return_conditional_losses, lstm_cell_2_layer_call_fn, lstm_cell_2_layer_call_and_return_conditional_losses, lstm_cell_4_layer_call_fn while saving (showing 5 of 12). These functions will not be directly callable after loading.\n"
          ]
        },
        {
          "name": "stdout",
          "output_type": "stream",
          "text": [
            "INFO:tensorflow:Assets written to: model_ckpt/assets\n"
          ]
        },
        {
          "name": "stderr",
          "output_type": "stream",
          "text": [
            "INFO:tensorflow:Assets written to: model_ckpt/assets\n"
          ]
        },
        {
          "name": "stdout",
          "output_type": "stream",
          "text": [
            "4397/4397 [==============================] - 120s 27ms/step - loss: 1.5374 - accuracy: 0.5616 - val_loss: 1.5724 - val_accuracy: 0.5586 - lr: 0.0010\n",
            "Epoch 5/90\n",
            "4397/4397 [==============================] - ETA: 0s - loss: 1.4244 - accuracy: 0.5917\n",
            "Epoch 5: val_accuracy improved from 0.55864 to 0.57279, saving model to model_ckpt\n"
          ]
        },
        {
          "name": "stderr",
          "output_type": "stream",
          "text": [
            "WARNING:absl:Found untraced functions such as lstm_cell_1_layer_call_fn, lstm_cell_1_layer_call_and_return_conditional_losses, lstm_cell_2_layer_call_fn, lstm_cell_2_layer_call_and_return_conditional_losses, lstm_cell_4_layer_call_fn while saving (showing 5 of 12). These functions will not be directly callable after loading.\n"
          ]
        },
        {
          "name": "stdout",
          "output_type": "stream",
          "text": [
            "INFO:tensorflow:Assets written to: model_ckpt/assets\n"
          ]
        },
        {
          "name": "stderr",
          "output_type": "stream",
          "text": [
            "INFO:tensorflow:Assets written to: model_ckpt/assets\n"
          ]
        },
        {
          "name": "stdout",
          "output_type": "stream",
          "text": [
            "4397/4397 [==============================] - 120s 27ms/step - loss: 1.4244 - accuracy: 0.5917 - val_loss: 1.5293 - val_accuracy: 0.5728 - lr: 0.0010\n",
            "Epoch 6/90\n",
            "4396/4397 [============================>.] - ETA: 0s - loss: 1.3216 - accuracy: 0.6195\n",
            "Epoch 6: val_accuracy improved from 0.57279 to 0.58246, saving model to model_ckpt\n"
          ]
        },
        {
          "name": "stderr",
          "output_type": "stream",
          "text": [
            "WARNING:absl:Found untraced functions such as lstm_cell_1_layer_call_fn, lstm_cell_1_layer_call_and_return_conditional_losses, lstm_cell_2_layer_call_fn, lstm_cell_2_layer_call_and_return_conditional_losses, lstm_cell_4_layer_call_fn while saving (showing 5 of 12). These functions will not be directly callable after loading.\n"
          ]
        },
        {
          "name": "stdout",
          "output_type": "stream",
          "text": [
            "INFO:tensorflow:Assets written to: model_ckpt/assets\n"
          ]
        },
        {
          "name": "stderr",
          "output_type": "stream",
          "text": [
            "INFO:tensorflow:Assets written to: model_ckpt/assets\n"
          ]
        },
        {
          "name": "stdout",
          "output_type": "stream",
          "text": [
            "4397/4397 [==============================] - 115s 26ms/step - loss: 1.3216 - accuracy: 0.6195 - val_loss: 1.4982 - val_accuracy: 0.5825 - lr: 0.0010\n",
            "Epoch 7/90\n",
            "4394/4397 [============================>.] - ETA: 0s - loss: 1.2275 - accuracy: 0.6449\n",
            "Epoch 7: val_accuracy improved from 0.58246 to 0.59070, saving model to model_ckpt\n"
          ]
        },
        {
          "name": "stderr",
          "output_type": "stream",
          "text": [
            "WARNING:absl:Found untraced functions such as lstm_cell_1_layer_call_fn, lstm_cell_1_layer_call_and_return_conditional_losses, lstm_cell_2_layer_call_fn, lstm_cell_2_layer_call_and_return_conditional_losses, lstm_cell_4_layer_call_fn while saving (showing 5 of 12). These functions will not be directly callable after loading.\n"
          ]
        },
        {
          "name": "stdout",
          "output_type": "stream",
          "text": [
            "INFO:tensorflow:Assets written to: model_ckpt/assets\n"
          ]
        },
        {
          "name": "stderr",
          "output_type": "stream",
          "text": [
            "INFO:tensorflow:Assets written to: model_ckpt/assets\n"
          ]
        },
        {
          "name": "stdout",
          "output_type": "stream",
          "text": [
            "4397/4397 [==============================] - 117s 27ms/step - loss: 1.2275 - accuracy: 0.6449 - val_loss: 1.4898 - val_accuracy: 0.5907 - lr: 0.0010\n",
            "Epoch 8/90\n",
            "4397/4397 [==============================] - ETA: 0s - loss: 1.1370 - accuracy: 0.6704\n",
            "Epoch 8: val_accuracy improved from 0.59070 to 0.59440, saving model to model_ckpt\n"
          ]
        },
        {
          "name": "stderr",
          "output_type": "stream",
          "text": [
            "WARNING:absl:Found untraced functions such as lstm_cell_1_layer_call_fn, lstm_cell_1_layer_call_and_return_conditional_losses, lstm_cell_2_layer_call_fn, lstm_cell_2_layer_call_and_return_conditional_losses, lstm_cell_4_layer_call_fn while saving (showing 5 of 12). These functions will not be directly callable after loading.\n"
          ]
        },
        {
          "name": "stdout",
          "output_type": "stream",
          "text": [
            "INFO:tensorflow:Assets written to: model_ckpt/assets\n"
          ]
        },
        {
          "name": "stderr",
          "output_type": "stream",
          "text": [
            "INFO:tensorflow:Assets written to: model_ckpt/assets\n"
          ]
        },
        {
          "name": "stdout",
          "output_type": "stream",
          "text": [
            "4397/4397 [==============================] - 111s 25ms/step - loss: 1.1370 - accuracy: 0.6704 - val_loss: 1.4754 - val_accuracy: 0.5944 - lr: 0.0010\n",
            "Epoch 9/90\n",
            "4396/4397 [============================>.] - ETA: 0s - loss: 1.0547 - accuracy: 0.6919\n",
            "Epoch 9: val_accuracy improved from 0.59440 to 0.60016, saving model to model_ckpt\n"
          ]
        },
        {
          "name": "stderr",
          "output_type": "stream",
          "text": [
            "WARNING:absl:Found untraced functions such as lstm_cell_1_layer_call_fn, lstm_cell_1_layer_call_and_return_conditional_losses, lstm_cell_2_layer_call_fn, lstm_cell_2_layer_call_and_return_conditional_losses, lstm_cell_4_layer_call_fn while saving (showing 5 of 12). These functions will not be directly callable after loading.\n"
          ]
        },
        {
          "name": "stdout",
          "output_type": "stream",
          "text": [
            "INFO:tensorflow:Assets written to: model_ckpt/assets\n"
          ]
        },
        {
          "name": "stderr",
          "output_type": "stream",
          "text": [
            "INFO:tensorflow:Assets written to: model_ckpt/assets\n"
          ]
        },
        {
          "name": "stdout",
          "output_type": "stream",
          "text": [
            "4397/4397 [==============================] - 113s 26ms/step - loss: 1.0547 - accuracy: 0.6919 - val_loss: 1.4962 - val_accuracy: 0.6002 - lr: 0.0010\n",
            "Epoch 10/90\n",
            "4395/4397 [============================>.] - ETA: 0s - loss: 0.9779 - accuracy: 0.7134\n",
            "Epoch 10: val_accuracy improved from 0.60016 to 0.60890, saving model to model_ckpt\n"
          ]
        },
        {
          "name": "stderr",
          "output_type": "stream",
          "text": [
            "WARNING:absl:Found untraced functions such as lstm_cell_1_layer_call_fn, lstm_cell_1_layer_call_and_return_conditional_losses, lstm_cell_2_layer_call_fn, lstm_cell_2_layer_call_and_return_conditional_losses, lstm_cell_4_layer_call_fn while saving (showing 5 of 12). These functions will not be directly callable after loading.\n"
          ]
        },
        {
          "name": "stdout",
          "output_type": "stream",
          "text": [
            "INFO:tensorflow:Assets written to: model_ckpt/assets\n"
          ]
        },
        {
          "name": "stderr",
          "output_type": "stream",
          "text": [
            "INFO:tensorflow:Assets written to: model_ckpt/assets\n"
          ]
        },
        {
          "name": "stdout",
          "output_type": "stream",
          "text": [
            "4397/4397 [==============================] - 115s 26ms/step - loss: 0.9779 - accuracy: 0.7134 - val_loss: 1.5247 - val_accuracy: 0.6089 - lr: 0.0010\n",
            "Epoch 11/90\n",
            "4397/4397 [==============================] - ETA: 0s - loss: 0.9116 - accuracy: 0.7321\n",
            "Epoch 11: val_accuracy improved from 0.60890 to 0.60904, saving model to model_ckpt\n"
          ]
        },
        {
          "name": "stderr",
          "output_type": "stream",
          "text": [
            "WARNING:absl:Found untraced functions such as lstm_cell_1_layer_call_fn, lstm_cell_1_layer_call_and_return_conditional_losses, lstm_cell_2_layer_call_fn, lstm_cell_2_layer_call_and_return_conditional_losses, lstm_cell_4_layer_call_fn while saving (showing 5 of 12). These functions will not be directly callable after loading.\n"
          ]
        },
        {
          "name": "stdout",
          "output_type": "stream",
          "text": [
            "INFO:tensorflow:Assets written to: model_ckpt/assets\n"
          ]
        },
        {
          "name": "stderr",
          "output_type": "stream",
          "text": [
            "INFO:tensorflow:Assets written to: model_ckpt/assets\n"
          ]
        },
        {
          "name": "stdout",
          "output_type": "stream",
          "text": [
            "4397/4397 [==============================] - 115s 26ms/step - loss: 0.9116 - accuracy: 0.7321 - val_loss: 1.5482 - val_accuracy: 0.6090 - lr: 0.0010\n",
            "Epoch 12/90\n",
            "4396/4397 [============================>.] - ETA: 0s - loss: 0.8505 - accuracy: 0.7490\n",
            "Epoch 12: val_accuracy improved from 0.60904 to 0.61032, saving model to model_ckpt\n"
          ]
        },
        {
          "name": "stderr",
          "output_type": "stream",
          "text": [
            "WARNING:absl:Found untraced functions such as lstm_cell_1_layer_call_fn, lstm_cell_1_layer_call_and_return_conditional_losses, lstm_cell_2_layer_call_fn, lstm_cell_2_layer_call_and_return_conditional_losses, lstm_cell_4_layer_call_fn while saving (showing 5 of 12). These functions will not be directly callable after loading.\n"
          ]
        },
        {
          "name": "stdout",
          "output_type": "stream",
          "text": [
            "INFO:tensorflow:Assets written to: model_ckpt/assets\n"
          ]
        },
        {
          "name": "stderr",
          "output_type": "stream",
          "text": [
            "INFO:tensorflow:Assets written to: model_ckpt/assets\n"
          ]
        },
        {
          "name": "stdout",
          "output_type": "stream",
          "text": [
            "4397/4397 [==============================] - 115s 26ms/step - loss: 0.8505 - accuracy: 0.7490 - val_loss: 1.5902 - val_accuracy: 0.6103 - lr: 0.0010\n",
            "Epoch 13/90\n",
            "4395/4397 [============================>.] - ETA: 0s - loss: 0.7983 - accuracy: 0.7637\n",
            "Epoch 13: val_accuracy improved from 0.61032 to 0.61480, saving model to model_ckpt\n"
          ]
        },
        {
          "name": "stderr",
          "output_type": "stream",
          "text": [
            "WARNING:absl:Found untraced functions such as lstm_cell_1_layer_call_fn, lstm_cell_1_layer_call_and_return_conditional_losses, lstm_cell_2_layer_call_fn, lstm_cell_2_layer_call_and_return_conditional_losses, lstm_cell_4_layer_call_fn while saving (showing 5 of 12). These functions will not be directly callable after loading.\n"
          ]
        },
        {
          "name": "stdout",
          "output_type": "stream",
          "text": [
            "INFO:tensorflow:Assets written to: model_ckpt/assets\n"
          ]
        },
        {
          "name": "stderr",
          "output_type": "stream",
          "text": [
            "INFO:tensorflow:Assets written to: model_ckpt/assets\n"
          ]
        },
        {
          "name": "stdout",
          "output_type": "stream",
          "text": [
            "4397/4397 [==============================] - 109s 25ms/step - loss: 0.7983 - accuracy: 0.7637 - val_loss: 1.6291 - val_accuracy: 0.6148 - lr: 0.0010\n",
            "Epoch 14/90\n",
            "4397/4397 [==============================] - ETA: 0s - loss: 0.7560 - accuracy: 0.7750\n",
            "Epoch 14: val_accuracy did not improve from 0.61480\n",
            "4397/4397 [==============================] - 74s 17ms/step - loss: 0.7560 - accuracy: 0.7750 - val_loss: 1.6855 - val_accuracy: 0.6111 - lr: 0.0010\n",
            "Epoch 15/90\n",
            "4396/4397 [============================>.] - ETA: 0s - loss: 0.7156 - accuracy: 0.7872\n",
            "Epoch 15: val_accuracy improved from 0.61480 to 0.61608, saving model to model_ckpt\n"
          ]
        },
        {
          "name": "stderr",
          "output_type": "stream",
          "text": [
            "WARNING:absl:Found untraced functions such as lstm_cell_1_layer_call_fn, lstm_cell_1_layer_call_and_return_conditional_losses, lstm_cell_2_layer_call_fn, lstm_cell_2_layer_call_and_return_conditional_losses, lstm_cell_4_layer_call_fn while saving (showing 5 of 12). These functions will not be directly callable after loading.\n"
          ]
        },
        {
          "name": "stdout",
          "output_type": "stream",
          "text": [
            "INFO:tensorflow:Assets written to: model_ckpt/assets\n"
          ]
        },
        {
          "name": "stderr",
          "output_type": "stream",
          "text": [
            "INFO:tensorflow:Assets written to: model_ckpt/assets\n"
          ]
        },
        {
          "name": "stdout",
          "output_type": "stream",
          "text": [
            "4397/4397 [==============================] - 115s 26ms/step - loss: 0.7155 - accuracy: 0.7872 - val_loss: 1.7376 - val_accuracy: 0.6161 - lr: 0.0010\n",
            "Epoch 16/90\n",
            "4397/4397 [==============================] - ETA: 0s - loss: 0.6821 - accuracy: 0.7962\n",
            "Epoch 16: val_accuracy did not improve from 0.61608\n",
            "4397/4397 [==============================] - 79s 18ms/step - loss: 0.6821 - accuracy: 0.7962 - val_loss: 1.7732 - val_accuracy: 0.6141 - lr: 0.0010\n",
            "Epoch 17/90\n",
            "4395/4397 [============================>.] - ETA: 0s - loss: 0.6537 - accuracy: 0.8047\n",
            "Epoch 17: val_accuracy did not improve from 0.61608\n",
            "4397/4397 [==============================] - 81s 18ms/step - loss: 0.6537 - accuracy: 0.8047 - val_loss: 1.8198 - val_accuracy: 0.6153 - lr: 0.0010\n",
            "Epoch 18/90\n",
            "4397/4397 [==============================] - ETA: 0s - loss: 0.6294 - accuracy: 0.8112\n",
            "Epoch 18: val_accuracy did not improve from 0.61608\n",
            "4397/4397 [==============================] - 81s 18ms/step - loss: 0.6294 - accuracy: 0.8112 - val_loss: 1.8847 - val_accuracy: 0.6134 - lr: 0.0010\n",
            "Epoch 19/90\n",
            "4397/4397 [==============================] - ETA: 0s - loss: 0.6074 - accuracy: 0.8183\n",
            "Epoch 19: val_accuracy did not improve from 0.61608\n",
            "4397/4397 [==============================] - 80s 18ms/step - loss: 0.6074 - accuracy: 0.8183 - val_loss: 1.9082 - val_accuracy: 0.6154 - lr: 0.0010\n",
            "Epoch 20/90\n",
            "4396/4397 [============================>.] - ETA: 0s - loss: 0.5849 - accuracy: 0.8246\n",
            "Epoch 20: val_accuracy improved from 0.61608 to 0.61643, saving model to model_ckpt\n"
          ]
        },
        {
          "name": "stderr",
          "output_type": "stream",
          "text": [
            "WARNING:absl:Found untraced functions such as lstm_cell_1_layer_call_fn, lstm_cell_1_layer_call_and_return_conditional_losses, lstm_cell_2_layer_call_fn, lstm_cell_2_layer_call_and_return_conditional_losses, lstm_cell_4_layer_call_fn while saving (showing 5 of 12). These functions will not be directly callable after loading.\n"
          ]
        },
        {
          "name": "stdout",
          "output_type": "stream",
          "text": [
            "INFO:tensorflow:Assets written to: model_ckpt/assets\n"
          ]
        },
        {
          "name": "stderr",
          "output_type": "stream",
          "text": [
            "INFO:tensorflow:Assets written to: model_ckpt/assets\n"
          ]
        },
        {
          "name": "stdout",
          "output_type": "stream",
          "text": [
            "4397/4397 [==============================] - 121s 27ms/step - loss: 0.5849 - accuracy: 0.8246 - val_loss: 1.9827 - val_accuracy: 0.6164 - lr: 0.0010\n",
            "Epoch 21/90\n",
            "4394/4397 [============================>.] - ETA: 0s - loss: 0.5696 - accuracy: 0.8290\n",
            "Epoch 21: val_accuracy did not improve from 0.61643\n",
            "4397/4397 [==============================] - 77s 17ms/step - loss: 0.5695 - accuracy: 0.8291 - val_loss: 1.9954 - val_accuracy: 0.6164 - lr: 0.0010\n",
            "Epoch 22/90\n",
            "4394/4397 [============================>.] - ETA: 0s - loss: 0.5527 - accuracy: 0.8341\n",
            "Epoch 22: val_accuracy improved from 0.61643 to 0.61693, saving model to model_ckpt\n"
          ]
        },
        {
          "name": "stderr",
          "output_type": "stream",
          "text": [
            "WARNING:absl:Found untraced functions such as lstm_cell_1_layer_call_fn, lstm_cell_1_layer_call_and_return_conditional_losses, lstm_cell_2_layer_call_fn, lstm_cell_2_layer_call_and_return_conditional_losses, lstm_cell_4_layer_call_fn while saving (showing 5 of 12). These functions will not be directly callable after loading.\n"
          ]
        },
        {
          "name": "stdout",
          "output_type": "stream",
          "text": [
            "INFO:tensorflow:Assets written to: model_ckpt/assets\n"
          ]
        },
        {
          "name": "stderr",
          "output_type": "stream",
          "text": [
            "INFO:tensorflow:Assets written to: model_ckpt/assets\n"
          ]
        },
        {
          "name": "stdout",
          "output_type": "stream",
          "text": [
            "4397/4397 [==============================] - 114s 26ms/step - loss: 0.5527 - accuracy: 0.8341 - val_loss: 1.9850 - val_accuracy: 0.6169 - lr: 0.0010\n",
            "Epoch 23/90\n",
            "4396/4397 [============================>.] - ETA: 0s - loss: 0.5381 - accuracy: 0.8377\n",
            "Epoch 23: val_accuracy did not improve from 0.61693\n",
            "4397/4397 [==============================] - 75s 17ms/step - loss: 0.5381 - accuracy: 0.8377 - val_loss: 2.0604 - val_accuracy: 0.6154 - lr: 0.0010\n",
            "Epoch 24/90\n",
            "4397/4397 [==============================] - ETA: 0s - loss: 0.5218 - accuracy: 0.8426\n",
            "Epoch 24: val_accuracy did not improve from 0.61693\n",
            "4397/4397 [==============================] - 76s 17ms/step - loss: 0.5218 - accuracy: 0.8426 - val_loss: 2.1014 - val_accuracy: 0.6167 - lr: 0.0010\n",
            "Epoch 25/90\n",
            "4395/4397 [============================>.] - ETA: 0s - loss: 0.5120 - accuracy: 0.8456\n",
            "Epoch 25: val_accuracy did not improve from 0.61693\n",
            "4397/4397 [==============================] - 76s 17ms/step - loss: 0.5120 - accuracy: 0.8456 - val_loss: 2.0961 - val_accuracy: 0.6139 - lr: 0.0010\n",
            "Epoch 26/90\n",
            "4394/4397 [============================>.] - ETA: 0s - loss: 0.5017 - accuracy: 0.8489\n",
            "Epoch 26: val_accuracy did not improve from 0.61693\n",
            "4397/4397 [==============================] - 74s 17ms/step - loss: 0.5017 - accuracy: 0.8488 - val_loss: 2.1613 - val_accuracy: 0.6140 - lr: 0.0010\n",
            "Epoch 27/90\n",
            "4395/4397 [============================>.] - ETA: 0s - loss: 0.4900 - accuracy: 0.8526\n",
            "Epoch 27: ReduceLROnPlateau reducing learning rate to 0.00010000000474974513.\n",
            "\n",
            "Epoch 27: val_accuracy did not improve from 0.61693\n",
            "4397/4397 [==============================] - 70s 16ms/step - loss: 0.4899 - accuracy: 0.8526 - val_loss: 2.1886 - val_accuracy: 0.6146 - lr: 0.0010\n",
            "Epoch 28/90\n",
            "4395/4397 [============================>.] - ETA: 0s - loss: 0.4313 - accuracy: 0.8710\n",
            "Epoch 28: val_accuracy improved from 0.61693 to 0.61828, saving model to model_ckpt\n"
          ]
        },
        {
          "name": "stderr",
          "output_type": "stream",
          "text": [
            "WARNING:absl:Found untraced functions such as lstm_cell_1_layer_call_fn, lstm_cell_1_layer_call_and_return_conditional_losses, lstm_cell_2_layer_call_fn, lstm_cell_2_layer_call_and_return_conditional_losses, lstm_cell_4_layer_call_fn while saving (showing 5 of 12). These functions will not be directly callable after loading.\n"
          ]
        },
        {
          "name": "stdout",
          "output_type": "stream",
          "text": [
            "INFO:tensorflow:Assets written to: model_ckpt/assets\n"
          ]
        },
        {
          "name": "stderr",
          "output_type": "stream",
          "text": [
            "INFO:tensorflow:Assets written to: model_ckpt/assets\n"
          ]
        },
        {
          "name": "stdout",
          "output_type": "stream",
          "text": [
            "4397/4397 [==============================] - 117s 27ms/step - loss: 0.4313 - accuracy: 0.8710 - val_loss: 2.2878 - val_accuracy: 0.6183 - lr: 1.0000e-04\n",
            "Epoch 29/90\n",
            "4395/4397 [============================>.] - ETA: 0s - loss: 0.4224 - accuracy: 0.8728\n",
            "Epoch 29: val_accuracy improved from 0.61828 to 0.62006, saving model to model_ckpt\n"
          ]
        },
        {
          "name": "stderr",
          "output_type": "stream",
          "text": [
            "WARNING:absl:Found untraced functions such as lstm_cell_1_layer_call_fn, lstm_cell_1_layer_call_and_return_conditional_losses, lstm_cell_2_layer_call_fn, lstm_cell_2_layer_call_and_return_conditional_losses, lstm_cell_4_layer_call_fn while saving (showing 5 of 12). These functions will not be directly callable after loading.\n"
          ]
        },
        {
          "name": "stdout",
          "output_type": "stream",
          "text": [
            "INFO:tensorflow:Assets written to: model_ckpt/assets\n"
          ]
        },
        {
          "name": "stderr",
          "output_type": "stream",
          "text": [
            "INFO:tensorflow:Assets written to: model_ckpt/assets\n"
          ]
        },
        {
          "name": "stdout",
          "output_type": "stream",
          "text": [
            "4397/4397 [==============================] - 120s 27ms/step - loss: 0.4224 - accuracy: 0.8728 - val_loss: 2.3026 - val_accuracy: 0.6201 - lr: 1.0000e-04\n",
            "Epoch 30/90\n",
            "4396/4397 [============================>.] - ETA: 0s - loss: 0.4137 - accuracy: 0.8756\n",
            "Epoch 30: val_accuracy did not improve from 0.62006\n",
            "4397/4397 [==============================] - 74s 17ms/step - loss: 0.4137 - accuracy: 0.8756 - val_loss: 2.3482 - val_accuracy: 0.6194 - lr: 1.0000e-04\n",
            "Epoch 31/90\n",
            "4397/4397 [==============================] - ETA: 0s - loss: 0.4084 - accuracy: 0.8774\n",
            "Epoch 31: val_accuracy did not improve from 0.62006\n",
            "4397/4397 [==============================] - 74s 17ms/step - loss: 0.4084 - accuracy: 0.8774 - val_loss: 2.3782 - val_accuracy: 0.6192 - lr: 1.0000e-04\n",
            "Epoch 32/90\n",
            "4395/4397 [============================>.] - ETA: 0s - loss: 0.4078 - accuracy: 0.8773\n",
            "Epoch 32: val_accuracy did not improve from 0.62006\n",
            "4397/4397 [==============================] - 75s 17ms/step - loss: 0.4077 - accuracy: 0.8774 - val_loss: 2.3685 - val_accuracy: 0.6192 - lr: 1.0000e-04\n",
            "Epoch 33/90\n",
            "4396/4397 [============================>.] - ETA: 0s - loss: 0.4017 - accuracy: 0.8795\n",
            "Epoch 33: val_accuracy did not improve from 0.62006\n",
            "4397/4397 [==============================] - 74s 17ms/step - loss: 0.4017 - accuracy: 0.8795 - val_loss: 2.3974 - val_accuracy: 0.6186 - lr: 1.0000e-04\n",
            "Epoch 34/90\n",
            "4397/4397 [==============================] - ETA: 0s - loss: 0.3989 - accuracy: 0.8798\n",
            "Epoch 34: val_accuracy improved from 0.62006 to 0.62042, saving model to model_ckpt\n"
          ]
        },
        {
          "name": "stderr",
          "output_type": "stream",
          "text": [
            "WARNING:absl:Found untraced functions such as lstm_cell_1_layer_call_fn, lstm_cell_1_layer_call_and_return_conditional_losses, lstm_cell_2_layer_call_fn, lstm_cell_2_layer_call_and_return_conditional_losses, lstm_cell_4_layer_call_fn while saving (showing 5 of 12). These functions will not be directly callable after loading.\n"
          ]
        },
        {
          "name": "stdout",
          "output_type": "stream",
          "text": [
            "INFO:tensorflow:Assets written to: model_ckpt/assets\n"
          ]
        },
        {
          "name": "stderr",
          "output_type": "stream",
          "text": [
            "INFO:tensorflow:Assets written to: model_ckpt/assets\n"
          ]
        },
        {
          "name": "stdout",
          "output_type": "stream",
          "text": [
            "4397/4397 [==============================] - 110s 25ms/step - loss: 0.3989 - accuracy: 0.8798 - val_loss: 2.3963 - val_accuracy: 0.6204 - lr: 1.0000e-04\n",
            "Epoch 35/90\n",
            "4394/4397 [============================>.] - ETA: 0s - loss: 0.3965 - accuracy: 0.8810\n",
            "Epoch 35: val_accuracy did not improve from 0.62042\n",
            "4397/4397 [==============================] - 76s 17ms/step - loss: 0.3965 - accuracy: 0.8810 - val_loss: 2.4088 - val_accuracy: 0.6199 - lr: 1.0000e-04\n",
            "Epoch 36/90\n",
            "4396/4397 [============================>.] - ETA: 0s - loss: 0.3955 - accuracy: 0.8813\n",
            "Epoch 36: val_accuracy improved from 0.62042 to 0.62091, saving model to model_ckpt\n"
          ]
        },
        {
          "name": "stderr",
          "output_type": "stream",
          "text": [
            "WARNING:absl:Found untraced functions such as lstm_cell_1_layer_call_fn, lstm_cell_1_layer_call_and_return_conditional_losses, lstm_cell_2_layer_call_fn, lstm_cell_2_layer_call_and_return_conditional_losses, lstm_cell_4_layer_call_fn while saving (showing 5 of 12). These functions will not be directly callable after loading.\n"
          ]
        },
        {
          "name": "stdout",
          "output_type": "stream",
          "text": [
            "INFO:tensorflow:Assets written to: model_ckpt/assets\n"
          ]
        },
        {
          "name": "stderr",
          "output_type": "stream",
          "text": [
            "INFO:tensorflow:Assets written to: model_ckpt/assets\n"
          ]
        },
        {
          "name": "stdout",
          "output_type": "stream",
          "text": [
            "4397/4397 [==============================] - 112s 25ms/step - loss: 0.3955 - accuracy: 0.8813 - val_loss: 2.4151 - val_accuracy: 0.6209 - lr: 1.0000e-04\n",
            "Epoch 37/90\n",
            "4394/4397 [============================>.] - ETA: 0s - loss: 0.3935 - accuracy: 0.8819\n",
            "Epoch 37: val_accuracy improved from 0.62091 to 0.62098, saving model to model_ckpt\n"
          ]
        },
        {
          "name": "stderr",
          "output_type": "stream",
          "text": [
            "WARNING:absl:Found untraced functions such as lstm_cell_1_layer_call_fn, lstm_cell_1_layer_call_and_return_conditional_losses, lstm_cell_2_layer_call_fn, lstm_cell_2_layer_call_and_return_conditional_losses, lstm_cell_4_layer_call_fn while saving (showing 5 of 12). These functions will not be directly callable after loading.\n"
          ]
        },
        {
          "name": "stdout",
          "output_type": "stream",
          "text": [
            "INFO:tensorflow:Assets written to: model_ckpt/assets\n"
          ]
        },
        {
          "name": "stderr",
          "output_type": "stream",
          "text": [
            "INFO:tensorflow:Assets written to: model_ckpt/assets\n"
          ]
        },
        {
          "name": "stdout",
          "output_type": "stream",
          "text": [
            "4397/4397 [==============================] - 119s 27ms/step - loss: 0.3935 - accuracy: 0.8819 - val_loss: 2.4276 - val_accuracy: 0.6210 - lr: 1.0000e-04\n",
            "Epoch 38/90\n",
            "4396/4397 [============================>.] - ETA: 0s - loss: 0.3915 - accuracy: 0.8829\n",
            "Epoch 38: val_accuracy did not improve from 0.62098\n",
            "4397/4397 [==============================] - 82s 19ms/step - loss: 0.3915 - accuracy: 0.8829 - val_loss: 2.4170 - val_accuracy: 0.6196 - lr: 1.0000e-04\n",
            "Epoch 39/90\n",
            "4396/4397 [============================>.] - ETA: 0s - loss: 0.3890 - accuracy: 0.8836\n",
            "Epoch 39: val_accuracy improved from 0.62098 to 0.62219, saving model to model_ckpt\n"
          ]
        },
        {
          "name": "stderr",
          "output_type": "stream",
          "text": [
            "WARNING:absl:Found untraced functions such as lstm_cell_1_layer_call_fn, lstm_cell_1_layer_call_and_return_conditional_losses, lstm_cell_2_layer_call_fn, lstm_cell_2_layer_call_and_return_conditional_losses, lstm_cell_4_layer_call_fn while saving (showing 5 of 12). These functions will not be directly callable after loading.\n"
          ]
        },
        {
          "name": "stdout",
          "output_type": "stream",
          "text": [
            "INFO:tensorflow:Assets written to: model_ckpt/assets\n"
          ]
        },
        {
          "name": "stderr",
          "output_type": "stream",
          "text": [
            "INFO:tensorflow:Assets written to: model_ckpt/assets\n"
          ]
        },
        {
          "name": "stdout",
          "output_type": "stream",
          "text": [
            "4397/4397 [==============================] - 115s 26ms/step - loss: 0.3890 - accuracy: 0.8836 - val_loss: 2.4500 - val_accuracy: 0.6222 - lr: 1.0000e-04\n",
            "Epoch 40/90\n",
            "4396/4397 [============================>.] - ETA: 0s - loss: 0.3864 - accuracy: 0.8839\n",
            "Epoch 40: val_accuracy did not improve from 0.62219\n",
            "4397/4397 [==============================] - 76s 17ms/step - loss: 0.3864 - accuracy: 0.8839 - val_loss: 2.4565 - val_accuracy: 0.6197 - lr: 1.0000e-04\n",
            "Epoch 41/90\n",
            "4397/4397 [==============================] - ETA: 0s - loss: 0.3870 - accuracy: 0.8841\n",
            "Epoch 41: val_accuracy did not improve from 0.62219\n",
            "4397/4397 [==============================] - 80s 18ms/step - loss: 0.3870 - accuracy: 0.8841 - val_loss: 2.4615 - val_accuracy: 0.6210 - lr: 1.0000e-04\n",
            "Epoch 42/90\n",
            "4396/4397 [============================>.] - ETA: 0s - loss: 0.3838 - accuracy: 0.8844\n",
            "Epoch 42: val_accuracy improved from 0.62219 to 0.62269, saving model to model_ckpt\n"
          ]
        },
        {
          "name": "stderr",
          "output_type": "stream",
          "text": [
            "WARNING:absl:Found untraced functions such as lstm_cell_1_layer_call_fn, lstm_cell_1_layer_call_and_return_conditional_losses, lstm_cell_2_layer_call_fn, lstm_cell_2_layer_call_and_return_conditional_losses, lstm_cell_4_layer_call_fn while saving (showing 5 of 12). These functions will not be directly callable after loading.\n"
          ]
        },
        {
          "name": "stdout",
          "output_type": "stream",
          "text": [
            "INFO:tensorflow:Assets written to: model_ckpt/assets\n"
          ]
        },
        {
          "name": "stderr",
          "output_type": "stream",
          "text": [
            "INFO:tensorflow:Assets written to: model_ckpt/assets\n"
          ]
        },
        {
          "name": "stdout",
          "output_type": "stream",
          "text": [
            "4397/4397 [==============================] - 116s 26ms/step - loss: 0.3838 - accuracy: 0.8844 - val_loss: 2.4596 - val_accuracy: 0.6227 - lr: 1.0000e-04\n",
            "Epoch 43/90\n",
            "4396/4397 [============================>.] - ETA: 0s - loss: 0.3814 - accuracy: 0.8852\n",
            "Epoch 43: val_accuracy did not improve from 0.62269\n",
            "4397/4397 [==============================] - 78s 18ms/step - loss: 0.3814 - accuracy: 0.8852 - val_loss: 2.4671 - val_accuracy: 0.6221 - lr: 1.0000e-04\n",
            "Epoch 44/90\n",
            "4396/4397 [============================>.] - ETA: 0s - loss: 0.3805 - accuracy: 0.8856\n",
            "Epoch 44: val_accuracy did not improve from 0.62269\n",
            "4397/4397 [==============================] - 79s 18ms/step - loss: 0.3805 - accuracy: 0.8856 - val_loss: 2.4882 - val_accuracy: 0.6211 - lr: 1.0000e-04\n",
            "Epoch 45/90\n",
            "4395/4397 [============================>.] - ETA: 0s - loss: 0.3799 - accuracy: 0.8855\n",
            "Epoch 45: val_accuracy did not improve from 0.62269\n",
            "4397/4397 [==============================] - 78s 18ms/step - loss: 0.3798 - accuracy: 0.8855 - val_loss: 2.4954 - val_accuracy: 0.6215 - lr: 1.0000e-04\n",
            "Epoch 46/90\n",
            "4396/4397 [============================>.] - ETA: 0s - loss: 0.3788 - accuracy: 0.8860\n",
            "Epoch 46: val_accuracy did not improve from 0.62269\n",
            "4397/4397 [==============================] - 77s 17ms/step - loss: 0.3788 - accuracy: 0.8860 - val_loss: 2.4805 - val_accuracy: 0.6218 - lr: 1.0000e-04\n",
            "Epoch 47/90\n",
            "4395/4397 [============================>.] - ETA: 0s - loss: 0.3766 - accuracy: 0.8867\n",
            "Epoch 47: ReduceLROnPlateau reducing learning rate to 1.0000000474974514e-05.\n",
            "\n",
            "Epoch 47: val_accuracy did not improve from 0.62269\n",
            "4397/4397 [==============================] - 86s 20ms/step - loss: 0.3767 - accuracy: 0.8867 - val_loss: 2.5022 - val_accuracy: 0.6215 - lr: 1.0000e-04\n",
            "Epoch 48/90\n",
            "4395/4397 [============================>.] - ETA: 0s - loss: 0.3710 - accuracy: 0.8887\n",
            "Epoch 48: val_accuracy did not improve from 0.62269\n",
            "4397/4397 [==============================] - 79s 18ms/step - loss: 0.3710 - accuracy: 0.8887 - val_loss: 2.5075 - val_accuracy: 0.6221 - lr: 1.0000e-05\n",
            "Epoch 49/90\n",
            "4395/4397 [============================>.] - ETA: 0s - loss: 0.3712 - accuracy: 0.8887\n",
            "Epoch 49: val_accuracy did not improve from 0.62269\n",
            "4397/4397 [==============================] - 76s 17ms/step - loss: 0.3712 - accuracy: 0.8887 - val_loss: 2.5113 - val_accuracy: 0.6219 - lr: 1.0000e-05\n",
            "Epoch 50/90\n",
            "4395/4397 [============================>.] - ETA: 0s - loss: 0.3712 - accuracy: 0.8882\n",
            "Epoch 50: val_accuracy did not improve from 0.62269\n",
            "4397/4397 [==============================] - 77s 17ms/step - loss: 0.3712 - accuracy: 0.8882 - val_loss: 2.5120 - val_accuracy: 0.6219 - lr: 1.0000e-05\n",
            "Epoch 51/90\n",
            "4396/4397 [============================>.] - ETA: 0s - loss: 0.3708 - accuracy: 0.8885\n",
            "Epoch 51: val_accuracy did not improve from 0.62269\n",
            "4397/4397 [==============================] - 76s 17ms/step - loss: 0.3708 - accuracy: 0.8885 - val_loss: 2.5133 - val_accuracy: 0.6217 - lr: 1.0000e-05\n",
            "Epoch 52/90\n",
            "4395/4397 [============================>.] - ETA: 0s - loss: 0.3700 - accuracy: 0.8889\n",
            "Epoch 52: ReduceLROnPlateau reducing learning rate to 1.0000000656873453e-06.\n",
            "\n",
            "Epoch 52: val_accuracy did not improve from 0.62269\n",
            "4397/4397 [==============================] - 75s 17ms/step - loss: 0.3701 - accuracy: 0.8889 - val_loss: 2.5170 - val_accuracy: 0.6223 - lr: 1.0000e-05\n",
            "Epoch 53/90\n",
            "4395/4397 [============================>.] - ETA: 0s - loss: 0.3705 - accuracy: 0.8887\n",
            "Epoch 53: val_accuracy did not improve from 0.62269\n",
            "4397/4397 [==============================] - 74s 17ms/step - loss: 0.3705 - accuracy: 0.8887 - val_loss: 2.5172 - val_accuracy: 0.6225 - lr: 1.0000e-06\n",
            "Epoch 53: early stopping\n"
          ]
        },
        {
          "data": {
            "text/plain": [
              "<keras.callbacks.History at 0x7f6aca5b18b0>"
            ]
          },
          "execution_count": 24,
          "metadata": {},
          "output_type": "execute_result"
        }
      ],
      "source": [
        "model.fit(x=train_x,y=train_y,epochs=90,validation_data=(val_x,val_y),callbacks=[lr_sched,mdl_check,early_stop],batch_size=64)"
      ]
    },
    {
      "cell_type": "code",
      "execution_count": null,
      "id": "63627949-ae38-4b06-986a-f200688d1f63",
      "metadata": {
        "id": "63627949-ae38-4b06-986a-f200688d1f63",
        "outputId": "96d9a5d0-f663-401d-d863-3474e08523c8"
      },
      "outputs": [
        {
          "name": "stdout",
          "output_type": "stream",
          "text": [
            "1759/1759 [==============================] - 12s 7ms/step - loss: 2.3724 - accuracy: 0.6207\n"
          ]
        },
        {
          "data": {
            "text/plain": [
              "[2.3724429607391357, 0.620657205581665]"
            ]
          },
          "execution_count": 31,
          "metadata": {},
          "output_type": "execute_result"
        }
      ],
      "source": [
        "model.evaluate(x=test_x,y=test_y)"
      ]
    },
    {
      "cell_type": "markdown",
      "id": "1f448453-9ef7-46bd-96c7-4d3afb327b0f",
      "metadata": {
        "id": "1f448453-9ef7-46bd-96c7-4d3afb327b0f",
        "tags": []
      },
      "source": [
        "## **Training and Evaluation with Word2Vec Embeddings**"
      ]
    },
    {
      "cell_type": "markdown",
      "id": "3af9f3de-7912-48bb-8b89-53321cbbeaf0",
      "metadata": {
        "id": "3af9f3de-7912-48bb-8b89-53321cbbeaf0"
      },
      "source": [
        "In this section, we will train all the models again by using Word2Vec Embeddings and compare the results.An embedding maps a word to a semantic vector. We call those semantic vector because they preserve semantic information related to the word they represent.In particular, words with a semantic relationship correspond to vectors that are close together in the vector space. They usually perform better than TF-IDF,BoW and similar. The main reasons are two:\n",
        "\n",
        "- dense vectors vs sparse vectors: Embeddings are much smaller than sparse encoding methods since they produce dense vectors so training and inference are usually faster.\n",
        "\n",
        "- semantic information is preserved: Sparse encoding methods only use frequency to encode words, while with embeddings, the semantic meaning of the input is kept and can be used to boost the performance of the model.\n",
        "\n",
        "To produce our Word2Vec embeddings we will use SpaCy, a powerful open-source NLP library, which is broadly used in the industry due to its fast performance. In particular, we will perform Sentence Encoding, which produces a vector for each utterance in the dataset, by averaging the embeddings for each single word of the sentence. This approach is usually preferred in text-classification where we focus on the whole sentence meaning, while word-level embeddings performs better where more granular understanding is required like in PoS or Entity Recognition."
      ]
    },
    {
      "cell_type": "code",
      "execution_count": null,
      "id": "b9e84e57-15f3-4013-be2f-431d2860cb97",
      "metadata": {
        "id": "b9e84e57-15f3-4013-be2f-431d2860cb97"
      },
      "outputs": [],
      "source": [
        "X = final_df['cleaned_text']\n",
        "y = final_df['eb+_emot']"
      ]
    },
    {
      "cell_type": "markdown",
      "id": "0962cc08-20c8-44d7-9f4b-dfc1113e25c0",
      "metadata": {
        "id": "0962cc08-20c8-44d7-9f4b-dfc1113e25c0",
        "tags": []
      },
      "source": [
        "### **Sentence Encoding with SpaCy**"
      ]
    },
    {
      "cell_type": "code",
      "execution_count": null,
      "id": "49f0a03f-01fb-4c48-9748-3fad67b42422",
      "metadata": {
        "collapsed": true,
        "id": "49f0a03f-01fb-4c48-9748-3fad67b42422",
        "jupyter": {
          "outputs_hidden": true
        },
        "outputId": "8a0d02c3-2d73-4e05-d283-a9403b5fe1c0",
        "tags": []
      },
      "outputs": [
        {
          "name": "stdout",
          "output_type": "stream",
          "text": [
            "huggingface/tokenizers: The current process just got forked, after parallelism has already been used. Disabling parallelism to avoid deadlocks...\n",
            "To disable this warning, you can either:\n",
            "\t- Avoid using `tokenizers` before the fork if possible\n",
            "\t- Explicitly set the environment variable TOKENIZERS_PARALLELISM=(true | false)\n",
            "Collecting en-core-web-lg==3.4.1\n",
            "  Downloading https://github.com/explosion/spacy-models/releases/download/en_core_web_lg-3.4.1/en_core_web_lg-3.4.1-py3-none-any.whl (587.7 MB)\n",
            "\u001b[2K     \u001b[90m━━━━━━━━━━━━━━━━━━━━━━━━━━━━━━━━━━━━━━━\u001b[0m \u001b[32m587.7/587.7 MB\u001b[0m \u001b[31m3.5 MB/s\u001b[0m eta \u001b[36m0:00:00\u001b[0m00:01\u001b[0m00:01\u001b[0m\n",
            "\u001b[?25hRequirement already satisfied: spacy<3.5.0,>=3.4.0 in /usr/local/lib/python3.9/dist-packages (from en-core-web-lg==3.4.1) (3.4.1)\n",
            "Requirement already satisfied: catalogue<2.1.0,>=2.0.6 in /usr/local/lib/python3.9/dist-packages (from spacy<3.5.0,>=3.4.0->en-core-web-lg==3.4.1) (2.0.8)\n",
            "Requirement already satisfied: spacy-legacy<3.1.0,>=3.0.9 in /usr/local/lib/python3.9/dist-packages (from spacy<3.5.0,>=3.4.0->en-core-web-lg==3.4.1) (3.0.12)\n",
            "Requirement already satisfied: wasabi<1.1.0,>=0.9.1 in /usr/local/lib/python3.9/dist-packages (from spacy<3.5.0,>=3.4.0->en-core-web-lg==3.4.1) (0.10.1)\n",
            "Requirement already satisfied: murmurhash<1.1.0,>=0.28.0 in /usr/local/lib/python3.9/dist-packages (from spacy<3.5.0,>=3.4.0->en-core-web-lg==3.4.1) (1.0.9)\n",
            "Requirement already satisfied: jinja2 in /usr/local/lib/python3.9/dist-packages (from spacy<3.5.0,>=3.4.0->en-core-web-lg==3.4.1) (3.1.2)\n",
            "Requirement already satisfied: pathy>=0.3.5 in /usr/local/lib/python3.9/dist-packages (from spacy<3.5.0,>=3.4.0->en-core-web-lg==3.4.1) (0.10.1)\n",
            "Requirement already satisfied: spacy-loggers<2.0.0,>=1.0.0 in /usr/local/lib/python3.9/dist-packages (from spacy<3.5.0,>=3.4.0->en-core-web-lg==3.4.1) (1.0.4)\n",
            "Requirement already satisfied: tqdm<5.0.0,>=4.38.0 in /usr/local/lib/python3.9/dist-packages (from spacy<3.5.0,>=3.4.0->en-core-web-lg==3.4.1) (4.64.1)\n",
            "Requirement already satisfied: langcodes<4.0.0,>=3.2.0 in /usr/local/lib/python3.9/dist-packages (from spacy<3.5.0,>=3.4.0->en-core-web-lg==3.4.1) (3.3.0)\n",
            "Requirement already satisfied: preshed<3.1.0,>=3.0.2 in /usr/local/lib/python3.9/dist-packages (from spacy<3.5.0,>=3.4.0->en-core-web-lg==3.4.1) (3.0.8)\n",
            "Requirement already satisfied: typer<0.5.0,>=0.3.0 in /usr/local/lib/python3.9/dist-packages (from spacy<3.5.0,>=3.4.0->en-core-web-lg==3.4.1) (0.4.2)\n",
            "Requirement already satisfied: requests<3.0.0,>=2.13.0 in /usr/local/lib/python3.9/dist-packages (from spacy<3.5.0,>=3.4.0->en-core-web-lg==3.4.1) (2.28.2)\n",
            "Requirement already satisfied: srsly<3.0.0,>=2.4.3 in /usr/local/lib/python3.9/dist-packages (from spacy<3.5.0,>=3.4.0->en-core-web-lg==3.4.1) (2.4.5)\n",
            "Requirement already satisfied: pydantic!=1.8,!=1.8.1,<1.10.0,>=1.7.4 in /usr/local/lib/python3.9/dist-packages (from spacy<3.5.0,>=3.4.0->en-core-web-lg==3.4.1) (1.9.2)\n",
            "Requirement already satisfied: cymem<2.1.0,>=2.0.2 in /usr/local/lib/python3.9/dist-packages (from spacy<3.5.0,>=3.4.0->en-core-web-lg==3.4.1) (2.0.7)\n",
            "Requirement already satisfied: packaging>=20.0 in /usr/local/lib/python3.9/dist-packages (from spacy<3.5.0,>=3.4.0->en-core-web-lg==3.4.1) (23.0)\n",
            "Requirement already satisfied: numpy>=1.15.0 in /usr/local/lib/python3.9/dist-packages (from spacy<3.5.0,>=3.4.0->en-core-web-lg==3.4.1) (1.23.4)\n",
            "Requirement already satisfied: thinc<8.2.0,>=8.1.0 in /usr/local/lib/python3.9/dist-packages (from spacy<3.5.0,>=3.4.0->en-core-web-lg==3.4.1) (8.1.7)\n",
            "Requirement already satisfied: setuptools in /usr/local/lib/python3.9/dist-packages (from spacy<3.5.0,>=3.4.0->en-core-web-lg==3.4.1) (66.1.1)\n",
            "Requirement already satisfied: smart-open<7.0.0,>=5.2.1 in /usr/local/lib/python3.9/dist-packages (from pathy>=0.3.5->spacy<3.5.0,>=3.4.0->en-core-web-lg==3.4.1) (6.3.0)\n",
            "Requirement already satisfied: typing-extensions>=3.7.4.3 in /usr/local/lib/python3.9/dist-packages (from pydantic!=1.8,!=1.8.1,<1.10.0,>=1.7.4->spacy<3.5.0,>=3.4.0->en-core-web-lg==3.4.1) (4.4.0)\n",
            "Requirement already satisfied: certifi>=2017.4.17 in /usr/lib/python3/dist-packages (from requests<3.0.0,>=2.13.0->spacy<3.5.0,>=3.4.0->en-core-web-lg==3.4.1) (2019.11.28)\n",
            "Requirement already satisfied: urllib3<1.27,>=1.21.1 in /usr/local/lib/python3.9/dist-packages (from requests<3.0.0,>=2.13.0->spacy<3.5.0,>=3.4.0->en-core-web-lg==3.4.1) (1.26.14)\n",
            "Requirement already satisfied: charset-normalizer<4,>=2 in /usr/local/lib/python3.9/dist-packages (from requests<3.0.0,>=2.13.0->spacy<3.5.0,>=3.4.0->en-core-web-lg==3.4.1) (2.1.1)\n",
            "Requirement already satisfied: idna<4,>=2.5 in /usr/lib/python3/dist-packages (from requests<3.0.0,>=2.13.0->spacy<3.5.0,>=3.4.0->en-core-web-lg==3.4.1) (2.8)\n",
            "Requirement already satisfied: blis<0.8.0,>=0.7.8 in /usr/local/lib/python3.9/dist-packages (from thinc<8.2.0,>=8.1.0->spacy<3.5.0,>=3.4.0->en-core-web-lg==3.4.1) (0.7.9)\n",
            "Requirement already satisfied: confection<1.0.0,>=0.0.1 in /usr/local/lib/python3.9/dist-packages (from thinc<8.2.0,>=8.1.0->spacy<3.5.0,>=3.4.0->en-core-web-lg==3.4.1) (0.0.4)\n",
            "Requirement already satisfied: click<9.0.0,>=7.1.1 in /usr/local/lib/python3.9/dist-packages (from typer<0.5.0,>=0.3.0->spacy<3.5.0,>=3.4.0->en-core-web-lg==3.4.1) (8.1.3)\n",
            "Requirement already satisfied: MarkupSafe>=2.0 in /usr/local/lib/python3.9/dist-packages (from jinja2->spacy<3.5.0,>=3.4.0->en-core-web-lg==3.4.1) (2.1.2)\n",
            "Installing collected packages: en-core-web-lg\n",
            "Successfully installed en-core-web-lg-3.4.1\n",
            "\u001b[33mWARNING: Running pip as the 'root' user can result in broken permissions and conflicting behaviour with the system package manager. It is recommended to use a virtual environment instead: https://pip.pypa.io/warnings/venv\u001b[0m\u001b[33m\n",
            "\u001b[0m\u001b[38;5;2m✔ Download and installation successful\u001b[0m\n",
            "You can now load the package via spacy.load('en_core_web_lg')\n"
          ]
        }
      ],
      "source": [
        "!python -m spacy download en_core_web_lg"
      ]
    },
    {
      "cell_type": "code",
      "execution_count": null,
      "id": "883ffba5-94a3-475a-ae96-18fcd1150eed",
      "metadata": {
        "id": "883ffba5-94a3-475a-ae96-18fcd1150eed"
      },
      "outputs": [],
      "source": [
        "nlp = spacy.load('en_core_web_lg')\n",
        "\n",
        "embedding_dim = len(nlp('The').vector)"
      ]
    },
    {
      "cell_type": "code",
      "execution_count": null,
      "id": "3f325ee5-b87a-45e0-b6f0-5f8c7aaa2fcd",
      "metadata": {
        "id": "3f325ee5-b87a-45e0-b6f0-5f8c7aaa2fcd"
      },
      "outputs": [],
      "source": [
        "train_x,test_x,train_y,test_y = train_test_split(X,y,test_size=0.2,stratify=y,random_state=42)"
      ]
    },
    {
      "cell_type": "markdown",
      "id": "4c7c98e1-424d-4eb0-9764-d066807b720a",
      "metadata": {
        "id": "4c7c98e1-424d-4eb0-9764-d066807b720a"
      },
      "source": [
        "For each utterance in the dataset, we compute its sentence encoding. Given the amount of data at our disposition this operation will require some time so we will save the resulting vectors to be able to load them at any point without computing all the embeddings again."
      ]
    },
    {
      "cell_type": "code",
      "execution_count": null,
      "id": "7412bd37-a8e5-465a-998f-3492c24773d2",
      "metadata": {
        "id": "7412bd37-a8e5-465a-998f-3492c24773d2",
        "tags": []
      },
      "outputs": [],
      "source": [
        "train_x = [nlp(text).vector for text in train_x] #we get a list of vectors, where each vector is the sentence encoding\n",
        "train_x=vstack(train_x)"
      ]
    },
    {
      "cell_type": "code",
      "execution_count": null,
      "id": "a616edc2-40af-4549-b5b6-500aee9be7b2",
      "metadata": {
        "id": "a616edc2-40af-4549-b5b6-500aee9be7b2",
        "tags": []
      },
      "outputs": [],
      "source": [
        "test_x = [nlp(text).vector for text in test_x] #we get a list of vectors, where each vector is the sentence encoding\n",
        "test_x=vstack(test_x)"
      ]
    },
    {
      "cell_type": "code",
      "execution_count": null,
      "id": "a9103d41-64cc-411c-a021-8c0fdfe8054b",
      "metadata": {
        "id": "a9103d41-64cc-411c-a021-8c0fdfe8054b",
        "outputId": "688976c8-fdbe-436a-fbf2-885b843bb4cc"
      },
      "outputs": [
        {
          "data": {
            "text/plain": [
              "(70340, 300)"
            ]
          },
          "execution_count": 21,
          "metadata": {},
          "output_type": "execute_result"
        }
      ],
      "source": [
        "test_x.shape"
      ]
    },
    {
      "cell_type": "code",
      "execution_count": null,
      "id": "91018fdd-ef4c-4deb-a5a0-32a786fbbfe6",
      "metadata": {
        "id": "91018fdd-ef4c-4deb-a5a0-32a786fbbfe6",
        "outputId": "5b199127-63de-4e58-bff3-ade783346e81"
      },
      "outputs": [
        {
          "data": {
            "text/plain": [
              "(281358, 300)"
            ]
          },
          "execution_count": 22,
          "metadata": {},
          "output_type": "execute_result"
        }
      ],
      "source": [
        "train_x.shape"
      ]
    },
    {
      "cell_type": "markdown",
      "id": "0695c343-31fd-4ce7-8fe0-c21438decee6",
      "metadata": {
        "id": "0695c343-31fd-4ce7-8fe0-c21438decee6"
      },
      "source": [
        "As we can see we obtained a list of sentence encodings, one for each entry in the dataset. Each encoding is composed by 300 float32."
      ]
    },
    {
      "cell_type": "code",
      "execution_count": null,
      "id": "b83bb6c4-6a21-443e-a7e0-b84a041601ba",
      "metadata": {
        "id": "b83bb6c4-6a21-443e-a7e0-b84a041601ba"
      },
      "outputs": [],
      "source": [
        "save(\"sent_encodings_newpreprocess/train.npy\", train_x, allow_pickle=True, fix_imports=True)\n",
        "save(\"sent_encodings_newpreprocess/test.npy\", test_x, allow_pickle=True, fix_imports=True)"
      ]
    },
    {
      "cell_type": "markdown",
      "id": "7c7579e4-3b4e-4f6b-b6d4-49557632ff88",
      "metadata": {
        "id": "7c7579e4-3b4e-4f6b-b6d4-49557632ff88"
      },
      "source": [
        "---\n",
        "From now on we will load the computed matrix as numpy arrays from local disk to avoid recomputing them each time"
      ]
    },
    {
      "cell_type": "code",
      "execution_count": null,
      "id": "3d7208d2-2cdb-4d7e-93b7-629d493d7803",
      "metadata": {
        "id": "3d7208d2-2cdb-4d7e-93b7-629d493d7803"
      },
      "outputs": [],
      "source": [
        "train_x = load(\"sent_encodings_newpreprocess/train.npy\",allow_pickle=True)\n",
        "test_x = load(\"sent_encodings_newpreprocess/test.npy\",allow_pickle=True)"
      ]
    },
    {
      "cell_type": "code",
      "execution_count": null,
      "id": "9ed53e16-3a9e-4777-9a45-dd3bd6ac0d25",
      "metadata": {
        "id": "9ed53e16-3a9e-4777-9a45-dd3bd6ac0d25"
      },
      "outputs": [],
      "source": [
        "le = LabelEncoder()\n",
        "train_y = le.fit_transform(train_y)\n",
        "test_y = le.transform(test_y)"
      ]
    },
    {
      "cell_type": "markdown",
      "id": "92220822-b2ea-43d5-a6ab-5e1b7b82e4b1",
      "metadata": {
        "id": "92220822-b2ea-43d5-a6ab-5e1b7b82e4b1",
        "tags": []
      },
      "source": [
        "### **Linear Classifier**"
      ]
    },
    {
      "cell_type": "markdown",
      "id": "fa969d85-7cb9-4b5c-ba07-432add01a2c7",
      "metadata": {
        "id": "fa969d85-7cb9-4b5c-ba07-432add01a2c7",
        "tags": []
      },
      "source": [
        "#### **Multinomial Logistic Regression**"
      ]
    },
    {
      "cell_type": "markdown",
      "id": "92af04a0-12b3-44ee-ab7b-296ae4fe866e",
      "metadata": {
        "id": "92af04a0-12b3-44ee-ab7b-296ae4fe866e"
      },
      "source": [
        "Since sentence encodings are dense vectors, they will take much more time than TF-IDF sparse compressed vectors. For this reason, even in case of a slightly improvement in the predictions, TF-IDF is probably the preferable approach.\n",
        "\n",
        "Given the resources and the amount of data, we won't repeat the hyperparameter tuning, but instead, use the optimal parameters found in the TF-IDF Vectorization section."
      ]
    },
    {
      "cell_type": "code",
      "execution_count": null,
      "id": "08ecf9a3-98d6-40e4-98ae-78e7dcd79cf6",
      "metadata": {
        "id": "08ecf9a3-98d6-40e4-98ae-78e7dcd79cf6"
      },
      "outputs": [],
      "source": [
        "log_reg = LogisticRegression(n_jobs=-1,\n",
        "                            multi_class='multinomial',\n",
        "                            solver='saga',\n",
        "                            C=1,\n",
        "                            penalty='l2')"
      ]
    },
    {
      "cell_type": "code",
      "execution_count": null,
      "id": "d7f74d99-3695-44e2-a0f1-202dc33eb08c",
      "metadata": {
        "id": "d7f74d99-3695-44e2-a0f1-202dc33eb08c",
        "tags": []
      },
      "outputs": [],
      "source": [
        "log_reg.fit(train_x,train_y)"
      ]
    },
    {
      "cell_type": "code",
      "execution_count": null,
      "id": "17aef14b-e421-4062-9b23-3cc09a5b91bf",
      "metadata": {
        "id": "17aef14b-e421-4062-9b23-3cc09a5b91bf"
      },
      "outputs": [],
      "source": [
        "y_pred = log_reg.predict(test_x)"
      ]
    },
    {
      "cell_type": "code",
      "execution_count": null,
      "id": "f49248f3-1603-4332-9e18-8f982b4a791f",
      "metadata": {
        "id": "f49248f3-1603-4332-9e18-8f982b4a791f",
        "outputId": "62587e42-96dc-40d1-9b46-3a542cd1ada3",
        "tags": []
      },
      "outputs": [
        {
          "name": "stdout",
          "output_type": "stream",
          "text": [
            "              precision    recall  f1-score   support\n",
            "\n",
            "           0       0.36      0.36      0.36      1716\n",
            "           1       0.47      0.41      0.44      1716\n",
            "           2       0.41      0.41      0.41      1716\n",
            "           3       0.50      0.42      0.46      1716\n",
            "           4       0.39      0.40      0.39      1715\n",
            "           5       0.47      0.49      0.48      1716\n",
            "           6       0.52      0.57      0.54      1715\n",
            "           7       0.44      0.47      0.46      1716\n",
            "           8       0.38      0.35      0.37      1715\n",
            "           9       0.44      0.43      0.44      1715\n",
            "          10       0.38      0.38      0.38      1716\n",
            "          11       0.59      0.55      0.57      1716\n",
            "          12       0.54      0.55      0.54      1715\n",
            "          13       0.50      0.46      0.48      1715\n",
            "          14       0.37      0.37      0.37      1716\n",
            "          15       0.59      0.55      0.57      1715\n",
            "          16       0.48      0.43      0.46      1716\n",
            "          17       0.56      0.54      0.55      1715\n",
            "          18       0.49      0.48      0.48      1716\n",
            "          19       0.55      0.58      0.57      1715\n",
            "          20       0.52      0.48      0.50      1716\n",
            "          21       0.64      0.61      0.63      1716\n",
            "          22       0.44      0.46      0.45      1716\n",
            "          23       0.40      0.40      0.40      1716\n",
            "          24       0.45      0.44      0.45      1715\n",
            "          25       0.41      0.47      0.44      1715\n",
            "          26       0.55      0.52      0.53      1715\n",
            "          27       0.67      0.70      0.68      1716\n",
            "          28       0.50      0.52      0.51      1716\n",
            "          29       0.48      0.57      0.52      1715\n",
            "          30       0.57      0.61      0.59      1716\n",
            "          31       0.46      0.46      0.46      1716\n",
            "          32       0.58      0.62      0.60      1715\n",
            "          33       0.37      0.35      0.36      1716\n",
            "          34       0.47      0.47      0.47      1716\n",
            "          35       0.46      0.48      0.47      1716\n",
            "          36       0.41      0.42      0.42      1716\n",
            "          37       0.73      0.73      0.73      1716\n",
            "          38       0.52      0.56      0.54      1716\n",
            "          39       0.37      0.37      0.37      1715\n",
            "          40       0.64      0.60      0.62      1715\n",
            "\n",
            "    accuracy                           0.49     70340\n",
            "   macro avg       0.49      0.49      0.49     70340\n",
            "weighted avg       0.49      0.49      0.49     70340\n",
            "\n"
          ]
        }
      ],
      "source": [
        "print(classification_report(test_y,y_pred))"
      ]
    },
    {
      "cell_type": "markdown",
      "id": "e06b4d88-f61f-483f-9ec5-a33bfdb0e847",
      "metadata": {
        "id": "e06b4d88-f61f-483f-9ec5-a33bfdb0e847",
        "tags": []
      },
      "source": [
        "### **Random Forest Classifier**"
      ]
    },
    {
      "cell_type": "code",
      "execution_count": null,
      "id": "7a4d9ed1-9ae3-4aee-94d9-e51f95db18fa",
      "metadata": {
        "id": "7a4d9ed1-9ae3-4aee-94d9-e51f95db18fa",
        "outputId": "e24b8642-38b9-49b4-c74b-7f43985d5ea4",
        "tags": []
      },
      "outputs": [
        {
          "name": "stdout",
          "output_type": "stream",
          "text": [
            "              precision    recall  f1-score   support\n",
            "\n",
            "           0       0.38      0.33      0.36      1716\n",
            "           1       0.34      0.25      0.29      1716\n",
            "           2       0.46      0.33      0.38      1716\n",
            "           3       0.61      0.40      0.48      1716\n",
            "           4       0.37      0.36      0.37      1715\n",
            "           5       0.36      0.38      0.37      1716\n",
            "           6       0.60      0.69      0.64      1715\n",
            "           7       0.32      0.52      0.39      1716\n",
            "           8       0.55      0.49      0.51      1715\n",
            "           9       0.34      0.40      0.37      1715\n",
            "          10       0.34      0.26      0.29      1716\n",
            "          11       0.64      0.63      0.63      1716\n",
            "          12       0.46      0.37      0.41      1715\n",
            "          13       0.63      0.49      0.55      1715\n",
            "          14       0.44      0.46      0.45      1716\n",
            "          15       0.55      0.61      0.58      1715\n",
            "          16       0.47      0.45      0.46      1716\n",
            "          17       0.66      0.69      0.67      1715\n",
            "          18       0.45      0.39      0.42      1716\n",
            "          19       0.47      0.52      0.49      1715\n",
            "          20       0.38      0.41      0.40      1716\n",
            "          21       0.54      0.48      0.51      1716\n",
            "          22       0.35      0.47      0.40      1716\n",
            "          23       0.31      0.29      0.30      1716\n",
            "          24       0.38      0.47      0.42      1715\n",
            "          25       0.37      0.47      0.41      1715\n",
            "          26       0.64      0.47      0.54      1715\n",
            "          27       0.80      0.62      0.70      1716\n",
            "          28       0.46      0.56      0.51      1716\n",
            "          29       0.39      0.56      0.46      1715\n",
            "          30       0.40      0.49      0.44      1716\n",
            "          31       0.52      0.37      0.43      1716\n",
            "          32       0.41      0.37      0.39      1715\n",
            "          33       0.33      0.27      0.30      1716\n",
            "          34       0.52      0.45      0.48      1716\n",
            "          35       0.38      0.29      0.33      1716\n",
            "          36       0.45      0.31      0.37      1716\n",
            "          37       0.46      0.61      0.53      1716\n",
            "          38       0.42      0.56      0.48      1716\n",
            "          39       0.23      0.27      0.25      1715\n",
            "          40       0.62      0.60      0.61      1715\n",
            "\n",
            "    accuracy                           0.45     70340\n",
            "   macro avg       0.46      0.45      0.45     70340\n",
            "weighted avg       0.46      0.45      0.45     70340\n",
            "\n"
          ]
        }
      ],
      "source": [
        "random_forest = RandomForestClassifier(max_depth=None,\n",
        "                                       min_samples_leaf=1,\n",
        "                                       min_samples_split=2,\n",
        "                                       bootstrap=True,\n",
        "                                       max_features='sqrt',\n",
        "                                       n_estimators=100,\n",
        "                                       n_jobs=-1)\n",
        "random_forest.fit(train_x,train_y)\n",
        "y_pred = random_forest.predict(test_x)\n",
        "print(classification_report(test_y,y_pred))"
      ]
    },
    {
      "cell_type": "markdown",
      "id": "8cf2667d-f807-4bfc-8fe8-7edaaa608476",
      "metadata": {
        "id": "8cf2667d-f807-4bfc-8fe8-7edaaa608476",
        "tags": []
      },
      "source": [
        "### **XGB Classifier**"
      ]
    },
    {
      "cell_type": "code",
      "execution_count": null,
      "id": "8784249e-a0e4-4587-86bf-778f9419a03b",
      "metadata": {
        "collapsed": true,
        "id": "8784249e-a0e4-4587-86bf-778f9419a03b",
        "jupyter": {
          "outputs_hidden": true
        },
        "outputId": "2c8aa78c-edec-45c6-b60c-fc65a2f36d94",
        "tags": []
      },
      "outputs": [
        {
          "name": "stdout",
          "output_type": "stream",
          "text": [
            "              precision    recall  f1-score   support\n",
            "\n",
            "           0       0.38      0.39      0.39      1716\n",
            "           1       0.46      0.37      0.41      1716\n",
            "           2       0.46      0.40      0.43      1716\n",
            "           3       0.58      0.47      0.52      1716\n",
            "           4       0.46      0.47      0.46      1715\n",
            "           5       0.43      0.46      0.44      1716\n",
            "           6       0.71      0.74      0.72      1715\n",
            "           7       0.44      0.53      0.48      1716\n",
            "           8       0.56      0.55      0.56      1715\n",
            "           9       0.44      0.49      0.46      1715\n",
            "          10       0.38      0.36      0.37      1716\n",
            "          11       0.71      0.67      0.69      1716\n",
            "          12       0.55      0.51      0.53      1715\n",
            "          13       0.62      0.56      0.59      1715\n",
            "          14       0.49      0.53      0.51      1716\n",
            "          15       0.69      0.66      0.68      1715\n",
            "          16       0.55      0.51      0.53      1716\n",
            "          17       0.72      0.73      0.72      1715\n",
            "          18       0.43      0.48      0.45      1716\n",
            "          19       0.60      0.62      0.61      1715\n",
            "          20       0.48      0.46      0.47      1716\n",
            "          21       0.65      0.60      0.63      1716\n",
            "          22       0.50      0.53      0.51      1716\n",
            "          23       0.41      0.41      0.41      1716\n",
            "          24       0.51      0.53      0.52      1715\n",
            "          25       0.47      0.57      0.52      1715\n",
            "          26       0.60      0.56      0.58      1715\n",
            "          27       0.76      0.73      0.75      1716\n",
            "          28       0.51      0.58      0.54      1716\n",
            "          29       0.54      0.61      0.57      1715\n",
            "          30       0.54      0.58      0.56      1716\n",
            "          31       0.51      0.50      0.51      1716\n",
            "          32       0.39      0.42      0.41      1715\n",
            "          33       0.40      0.35      0.37      1716\n",
            "          34       0.55      0.54      0.55      1716\n",
            "          35       0.47      0.44      0.45      1716\n",
            "          36       0.46      0.43      0.44      1716\n",
            "          37       0.72      0.68      0.70      1716\n",
            "          38       0.56      0.61      0.58      1716\n",
            "          39       0.35      0.38      0.36      1715\n",
            "          40       0.69      0.62      0.65      1715\n",
            "\n",
            "    accuracy                           0.53     70340\n",
            "   macro avg       0.53      0.53      0.53     70340\n",
            "weighted avg       0.53      0.53      0.53     70340\n",
            "\n"
          ]
        }
      ],
      "source": [
        "xgb = XGBClassifier(n_estimators=350,\n",
        "                    max_depth=8,\n",
        "                    gamma=0.5,\n",
        "                    verbosity = 0,\n",
        "                    tree_method='gpu_hist', \n",
        "                    gpu_id=0,\n",
        "                    objective='multi:softmax')\n",
        "xgb.fit(train_x, train_y)\n",
        "\n",
        "y_pred = xgb.predict(test_x)\n",
        "print(classification_report(test_y,y_pred))"
      ]
    },
    {
      "cell_type": "markdown",
      "id": "370d7d49-c9cd-46da-9f6d-b08b115773d1",
      "metadata": {
        "id": "370d7d49-c9cd-46da-9f6d-b08b115773d1",
        "tags": []
      },
      "source": [
        "### **Neural Networks**"
      ]
    },
    {
      "cell_type": "markdown",
      "id": "3f095c20-3251-4ada-96c7-d8defb3393a0",
      "metadata": {
        "id": "3f095c20-3251-4ada-96c7-d8defb3393a0",
        "tags": []
      },
      "source": [
        "#### **Artificial Neural Network**"
      ]
    },
    {
      "cell_type": "code",
      "execution_count": null,
      "id": "a73ab2d7-ab35-4153-a53b-0d0ac0519515",
      "metadata": {
        "id": "a73ab2d7-ab35-4153-a53b-0d0ac0519515"
      },
      "outputs": [],
      "source": [
        "train_set = Dataset.from_tensor_slices((train_x,train_y))\n",
        "test_set = Dataset.from_tensor_slices((test_x,test_y))"
      ]
    },
    {
      "cell_type": "code",
      "execution_count": null,
      "id": "2c13afce-4baf-4d70-a0cd-063b2f361125",
      "metadata": {
        "id": "2c13afce-4baf-4d70-a0cd-063b2f361125"
      },
      "outputs": [],
      "source": [
        "test_cardinality = experimental.cardinality(test_set)\n",
        "val_set = test_set.take(test_cardinality // 5)\n",
        "test_set = test_set.skip(test_cardinality // 5)"
      ]
    },
    {
      "cell_type": "code",
      "execution_count": null,
      "id": "20115b89-6f1d-4251-86c7-3b53d57dca7f",
      "metadata": {
        "id": "20115b89-6f1d-4251-86c7-3b53d57dca7f"
      },
      "outputs": [],
      "source": [
        "train_set = train_set.shuffle(buffer_size=experimental.cardinality(train_set)).batch(32)\n",
        "val_set = val_set.shuffle(buffer_size=experimental.cardinality(val_set)).batch(32)\n",
        "test_set = test_set.shuffle(buffer_size = experimental.cardinality(test_set)).batch(32)"
      ]
    },
    {
      "cell_type": "code",
      "execution_count": null,
      "id": "71622a15-c0f5-4751-bde7-8445535a765c",
      "metadata": {
        "id": "71622a15-c0f5-4751-bde7-8445535a765c"
      },
      "outputs": [],
      "source": [
        "embedding_dim = nlp('The').vector.size"
      ]
    },
    {
      "cell_type": "code",
      "execution_count": null,
      "id": "79e8fc61-ff87-452f-aad1-036b04fb24ba",
      "metadata": {
        "id": "79e8fc61-ff87-452f-aad1-036b04fb24ba"
      },
      "outputs": [],
      "source": [
        "model = Sequential()\n",
        "model.add(Dense(64,input_dim=embedding_dim,activation=\"relu\"))\n",
        "model.add(Dense(64,activation=\"relu\"))\n",
        "model.add(Dense(41,activation=\"softmax\"))"
      ]
    },
    {
      "cell_type": "code",
      "execution_count": null,
      "id": "b9dc94c2-48c0-467f-ac5d-7aaa5d7cf2cb",
      "metadata": {
        "id": "b9dc94c2-48c0-467f-ac5d-7aaa5d7cf2cb"
      },
      "outputs": [],
      "source": [
        "model.compile(optimizer=\"adam\",loss=\"sparse_categorical_crossentropy\",metrics=\"accuracy\")"
      ]
    },
    {
      "cell_type": "code",
      "execution_count": null,
      "id": "93945c17-43ea-47db-b2d2-371ce18d5160",
      "metadata": {
        "id": "93945c17-43ea-47db-b2d2-371ce18d5160"
      },
      "outputs": [],
      "source": [
        "lr_sched = ReduceLROnPlateau(mode='max',monitor='val_accuracy',verbose=3,patience=5,factor=0.1)\n",
        "mdl_check = ModelCheckpoint(\"model_ckpt\",verbose=3,monitor='val_accuracy',save_best_only=True,mode='max')\n",
        "early_stop = EarlyStopping(monitor='val_accuracy',patience=11,verbose=3)"
      ]
    },
    {
      "cell_type": "code",
      "execution_count": null,
      "id": "69bfb0f6-ee35-46e1-b2bc-2ac31d90e484",
      "metadata": {
        "collapsed": true,
        "id": "69bfb0f6-ee35-46e1-b2bc-2ac31d90e484",
        "jupyter": {
          "outputs_hidden": true
        },
        "outputId": "46dcb8a4-000b-4541-ea3f-429ae77b218a",
        "tags": []
      },
      "outputs": [
        {
          "name": "stdout",
          "output_type": "stream",
          "text": [
            "Epoch 1/60\n",
            "8788/8793 [============================>.] - ETA: 0s - loss: 2.3368 - accuracy: 0.3477\n",
            "Epoch 1: val_accuracy improved from -inf to 0.41072, saving model to model_ckpt\n",
            "INFO:tensorflow:Assets written to: model_ckpt/assets\n"
          ]
        },
        {
          "name": "stderr",
          "output_type": "stream",
          "text": [
            "INFO:tensorflow:Assets written to: model_ckpt/assets\n"
          ]
        },
        {
          "name": "stdout",
          "output_type": "stream",
          "text": [
            "8793/8793 [==============================] - 30s 3ms/step - loss: 2.3366 - accuracy: 0.3478 - val_loss: 2.0684 - val_accuracy: 0.4107 - lr: 0.0010\n",
            "Epoch 2/60\n",
            "8790/8793 [============================>.] - ETA: 0s - loss: 2.0151 - accuracy: 0.4233\n",
            "Epoch 2: val_accuracy improved from 0.41072 to 0.41875, saving model to model_ckpt\n",
            "INFO:tensorflow:Assets written to: model_ckpt/assets\n"
          ]
        },
        {
          "name": "stderr",
          "output_type": "stream",
          "text": [
            "INFO:tensorflow:Assets written to: model_ckpt/assets\n"
          ]
        },
        {
          "name": "stdout",
          "output_type": "stream",
          "text": [
            "8793/8793 [==============================] - 26s 3ms/step - loss: 2.0151 - accuracy: 0.4233 - val_loss: 2.0471 - val_accuracy: 0.4188 - lr: 0.0010\n",
            "Epoch 3/60\n",
            "8783/8793 [============================>.] - ETA: 0s - loss: 1.9398 - accuracy: 0.4415\n",
            "Epoch 3: val_accuracy improved from 0.41875 to 0.43830, saving model to model_ckpt\n",
            "INFO:tensorflow:Assets written to: model_ckpt/assets\n"
          ]
        },
        {
          "name": "stderr",
          "output_type": "stream",
          "text": [
            "INFO:tensorflow:Assets written to: model_ckpt/assets\n"
          ]
        },
        {
          "name": "stdout",
          "output_type": "stream",
          "text": [
            "8793/8793 [==============================] - 26s 3ms/step - loss: 1.9397 - accuracy: 0.4414 - val_loss: 1.9596 - val_accuracy: 0.4383 - lr: 0.0010\n",
            "Epoch 4/60\n",
            "8786/8793 [============================>.] - ETA: 0s - loss: 1.8987 - accuracy: 0.4523\n",
            "Epoch 4: val_accuracy improved from 0.43830 to 0.44804, saving model to model_ckpt\n",
            "INFO:tensorflow:Assets written to: model_ckpt/assets\n"
          ]
        },
        {
          "name": "stderr",
          "output_type": "stream",
          "text": [
            "INFO:tensorflow:Assets written to: model_ckpt/assets\n"
          ]
        },
        {
          "name": "stdout",
          "output_type": "stream",
          "text": [
            "8793/8793 [==============================] - 26s 3ms/step - loss: 1.8988 - accuracy: 0.4523 - val_loss: 1.9396 - val_accuracy: 0.4480 - lr: 0.0010\n",
            "Epoch 5/60\n",
            "8777/8793 [============================>.] - ETA: 0s - loss: 1.8701 - accuracy: 0.4598\n",
            "Epoch 5: val_accuracy did not improve from 0.44804\n",
            "8793/8793 [==============================] - 26s 3ms/step - loss: 1.8701 - accuracy: 0.4598 - val_loss: 1.9348 - val_accuracy: 0.4475 - lr: 0.0010\n",
            "Epoch 6/60\n",
            "8777/8793 [============================>.] - ETA: 0s - loss: 1.8479 - accuracy: 0.4647\n",
            "Epoch 6: val_accuracy improved from 0.44804 to 0.46204, saving model to model_ckpt\n",
            "INFO:tensorflow:Assets written to: model_ckpt/assets\n"
          ]
        },
        {
          "name": "stderr",
          "output_type": "stream",
          "text": [
            "INFO:tensorflow:Assets written to: model_ckpt/assets\n"
          ]
        },
        {
          "name": "stdout",
          "output_type": "stream",
          "text": [
            "8793/8793 [==============================] - 26s 3ms/step - loss: 1.8479 - accuracy: 0.4647 - val_loss: 1.8860 - val_accuracy: 0.4620 - lr: 0.0010\n",
            "Epoch 7/60\n",
            "8781/8793 [============================>.] - ETA: 0s - loss: 1.8342 - accuracy: 0.4688\n",
            "Epoch 7: val_accuracy improved from 0.46204 to 0.46439, saving model to model_ckpt\n",
            "INFO:tensorflow:Assets written to: model_ckpt/assets\n"
          ]
        },
        {
          "name": "stderr",
          "output_type": "stream",
          "text": [
            "INFO:tensorflow:Assets written to: model_ckpt/assets\n"
          ]
        },
        {
          "name": "stdout",
          "output_type": "stream",
          "text": [
            "8793/8793 [==============================] - 26s 3ms/step - loss: 1.8343 - accuracy: 0.4687 - val_loss: 1.8727 - val_accuracy: 0.4644 - lr: 0.0010\n",
            "Epoch 8/60\n",
            "8786/8793 [============================>.] - ETA: 0s - loss: 1.8189 - accuracy: 0.4723\n",
            "Epoch 8: val_accuracy did not improve from 0.46439\n",
            "8793/8793 [==============================] - 25s 3ms/step - loss: 1.8190 - accuracy: 0.4722 - val_loss: 1.8948 - val_accuracy: 0.4608 - lr: 0.0010\n",
            "Epoch 9/60\n",
            "8787/8793 [============================>.] - ETA: 0s - loss: 1.8081 - accuracy: 0.4752\n",
            "Epoch 9: val_accuracy did not improve from 0.46439\n",
            "8793/8793 [==============================] - 25s 3ms/step - loss: 1.8081 - accuracy: 0.4752 - val_loss: 1.8600 - val_accuracy: 0.4638 - lr: 0.0010\n",
            "Epoch 10/60\n",
            "8780/8793 [============================>.] - ETA: 0s - loss: 1.7982 - accuracy: 0.4779\n",
            "Epoch 10: val_accuracy improved from 0.46439 to 0.46638, saving model to model_ckpt\n",
            "INFO:tensorflow:Assets written to: model_ckpt/assets\n"
          ]
        },
        {
          "name": "stderr",
          "output_type": "stream",
          "text": [
            "INFO:tensorflow:Assets written to: model_ckpt/assets\n"
          ]
        },
        {
          "name": "stdout",
          "output_type": "stream",
          "text": [
            "8793/8793 [==============================] - 25s 3ms/step - loss: 1.7982 - accuracy: 0.4779 - val_loss: 1.8634 - val_accuracy: 0.4664 - lr: 0.0010\n",
            "Epoch 11/60\n",
            "8781/8793 [============================>.] - ETA: 0s - loss: 1.7896 - accuracy: 0.4793\n",
            "Epoch 11: val_accuracy did not improve from 0.46638\n",
            "8793/8793 [==============================] - 25s 3ms/step - loss: 1.7897 - accuracy: 0.4793 - val_loss: 1.8729 - val_accuracy: 0.4651 - lr: 0.0010\n",
            "Epoch 12/60\n",
            "8774/8793 [============================>.] - ETA: 0s - loss: 1.7835 - accuracy: 0.4818\n",
            "Epoch 12: val_accuracy did not improve from 0.46638\n",
            "8793/8793 [==============================] - 25s 3ms/step - loss: 1.7835 - accuracy: 0.4819 - val_loss: 1.8778 - val_accuracy: 0.4628 - lr: 0.0010\n",
            "Epoch 13/60\n",
            "8780/8793 [============================>.] - ETA: 0s - loss: 1.7778 - accuracy: 0.4819\n",
            "Epoch 13: val_accuracy did not improve from 0.46638\n",
            "8793/8793 [==============================] - 25s 3ms/step - loss: 1.7778 - accuracy: 0.4819 - val_loss: 1.8820 - val_accuracy: 0.4606 - lr: 0.0010\n",
            "Epoch 14/60\n",
            "8782/8793 [============================>.] - ETA: 0s - loss: 1.7718 - accuracy: 0.4843\n",
            "Epoch 14: val_accuracy improved from 0.46638 to 0.47000, saving model to model_ckpt\n",
            "INFO:tensorflow:Assets written to: model_ckpt/assets\n"
          ]
        },
        {
          "name": "stderr",
          "output_type": "stream",
          "text": [
            "INFO:tensorflow:Assets written to: model_ckpt/assets\n"
          ]
        },
        {
          "name": "stdout",
          "output_type": "stream",
          "text": [
            "8793/8793 [==============================] - 26s 3ms/step - loss: 1.7717 - accuracy: 0.4844 - val_loss: 1.8550 - val_accuracy: 0.4700 - lr: 0.0010\n",
            "Epoch 15/60\n",
            "8782/8793 [============================>.] - ETA: 0s - loss: 1.7666 - accuracy: 0.4856\n",
            "Epoch 15: val_accuracy did not improve from 0.47000\n",
            "8793/8793 [==============================] - 25s 3ms/step - loss: 1.7666 - accuracy: 0.4856 - val_loss: 1.8729 - val_accuracy: 0.4659 - lr: 0.0010\n",
            "Epoch 16/60\n",
            "8784/8793 [============================>.] - ETA: 0s - loss: 1.7630 - accuracy: 0.4871\n",
            "Epoch 16: val_accuracy improved from 0.47000 to 0.47071, saving model to model_ckpt\n",
            "INFO:tensorflow:Assets written to: model_ckpt/assets\n"
          ]
        },
        {
          "name": "stderr",
          "output_type": "stream",
          "text": [
            "INFO:tensorflow:Assets written to: model_ckpt/assets\n"
          ]
        },
        {
          "name": "stdout",
          "output_type": "stream",
          "text": [
            "8793/8793 [==============================] - 26s 3ms/step - loss: 1.7631 - accuracy: 0.4871 - val_loss: 1.8483 - val_accuracy: 0.4707 - lr: 0.0010\n",
            "Epoch 17/60\n",
            "8787/8793 [============================>.] - ETA: 0s - loss: 1.7589 - accuracy: 0.4874\n",
            "Epoch 17: val_accuracy improved from 0.47071 to 0.47640, saving model to model_ckpt\n",
            "INFO:tensorflow:Assets written to: model_ckpt/assets\n"
          ]
        },
        {
          "name": "stderr",
          "output_type": "stream",
          "text": [
            "INFO:tensorflow:Assets written to: model_ckpt/assets\n"
          ]
        },
        {
          "name": "stdout",
          "output_type": "stream",
          "text": [
            "8793/8793 [==============================] - 25s 3ms/step - loss: 1.7589 - accuracy: 0.4874 - val_loss: 1.8265 - val_accuracy: 0.4764 - lr: 0.0010\n",
            "Epoch 18/60\n",
            "8781/8793 [============================>.] - ETA: 0s - loss: 1.7545 - accuracy: 0.4885\n",
            "Epoch 18: val_accuracy did not improve from 0.47640\n",
            "8793/8793 [==============================] - 24s 3ms/step - loss: 1.7544 - accuracy: 0.4885 - val_loss: 1.8514 - val_accuracy: 0.4683 - lr: 0.0010\n",
            "Epoch 19/60\n",
            "8778/8793 [============================>.] - ETA: 0s - loss: 1.7532 - accuracy: 0.4900\n",
            "Epoch 19: val_accuracy did not improve from 0.47640\n",
            "8793/8793 [==============================] - 25s 3ms/step - loss: 1.7532 - accuracy: 0.4900 - val_loss: 1.8604 - val_accuracy: 0.4722 - lr: 0.0010\n",
            "Epoch 20/60\n",
            "8790/8793 [============================>.] - ETA: 0s - loss: 1.7494 - accuracy: 0.4899\n",
            "Epoch 20: val_accuracy improved from 0.47640 to 0.47668, saving model to model_ckpt\n",
            "INFO:tensorflow:Assets written to: model_ckpt/assets\n"
          ]
        },
        {
          "name": "stderr",
          "output_type": "stream",
          "text": [
            "INFO:tensorflow:Assets written to: model_ckpt/assets\n"
          ]
        },
        {
          "name": "stdout",
          "output_type": "stream",
          "text": [
            "8793/8793 [==============================] - 26s 3ms/step - loss: 1.7495 - accuracy: 0.4899 - val_loss: 1.8339 - val_accuracy: 0.4767 - lr: 0.0010\n",
            "Epoch 21/60\n",
            "8791/8793 [============================>.] - ETA: 0s - loss: 1.7437 - accuracy: 0.4920\n",
            "Epoch 21: val_accuracy did not improve from 0.47668\n",
            "8793/8793 [==============================] - 25s 3ms/step - loss: 1.7437 - accuracy: 0.4920 - val_loss: 1.8381 - val_accuracy: 0.4724 - lr: 0.0010\n",
            "Epoch 22/60\n",
            "8790/8793 [============================>.] - ETA: 0s - loss: 1.7415 - accuracy: 0.4925\n",
            "Epoch 22: val_accuracy did not improve from 0.47668\n",
            "8793/8793 [==============================] - 25s 3ms/step - loss: 1.7416 - accuracy: 0.4925 - val_loss: 1.8412 - val_accuracy: 0.4734 - lr: 0.0010\n",
            "Epoch 23/60\n",
            "8779/8793 [============================>.] - ETA: 0s - loss: 1.7394 - accuracy: 0.4924\n",
            "Epoch 23: val_accuracy did not improve from 0.47668\n",
            "8793/8793 [==============================] - 25s 3ms/step - loss: 1.7395 - accuracy: 0.4924 - val_loss: 1.8306 - val_accuracy: 0.4730 - lr: 0.0010\n",
            "Epoch 24/60\n",
            "8792/8793 [============================>.] - ETA: 0s - loss: 1.7371 - accuracy: 0.4926\n",
            "Epoch 24: val_accuracy improved from 0.47668 to 0.48543, saving model to model_ckpt\n",
            "INFO:tensorflow:Assets written to: model_ckpt/assets\n"
          ]
        },
        {
          "name": "stderr",
          "output_type": "stream",
          "text": [
            "INFO:tensorflow:Assets written to: model_ckpt/assets\n"
          ]
        },
        {
          "name": "stdout",
          "output_type": "stream",
          "text": [
            "8793/8793 [==============================] - 25s 3ms/step - loss: 1.7371 - accuracy: 0.4926 - val_loss: 1.8127 - val_accuracy: 0.4854 - lr: 0.0010\n",
            "Epoch 25/60\n",
            "8789/8793 [============================>.] - ETA: 0s - loss: 1.7352 - accuracy: 0.4944\n",
            "Epoch 25: val_accuracy did not improve from 0.48543\n",
            "8793/8793 [==============================] - 25s 3ms/step - loss: 1.7353 - accuracy: 0.4944 - val_loss: 1.8281 - val_accuracy: 0.4752 - lr: 0.0010\n",
            "Epoch 26/60\n",
            "8779/8793 [============================>.] - ETA: 0s - loss: 1.7318 - accuracy: 0.4949\n",
            "Epoch 26: val_accuracy did not improve from 0.48543\n",
            "8793/8793 [==============================] - 25s 3ms/step - loss: 1.7318 - accuracy: 0.4949 - val_loss: 1.8260 - val_accuracy: 0.4748 - lr: 0.0010\n",
            "Epoch 27/60\n",
            "8785/8793 [============================>.] - ETA: 0s - loss: 1.7300 - accuracy: 0.4956\n",
            "Epoch 27: val_accuracy did not improve from 0.48543\n",
            "8793/8793 [==============================] - 25s 3ms/step - loss: 1.7301 - accuracy: 0.4956 - val_loss: 1.8616 - val_accuracy: 0.4758 - lr: 0.0010\n",
            "Epoch 28/60\n",
            "8778/8793 [============================>.] - ETA: 0s - loss: 1.7295 - accuracy: 0.4953\n",
            "Epoch 28: val_accuracy improved from 0.48543 to 0.48642, saving model to model_ckpt\n",
            "INFO:tensorflow:Assets written to: model_ckpt/assets\n"
          ]
        },
        {
          "name": "stderr",
          "output_type": "stream",
          "text": [
            "INFO:tensorflow:Assets written to: model_ckpt/assets\n"
          ]
        },
        {
          "name": "stdout",
          "output_type": "stream",
          "text": [
            "8793/8793 [==============================] - 26s 3ms/step - loss: 1.7294 - accuracy: 0.4953 - val_loss: 1.8022 - val_accuracy: 0.4864 - lr: 0.0010\n",
            "Epoch 29/60\n",
            "8778/8793 [============================>.] - ETA: 0s - loss: 1.7286 - accuracy: 0.4955\n",
            "Epoch 29: val_accuracy did not improve from 0.48642\n",
            "8793/8793 [==============================] - 24s 3ms/step - loss: 1.7288 - accuracy: 0.4955 - val_loss: 1.8085 - val_accuracy: 0.4840 - lr: 0.0010\n",
            "Epoch 30/60\n",
            "8778/8793 [============================>.] - ETA: 0s - loss: 1.7255 - accuracy: 0.4968\n",
            "Epoch 30: val_accuracy did not improve from 0.48642\n",
            "8793/8793 [==============================] - 26s 3ms/step - loss: 1.7255 - accuracy: 0.4967 - val_loss: 1.8139 - val_accuracy: 0.4819 - lr: 0.0010\n",
            "Epoch 31/60\n",
            "8784/8793 [============================>.] - ETA: 0s - loss: 1.7237 - accuracy: 0.4972\n",
            "Epoch 31: val_accuracy did not improve from 0.48642\n",
            "8793/8793 [==============================] - 24s 3ms/step - loss: 1.7238 - accuracy: 0.4972 - val_loss: 1.8341 - val_accuracy: 0.4775 - lr: 0.0010\n",
            "Epoch 32/60\n",
            "8773/8793 [============================>.] - ETA: 0s - loss: 1.7228 - accuracy: 0.4977\n",
            "Epoch 32: val_accuracy did not improve from 0.48642\n",
            "8793/8793 [==============================] - 25s 3ms/step - loss: 1.7227 - accuracy: 0.4978 - val_loss: 1.8425 - val_accuracy: 0.4741 - lr: 0.0010\n",
            "Epoch 33/60\n",
            "8783/8793 [============================>.] - ETA: 0s - loss: 1.7217 - accuracy: 0.4986\n",
            "Epoch 33: ReduceLROnPlateau reducing learning rate to 0.00010000000474974513.\n",
            "\n",
            "Epoch 33: val_accuracy did not improve from 0.48642\n",
            "8793/8793 [==============================] - 25s 3ms/step - loss: 1.7217 - accuracy: 0.4986 - val_loss: 1.8499 - val_accuracy: 0.4754 - lr: 0.0010\n",
            "Epoch 34/60\n",
            "8791/8793 [============================>.] - ETA: 0s - loss: 1.6034 - accuracy: 0.5280\n",
            "Epoch 34: val_accuracy improved from 0.48642 to 0.50185, saving model to model_ckpt\n",
            "INFO:tensorflow:Assets written to: model_ckpt/assets\n"
          ]
        },
        {
          "name": "stderr",
          "output_type": "stream",
          "text": [
            "INFO:tensorflow:Assets written to: model_ckpt/assets\n"
          ]
        },
        {
          "name": "stdout",
          "output_type": "stream",
          "text": [
            "8793/8793 [==============================] - 26s 3ms/step - loss: 1.6034 - accuracy: 0.5280 - val_loss: 1.7240 - val_accuracy: 0.5018 - lr: 1.0000e-04\n",
            "Epoch 35/60\n",
            "8793/8793 [==============================] - ETA: 0s - loss: 1.5877 - accuracy: 0.5323\n",
            "Epoch 35: val_accuracy improved from 0.50185 to 0.50355, saving model to model_ckpt\n",
            "INFO:tensorflow:Assets written to: model_ckpt/assets\n"
          ]
        },
        {
          "name": "stderr",
          "output_type": "stream",
          "text": [
            "INFO:tensorflow:Assets written to: model_ckpt/assets\n"
          ]
        },
        {
          "name": "stdout",
          "output_type": "stream",
          "text": [
            "8793/8793 [==============================] - 26s 3ms/step - loss: 1.5877 - accuracy: 0.5323 - val_loss: 1.7205 - val_accuracy: 0.5036 - lr: 1.0000e-04\n",
            "Epoch 36/60\n",
            "8786/8793 [============================>.] - ETA: 0s - loss: 1.5827 - accuracy: 0.5339\n",
            "Epoch 36: val_accuracy improved from 0.50355 to 0.50462, saving model to model_ckpt\n",
            "INFO:tensorflow:Assets written to: model_ckpt/assets\n"
          ]
        },
        {
          "name": "stderr",
          "output_type": "stream",
          "text": [
            "INFO:tensorflow:Assets written to: model_ckpt/assets\n"
          ]
        },
        {
          "name": "stdout",
          "output_type": "stream",
          "text": [
            "8793/8793 [==============================] - 26s 3ms/step - loss: 1.5827 - accuracy: 0.5340 - val_loss: 1.7237 - val_accuracy: 0.5046 - lr: 1.0000e-04\n",
            "Epoch 37/60\n",
            "8773/8793 [============================>.] - ETA: 0s - loss: 1.5802 - accuracy: 0.5347\n",
            "Epoch 37: val_accuracy did not improve from 0.50462\n",
            "8793/8793 [==============================] - 24s 3ms/step - loss: 1.5802 - accuracy: 0.5346 - val_loss: 1.7243 - val_accuracy: 0.5043 - lr: 1.0000e-04\n",
            "Epoch 38/60\n",
            "8778/8793 [============================>.] - ETA: 0s - loss: 1.5782 - accuracy: 0.5350\n",
            "Epoch 38: val_accuracy did not improve from 0.50462\n",
            "8793/8793 [==============================] - 24s 3ms/step - loss: 1.5781 - accuracy: 0.5350 - val_loss: 1.7231 - val_accuracy: 0.5041 - lr: 1.0000e-04\n",
            "Epoch 39/60\n",
            "8786/8793 [============================>.] - ETA: 0s - loss: 1.5770 - accuracy: 0.5355\n",
            "Epoch 39: val_accuracy did not improve from 0.50462\n",
            "8793/8793 [==============================] - 25s 3ms/step - loss: 1.5770 - accuracy: 0.5355 - val_loss: 1.7226 - val_accuracy: 0.5028 - lr: 1.0000e-04\n",
            "Epoch 40/60\n",
            "8788/8793 [============================>.] - ETA: 0s - loss: 1.5759 - accuracy: 0.5358\n",
            "Epoch 40: val_accuracy did not improve from 0.50462\n",
            "8793/8793 [==============================] - 25s 3ms/step - loss: 1.5759 - accuracy: 0.5358 - val_loss: 1.7252 - val_accuracy: 0.5036 - lr: 1.0000e-04\n",
            "Epoch 41/60\n",
            "8789/8793 [============================>.] - ETA: 0s - loss: 1.5746 - accuracy: 0.5365\n",
            "Epoch 41: ReduceLROnPlateau reducing learning rate to 1.0000000474974514e-05.\n",
            "\n",
            "Epoch 41: val_accuracy did not improve from 0.50462\n",
            "8793/8793 [==============================] - 25s 3ms/step - loss: 1.5748 - accuracy: 0.5365 - val_loss: 1.7257 - val_accuracy: 0.5003 - lr: 1.0000e-04\n",
            "Epoch 42/60\n",
            "8776/8793 [============================>.] - ETA: 0s - loss: 1.5600 - accuracy: 0.5402\n",
            "Epoch 42: val_accuracy improved from 0.50462 to 0.50469, saving model to model_ckpt\n",
            "INFO:tensorflow:Assets written to: model_ckpt/assets\n"
          ]
        },
        {
          "name": "stderr",
          "output_type": "stream",
          "text": [
            "INFO:tensorflow:Assets written to: model_ckpt/assets\n"
          ]
        },
        {
          "name": "stdout",
          "output_type": "stream",
          "text": [
            "8793/8793 [==============================] - 26s 3ms/step - loss: 1.5602 - accuracy: 0.5402 - val_loss: 1.7151 - val_accuracy: 0.5047 - lr: 1.0000e-05\n",
            "Epoch 43/60\n",
            "8774/8793 [============================>.] - ETA: 0s - loss: 1.5586 - accuracy: 0.5404\n",
            "Epoch 43: val_accuracy improved from 0.50469 to 0.50540, saving model to model_ckpt\n",
            "INFO:tensorflow:Assets written to: model_ckpt/assets\n"
          ]
        },
        {
          "name": "stderr",
          "output_type": "stream",
          "text": [
            "INFO:tensorflow:Assets written to: model_ckpt/assets\n"
          ]
        },
        {
          "name": "stdout",
          "output_type": "stream",
          "text": [
            "8793/8793 [==============================] - 25s 3ms/step - loss: 1.5588 - accuracy: 0.5404 - val_loss: 1.7161 - val_accuracy: 0.5054 - lr: 1.0000e-05\n",
            "Epoch 44/60\n",
            "8781/8793 [============================>.] - ETA: 0s - loss: 1.5583 - accuracy: 0.5405\n",
            "Epoch 44: val_accuracy improved from 0.50540 to 0.50675, saving model to model_ckpt\n",
            "INFO:tensorflow:Assets written to: model_ckpt/assets\n"
          ]
        },
        {
          "name": "stderr",
          "output_type": "stream",
          "text": [
            "INFO:tensorflow:Assets written to: model_ckpt/assets\n"
          ]
        },
        {
          "name": "stdout",
          "output_type": "stream",
          "text": [
            "8793/8793 [==============================] - 26s 3ms/step - loss: 1.5583 - accuracy: 0.5405 - val_loss: 1.7151 - val_accuracy: 0.5068 - lr: 1.0000e-05\n",
            "Epoch 45/60\n",
            "8776/8793 [============================>.] - ETA: 0s - loss: 1.5581 - accuracy: 0.5402\n",
            "Epoch 45: val_accuracy did not improve from 0.50675\n",
            "8793/8793 [==============================] - 25s 3ms/step - loss: 1.5580 - accuracy: 0.5402 - val_loss: 1.7154 - val_accuracy: 0.5057 - lr: 1.0000e-05\n",
            "Epoch 46/60\n",
            "8782/8793 [============================>.] - ETA: 0s - loss: 1.5579 - accuracy: 0.5405\n",
            "Epoch 46: val_accuracy improved from 0.50675 to 0.50682, saving model to model_ckpt\n",
            "INFO:tensorflow:Assets written to: model_ckpt/assets\n"
          ]
        },
        {
          "name": "stderr",
          "output_type": "stream",
          "text": [
            "INFO:tensorflow:Assets written to: model_ckpt/assets\n"
          ]
        },
        {
          "name": "stdout",
          "output_type": "stream",
          "text": [
            "8793/8793 [==============================] - 26s 3ms/step - loss: 1.5579 - accuracy: 0.5405 - val_loss: 1.7153 - val_accuracy: 0.5068 - lr: 1.0000e-05\n",
            "Epoch 47/60\n",
            "8788/8793 [============================>.] - ETA: 0s - loss: 1.5577 - accuracy: 0.5405\n",
            "Epoch 47: val_accuracy improved from 0.50682 to 0.50697, saving model to model_ckpt\n",
            "INFO:tensorflow:Assets written to: model_ckpt/assets\n"
          ]
        },
        {
          "name": "stderr",
          "output_type": "stream",
          "text": [
            "INFO:tensorflow:Assets written to: model_ckpt/assets\n"
          ]
        },
        {
          "name": "stdout",
          "output_type": "stream",
          "text": [
            "8793/8793 [==============================] - 26s 3ms/step - loss: 1.5577 - accuracy: 0.5405 - val_loss: 1.7151 - val_accuracy: 0.5070 - lr: 1.0000e-05\n",
            "Epoch 48/60\n",
            "8774/8793 [============================>.] - ETA: 0s - loss: 1.5576 - accuracy: 0.5408\n",
            "Epoch 48: val_accuracy did not improve from 0.50697\n",
            "8793/8793 [==============================] - 26s 3ms/step - loss: 1.5576 - accuracy: 0.5408 - val_loss: 1.7155 - val_accuracy: 0.5070 - lr: 1.0000e-05\n",
            "Epoch 49/60\n",
            "8775/8793 [============================>.] - ETA: 0s - loss: 1.5575 - accuracy: 0.5407\n",
            "Epoch 49: val_accuracy did not improve from 0.50697\n",
            "8793/8793 [==============================] - 25s 3ms/step - loss: 1.5575 - accuracy: 0.5407 - val_loss: 1.7153 - val_accuracy: 0.5063 - lr: 1.0000e-05\n",
            "Epoch 50/60\n",
            "8780/8793 [============================>.] - ETA: 0s - loss: 1.5571 - accuracy: 0.5407\n",
            "Epoch 50: val_accuracy did not improve from 0.50697\n",
            "8793/8793 [==============================] - 27s 3ms/step - loss: 1.5573 - accuracy: 0.5407 - val_loss: 1.7165 - val_accuracy: 0.5070 - lr: 1.0000e-05\n",
            "Epoch 51/60\n",
            "8788/8793 [============================>.] - ETA: 0s - loss: 1.5572 - accuracy: 0.5409\n",
            "Epoch 51: val_accuracy did not improve from 0.50697\n",
            "8793/8793 [==============================] - 26s 3ms/step - loss: 1.5572 - accuracy: 0.5409 - val_loss: 1.7156 - val_accuracy: 0.5061 - lr: 1.0000e-05\n",
            "Epoch 52/60\n",
            "8786/8793 [============================>.] - ETA: 0s - loss: 1.5571 - accuracy: 0.5410\n",
            "Epoch 52: ReduceLROnPlateau reducing learning rate to 1.0000000656873453e-06.\n",
            "\n",
            "Epoch 52: val_accuracy improved from 0.50697 to 0.50704, saving model to model_ckpt\n",
            "INFO:tensorflow:Assets written to: model_ckpt/assets\n"
          ]
        },
        {
          "name": "stderr",
          "output_type": "stream",
          "text": [
            "INFO:tensorflow:Assets written to: model_ckpt/assets\n"
          ]
        },
        {
          "name": "stdout",
          "output_type": "stream",
          "text": [
            "8793/8793 [==============================] - 26s 3ms/step - loss: 1.5570 - accuracy: 0.5410 - val_loss: 1.7164 - val_accuracy: 0.5070 - lr: 1.0000e-05\n",
            "Epoch 53/60\n",
            "8782/8793 [============================>.] - ETA: 0s - loss: 1.5554 - accuracy: 0.5412\n",
            "Epoch 53: val_accuracy did not improve from 0.50704\n",
            "8793/8793 [==============================] - 26s 3ms/step - loss: 1.5554 - accuracy: 0.5412 - val_loss: 1.7155 - val_accuracy: 0.5063 - lr: 1.0000e-06\n",
            "Epoch 54/60\n",
            "8779/8793 [============================>.] - ETA: 0s - loss: 1.5551 - accuracy: 0.5413\n",
            "Epoch 54: val_accuracy did not improve from 0.50704\n",
            "8793/8793 [==============================] - 25s 3ms/step - loss: 1.5552 - accuracy: 0.5413 - val_loss: 1.7154 - val_accuracy: 0.5060 - lr: 1.0000e-06\n",
            "Epoch 55/60\n",
            "8784/8793 [============================>.] - ETA: 0s - loss: 1.5552 - accuracy: 0.5413\n",
            "Epoch 55: val_accuracy did not improve from 0.50704\n",
            "8793/8793 [==============================] - 26s 3ms/step - loss: 1.5552 - accuracy: 0.5413 - val_loss: 1.7156 - val_accuracy: 0.5061 - lr: 1.0000e-06\n",
            "Epoch 56/60\n",
            "8783/8793 [============================>.] - ETA: 0s - loss: 1.5552 - accuracy: 0.5412\n",
            "Epoch 56: val_accuracy did not improve from 0.50704\n",
            "8793/8793 [==============================] - 26s 3ms/step - loss: 1.5551 - accuracy: 0.5412 - val_loss: 1.7154 - val_accuracy: 0.5066 - lr: 1.0000e-06\n",
            "Epoch 57/60\n",
            "8792/8793 [============================>.] - ETA: 0s - loss: 1.5551 - accuracy: 0.5413\n",
            "Epoch 57: ReduceLROnPlateau reducing learning rate to 1.0000001111620805e-07.\n",
            "\n",
            "Epoch 57: val_accuracy did not improve from 0.50704\n",
            "8793/8793 [==============================] - 25s 3ms/step - loss: 1.5551 - accuracy: 0.5413 - val_loss: 1.7155 - val_accuracy: 0.5060 - lr: 1.0000e-06\n",
            "Epoch 58/60\n",
            "8778/8793 [============================>.] - ETA: 0s - loss: 1.5548 - accuracy: 0.5413\n",
            "Epoch 58: val_accuracy did not improve from 0.50704\n",
            "8793/8793 [==============================] - 25s 3ms/step - loss: 1.5549 - accuracy: 0.5413 - val_loss: 1.7155 - val_accuracy: 0.5062 - lr: 1.0000e-07\n",
            "Epoch 59/60\n",
            "8775/8793 [============================>.] - ETA: 0s - loss: 1.5548 - accuracy: 0.5413\n",
            "Epoch 59: val_accuracy did not improve from 0.50704\n",
            "8793/8793 [==============================] - 26s 3ms/step - loss: 1.5549 - accuracy: 0.5413 - val_loss: 1.7155 - val_accuracy: 0.5060 - lr: 1.0000e-07\n",
            "Epoch 60/60\n",
            "8787/8793 [============================>.] - ETA: 0s - loss: 1.5549 - accuracy: 0.5413\n",
            "Epoch 60: val_accuracy did not improve from 0.50704\n",
            "8793/8793 [==============================] - 25s 3ms/step - loss: 1.5549 - accuracy: 0.5413 - val_loss: 1.7155 - val_accuracy: 0.5061 - lr: 1.0000e-07\n"
          ]
        },
        {
          "data": {
            "text/plain": [
              "<keras.callbacks.History at 0x7efe0b0f4550>"
            ]
          },
          "execution_count": 87,
          "metadata": {},
          "output_type": "execute_result"
        }
      ],
      "source": [
        "model.fit(train_set,epochs=60,validation_data=val_set,callbacks=[lr_sched,mdl_check,early_stop],batch_size=32)"
      ]
    },
    {
      "cell_type": "code",
      "execution_count": null,
      "id": "045290fb-578e-4916-8da9-614a51fefb69",
      "metadata": {
        "id": "045290fb-578e-4916-8da9-614a51fefb69",
        "outputId": "a9536945-fea5-458c-8fd0-a0f52b474c49"
      },
      "outputs": [
        {
          "name": "stdout",
          "output_type": "stream",
          "text": [
            "1759/1759 [==============================] - 5s 2ms/step - loss: 1.7157 - accuracy: 0.5083\n"
          ]
        },
        {
          "data": {
            "text/plain": [
              "[1.7156568765640259, 0.5083345174789429]"
            ]
          },
          "execution_count": 88,
          "metadata": {},
          "output_type": "execute_result"
        }
      ],
      "source": [
        "model.evaluate(test_set)"
      ]
    },
    {
      "cell_type": "markdown",
      "id": "9a69d09b-cd3f-4dcc-a600-d6b932b711ac",
      "metadata": {
        "id": "9a69d09b-cd3f-4dcc-a600-d6b932b711ac",
        "tags": []
      },
      "source": [
        "#### **LSTM Neural Network**"
      ]
    },
    {
      "cell_type": "code",
      "execution_count": null,
      "id": "88bd4339-c232-46ef-a9b0-7c4c6955fd7a",
      "metadata": {
        "id": "88bd4339-c232-46ef-a9b0-7c4c6955fd7a"
      },
      "outputs": [],
      "source": [
        "dropout_rate = 0.3"
      ]
    },
    {
      "cell_type": "code",
      "execution_count": null,
      "id": "13e718d3-75c7-47bc-ac20-64fd78d29715",
      "metadata": {
        "id": "13e718d3-75c7-47bc-ac20-64fd78d29715"
      },
      "outputs": [],
      "source": [
        "train_x = train_x.reshape(-1,1,embedding_dim)\n",
        "test_x = test_x.reshape(-1,1,embedding_dim)"
      ]
    },
    {
      "cell_type": "code",
      "execution_count": null,
      "id": "43bb11e5-e499-495c-8a39-6a8d697bed5b",
      "metadata": {
        "id": "43bb11e5-e499-495c-8a39-6a8d697bed5b",
        "outputId": "bbc85e8a-caa4-4f31-83a1-3275a0b8e349"
      },
      "outputs": [
        {
          "data": {
            "text/plain": [
              "(281358, 1, 300)"
            ]
          },
          "execution_count": 91,
          "metadata": {},
          "output_type": "execute_result"
        }
      ],
      "source": [
        "train_x.shape"
      ]
    },
    {
      "cell_type": "code",
      "execution_count": null,
      "id": "13bfcc67-060b-4be5-9a7b-2d52c60e70ab",
      "metadata": {
        "id": "13bfcc67-060b-4be5-9a7b-2d52c60e70ab"
      },
      "outputs": [],
      "source": [
        "train_set = Dataset.from_tensor_slices((train_x,train_y))\n",
        "test_set = Dataset.from_tensor_slices((test_x,test_y))"
      ]
    },
    {
      "cell_type": "code",
      "execution_count": null,
      "id": "ff1fff34-ed9d-4bf3-97cc-a8e5a81189ec",
      "metadata": {
        "id": "ff1fff34-ed9d-4bf3-97cc-a8e5a81189ec"
      },
      "outputs": [],
      "source": [
        "test_cardinality = experimental.cardinality(test_set)\n",
        "val_set = test_set.take(test_cardinality // 5)\n",
        "test_set = test_set.skip(test_cardinality // 5)"
      ]
    },
    {
      "cell_type": "code",
      "execution_count": null,
      "id": "2305c646-87e1-46e0-8e23-5234077a6a16",
      "metadata": {
        "id": "2305c646-87e1-46e0-8e23-5234077a6a16"
      },
      "outputs": [],
      "source": [
        "train_set = train_set.batch(32)\n",
        "val_set = val_set.batch(32)\n",
        "test_set = test_set.batch(32)"
      ]
    },
    {
      "cell_type": "code",
      "execution_count": null,
      "id": "50de18a4-75c2-4e7a-871b-0b07bc5c5266",
      "metadata": {
        "id": "50de18a4-75c2-4e7a-871b-0b07bc5c5266",
        "tags": []
      },
      "outputs": [],
      "source": [
        "model = Sequential()\n",
        "model.add(Bidirectional(LSTM(96,return_sequences=True,input_shape=(1,embedding_dim))))\n",
        "model.add(Dropout(0.3))\n",
        "model.add(Bidirectional(LSTM(96,return_sequences=True)))\n",
        "model.add(Dropout(0.3))\n",
        "model.add(Bidirectional(LSTM(96,return_sequences=False)))\n",
        "model.add(Dropout(0.3))\n",
        "model.add(Dense(64,activation=\"relu\"))\n",
        "model.add(Dense(41,activation=\"softmax\"))"
      ]
    },
    {
      "cell_type": "code",
      "execution_count": null,
      "id": "dbc0d043-8286-4c29-91a7-788a4bbac617",
      "metadata": {
        "id": "dbc0d043-8286-4c29-91a7-788a4bbac617"
      },
      "outputs": [],
      "source": [
        "model.compile(optimizer=Adam(learning_rate=1.0000e-07),loss=\"sparse_categorical_crossentropy\",metrics=\"accuracy\")"
      ]
    },
    {
      "cell_type": "code",
      "execution_count": null,
      "id": "d9216b92-4b5a-480f-9789-8544d1e64e72",
      "metadata": {
        "id": "d9216b92-4b5a-480f-9789-8544d1e64e72"
      },
      "outputs": [],
      "source": [
        "lr_sched = ReduceLROnPlateau(mode='max',monitor='val_accuracy',verbose=3,patience=5,factor=0.1)\n",
        "mdl_check = ModelCheckpoint(\"model_ckpt\",verbose=3,monitor='val_accuracy',save_best_only=True,mode='max')\n",
        "early_stop = EarlyStopping(monitor='val_accuracy',patience=11,verbose=3)"
      ]
    },
    {
      "cell_type": "code",
      "execution_count": null,
      "id": "c724835b-7e48-4ebd-bd49-81524573a73b",
      "metadata": {
        "tags": [],
        "id": "c724835b-7e48-4ebd-bd49-81524573a73b"
      },
      "outputs": [],
      "source": [
        "model.fit(train_set,epochs=90,validation_data=val_set,callbacks=[lr_sched,mdl_check,early_stop],batch_size=64)"
      ]
    },
    {
      "cell_type": "code",
      "execution_count": null,
      "id": "bae84163-747c-4107-a530-86e753b344f3",
      "metadata": {
        "id": "bae84163-747c-4107-a530-86e753b344f3",
        "outputId": "96d9a5d0-f663-401d-d863-3474e08523c8"
      },
      "outputs": [
        {
          "name": "stdout",
          "output_type": "stream",
          "text": [
            "1759/1759 [==============================] - 10s 5ms/step - loss: 1.6015 - accuracy: 0.5322\n"
          ]
        },
        {
          "data": {
            "text/plain": [
              "[1.6014758348464966, 0.5321651697158813]"
            ]
          },
          "execution_count": 40,
          "metadata": {},
          "output_type": "execute_result"
        }
      ],
      "source": [
        "model.evaluate(test_set)"
      ]
    },
    {
      "cell_type": "markdown",
      "id": "1ae0253a-f820-4741-8453-dd72a4a6d00c",
      "metadata": {
        "tags": [],
        "id": "1ae0253a-f820-4741-8453-dd72a4a6d00c"
      },
      "source": [
        "## **Comparison between TF-IDF and Embeddings**"
      ]
    },
    {
      "cell_type": "markdown",
      "id": "04fa1314-8bdf-4912-94c1-702fcb230413",
      "metadata": {
        "id": "04fa1314-8bdf-4912-94c1-702fcb230413"
      },
      "source": [
        "| Encoding | Model | Accuracy |\n",
        "| --- | --- | --- |\n",
        "| TF-IDF | Multinomial Logistic Regression | 0.57 |\n",
        "| TF-IDF | Random Forest | .0.56 |\n",
        "| TF-IDF | XGBoost Classifier | 0.60 |\n",
        "| TF-IDF | Artificial Neural Network |0.58 |\n",
        "| TF-IDF | LSTM Bidirectional Neural Network |0.62 |\n",
        "| Word2Vec | Multinomial Logistic Regression | 0.49 |\n",
        "| Word2Vec | Random Forest | 0.45 |\n",
        "| Word2Vec | XGBoost Classifier | 0.53 |\n",
        "| Word2Vec | Artificial Neural Network | 0.50 |\n",
        "| Word2Vec | LSTM Bidirectional Neural Network | 0.53 |\n",
        "\n",
        "As we can see, TF-IDF encoding performed much better than sentence encodings. This is an expected result in our task since most sentences are short and the vocabulary is quite simple. Often, in these cases,simple encodings like TF-IDF outperform embeddings that are usually much more suitable when we deal with larger and semantically complex texts."
      ]
    },
    {
      "cell_type": "markdown",
      "id": "b8cff8c8-f6a0-4162-8335-458fb0651c6e",
      "metadata": {
        "id": "b8cff8c8-f6a0-4162-8335-458fb0651c6e",
        "tags": []
      },
      "source": [
        "## **Training and Evaluation with BERT**"
      ]
    },
    {
      "cell_type": "markdown",
      "id": "a27da929-d396-401a-aff2-58e3590f68e2",
      "metadata": {
        "id": "a27da929-d396-401a-aff2-58e3590f68e2"
      },
      "source": [
        "After training and evaluating many models, for both TF-IDF and Embedding Encodings methods, we will now proceed to fine-tune and evaluate a BERT Model. We will start out with a RoBERTa base model (125M parameters), which is an improved version of BERT and outperforms the first version in almost any task.\n",
        "Since BERT is an encoder, it produces its own context embeddings for each token. On top of it we will add a classification head (a feedforward network) which will map the embeddings in a set of probabilities for each of the 41 classes. Both encoders and decoders are quite sensible to each single token in the input sentence, and after some test, we found out that even punctuation makes quite a difference in the performance of the final model, and that expanding contractions makes no difference so we will also use the downsampled, unprocessed dataset in this section."
      ]
    },
    {
      "cell_type": "code",
      "execution_count": null,
      "id": "84822123-a810-4996-853e-43213a500eb3",
      "metadata": {
        "id": "84822123-a810-4996-853e-43213a500eb3"
      },
      "outputs": [],
      "source": [
        "final_df = downsample_ds"
      ]
    },
    {
      "cell_type": "code",
      "execution_count": null,
      "id": "4919bc79-ac05-4cb2-ad76-dd01209505f0",
      "metadata": {
        "id": "4919bc79-ac05-4cb2-ad76-dd01209505f0"
      },
      "outputs": [],
      "source": [
        "le = LabelEncoder()\n",
        "final_df['eb+_emot'] = le.fit_transform(final_df['eb+_emot'])"
      ]
    },
    {
      "cell_type": "code",
      "execution_count": null,
      "id": "f3da4180-d66d-4b69-a52e-9b35cf22bb0d",
      "metadata": {
        "id": "f3da4180-d66d-4b69-a52e-9b35cf22bb0d"
      },
      "outputs": [],
      "source": [
        "hf_ds = Dataset.from_pandas(final_df)"
      ]
    },
    {
      "cell_type": "code",
      "execution_count": null,
      "id": "26acb8f7-a194-4181-b7d5-46c18e4f3ce6",
      "metadata": {
        "id": "26acb8f7-a194-4181-b7d5-46c18e4f3ce6"
      },
      "outputs": [],
      "source": [
        "hf_ds = hf_ds.rename_column(original_column_name=\"eb+_emot\",new_column_name=\"label\")\n",
        "hf_ds = hf_ds.rename_column(original_column_name=\"uttr\",new_column_name=\"text\")\n",
        "hf_ds = hf_ds.remove_columns([\"__index_level_0__\"])"
      ]
    },
    {
      "cell_type": "code",
      "execution_count": null,
      "id": "159f05fa-c7f2-4a03-a8ce-a12ecf2df975",
      "metadata": {
        "id": "159f05fa-c7f2-4a03-a8ce-a12ecf2df975",
        "outputId": "af32ab48-3df4-43ce-e80d-cf2a806f1839"
      },
      "outputs": [
        {
          "data": {
            "text/plain": [
              "Dataset({\n",
              "    features: ['label', 'text'],\n",
              "    num_rows: 351698\n",
              "})"
            ]
          },
          "execution_count": 20,
          "metadata": {},
          "output_type": "execute_result"
        }
      ],
      "source": [
        "hf_ds"
      ]
    },
    {
      "cell_type": "markdown",
      "id": "922ab07c-1dee-463e-9bf0-3ad47e615dff",
      "metadata": {
        "id": "922ab07c-1dee-463e-9bf0-3ad47e615dff",
        "jp-MarkdownHeadingCollapsed": true,
        "tags": []
      },
      "source": [
        "### **Fine-Tuning RoBERTa**"
      ]
    },
    {
      "cell_type": "code",
      "execution_count": null,
      "id": "f562a255-9bf8-4f9e-b72b-af0c81a9d992",
      "metadata": {
        "id": "f562a255-9bf8-4f9e-b72b-af0c81a9d992"
      },
      "outputs": [],
      "source": [
        "tokenizer = RobertaTokenizerFast.from_pretrained(\"roberta-base\")\n",
        "roberta = AutoModelForSequenceClassification.from_pretrained(\"roberta-base\",num_labels=41)"
      ]
    },
    {
      "cell_type": "code",
      "execution_count": null,
      "id": "b5e67564-cadd-4155-8204-e94ce3aa2a86",
      "metadata": {
        "id": "b5e67564-cadd-4155-8204-e94ce3aa2a86"
      },
      "outputs": [],
      "source": [
        "def preprocess_function(examples):\n",
        "    return tokenizer(examples[\"text\"], truncation=True)"
      ]
    },
    {
      "cell_type": "code",
      "execution_count": null,
      "id": "f30be916-81bf-4cc2-b653-d7b1503108f2",
      "metadata": {
        "colab": {
          "referenced_widgets": [
            "e7e0de0e61ee4640b52a9cf1656c7a3a",
            "6ae142a3f337459eb77759cf9876ddde"
          ]
        },
        "id": "f30be916-81bf-4cc2-b653-d7b1503108f2",
        "outputId": "2c28eb00-0140-4202-9fcb-03dc597f23ba",
        "tags": []
      },
      "outputs": [
        {
          "data": {
            "application/vnd.jupyter.widget-view+json": {
              "model_id": "6ae142a3f337459eb77759cf9876ddde",
              "version_major": 2,
              "version_minor": 0
            },
            "text/plain": [
              "  0%|          | 0/352 [00:00<?, ?ba/s]"
            ]
          },
          "metadata": {},
          "output_type": "display_data"
        }
      ],
      "source": [
        "tokenized_ds = hf_ds.map(preprocess_function, batched=True)"
      ]
    },
    {
      "cell_type": "code",
      "execution_count": null,
      "id": "f230bf87-bdb9-45d4-8b4a-2f750dc66248",
      "metadata": {
        "id": "f230bf87-bdb9-45d4-8b4a-2f750dc66248"
      },
      "outputs": [],
      "source": [
        "tokenized_ds = tokenized_ds.train_test_split(test_size=0.2,seed=42)"
      ]
    },
    {
      "cell_type": "code",
      "execution_count": null,
      "id": "f91e7cef-f53b-4401-9185-c72a1f216d1f",
      "metadata": {
        "id": "f91e7cef-f53b-4401-9185-c72a1f216d1f",
        "outputId": "cd4f1f23-f791-48fc-aa62-f38c46be5774"
      },
      "outputs": [
        {
          "data": {
            "text/plain": [
              "DatasetDict({\n",
              "    train: Dataset({\n",
              "        features: ['label', 'text', 'input_ids', 'attention_mask'],\n",
              "        num_rows: 281358\n",
              "    })\n",
              "    test: Dataset({\n",
              "        features: ['label', 'text', 'input_ids', 'attention_mask'],\n",
              "        num_rows: 70340\n",
              "    })\n",
              "})"
            ]
          },
          "execution_count": 25,
          "metadata": {},
          "output_type": "execute_result"
        }
      ],
      "source": [
        "tokenized_ds"
      ]
    },
    {
      "cell_type": "code",
      "execution_count": null,
      "id": "62294457-5ea9-4f5c-bbfb-162327303732",
      "metadata": {
        "id": "62294457-5ea9-4f5c-bbfb-162327303732"
      },
      "outputs": [],
      "source": [
        "data_collator = DataCollatorWithPadding(tokenizer=tokenizer)"
      ]
    },
    {
      "cell_type": "markdown",
      "id": "b5b13267-5c30-4c73-a9cc-f8169a53fbb0",
      "metadata": {
        "id": "b5b13267-5c30-4c73-a9cc-f8169a53fbb0"
      },
      "source": [
        "We will now define the hyperparameters we will use for the model fine-tuning process.\n",
        "BERT fine-tuning usually expects a batch_size of 16 or 32, a weight decay of 0.01 and a learning rate between 1e-5 and 5e-5 for something between 2 and 5 epochs. Other hyperparameters must be considered, as the hidden layer activation function (which is GELU by default) but those are initialized by the huggingface library when we load AutoModelForSequenceClassification and the tokenizer.\n",
        "\n",
        "Those hyperparameters are similar to what the authors of EDOS dataset used in their research to build their dialogue sentiment analysis classifier."
      ]
    },
    {
      "cell_type": "code",
      "execution_count": null,
      "id": "a45ace5c-dd49-4fe7-9210-c7fde411e82f",
      "metadata": {
        "id": "a45ace5c-dd49-4fe7-9210-c7fde411e82f"
      },
      "outputs": [],
      "source": [
        "training_args = TrainingArguments(\n",
        "    output_dir=\"./results\",\n",
        "    learning_rate=2e-5,\n",
        "    per_device_train_batch_size=16,\n",
        "    per_device_eval_batch_size=16,\n",
        "    num_train_epochs=5,\n",
        "    weight_decay=0.01,\n",
        "    report_to=\"none\",\n",
        "    evaluation_strategy=\"epoch\",\n",
        "    save_strategy=\"epoch\",\n",
        "    save_total_limit=3,\n",
        "    load_best_model_at_end=True,\n",
        "    metric_for_best_model=\"accuracy\",\n",
        "    greater_is_better=True\n",
        ")"
      ]
    },
    {
      "cell_type": "code",
      "execution_count": null,
      "id": "d8d131c4-97b1-4930-af7f-9edd6afd0f63",
      "metadata": {
        "id": "d8d131c4-97b1-4930-af7f-9edd6afd0f63",
        "tags": []
      },
      "outputs": [],
      "source": [
        "from datasets import load_metric\n",
        "metric = load_metric('accuracy')\n",
        "        \n",
        "def compute_metrics(eval_pred):\n",
        "    predictions, labels = eval_pred\n",
        "    predictions = argmax(predictions, axis=1)\n",
        "    return metric.compute(predictions=predictions, references=labels)\n",
        "\n",
        "trainer = Trainer(\n",
        "    model=roberta,\n",
        "    args=training_args,\n",
        "    train_dataset=tokenized_ds[\"train\"],\n",
        "    eval_dataset=tokenized_ds[\"test\"],\n",
        "    tokenizer=tokenizer,\n",
        "    data_collator=data_collator,\n",
        "    compute_metrics=compute_metrics,\n",
        "    \n",
        ")"
      ]
    },
    {
      "cell_type": "code",
      "execution_count": null,
      "id": "893b1045-f279-4456-9e8a-13d176991f4f",
      "metadata": {
        "collapsed": true,
        "id": "893b1045-f279-4456-9e8a-13d176991f4f",
        "jupyter": {
          "outputs_hidden": true
        },
        "outputId": "577b927f-c414-454c-91ae-92e32c6be11f",
        "tags": []
      },
      "outputs": [
        {
          "name": "stderr",
          "output_type": "stream",
          "text": [
            "The following columns in the training set don't have a corresponding argument in `RobertaForSequenceClassification.forward` and have been ignored: text. If text are not expected by `RobertaForSequenceClassification.forward`,  you can safely ignore this message.\n",
            "/usr/local/lib/python3.9/dist-packages/transformers/optimization.py:306: FutureWarning: This implementation of AdamW is deprecated and will be removed in a future version. Use the PyTorch implementation torch.optim.AdamW instead, or set `no_deprecation_warning=True` to disable this warning\n",
            "  warnings.warn(\n",
            "***** Running training *****\n",
            "  Num examples = 281358\n",
            "  Num Epochs = 5\n",
            "  Instantaneous batch size per device = 16\n",
            "  Total train batch size (w. parallel, distributed & accumulation) = 16\n",
            "  Gradient Accumulation steps = 1\n",
            "  Total optimization steps = 87925\n"
          ]
        },
        {
          "data": {
            "text/html": [
              "\n",
              "    <div>\n",
              "      \n",
              "      <progress value='87925' max='87925' style='width:300px; height:20px; vertical-align: middle;'></progress>\n",
              "      [87925/87925 3:40:08, Epoch 5/5]\n",
              "    </div>\n",
              "    <table border=\"1\" class=\"dataframe\">\n",
              "  <thead>\n",
              " <tr style=\"text-align: left;\">\n",
              "      <th>Epoch</th>\n",
              "      <th>Training Loss</th>\n",
              "      <th>Validation Loss</th>\n",
              "      <th>Accuracy</th>\n",
              "    </tr>\n",
              "  </thead>\n",
              "  <tbody>\n",
              "    <tr>\n",
              "      <td>1</td>\n",
              "      <td>0.674000</td>\n",
              "      <td>0.568944</td>\n",
              "      <td>0.818311</td>\n",
              "    </tr>\n",
              "    <tr>\n",
              "      <td>2</td>\n",
              "      <td>0.451600</td>\n",
              "      <td>0.508143</td>\n",
              "      <td>0.842750</td>\n",
              "    </tr>\n",
              "    <tr>\n",
              "      <td>3</td>\n",
              "      <td>0.282600</td>\n",
              "      <td>0.502006</td>\n",
              "      <td>0.858928</td>\n",
              "    </tr>\n",
              "    <tr>\n",
              "      <td>4</td>\n",
              "      <td>0.170200</td>\n",
              "      <td>0.544907</td>\n",
              "      <td>0.871666</td>\n",
              "    </tr>\n",
              "    <tr>\n",
              "      <td>5</td>\n",
              "      <td>0.146100</td>\n",
              "      <td>0.580172</td>\n",
              "      <td>0.878533</td>\n",
              "    </tr>\n",
              "  </tbody>\n",
              "</table><p>"
            ],
            "text/plain": [
              "<IPython.core.display.HTML object>"
            ]
          },
          "metadata": {},
          "output_type": "display_data"
        },
        {
          "name": "stderr",
          "output_type": "stream",
          "text": [
            "The following columns in the evaluation set don't have a corresponding argument in `RobertaForSequenceClassification.forward` and have been ignored: text. If text are not expected by `RobertaForSequenceClassification.forward`,  you can safely ignore this message.\n",
            "***** Running Evaluation *****\n",
            "  Num examples = 70340\n",
            "  Batch size = 16\n",
            "Saving model checkpoint to ./results/checkpoint-17585\n",
            "Configuration saved in ./results/checkpoint-17585/config.json\n",
            "Model weights saved in ./results/checkpoint-17585/pytorch_model.bin\n",
            "tokenizer config file saved in ./results/checkpoint-17585/tokenizer_config.json\n",
            "Special tokens file saved in ./results/checkpoint-17585/special_tokens_map.json\n",
            "The following columns in the evaluation set don't have a corresponding argument in `RobertaForSequenceClassification.forward` and have been ignored: text. If text are not expected by `RobertaForSequenceClassification.forward`,  you can safely ignore this message.\n",
            "***** Running Evaluation *****\n",
            "  Num examples = 70340\n",
            "  Batch size = 16\n",
            "Saving model checkpoint to ./results/checkpoint-35170\n",
            "Configuration saved in ./results/checkpoint-35170/config.json\n",
            "Model weights saved in ./results/checkpoint-35170/pytorch_model.bin\n",
            "tokenizer config file saved in ./results/checkpoint-35170/tokenizer_config.json\n",
            "Special tokens file saved in ./results/checkpoint-35170/special_tokens_map.json\n",
            "The following columns in the evaluation set don't have a corresponding argument in `RobertaForSequenceClassification.forward` and have been ignored: text. If text are not expected by `RobertaForSequenceClassification.forward`,  you can safely ignore this message.\n",
            "***** Running Evaluation *****\n",
            "  Num examples = 70340\n",
            "  Batch size = 16\n",
            "Saving model checkpoint to ./results/checkpoint-52755\n",
            "Configuration saved in ./results/checkpoint-52755/config.json\n",
            "Model weights saved in ./results/checkpoint-52755/pytorch_model.bin\n",
            "tokenizer config file saved in ./results/checkpoint-52755/tokenizer_config.json\n",
            "Special tokens file saved in ./results/checkpoint-52755/special_tokens_map.json\n",
            "The following columns in the evaluation set don't have a corresponding argument in `RobertaForSequenceClassification.forward` and have been ignored: text. If text are not expected by `RobertaForSequenceClassification.forward`,  you can safely ignore this message.\n",
            "***** Running Evaluation *****\n",
            "  Num examples = 70340\n",
            "  Batch size = 16\n",
            "Saving model checkpoint to ./results/checkpoint-70340\n",
            "Configuration saved in ./results/checkpoint-70340/config.json\n",
            "Model weights saved in ./results/checkpoint-70340/pytorch_model.bin\n",
            "tokenizer config file saved in ./results/checkpoint-70340/tokenizer_config.json\n",
            "Special tokens file saved in ./results/checkpoint-70340/special_tokens_map.json\n",
            "Deleting older checkpoint [results/checkpoint-17585] due to args.save_total_limit\n",
            "The following columns in the evaluation set don't have a corresponding argument in `RobertaForSequenceClassification.forward` and have been ignored: text. If text are not expected by `RobertaForSequenceClassification.forward`,  you can safely ignore this message.\n",
            "***** Running Evaluation *****\n",
            "  Num examples = 70340\n",
            "  Batch size = 16\n",
            "Saving model checkpoint to ./results/checkpoint-87925\n",
            "Configuration saved in ./results/checkpoint-87925/config.json\n",
            "Model weights saved in ./results/checkpoint-87925/pytorch_model.bin\n",
            "tokenizer config file saved in ./results/checkpoint-87925/tokenizer_config.json\n",
            "Special tokens file saved in ./results/checkpoint-87925/special_tokens_map.json\n",
            "Deleting older checkpoint [results/checkpoint-35170] due to args.save_total_limit\n",
            "\n",
            "\n",
            "Training completed. Do not forget to share your model on huggingface.co/models =)\n",
            "\n",
            "\n",
            "Loading best model from ./results/checkpoint-87925 (score: 0.8785328404890532).\n"
          ]
        },
        {
          "data": {
            "text/plain": [
              "TrainOutput(global_step=87925, training_loss=0.38442389125135223, metrics={'train_runtime': 13209.6043, 'train_samples_per_second': 106.498, 'train_steps_per_second': 6.656, 'total_flos': 4.220834683837072e+16, 'train_loss': 0.38442389125135223, 'epoch': 5.0})"
            ]
          },
          "execution_count": 45,
          "metadata": {},
          "output_type": "execute_result"
        }
      ],
      "source": [
        "trainer.train()"
      ]
    },
    {
      "cell_type": "code",
      "execution_count": null,
      "id": "b666169e-f52c-4817-ad6d-358701de36c8",
      "metadata": {
        "id": "b666169e-f52c-4817-ad6d-358701de36c8"
      },
      "outputs": [],
      "source": [
        "from sklearn.metrics import accuracy_score, precision_recall_fscore_support\n",
        "\n",
        "# Evaluate the model on the test set\n",
        "result = trainer.predict(tokenized_ds[\"test\"])"
      ]
    },
    {
      "cell_type": "code",
      "execution_count": null,
      "id": "35cbf1d5-7c58-4c6b-a216-f1a6d6577845",
      "metadata": {
        "id": "35cbf1d5-7c58-4c6b-a216-f1a6d6577845",
        "outputId": "5d33ae0b-9f70-4d36-a452-be6440512f87"
      },
      "outputs": [
        {
          "name": "stdout",
          "output_type": "stream",
          "text": [
            "Accuracy: 0.8785\n",
            "Precision: 0.8782\n",
            "Recall: 0.8785\n",
            "F1 score: 0.8781\n"
          ]
        }
      ],
      "source": [
        "# Extract the predictions and labels from the result dictionary\n",
        "predictions = result.predictions.argmax(axis=-1)\n",
        "labels = result.label_ids\n",
        "\n",
        "# Compute accuracy\n",
        "accuracy = accuracy_score(labels, predictions)\n",
        "\n",
        "# Compute precision, recall, and F1 score\n",
        "precision, recall, f1_score, _ = precision_recall_fscore_support(labels, predictions, average='weighted')\n",
        "\n",
        "# Print the evaluation results\n",
        "print(f\"Accuracy: {accuracy:.4f}\")\n",
        "print(f\"Precision: {precision:.4f}\")\n",
        "print(f\"Recall: {recall:.4f}\")\n",
        "print(f\"F1 score: {f1_score:.4f}\")"
      ]
    },
    {
      "cell_type": "markdown",
      "id": "eb50aefb-a449-4955-8b3f-445cdeb4af9c",
      "metadata": {
        "id": "eb50aefb-a449-4955-8b3f-445cdeb4af9c",
        "tags": []
      },
      "source": [
        "### **Fine-Tuning ALBERT**"
      ]
    },
    {
      "cell_type": "markdown",
      "id": "6abc5517-3a9c-4cdb-9760-77ea558d9f6f",
      "metadata": {
        "id": "6abc5517-3a9c-4cdb-9760-77ea558d9f6f"
      },
      "source": [
        "We will now test another version of BERT, which is ALBERT to see if it can perform better. ALBERT base is the smallest model of the ALBERT family (11M parameters) but has similar performance to RoBERTa so it's worth checking it out. The biggest ALBERT model, which is ALBERT XXL has 230M parameters and performs better than RoBERTa in the benchmarks. However, with the current hardware, it would require too much time to be fine-tuned."
      ]
    },
    {
      "cell_type": "code",
      "execution_count": null,
      "id": "14d76170-9edd-4d43-aa4a-65717a516e30",
      "metadata": {
        "collapsed": true,
        "id": "14d76170-9edd-4d43-aa4a-65717a516e30",
        "jupyter": {
          "outputs_hidden": true
        },
        "tags": [],
        "colab": {
          "referenced_widgets": [
            "e45480102002402381108296c0ad092d",
            "9b645b5c346f4ab98dd758758e7d74ed",
            "278fc6fb90f94b80be33db790a6d2835",
            "443c8700c37b47ee8a66addad1616e26"
          ]
        },
        "outputId": "501dc6fc-cee2-47a7-ac25-1b25b159c952"
      },
      "outputs": [
        {
          "name": "stderr",
          "output_type": "stream",
          "text": [
            "https://huggingface.co/albert-base-v2/resolve/main/spiece.model not found in cache or force_download set to True, downloading to /root/.cache/huggingface/transformers/tmpigkn0xgs\n"
          ]
        },
        {
          "data": {
            "application/vnd.jupyter.widget-view+json": {
              "model_id": "e45480102002402381108296c0ad092d",
              "version_major": 2,
              "version_minor": 0
            },
            "text/plain": [
              "Downloading spiece.model:   0%|          | 0.00/742k [00:00<?, ?B/s]"
            ]
          },
          "metadata": {},
          "output_type": "display_data"
        },
        {
          "name": "stderr",
          "output_type": "stream",
          "text": [
            "storing https://huggingface.co/albert-base-v2/resolve/main/spiece.model in cache at /root/.cache/huggingface/transformers/10be6ce6d3508f1fdce98a57a574283b47c055228c1235f8686f039287ff8174.d6110e25022b713452eb83d5bfa8ae64530995a93d8e694fe52e05aa85dd3a7d\n",
            "creating metadata file for /root/.cache/huggingface/transformers/10be6ce6d3508f1fdce98a57a574283b47c055228c1235f8686f039287ff8174.d6110e25022b713452eb83d5bfa8ae64530995a93d8e694fe52e05aa85dd3a7d\n",
            "https://huggingface.co/albert-base-v2/resolve/main/tokenizer.json not found in cache or force_download set to True, downloading to /root/.cache/huggingface/transformers/tmp8v9xv4b7\n"
          ]
        },
        {
          "data": {
            "application/vnd.jupyter.widget-view+json": {
              "model_id": "9b645b5c346f4ab98dd758758e7d74ed",
              "version_major": 2,
              "version_minor": 0
            },
            "text/plain": [
              "Downloading tokenizer.json:   0%|          | 0.00/1.25M [00:00<?, ?B/s]"
            ]
          },
          "metadata": {},
          "output_type": "display_data"
        },
        {
          "name": "stderr",
          "output_type": "stream",
          "text": [
            "storing https://huggingface.co/albert-base-v2/resolve/main/tokenizer.json in cache at /root/.cache/huggingface/transformers/828a43aa4b9d07e2b7d3be7c6bc10a3ae6e16e8d9c3a0c557783639de9eaeb1b.670e237d152dd53ef77575d4f4a6cd34158db03128fe4f63437ce0d5992bac74\n",
            "creating metadata file for /root/.cache/huggingface/transformers/828a43aa4b9d07e2b7d3be7c6bc10a3ae6e16e8d9c3a0c557783639de9eaeb1b.670e237d152dd53ef77575d4f4a6cd34158db03128fe4f63437ce0d5992bac74\n",
            "loading file https://huggingface.co/albert-base-v2/resolve/main/spiece.model from cache at /root/.cache/huggingface/transformers/10be6ce6d3508f1fdce98a57a574283b47c055228c1235f8686f039287ff8174.d6110e25022b713452eb83d5bfa8ae64530995a93d8e694fe52e05aa85dd3a7d\n",
            "loading file https://huggingface.co/albert-base-v2/resolve/main/tokenizer.json from cache at /root/.cache/huggingface/transformers/828a43aa4b9d07e2b7d3be7c6bc10a3ae6e16e8d9c3a0c557783639de9eaeb1b.670e237d152dd53ef77575d4f4a6cd34158db03128fe4f63437ce0d5992bac74\n",
            "loading file https://huggingface.co/albert-base-v2/resolve/main/added_tokens.json from cache at None\n",
            "loading file https://huggingface.co/albert-base-v2/resolve/main/special_tokens_map.json from cache at None\n",
            "loading file https://huggingface.co/albert-base-v2/resolve/main/tokenizer_config.json from cache at None\n",
            "https://huggingface.co/albert-base-v2/resolve/main/config.json not found in cache or force_download set to True, downloading to /root/.cache/huggingface/transformers/tmpcllrfzzy\n"
          ]
        },
        {
          "data": {
            "application/vnd.jupyter.widget-view+json": {
              "model_id": "278fc6fb90f94b80be33db790a6d2835",
              "version_major": 2,
              "version_minor": 0
            },
            "text/plain": [
              "Downloading config.json:   0%|          | 0.00/684 [00:00<?, ?B/s]"
            ]
          },
          "metadata": {},
          "output_type": "display_data"
        },
        {
          "name": "stderr",
          "output_type": "stream",
          "text": [
            "storing https://huggingface.co/albert-base-v2/resolve/main/config.json in cache at /root/.cache/huggingface/transformers/e48be00f755a5f765e36a32885e8d6a573081df3321c9e19428d12abadf7dba2.b8f28145885741cf994c0e8a97b724f6c974460c297002145e48e511d2496e88\n",
            "creating metadata file for /root/.cache/huggingface/transformers/e48be00f755a5f765e36a32885e8d6a573081df3321c9e19428d12abadf7dba2.b8f28145885741cf994c0e8a97b724f6c974460c297002145e48e511d2496e88\n",
            "loading configuration file https://huggingface.co/albert-base-v2/resolve/main/config.json from cache at /root/.cache/huggingface/transformers/e48be00f755a5f765e36a32885e8d6a573081df3321c9e19428d12abadf7dba2.b8f28145885741cf994c0e8a97b724f6c974460c297002145e48e511d2496e88\n",
            "Model config AlbertConfig {\n",
            "  \"_name_or_path\": \"albert-base-v2\",\n",
            "  \"architectures\": [\n",
            "    \"AlbertForMaskedLM\"\n",
            "  ],\n",
            "  \"attention_probs_dropout_prob\": 0,\n",
            "  \"bos_token_id\": 2,\n",
            "  \"classifier_dropout_prob\": 0.1,\n",
            "  \"down_scale_factor\": 1,\n",
            "  \"embedding_size\": 128,\n",
            "  \"eos_token_id\": 3,\n",
            "  \"gap_size\": 0,\n",
            "  \"hidden_act\": \"gelu_new\",\n",
            "  \"hidden_dropout_prob\": 0,\n",
            "  \"hidden_size\": 768,\n",
            "  \"initializer_range\": 0.02,\n",
            "  \"inner_group_num\": 1,\n",
            "  \"intermediate_size\": 3072,\n",
            "  \"layer_norm_eps\": 1e-12,\n",
            "  \"max_position_embeddings\": 512,\n",
            "  \"model_type\": \"albert\",\n",
            "  \"net_structure_type\": 0,\n",
            "  \"num_attention_heads\": 12,\n",
            "  \"num_hidden_groups\": 1,\n",
            "  \"num_hidden_layers\": 12,\n",
            "  \"num_memory_blocks\": 0,\n",
            "  \"pad_token_id\": 0,\n",
            "  \"position_embedding_type\": \"absolute\",\n",
            "  \"transformers_version\": \"4.21.3\",\n",
            "  \"type_vocab_size\": 2,\n",
            "  \"vocab_size\": 30000\n",
            "}\n",
            "\n",
            "loading configuration file https://huggingface.co/albert-base-v2/resolve/main/config.json from cache at /root/.cache/huggingface/transformers/e48be00f755a5f765e36a32885e8d6a573081df3321c9e19428d12abadf7dba2.b8f28145885741cf994c0e8a97b724f6c974460c297002145e48e511d2496e88\n",
            "Model config AlbertConfig {\n",
            "  \"_name_or_path\": \"albert-base-v2\",\n",
            "  \"architectures\": [\n",
            "    \"AlbertForMaskedLM\"\n",
            "  ],\n",
            "  \"attention_probs_dropout_prob\": 0,\n",
            "  \"bos_token_id\": 2,\n",
            "  \"classifier_dropout_prob\": 0.1,\n",
            "  \"down_scale_factor\": 1,\n",
            "  \"embedding_size\": 128,\n",
            "  \"eos_token_id\": 3,\n",
            "  \"gap_size\": 0,\n",
            "  \"hidden_act\": \"gelu_new\",\n",
            "  \"hidden_dropout_prob\": 0,\n",
            "  \"hidden_size\": 768,\n",
            "  \"id2label\": {\n",
            "    \"0\": \"LABEL_0\",\n",
            "    \"1\": \"LABEL_1\",\n",
            "    \"2\": \"LABEL_2\",\n",
            "    \"3\": \"LABEL_3\",\n",
            "    \"4\": \"LABEL_4\",\n",
            "    \"5\": \"LABEL_5\",\n",
            "    \"6\": \"LABEL_6\",\n",
            "    \"7\": \"LABEL_7\",\n",
            "    \"8\": \"LABEL_8\",\n",
            "    \"9\": \"LABEL_9\",\n",
            "    \"10\": \"LABEL_10\",\n",
            "    \"11\": \"LABEL_11\",\n",
            "    \"12\": \"LABEL_12\",\n",
            "    \"13\": \"LABEL_13\",\n",
            "    \"14\": \"LABEL_14\",\n",
            "    \"15\": \"LABEL_15\",\n",
            "    \"16\": \"LABEL_16\",\n",
            "    \"17\": \"LABEL_17\",\n",
            "    \"18\": \"LABEL_18\",\n",
            "    \"19\": \"LABEL_19\",\n",
            "    \"20\": \"LABEL_20\",\n",
            "    \"21\": \"LABEL_21\",\n",
            "    \"22\": \"LABEL_22\",\n",
            "    \"23\": \"LABEL_23\",\n",
            "    \"24\": \"LABEL_24\",\n",
            "    \"25\": \"LABEL_25\",\n",
            "    \"26\": \"LABEL_26\",\n",
            "    \"27\": \"LABEL_27\",\n",
            "    \"28\": \"LABEL_28\",\n",
            "    \"29\": \"LABEL_29\",\n",
            "    \"30\": \"LABEL_30\",\n",
            "    \"31\": \"LABEL_31\",\n",
            "    \"32\": \"LABEL_32\",\n",
            "    \"33\": \"LABEL_33\",\n",
            "    \"34\": \"LABEL_34\",\n",
            "    \"35\": \"LABEL_35\",\n",
            "    \"36\": \"LABEL_36\",\n",
            "    \"37\": \"LABEL_37\",\n",
            "    \"38\": \"LABEL_38\",\n",
            "    \"39\": \"LABEL_39\",\n",
            "    \"40\": \"LABEL_40\"\n",
            "  },\n",
            "  \"initializer_range\": 0.02,\n",
            "  \"inner_group_num\": 1,\n",
            "  \"intermediate_size\": 3072,\n",
            "  \"label2id\": {\n",
            "    \"LABEL_0\": 0,\n",
            "    \"LABEL_1\": 1,\n",
            "    \"LABEL_10\": 10,\n",
            "    \"LABEL_11\": 11,\n",
            "    \"LABEL_12\": 12,\n",
            "    \"LABEL_13\": 13,\n",
            "    \"LABEL_14\": 14,\n",
            "    \"LABEL_15\": 15,\n",
            "    \"LABEL_16\": 16,\n",
            "    \"LABEL_17\": 17,\n",
            "    \"LABEL_18\": 18,\n",
            "    \"LABEL_19\": 19,\n",
            "    \"LABEL_2\": 2,\n",
            "    \"LABEL_20\": 20,\n",
            "    \"LABEL_21\": 21,\n",
            "    \"LABEL_22\": 22,\n",
            "    \"LABEL_23\": 23,\n",
            "    \"LABEL_24\": 24,\n",
            "    \"LABEL_25\": 25,\n",
            "    \"LABEL_26\": 26,\n",
            "    \"LABEL_27\": 27,\n",
            "    \"LABEL_28\": 28,\n",
            "    \"LABEL_29\": 29,\n",
            "    \"LABEL_3\": 3,\n",
            "    \"LABEL_30\": 30,\n",
            "    \"LABEL_31\": 31,\n",
            "    \"LABEL_32\": 32,\n",
            "    \"LABEL_33\": 33,\n",
            "    \"LABEL_34\": 34,\n",
            "    \"LABEL_35\": 35,\n",
            "    \"LABEL_36\": 36,\n",
            "    \"LABEL_37\": 37,\n",
            "    \"LABEL_38\": 38,\n",
            "    \"LABEL_39\": 39,\n",
            "    \"LABEL_4\": 4,\n",
            "    \"LABEL_40\": 40,\n",
            "    \"LABEL_5\": 5,\n",
            "    \"LABEL_6\": 6,\n",
            "    \"LABEL_7\": 7,\n",
            "    \"LABEL_8\": 8,\n",
            "    \"LABEL_9\": 9\n",
            "  },\n",
            "  \"layer_norm_eps\": 1e-12,\n",
            "  \"max_position_embeddings\": 512,\n",
            "  \"model_type\": \"albert\",\n",
            "  \"net_structure_type\": 0,\n",
            "  \"num_attention_heads\": 12,\n",
            "  \"num_hidden_groups\": 1,\n",
            "  \"num_hidden_layers\": 12,\n",
            "  \"num_memory_blocks\": 0,\n",
            "  \"pad_token_id\": 0,\n",
            "  \"position_embedding_type\": \"absolute\",\n",
            "  \"transformers_version\": \"4.21.3\",\n",
            "  \"type_vocab_size\": 2,\n",
            "  \"vocab_size\": 30000\n",
            "}\n",
            "\n",
            "https://huggingface.co/albert-base-v2/resolve/main/pytorch_model.bin not found in cache or force_download set to True, downloading to /root/.cache/huggingface/transformers/tmpa96xxsqz\n"
          ]
        },
        {
          "data": {
            "application/vnd.jupyter.widget-view+json": {
              "model_id": "443c8700c37b47ee8a66addad1616e26",
              "version_major": 2,
              "version_minor": 0
            },
            "text/plain": [
              "Downloading pytorch_model.bin:   0%|          | 0.00/45.2M [00:00<?, ?B/s]"
            ]
          },
          "metadata": {},
          "output_type": "display_data"
        },
        {
          "name": "stderr",
          "output_type": "stream",
          "text": [
            "storing https://huggingface.co/albert-base-v2/resolve/main/pytorch_model.bin in cache at /root/.cache/huggingface/transformers/bf1986d976e9a8320cbd3a0597e610bf299d639ce31b7ca581cbf54be3aaa6d3.d6d54047dfe6ae844e3bf6e7a7d0aff71cb598d3df019361e076ba7639b1da9b\n",
            "creating metadata file for /root/.cache/huggingface/transformers/bf1986d976e9a8320cbd3a0597e610bf299d639ce31b7ca581cbf54be3aaa6d3.d6d54047dfe6ae844e3bf6e7a7d0aff71cb598d3df019361e076ba7639b1da9b\n",
            "loading weights file https://huggingface.co/albert-base-v2/resolve/main/pytorch_model.bin from cache at /root/.cache/huggingface/transformers/bf1986d976e9a8320cbd3a0597e610bf299d639ce31b7ca581cbf54be3aaa6d3.d6d54047dfe6ae844e3bf6e7a7d0aff71cb598d3df019361e076ba7639b1da9b\n",
            "Some weights of the model checkpoint at albert-base-v2 were not used when initializing AlbertForSequenceClassification: ['predictions.decoder.weight', 'predictions.LayerNorm.bias', 'predictions.dense.weight', 'predictions.bias', 'predictions.LayerNorm.weight', 'predictions.dense.bias', 'predictions.decoder.bias']\n",
            "- This IS expected if you are initializing AlbertForSequenceClassification from the checkpoint of a model trained on another task or with another architecture (e.g. initializing a BertForSequenceClassification model from a BertForPreTraining model).\n",
            "- This IS NOT expected if you are initializing AlbertForSequenceClassification from the checkpoint of a model that you expect to be exactly identical (initializing a BertForSequenceClassification model from a BertForSequenceClassification model).\n",
            "Some weights of AlbertForSequenceClassification were not initialized from the model checkpoint at albert-base-v2 and are newly initialized: ['classifier.weight', 'classifier.bias']\n",
            "You should probably TRAIN this model on a down-stream task to be able to use it for predictions and inference.\n"
          ]
        }
      ],
      "source": [
        "tokenizer = AlbertTokenizerFast.from_pretrained(\"albert-base-v2\")\n",
        "albert = AutoModelForSequenceClassification.from_pretrained(\"albert-base-v2\",num_labels=41)"
      ]
    },
    {
      "cell_type": "code",
      "execution_count": null,
      "id": "0bf68348-c08c-4920-9e3f-ba17da6e5349",
      "metadata": {
        "id": "0bf68348-c08c-4920-9e3f-ba17da6e5349"
      },
      "outputs": [],
      "source": [
        "data_collator = DataCollatorWithPadding(tokenizer=tokenizer)"
      ]
    },
    {
      "cell_type": "code",
      "execution_count": null,
      "id": "b8201579-aac6-4f59-813a-5dd92fbbab3d",
      "metadata": {
        "id": "b8201579-aac6-4f59-813a-5dd92fbbab3d",
        "outputId": "b6cd2840-4e18-463d-997a-80ba965a8655"
      },
      "outputs": [
        {
          "name": "stderr",
          "output_type": "stream",
          "text": [
            "PyTorch: setting up devices\n"
          ]
        }
      ],
      "source": [
        "training_args = TrainingArguments(\n",
        "    output_dir=\"./results_albert\",\n",
        "    learning_rate=2e-5,\n",
        "    per_device_train_batch_size=16,\n",
        "    per_device_eval_batch_size=16,\n",
        "    num_train_epochs=5,\n",
        "    weight_decay=0.01,\n",
        "    report_to=\"none\",\n",
        "    evaluation_strategy=\"epoch\",\n",
        "    save_strategy=\"epoch\",\n",
        "    save_total_limit=3,\n",
        "    load_best_model_at_end=True,\n",
        "    metric_for_best_model=\"accuracy\",\n",
        "    greater_is_better=True\n",
        ")"
      ]
    },
    {
      "cell_type": "code",
      "execution_count": null,
      "id": "f2a38100-8b2d-431c-8416-cf3cd273095f",
      "metadata": {
        "id": "f2a38100-8b2d-431c-8416-cf3cd273095f"
      },
      "outputs": [],
      "source": [
        "from datasets import load_metric\n",
        "metric = load_metric('accuracy')\n",
        "        \n",
        "def compute_metrics(eval_pred):\n",
        "    predictions, labels = eval_pred\n",
        "    predictions = argmax(predictions, axis=1)\n",
        "    return metric.compute(predictions=predictions, references=labels)\n",
        "\n",
        "trainer = Trainer(\n",
        "    model=albert,\n",
        "    args=training_args,\n",
        "    train_dataset=tokenized_ds[\"train\"],\n",
        "    eval_dataset=tokenized_ds[\"test\"],\n",
        "    tokenizer=tokenizer,\n",
        "    data_collator=data_collator,\n",
        "    compute_metrics=compute_metrics,\n",
        "    \n",
        ")"
      ]
    },
    {
      "cell_type": "code",
      "execution_count": null,
      "id": "34a8938e-7c8d-4c8a-adad-889cfd66be90",
      "metadata": {
        "collapsed": true,
        "id": "34a8938e-7c8d-4c8a-adad-889cfd66be90",
        "jupyter": {
          "outputs_hidden": true
        },
        "outputId": "577b927f-c414-454c-91ae-92e32c6be11f",
        "tags": []
      },
      "outputs": [
        {
          "name": "stderr",
          "output_type": "stream",
          "text": [
            "The following columns in the training set don't have a corresponding argument in `AlbertForSequenceClassification.forward` and have been ignored: text. If text are not expected by `AlbertForSequenceClassification.forward`,  you can safely ignore this message.\n",
            "***** Running training *****\n",
            "  Num examples = 281358\n",
            "  Num Epochs = 5\n",
            "  Instantaneous batch size per device = 16\n",
            "  Total train batch size (w. parallel, distributed & accumulation) = 16\n",
            "  Gradient Accumulation steps = 1\n",
            "  Total optimization steps = 87925\n"
          ]
        },
        {
          "data": {
            "text/html": [
              "\n",
              "    <div>\n",
              "      \n",
              "      <progress value='39528' max='87925' style='width:300px; height:20px; vertical-align: middle;'></progress>\n",
              "      [39528/87925 2:07:40 < 2:36:19, 5.16 it/s, Epoch 2.25/5]\n",
              "    </div>\n",
              "    <table border=\"1\" class=\"dataframe\">\n",
              "  <thead>\n",
              " <tr style=\"text-align: left;\">\n",
              "      <th>Epoch</th>\n",
              "      <th>Training Loss</th>\n",
              "      <th>Validation Loss</th>\n",
              "      <th>Accuracy</th>\n",
              "    </tr>\n",
              "  </thead>\n",
              "  <tbody>\n",
              "    <tr>\n",
              "      <td>1</td>\n",
              "      <td>0.973400</td>\n",
              "      <td>0.953238</td>\n",
              "      <td>0.708829</td>\n",
              "    </tr>\n",
              "    <tr>\n",
              "      <td>2</td>\n",
              "      <td>0.697500</td>\n",
              "      <td>0.814276</td>\n",
              "      <td>0.749701</td>\n",
              "    </tr>\n",
              "  </tbody>\n",
              "</table><p>"
            ],
            "text/plain": [
              "<IPython.core.display.HTML object>"
            ]
          },
          "metadata": {},
          "output_type": "display_data"
        },
        {
          "name": "stderr",
          "output_type": "stream",
          "text": [
            "The following columns in the evaluation set don't have a corresponding argument in `AlbertForSequenceClassification.forward` and have been ignored: text. If text are not expected by `AlbertForSequenceClassification.forward`,  you can safely ignore this message.\n",
            "***** Running Evaluation *****\n",
            "  Num examples = 70340\n",
            "  Batch size = 16\n",
            "Saving model checkpoint to ./results_albert/checkpoint-17585\n",
            "Configuration saved in ./results_albert/checkpoint-17585/config.json\n",
            "Model weights saved in ./results_albert/checkpoint-17585/pytorch_model.bin\n",
            "tokenizer config file saved in ./results_albert/checkpoint-17585/tokenizer_config.json\n",
            "Special tokens file saved in ./results_albert/checkpoint-17585/special_tokens_map.json\n",
            "The following columns in the evaluation set don't have a corresponding argument in `AlbertForSequenceClassification.forward` and have been ignored: text. If text are not expected by `AlbertForSequenceClassification.forward`,  you can safely ignore this message.\n",
            "***** Running Evaluation *****\n",
            "  Num examples = 70340\n",
            "  Batch size = 16\n",
            "Saving model checkpoint to ./results_albert/checkpoint-35170\n",
            "Configuration saved in ./results_albert/checkpoint-35170/config.json\n",
            "Model weights saved in ./results_albert/checkpoint-35170/pytorch_model.bin\n",
            "tokenizer config file saved in ./results_albert/checkpoint-35170/tokenizer_config.json\n",
            "Special tokens file saved in ./results_albert/checkpoint-35170/special_tokens_map.json\n"
          ]
        },
        {
          "ename": "KeyboardInterrupt",
          "evalue": "",
          "output_type": "error",
          "traceback": [
            "\u001b[0;31m---------------------------------------------------------------------------\u001b[0m",
            "\u001b[0;31mKeyboardInterrupt\u001b[0m                         Traceback (most recent call last)",
            "Cell \u001b[0;32mIn [46], line 1\u001b[0m\n\u001b[0;32m----> 1\u001b[0m \u001b[43mtrainer\u001b[49m\u001b[38;5;241;43m.\u001b[39;49m\u001b[43mtrain\u001b[49m\u001b[43m(\u001b[49m\u001b[43m)\u001b[49m\n",
            "File \u001b[0;32m/usr/local/lib/python3.9/dist-packages/transformers/trainer.py:1498\u001b[0m, in \u001b[0;36mTrainer.train\u001b[0;34m(self, resume_from_checkpoint, trial, ignore_keys_for_eval, **kwargs)\u001b[0m\n\u001b[1;32m   1493\u001b[0m     \u001b[38;5;28mself\u001b[39m\u001b[38;5;241m.\u001b[39mmodel_wrapped \u001b[38;5;241m=\u001b[39m \u001b[38;5;28mself\u001b[39m\u001b[38;5;241m.\u001b[39mmodel\n\u001b[1;32m   1495\u001b[0m inner_training_loop \u001b[38;5;241m=\u001b[39m find_executable_batch_size(\n\u001b[1;32m   1496\u001b[0m     \u001b[38;5;28mself\u001b[39m\u001b[38;5;241m.\u001b[39m_inner_training_loop, \u001b[38;5;28mself\u001b[39m\u001b[38;5;241m.\u001b[39m_train_batch_size, args\u001b[38;5;241m.\u001b[39mauto_find_batch_size\n\u001b[1;32m   1497\u001b[0m )\n\u001b[0;32m-> 1498\u001b[0m \u001b[38;5;28;01mreturn\u001b[39;00m \u001b[43minner_training_loop\u001b[49m\u001b[43m(\u001b[49m\n\u001b[1;32m   1499\u001b[0m \u001b[43m    \u001b[49m\u001b[43margs\u001b[49m\u001b[38;5;241;43m=\u001b[39;49m\u001b[43margs\u001b[49m\u001b[43m,\u001b[49m\n\u001b[1;32m   1500\u001b[0m \u001b[43m    \u001b[49m\u001b[43mresume_from_checkpoint\u001b[49m\u001b[38;5;241;43m=\u001b[39;49m\u001b[43mresume_from_checkpoint\u001b[49m\u001b[43m,\u001b[49m\n\u001b[1;32m   1501\u001b[0m \u001b[43m    \u001b[49m\u001b[43mtrial\u001b[49m\u001b[38;5;241;43m=\u001b[39;49m\u001b[43mtrial\u001b[49m\u001b[43m,\u001b[49m\n\u001b[1;32m   1502\u001b[0m \u001b[43m    \u001b[49m\u001b[43mignore_keys_for_eval\u001b[49m\u001b[38;5;241;43m=\u001b[39;49m\u001b[43mignore_keys_for_eval\u001b[49m\u001b[43m,\u001b[49m\n\u001b[1;32m   1503\u001b[0m \u001b[43m\u001b[49m\u001b[43m)\u001b[49m\n",
            "File \u001b[0;32m/usr/local/lib/python3.9/dist-packages/transformers/trainer.py:1742\u001b[0m, in \u001b[0;36mTrainer._inner_training_loop\u001b[0;34m(self, batch_size, args, resume_from_checkpoint, trial, ignore_keys_for_eval)\u001b[0m\n\u001b[1;32m   1739\u001b[0m \u001b[38;5;28;01melse\u001b[39;00m:\n\u001b[1;32m   1740\u001b[0m     tr_loss_step \u001b[38;5;241m=\u001b[39m \u001b[38;5;28mself\u001b[39m\u001b[38;5;241m.\u001b[39mtraining_step(model, inputs)\n\u001b[0;32m-> 1742\u001b[0m \u001b[38;5;28;01mif\u001b[39;00m (\n\u001b[1;32m   1743\u001b[0m     args\u001b[38;5;241m.\u001b[39mlogging_nan_inf_filter\n\u001b[1;32m   1744\u001b[0m     \u001b[38;5;129;01mand\u001b[39;00m \u001b[38;5;129;01mnot\u001b[39;00m is_torch_tpu_available()\n\u001b[1;32m   1745\u001b[0m     \u001b[38;5;129;01mand\u001b[39;00m (torch\u001b[38;5;241m.\u001b[39misnan(tr_loss_step) \u001b[38;5;129;01mor\u001b[39;00m torch\u001b[38;5;241m.\u001b[39misinf(tr_loss_step))\n\u001b[1;32m   1746\u001b[0m ):\n\u001b[1;32m   1747\u001b[0m     \u001b[38;5;66;03m# if loss is nan or inf simply add the average of previous logged losses\u001b[39;00m\n\u001b[1;32m   1748\u001b[0m     tr_loss \u001b[38;5;241m+\u001b[39m\u001b[38;5;241m=\u001b[39m tr_loss \u001b[38;5;241m/\u001b[39m (\u001b[38;5;241m1\u001b[39m \u001b[38;5;241m+\u001b[39m \u001b[38;5;28mself\u001b[39m\u001b[38;5;241m.\u001b[39mstate\u001b[38;5;241m.\u001b[39mglobal_step \u001b[38;5;241m-\u001b[39m \u001b[38;5;28mself\u001b[39m\u001b[38;5;241m.\u001b[39m_globalstep_last_logged)\n\u001b[1;32m   1749\u001b[0m \u001b[38;5;28;01melse\u001b[39;00m:\n",
            "\u001b[0;31mKeyboardInterrupt\u001b[0m: "
          ]
        }
      ],
      "source": [
        "trainer.train()"
      ]
    },
    {
      "cell_type": "markdown",
      "id": "61da5f6f-bb22-4661-b4b1-169e98c1d0fd",
      "metadata": {
        "id": "61da5f6f-bb22-4661-b4b1-169e98c1d0fd"
      },
      "source": [
        "Here we brutally stopped the fine-tuning process after the second epoch because it became obvious that ALBERT was performing worse than RoBERTa so it had no sense to finish the training.\n",
        "\n",
        "---\n",
        "\n",
        "The final fine-tuned model was saved at https://huggingface.co/Frizio/roberta-edos-finetuned/"
      ]
    }
  ],
  "metadata": {
    "colab": {
      "provenance": [],
      "include_colab_link": true
    },
    "gpuClass": "standard",
    "kernelspec": {
      "display_name": "Python 3 (ipykernel)",
      "language": "python",
      "name": "python3"
    },
    "language_info": {
      "codemirror_mode": {
        "name": "ipython",
        "version": 3
      },
      "file_extension": ".py",
      "mimetype": "text/x-python",
      "name": "python",
      "nbconvert_exporter": "python",
      "pygments_lexer": "ipython3",
      "version": "3.9.16"
    }
  },
  "nbformat": 4,
  "nbformat_minor": 5
}