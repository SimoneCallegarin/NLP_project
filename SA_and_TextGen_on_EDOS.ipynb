{
  "cells": [
    {
      "cell_type": "markdown",
      "metadata": {
        "id": "view-in-github",
        "colab_type": "text"
      },
      "source": [
        "<a href=\"https://colab.research.google.com/github/SimoneCallegarin/NLP_project/blob/main/SA_and_TextGen_on_EDOS.ipynb\" target=\"_parent\"><img src=\"https://colab.research.google.com/assets/colab-badge.svg\" alt=\"Open In Colab\"/></a>"
      ]
    },
    {
      "cell_type": "markdown",
      "id": "f45f1ef2-f6fb-4657-967f-1c6cb58e433f",
      "metadata": {
        "id": "f45f1ef2-f6fb-4657-967f-1c6cb58e433f"
      },
      "source": [
        "# **Environment Setup**"
      ]
    },
    {
      "cell_type": "markdown",
      "id": "6cf90fe4-005f-43ae-9706-4d23bd0b088e",
      "metadata": {
        "id": "6cf90fe4-005f-43ae-9706-4d23bd0b088e"
      },
      "source": [
        "## **Libraries Imports**"
      ]
    },
    {
      "cell_type": "code",
      "execution_count": 1,
      "id": "d19243d1-9a72-4d70-a0ac-72054e3c4bc3",
      "metadata": {
        "id": "d19243d1-9a72-4d70-a0ac-72054e3c4bc3"
      },
      "outputs": [],
      "source": [
        "%%capture\n",
        "import pandas as pd\n",
        "from sklearn.feature_extraction.text import TfidfVectorizer\n",
        "import re\n",
        "from sklearn.cluster import KMeans\n",
        "from sklearn import metrics\n",
        "from gensim.models.ldamulticore import LdaMulticore\n",
        "from gensim.corpora import Dictionary\n",
        "from gensim.matutils import Sparse2Corpus\n",
        "from gensim.models import CoherenceModel\n",
        "import multiprocessing\n",
        "import matplotlib.pyplot as plt\n",
        "import seaborn as sns\n",
        "\n",
        "import warnings\n",
        "warnings.filterwarnings(\"ignore\", category=DeprecationWarning)\n",
        "\n",
        "%matplotlib inline\n",
        "fig, ax = plt.subplots(figsize=(14, 5))"
      ]
    },
    {
      "cell_type": "markdown",
      "source": [
        "A function for printing graphs in a formatted way"
      ],
      "metadata": {
        "id": "BdHBJ7yylGNy"
      },
      "id": "BdHBJ7yylGNy"
    },
    {
      "cell_type": "code",
      "source": [
        "def print_graph(title, xlab, ylab, rotated):\n",
        "    plt.title(title)\n",
        "    plt.ylabel(ylab, fontsize=12)\n",
        "    plt.xlabel(xlab, fontsize=12)\n",
        "    if rotated:\n",
        "        plt.xticks(rotation=90)"
      ],
      "metadata": {
        "id": "AuJdLlLVTVs9"
      },
      "id": "AuJdLlLVTVs9",
      "execution_count": 2,
      "outputs": []
    },
    {
      "cell_type": "markdown",
      "id": "d2a7ed31-b213-4699-a7e6-f238b36c20f5",
      "metadata": {
        "id": "d2a7ed31-b213-4699-a7e6-f238b36c20f5"
      },
      "source": [
        "## **Dataset Download**"
      ]
    },
    {
      "cell_type": "code",
      "execution_count": 3,
      "id": "44a6e0d3-bc28-4ea1-8ffb-aae536515a53",
      "metadata": {
        "id": "44a6e0d3-bc28-4ea1-8ffb-aae536515a53"
      },
      "outputs": [],
      "source": [
        "csv_path = \"https://media.githubusercontent.com/media/SimoneCallegarin/NLP_project/main/EDOS_1M.csv\""
      ]
    },
    {
      "cell_type": "markdown",
      "id": "1507a5b1-0b66-43ff-917d-d1471686fb79",
      "metadata": {
        "id": "1507a5b1-0b66-43ff-917d-d1471686fb79"
      },
      "source": [
        "# **Dataset Import and Cleaning**"
      ]
    },
    {
      "cell_type": "markdown",
      "id": "ab35de5c-fc8f-46bb-bc52-d749d72afb98",
      "metadata": {
        "id": "ab35de5c-fc8f-46bb-bc52-d749d72afb98"
      },
      "source": [
        "We will now import the EDOS dataset and clean it from:\n",
        "    \n",
        "- duplicates\n",
        "- null values"
      ]
    },
    {
      "cell_type": "code",
      "execution_count": 4,
      "id": "f0a21112-c0f5-42c8-88df-86a518380847",
      "metadata": {
        "id": "f0a21112-c0f5-42c8-88df-86a518380847"
      },
      "outputs": [],
      "source": [
        "df = pd.read_csv(csv_path)"
      ]
    },
    {
      "cell_type": "code",
      "execution_count": 5,
      "id": "1abc4089-56a5-4cb6-be49-9dc69a6139c1",
      "metadata": {
        "id": "1abc4089-56a5-4cb6-be49-9dc69a6139c1",
        "outputId": "acff347e-a81e-4035-c968-ba50daa3b1e2",
        "colab": {
          "base_uri": "https://localhost:8080/"
        }
      },
      "outputs": [
        {
          "output_type": "stream",
          "name": "stdout",
          "text": [
            "<class 'pandas.core.frame.DataFrame'>\n",
            "RangeIndex: 2829426 entries, 0 to 2829425\n",
            "Data columns (total 5 columns):\n",
            " #   Column            Dtype  \n",
            "---  ------            -----  \n",
            " 0   dialogue_id       int64  \n",
            " 1   turn              int64  \n",
            " 2   uttr              object \n",
            " 3   eb+_emot          object \n",
            " 4   label_confidence  float64\n",
            "dtypes: float64(1), int64(2), object(2)\n",
            "memory usage: 107.9+ MB\n"
          ]
        }
      ],
      "source": [
        "df.info()"
      ]
    },
    {
      "cell_type": "code",
      "execution_count": 6,
      "id": "402417f7-acab-41fc-adcf-5661d075773b",
      "metadata": {
        "id": "402417f7-acab-41fc-adcf-5661d075773b",
        "outputId": "1c0541cb-1539-4be0-fd65-b169fe9f94f7",
        "colab": {
          "base_uri": "https://localhost:8080/",
          "height": 0
        }
      },
      "outputs": [
        {
          "output_type": "execute_result",
          "data": {
            "text/plain": [
              "   dialogue_id  turn                                               uttr  \\\n",
              "0           97     1  You moron ! What fool washes diapers by the we...   \n",
              "1           97     2                                 You useless fool !   \n",
              "2           99     1                               How dare you sleep !   \n",
              "3           99     2                      Up ! Go and clean the house .   \n",
              "4          100     1                                Clean the kitchen .   \n",
              "\n",
              "   eb+_emot  label_confidence  \n",
              "0     angry          0.437522  \n",
              "1   furious          0.731564  \n",
              "2   furious          0.605636  \n",
              "3  prepared          0.650449  \n",
              "4  prepared          0.742187  "
            ],
            "text/html": [
              "\n",
              "  <div id=\"df-3e375403-9b5f-4c22-82cf-885790ee05b6\">\n",
              "    <div class=\"colab-df-container\">\n",
              "      <div>\n",
              "<style scoped>\n",
              "    .dataframe tbody tr th:only-of-type {\n",
              "        vertical-align: middle;\n",
              "    }\n",
              "\n",
              "    .dataframe tbody tr th {\n",
              "        vertical-align: top;\n",
              "    }\n",
              "\n",
              "    .dataframe thead th {\n",
              "        text-align: right;\n",
              "    }\n",
              "</style>\n",
              "<table border=\"1\" class=\"dataframe\">\n",
              "  <thead>\n",
              "    <tr style=\"text-align: right;\">\n",
              "      <th></th>\n",
              "      <th>dialogue_id</th>\n",
              "      <th>turn</th>\n",
              "      <th>uttr</th>\n",
              "      <th>eb+_emot</th>\n",
              "      <th>label_confidence</th>\n",
              "    </tr>\n",
              "  </thead>\n",
              "  <tbody>\n",
              "    <tr>\n",
              "      <th>0</th>\n",
              "      <td>97</td>\n",
              "      <td>1</td>\n",
              "      <td>You moron ! What fool washes diapers by the we...</td>\n",
              "      <td>angry</td>\n",
              "      <td>0.437522</td>\n",
              "    </tr>\n",
              "    <tr>\n",
              "      <th>1</th>\n",
              "      <td>97</td>\n",
              "      <td>2</td>\n",
              "      <td>You useless fool !</td>\n",
              "      <td>furious</td>\n",
              "      <td>0.731564</td>\n",
              "    </tr>\n",
              "    <tr>\n",
              "      <th>2</th>\n",
              "      <td>99</td>\n",
              "      <td>1</td>\n",
              "      <td>How dare you sleep !</td>\n",
              "      <td>furious</td>\n",
              "      <td>0.605636</td>\n",
              "    </tr>\n",
              "    <tr>\n",
              "      <th>3</th>\n",
              "      <td>99</td>\n",
              "      <td>2</td>\n",
              "      <td>Up ! Go and clean the house .</td>\n",
              "      <td>prepared</td>\n",
              "      <td>0.650449</td>\n",
              "    </tr>\n",
              "    <tr>\n",
              "      <th>4</th>\n",
              "      <td>100</td>\n",
              "      <td>1</td>\n",
              "      <td>Clean the kitchen .</td>\n",
              "      <td>prepared</td>\n",
              "      <td>0.742187</td>\n",
              "    </tr>\n",
              "  </tbody>\n",
              "</table>\n",
              "</div>\n",
              "      <button class=\"colab-df-convert\" onclick=\"convertToInteractive('df-3e375403-9b5f-4c22-82cf-885790ee05b6')\"\n",
              "              title=\"Convert this dataframe to an interactive table.\"\n",
              "              style=\"display:none;\">\n",
              "        \n",
              "  <svg xmlns=\"http://www.w3.org/2000/svg\" height=\"24px\"viewBox=\"0 0 24 24\"\n",
              "       width=\"24px\">\n",
              "    <path d=\"M0 0h24v24H0V0z\" fill=\"none\"/>\n",
              "    <path d=\"M18.56 5.44l.94 2.06.94-2.06 2.06-.94-2.06-.94-.94-2.06-.94 2.06-2.06.94zm-11 1L8.5 8.5l.94-2.06 2.06-.94-2.06-.94L8.5 2.5l-.94 2.06-2.06.94zm10 10l.94 2.06.94-2.06 2.06-.94-2.06-.94-.94-2.06-.94 2.06-2.06.94z\"/><path d=\"M17.41 7.96l-1.37-1.37c-.4-.4-.92-.59-1.43-.59-.52 0-1.04.2-1.43.59L10.3 9.45l-7.72 7.72c-.78.78-.78 2.05 0 2.83L4 21.41c.39.39.9.59 1.41.59.51 0 1.02-.2 1.41-.59l7.78-7.78 2.81-2.81c.8-.78.8-2.07 0-2.86zM5.41 20L4 18.59l7.72-7.72 1.47 1.35L5.41 20z\"/>\n",
              "  </svg>\n",
              "      </button>\n",
              "      \n",
              "  <style>\n",
              "    .colab-df-container {\n",
              "      display:flex;\n",
              "      flex-wrap:wrap;\n",
              "      gap: 12px;\n",
              "    }\n",
              "\n",
              "    .colab-df-convert {\n",
              "      background-color: #E8F0FE;\n",
              "      border: none;\n",
              "      border-radius: 50%;\n",
              "      cursor: pointer;\n",
              "      display: none;\n",
              "      fill: #1967D2;\n",
              "      height: 32px;\n",
              "      padding: 0 0 0 0;\n",
              "      width: 32px;\n",
              "    }\n",
              "\n",
              "    .colab-df-convert:hover {\n",
              "      background-color: #E2EBFA;\n",
              "      box-shadow: 0px 1px 2px rgba(60, 64, 67, 0.3), 0px 1px 3px 1px rgba(60, 64, 67, 0.15);\n",
              "      fill: #174EA6;\n",
              "    }\n",
              "\n",
              "    [theme=dark] .colab-df-convert {\n",
              "      background-color: #3B4455;\n",
              "      fill: #D2E3FC;\n",
              "    }\n",
              "\n",
              "    [theme=dark] .colab-df-convert:hover {\n",
              "      background-color: #434B5C;\n",
              "      box-shadow: 0px 1px 3px 1px rgba(0, 0, 0, 0.15);\n",
              "      filter: drop-shadow(0px 1px 2px rgba(0, 0, 0, 0.3));\n",
              "      fill: #FFFFFF;\n",
              "    }\n",
              "  </style>\n",
              "\n",
              "      <script>\n",
              "        const buttonEl =\n",
              "          document.querySelector('#df-3e375403-9b5f-4c22-82cf-885790ee05b6 button.colab-df-convert');\n",
              "        buttonEl.style.display =\n",
              "          google.colab.kernel.accessAllowed ? 'block' : 'none';\n",
              "\n",
              "        async function convertToInteractive(key) {\n",
              "          const element = document.querySelector('#df-3e375403-9b5f-4c22-82cf-885790ee05b6');\n",
              "          const dataTable =\n",
              "            await google.colab.kernel.invokeFunction('convertToInteractive',\n",
              "                                                     [key], {});\n",
              "          if (!dataTable) return;\n",
              "\n",
              "          const docLinkHtml = 'Like what you see? Visit the ' +\n",
              "            '<a target=\"_blank\" href=https://colab.research.google.com/notebooks/data_table.ipynb>data table notebook</a>'\n",
              "            + ' to learn more about interactive tables.';\n",
              "          element.innerHTML = '';\n",
              "          dataTable['output_type'] = 'display_data';\n",
              "          await google.colab.output.renderOutput(dataTable, element);\n",
              "          const docLink = document.createElement('div');\n",
              "          docLink.innerHTML = docLinkHtml;\n",
              "          element.appendChild(docLink);\n",
              "        }\n",
              "      </script>\n",
              "    </div>\n",
              "  </div>\n",
              "  "
            ]
          },
          "metadata": {},
          "execution_count": 6
        }
      ],
      "source": [
        "df.head()"
      ]
    },
    {
      "cell_type": "code",
      "execution_count": 7,
      "id": "727417ea-754c-450c-8a7a-6590bbd7085d",
      "metadata": {
        "id": "727417ea-754c-450c-8a7a-6590bbd7085d",
        "outputId": "dd2c7305-97de-43d7-90f7-4fbe350b918e",
        "colab": {
          "base_uri": "https://localhost:8080/"
        }
      },
      "outputs": [
        {
          "output_type": "execute_result",
          "data": {
            "text/plain": [
              "0"
            ]
          },
          "metadata": {},
          "execution_count": 7
        }
      ],
      "source": [
        "df.duplicated().sum()"
      ]
    },
    {
      "cell_type": "code",
      "execution_count": 8,
      "id": "b9ab2bb0-4174-4776-af17-faed9e3f89ab",
      "metadata": {
        "id": "b9ab2bb0-4174-4776-af17-faed9e3f89ab"
      },
      "outputs": [],
      "source": [
        "def isEnglish(s):\n",
        "    try:\n",
        "        s.encode(encoding='utf-8').decode('ascii')\n",
        "    except UnicodeDecodeError:\n",
        "        return None\n",
        "    else:\n",
        "        return s"
      ]
    },
    {
      "cell_type": "code",
      "execution_count": 9,
      "id": "f5a21ae0-ca0c-4433-838d-04eb231d8daf",
      "metadata": {
        "id": "f5a21ae0-ca0c-4433-838d-04eb231d8daf",
        "colab": {
          "base_uri": "https://localhost:8080/"
        },
        "outputId": "9c237ad2-4fb3-45af-c312-5ce097001d37"
      },
      "outputs": [
        {
          "output_type": "execute_result",
          "data": {
            "text/plain": [
              "2829426"
            ]
          },
          "metadata": {},
          "execution_count": 9
        }
      ],
      "source": [
        "df['uttr'].apply(lambda s: isEnglish(s)).size  #same size as before, no rows were removed "
      ]
    },
    {
      "cell_type": "markdown",
      "id": "ad3a64c8-d226-4f39-a96e-f67d8af7d94b",
      "metadata": {
        "id": "ad3a64c8-d226-4f39-a96e-f67d8af7d94b"
      },
      "source": [
        "As we can see the dataset was already cleaned since we have no duplicated, null rows or not-ASCII characters (which usually means we are dealing with a multilingual dataset), so we can proceed to the next steps without worries."
      ]
    },
    {
      "cell_type": "markdown",
      "id": "d95277ac-a8e0-432d-b59c-e3a01d196c8c",
      "metadata": {
        "id": "d95277ac-a8e0-432d-b59c-e3a01d196c8c"
      },
      "source": [
        "# **Preliminary Analysis**"
      ]
    },
    {
      "cell_type": "markdown",
      "id": "3aa84b09-07a8-4993-a192-1b27761d7488",
      "metadata": {
        "id": "3aa84b09-07a8-4993-a192-1b27761d7488"
      },
      "source": [
        "## **EDA - Exploratory Data Analysis**"
      ]
    },
    {
      "cell_type": "markdown",
      "id": "a5bb5d8d-019a-4420-8fac-eeb101338726",
      "metadata": {
        "id": "a5bb5d8d-019a-4420-8fac-eeb101338726"
      },
      "source": [
        "Before diving into the training and evaluation of many different NLP models, we will perform the EDA (Exploratory Data Analysis) to have basic but fundamental insights about the data.\n",
        "\n",
        "In particular we will get:\n",
        "\n",
        "- basic informations about the dataset\n",
        "- some descriptive statistics"
      ]
    },
    {
      "cell_type": "markdown",
      "id": "06a09ed1-8131-485a-b503-198176ecdb90",
      "metadata": {
        "tags": [],
        "id": "06a09ed1-8131-485a-b503-198176ecdb90"
      },
      "source": [
        "### **Basic Understanding of the Dataset**"
      ]
    },
    {
      "cell_type": "markdown",
      "id": "aeb08598-57f6-4b91-b30e-914483725610",
      "metadata": {
        "id": "aeb08598-57f6-4b91-b30e-914483725610"
      },
      "source": [
        "As stated on the dataset website, EDOS contains short phrases (from 3 to 5 utterances), each labeled with an emotion. Let's get a better look at them"
      ]
    },
    {
      "cell_type": "code",
      "execution_count": 86,
      "id": "b5afc920-4ef2-4807-bed0-9e43fa9e519d",
      "metadata": {
        "id": "b5afc920-4ef2-4807-bed0-9e43fa9e519d",
        "outputId": "7e1b0663-d933-4987-8b04-2b1deb201f9e",
        "colab": {
          "base_uri": "https://localhost:8080/"
        }
      },
      "outputs": [
        {
          "output_type": "stream",
          "name": "stdout",
          "text": [
            "['You moron ! What fool washes diapers by the well !', 'You useless fool !', 'How dare you sleep !', 'Up ! Go and clean the house .', 'Clean the kitchen .']\n"
          ]
        },
        {
          "output_type": "stream",
          "name": "stderr",
          "text": [
            "/usr/local/lib/python3.10/dist-packages/ipykernel/ipkernel.py:283: DeprecationWarning: `should_run_async` will not call `transform_cell` automatically in the future. Please pass the result to `transformed_cell` argument and any exception that happen during thetransform in `preprocessing_exc_tuple` in IPython 7.17 and above.\n",
            "  and should_run_async(code)\n"
          ]
        }
      ],
      "source": [
        "print([x for x in df['uttr'][0:5]])"
      ]
    },
    {
      "cell_type": "markdown",
      "id": "292e6c40-1c75-495d-a3d1-66784bc5ff19",
      "metadata": {
        "id": "292e6c40-1c75-495d-a3d1-66784bc5ff19"
      },
      "source": [
        "Let's now check all the possible values of the emotion type, which will be our target in case of sentiment analysis"
      ]
    },
    {
      "cell_type": "code",
      "execution_count": 10,
      "id": "246784a3-ee6c-4583-9e78-a2e3c94bddf6",
      "metadata": {
        "id": "246784a3-ee6c-4583-9e78-a2e3c94bddf6",
        "outputId": "411dd86f-a2d0-416b-9733-1f92843b90a9",
        "colab": {
          "base_uri": "https://localhost:8080/"
        }
      },
      "outputs": [
        {
          "output_type": "stream",
          "name": "stdout",
          "text": [
            "['angry' 'furious' 'prepared' 'acknowledging' 'trusting' 'confident'\n",
            " 'hopeful' 'caring' 'sentimental' 'anticipating' 'wishing' 'surprised'\n",
            " 'ashamed' 'questioning' 'sad' 'nostalgic' 'devastated' 'terrified'\n",
            " 'embarrassed' 'lonely' 'encouraging' 'suggesting' 'content' 'afraid'\n",
            " 'impressed' 'agreeing' 'apprehensive' 'proud' 'annoyed' 'anxious'\n",
            " 'grateful' 'excited' 'neutral' 'faithful' 'guilty' 'consoling'\n",
            " 'disgusted' 'disappointed' 'jealous' 'joyful' 'sympathizing']\n"
          ]
        }
      ],
      "source": [
        "emotions = df['eb+_emot'].unique()\n",
        "print(emotions)"
      ]
    },
    {
      "cell_type": "markdown",
      "id": "0c57b8df-a91a-4a17-9910-cea2784c187d",
      "metadata": {
        "id": "0c57b8df-a91a-4a17-9910-cea2784c187d"
      },
      "source": [
        "With all these possible emotions to predict, it's very probable that we will have to deal with unbalanced classes"
      ]
    },
    {
      "cell_type": "code",
      "source": [
        "fig, ax = plt.subplots(figsize=(14, 5))\n",
        "sns.countplot(data=df, x='eb+_emot', order=df['eb+_emot'].value_counts().index, ax=ax)\n",
        "print_graph('Emotion\\'s occurrences', 'Number of Occurrences', 'Emotions', True)"
      ],
      "metadata": {
        "colab": {
          "base_uri": "https://localhost:8080/",
          "height": 637
        },
        "id": "ZlGvQw03L6W3",
        "outputId": "5855b2f1-8097-4d00-d09f-cf95b6d28ccb"
      },
      "id": "ZlGvQw03L6W3",
      "execution_count": 88,
      "outputs": [
        {
          "output_type": "stream",
          "name": "stderr",
          "text": [
            "/usr/local/lib/python3.10/dist-packages/ipykernel/ipkernel.py:283: DeprecationWarning: `should_run_async` will not call `transform_cell` automatically in the future. Please pass the result to `transformed_cell` argument and any exception that happen during thetransform in `preprocessing_exc_tuple` in IPython 7.17 and above.\n",
            "  and should_run_async(code)\n"
          ]
        },
        {
          "output_type": "display_data",
          "data": {
            "text/plain": [
              "<Figure size 1400x500 with 1 Axes>"
            ],
            "image/png": "[encoded data removed]"
          },
          "metadata": {}
        }
      ]
    },
    {
      "cell_type": "code",
      "execution_count": 89,
      "id": "b247feea-4c20-4750-9a72-d3fb98386955",
      "metadata": {
        "id": "b247feea-4c20-4750-9a72-d3fb98386955",
        "outputId": "e931f1a4-0f2b-4a38-c56e-9ef51151e735",
        "colab": {
          "base_uri": "https://localhost:8080/"
        }
      },
      "outputs": [
        {
          "output_type": "stream",
          "name": "stderr",
          "text": [
            "/usr/local/lib/python3.10/dist-packages/ipykernel/ipkernel.py:283: DeprecationWarning: `should_run_async` will not call `transform_cell` automatically in the future. Please pass the result to `transformed_cell` argument and any exception that happen during thetransform in `preprocessing_exc_tuple` in IPython 7.17 and above.\n",
            "  and should_run_async(code)\n"
          ]
        },
        {
          "output_type": "execute_result",
          "data": {
            "text/plain": [
              "questioning      841556\n",
              "furious          169917\n",
              "acknowledging    138165\n",
              "trusting         134197\n",
              "wishing          108668\n",
              "Name: eb+_emot, dtype: int64"
            ]
          },
          "metadata": {},
          "execution_count": 89
        }
      ],
      "source": [
        "df['eb+_emot'].value_counts()[:5]"
      ]
    },
    {
      "cell_type": "markdown",
      "id": "54943111-332c-422e-8a0a-383aa3d18188",
      "metadata": {
        "id": "54943111-332c-422e-8a0a-383aa3d18188"
      },
      "source": [
        "As we can see, we have quite an unbalancing here with the 'questioning' texts being over 800k while all the others stay under 200k.\n",
        "\n",
        "We will have to deal with it in the next phases when we will have to train models on this dataset"
      ]
    },
    {
      "cell_type": "markdown",
      "id": "bafd7ffb-ec30-4dd9-93b3-f139fd3e5611",
      "metadata": {
        "id": "bafd7ffb-ec30-4dd9-93b3-f139fd3e5611"
      },
      "source": [
        "### **Descriptive Statistics**"
      ]
    },
    {
      "cell_type": "markdown",
      "id": "4e3222ef-6147-4cc4-9716-e93dac304e1f",
      "metadata": {
        "id": "4e3222ef-6147-4cc4-9716-e93dac304e1f"
      },
      "source": [
        "We will use some text visualization techniques for better and instant insights about:\n",
        "\n",
        "- text lengths distribution\n",
        "- word number distribution"
      ]
    },
    {
      "cell_type": "code",
      "source": [
        "sns.displot(df['uttr'].str.len(), kde = False, bins = 30, height=4, aspect=9/4)\n",
        "print_graph(\"Text lenghts distribution\", \"Text lenght\", \"Count\", False)"
      ],
      "metadata": {
        "colab": {
          "base_uri": "https://localhost:8080/",
          "height": 0
        },
        "id": "Dwd3OCowSa1Z",
        "outputId": "91085f51-2a28-4490-b907-eed6b1d75434"
      },
      "id": "Dwd3OCowSa1Z",
      "execution_count": 90,
      "outputs": [
        {
          "output_type": "stream",
          "name": "stderr",
          "text": [
            "/usr/local/lib/python3.10/dist-packages/ipykernel/ipkernel.py:283: DeprecationWarning: `should_run_async` will not call `transform_cell` automatically in the future. Please pass the result to `transformed_cell` argument and any exception that happen during thetransform in `preprocessing_exc_tuple` in IPython 7.17 and above.\n",
            "  and should_run_async(code)\n"
          ]
        },
        {
          "output_type": "display_data",
          "data": {
            "text/plain": [
              "<Figure size 900x400 with 1 Axes>"
            ],
            "image/png": "[encoded data removed]"
          },
          "metadata": {}
        }
      ]
    },
    {
      "cell_type": "code",
      "source": [
        "sns.displot(df['uttr'].str.split().map(lambda x: len(x)), kde = False, bins = 11, height=4, aspect=9/4)\n",
        "print_graph(\"Text lenghts distribution\", \"Text lenght\", \"Count\", False)"
      ],
      "metadata": {
        "colab": {
          "base_uri": "https://localhost:8080/",
          "height": 0
        },
        "id": "SLz-fbU3l-zu",
        "outputId": "559a6c0b-e5b3-4ddd-9a07-9bae14a09b35"
      },
      "id": "SLz-fbU3l-zu",
      "execution_count": 91,
      "outputs": [
        {
          "output_type": "stream",
          "name": "stderr",
          "text": [
            "/usr/local/lib/python3.10/dist-packages/ipykernel/ipkernel.py:283: DeprecationWarning: `should_run_async` will not call `transform_cell` automatically in the future. Please pass the result to `transformed_cell` argument and any exception that happen during thetransform in `preprocessing_exc_tuple` in IPython 7.17 and above.\n",
            "  and should_run_async(code)\n"
          ]
        },
        {
          "output_type": "display_data",
          "data": {
            "text/plain": [
              "<Figure size 900x400 with 1 Axes>"
            ],
            "image/png": "[encoded data removed]"
          },
          "metadata": {}
        }
      ]
    },
    {
      "cell_type": "markdown",
      "id": "c3e8daf9-6b46-4d70-a54d-98b6500ea4dd",
      "metadata": {
        "id": "c3e8daf9-6b46-4d70-a54d-98b6500ea4dd"
      },
      "source": [
        "It's clear that most texts' vocabulary size stays under 20 words, with the most being between 2 and 10.\n",
        "\n",
        "But we can also see we have pretty long texts too so let's have a look at one of them"
      ]
    },
    {
      "cell_type": "code",
      "execution_count": 92,
      "id": "f487e90b-6e05-417c-9631-7ecc6633a75b",
      "metadata": {
        "id": "f487e90b-6e05-417c-9631-7ecc6633a75b",
        "outputId": "4bc505cc-7f03-4fdf-d52a-0541f319431c",
        "colab": {
          "base_uri": "https://localhost:8080/",
          "height": 0
        }
      },
      "outputs": [
        {
          "output_type": "stream",
          "name": "stderr",
          "text": [
            "/usr/local/lib/python3.10/dist-packages/ipykernel/ipkernel.py:283: DeprecationWarning: `should_run_async` will not call `transform_cell` automatically in the future. Please pass the result to `transformed_cell` argument and any exception that happen during thetransform in `preprocessing_exc_tuple` in IPython 7.17 and above.\n",
            "  and should_run_async(code)\n"
          ]
        },
        {
          "output_type": "execute_result",
          "data": {
            "text/plain": [
              "\"Glenn , why don 't you tell us about the top looks ? Kris , we love the ram look of your makeup , and some of the smaller sculptural details were very impressive . It was a very comprehensive makeup . Wayne , your use of proportion was excellent this week . We were also blown away by how much killer sculpting you pulled off . Who is the winner of this challenge ?\""
            ],
            "application/vnd.google.colaboratory.intrinsic+json": {
              "type": "string"
            }
          },
          "metadata": {},
          "execution_count": 92
        }
      ],
      "source": [
        "df[(df['uttr'].str.len() > 300)]['uttr'].iloc[0]"
      ]
    },
    {
      "cell_type": "markdown",
      "source": [
        "## POS tagging"
      ],
      "metadata": {
        "id": "ou46NngAWo2-"
      },
      "id": "ou46NngAWo2-"
    },
    {
      "cell_type": "code",
      "source": [
        "from pandas.core.common import flatten\n",
        "X = df['uttr']\n",
        "Y = df['eb+_emot']"
      ],
      "metadata": {
        "id": "xCTBfjsBWsQO"
      },
      "id": "xCTBfjsBWsQO",
      "execution_count": 6,
      "outputs": []
    },
    {
      "cell_type": "markdown",
      "source": [
        "Since the dataset is strongly unbalanced towards the \"questioning\" label, we keep only 200k samples from this label, chosen at random"
      ],
      "metadata": {
        "id": "ygnw1QHAXI-X"
      },
      "id": "ygnw1QHAXI-X"
    },
    {
      "cell_type": "code",
      "source": [
        "from sklearn.utils import resample\n",
        "import numpy as np\n",
        "\n",
        "quest = X[Y==\"questioning\"]\n",
        "quest = resample(quest, n_samples=200000, random_state=42)\n",
        "X_ds = pd.concat([X[Y!=\"questioning\"],quest], ignore_index=True)\n",
        "Y_ds = pd.concat([Y[Y!=\"questioning\"], pd.DataFrame([\"questioning\"]*200000)], ignore_index=True)"
      ],
      "metadata": {
        "id": "Tj7UmapIWvXD"
      },
      "id": "Tj7UmapIWvXD",
      "execution_count": 7,
      "outputs": []
    },
    {
      "cell_type": "markdown",
      "source": [
        "This snippet applies tokenization to the reduced dataset, and then POS tagging. Now we can find the tokens that are tagged as NNP (proper noun) and remove them from our sentences."
      ],
      "metadata": {
        "id": "D6c8Jz_rcJxf"
      },
      "id": "D6c8Jz_rcJxf"
    },
    {
      "cell_type": "code",
      "source": [
        "import nltk\n",
        "from nltk.tokenize import word_tokenize\n",
        "nltk.download('averaged_perceptron_tagger')\n",
        "nltk.download('punkt')\n",
        "\n",
        "# function to apply POS tagging to a document\n",
        "def pos_tagging(document):\n",
        "    tokens = word_tokenize(document)\n",
        "    pos_tags = nltk.pos_tag(tokens)\n",
        "    return pos_tags\n",
        "\n",
        "# apply POS tagging to a pandas Data Series of documents\n",
        "pos_tags_X_ds = X_ds.apply(pos_tagging)\n"
      ],
      "metadata": {
        "colab": {
          "base_uri": "https://localhost:8080/"
        },
        "id": "aIGMK2pcXsMN",
        "outputId": "89666143-fe91-419d-9609-46c31367fa12"
      },
      "id": "aIGMK2pcXsMN",
      "execution_count": 8,
      "outputs": [
        {
          "output_type": "stream",
          "name": "stderr",
          "text": [
            "[nltk_data] Downloading package averaged_perceptron_tagger to\n",
            "[nltk_data]     /root/nltk_data...\n",
            "[nltk_data]   Unzipping taggers/averaged_perceptron_tagger.zip.\n",
            "[nltk_data] Downloading package punkt to /root/nltk_data...\n",
            "[nltk_data]   Unzipping tokenizers/punkt.zip.\n"
          ]
        }
      ]
    },
    {
      "cell_type": "code",
      "source": [
        "# function to filter out proper nouns from a list of (token, POS tag) tuples\n",
        "def filter_proper_nouns(tagged_tokens):\n",
        "    return [token_tag for token_tag in tagged_tokens if not token_tag[1].startswith('NNP')]\n",
        "\n",
        "# apply the filter_proper_nouns() function to each POS-tagged document \n",
        "filtered_pos_tags_X_ds = pos_tags_X_ds.apply(filter_proper_nouns)\n"
      ],
      "metadata": {
        "id": "750hxjOSaTp7"
      },
      "id": "750hxjOSaTp7",
      "execution_count": 9,
      "outputs": []
    },
    {
      "cell_type": "code",
      "source": [
        "# function to rebuild a sentence from a list of (token, POS tag) tuples\n",
        "def rebuild_sentence(tagged_tokens):\n",
        "    return ' '.join([token_tag[0] for token_tag in tagged_tokens])\n",
        "\n",
        "# rebuild sentences using filtered_pos_tags_series\n",
        "filtered_X_ds = filtered_pos_tags_X_ds.apply(rebuild_sentence)\n"
      ],
      "metadata": {
        "id": "caKH0gHrc9Cr"
      },
      "id": "caKH0gHrc9Cr",
      "execution_count": 10,
      "outputs": []
    },
    {
      "cell_type": "code",
      "source": [
        "sentences = filtered_X_ds.tolist()\n",
        "labels = np.asarray(Y_ds).tolist()\n",
        "\n",
        "# remove sentences with less than 2 words and with punctuation only\n",
        "sentences = [sentence for sentence in sentences if len(sentence.split()) >= 2 and re.sub(r'[^\\w\\s]', '', sentence).strip() != '']\n",
        "labels = [label for label, sentence in zip(labels, filtered_X_ds) if len(sentence.split()) >= 2 and re.sub(r'[^\\w\\s]', '', sentence).strip() != '']"
      ],
      "metadata": {
        "id": "pLziF7GjkErT"
      },
      "id": "pLziF7GjkErT",
      "execution_count": 11,
      "outputs": []
    },
    {
      "cell_type": "markdown",
      "source": [
        "Saving to not repeat the enormous work..."
      ],
      "metadata": {
        "id": "0cCGDeTJm38b"
      },
      "id": "0cCGDeTJm38b"
    },
    {
      "cell_type": "code",
      "source": [
        "lab = []\n",
        "for l in labels:\n",
        "  lab.append(l[0])\n",
        "\n",
        "labels = lab"
      ],
      "metadata": {
        "id": "VwJHzfwEn9J8"
      },
      "id": "VwJHzfwEn9J8",
      "execution_count": 12,
      "outputs": []
    },
    {
      "cell_type": "code",
      "source": [
        "with open('filtered_sentences.txt','w') as f:\n",
        "  f.write('\\n'.join(list(sentences)))\n",
        "\n",
        "with open('filtered_labels.txt','w') as g:\n",
        "  g.write('\\n'.join(list(labels)))"
      ],
      "metadata": {
        "id": "USID-Vdkmt4b"
      },
      "id": "USID-Vdkmt4b",
      "execution_count": null,
      "outputs": []
    },
    {
      "cell_type": "markdown",
      "id": "7a20cf27-9d94-425d-8571-e63df42dfedf",
      "metadata": {
        "tags": [],
        "id": "7a20cf27-9d94-425d-8571-e63df42dfedf"
      },
      "source": [
        "## **Clustering**"
      ]
    },
    {
      "cell_type": "markdown",
      "id": "1a56fcaf-d832-4aff-b19e-42f6a51671c2",
      "metadata": {
        "id": "1a56fcaf-d832-4aff-b19e-42f6a51671c2"
      },
      "source": [
        "In this section we will apply some clustering techniques to check what groups can be found and if those corresponds, even partially, to our known classes."
      ]
    },
    {
      "cell_type": "markdown",
      "id": "529bc61b-89d3-4081-909f-e09b46e03bd0",
      "metadata": {
        "id": "529bc61b-89d3-4081-909f-e09b46e03bd0"
      },
      "source": [
        "### **Vectorization with TF-IDF**"
      ]
    },
    {
      "cell_type": "markdown",
      "id": "88fdbbb0-2e44-49bb-88e3-4342020ce5fe",
      "metadata": {
        "id": "88fdbbb0-2e44-49bb-88e3-4342020ce5fe"
      },
      "source": [
        "Before diving into clustering, we will have to preprocess our dataset. In particular we will have to vectorize our texts and to do that we will use TF-IDF."
      ]
    },
    {
      "cell_type": "code",
      "execution_count": 11,
      "id": "6aaf8394-b11d-4e49-b10d-c63098c85750",
      "metadata": {
        "id": "6aaf8394-b11d-4e49-b10d-c63098c85750"
      },
      "outputs": [],
      "source": [
        "X = df['uttr']\n",
        "y = df['eb+_emot']"
      ]
    },
    {
      "cell_type": "markdown",
      "id": "a8f73d4c-d8e1-4a4f-93b9-f0c19897006e",
      "metadata": {
        "id": "a8f73d4c-d8e1-4a4f-93b9-f0c19897006e"
      },
      "source": [
        "We will remove numbers since they don't represent any meaningful information in our semantical context and they only enlarge TF-IDF vectors slowing down training and preprocessing steps.\n",
        "\n",
        "We will remove numbers and stopwords from the corpus, plus words appearing in less than 10 documents or in more than the 80% of the collection (to remove corpus-specific stopwords)."
      ]
    },
    {
      "cell_type": "code",
      "source": [
        "def preprocess(t):\n",
        "    return re.sub(\"[^a-zA-Z\\s]+\",'',t).lower()"
      ],
      "metadata": {
        "id": "APlyUl_s02bs"
      },
      "id": "APlyUl_s02bs",
      "execution_count": 12,
      "outputs": []
    },
    {
      "cell_type": "code",
      "execution_count": 13,
      "id": "2f2bc0f3-6802-4f9d-b14f-818852923598",
      "metadata": {
        "id": "2f2bc0f3-6802-4f9d-b14f-818852923598"
      },
      "outputs": [],
      "source": [
        "tfidf_vec = TfidfVectorizer(strip_accents='unicode',\n",
        "                            stop_words='english',\n",
        "                            preprocessor=preprocess,\n",
        "                            lowercase=True,\n",
        "                            min_df=200,\n",
        "                            max_df=0.6\n",
        "                           )"
      ]
    },
    {
      "cell_type": "code",
      "execution_count": 14,
      "id": "84e6c6fc-f1da-4a18-87a7-9ee35246bddf",
      "metadata": {
        "id": "84e6c6fc-f1da-4a18-87a7-9ee35246bddf"
      },
      "outputs": [],
      "source": [
        "Xf = tfidf_vec.fit_transform(X)"
      ]
    },
    {
      "cell_type": "code",
      "execution_count": 15,
      "id": "c84b52c8-b793-45b6-8066-1010d9bfca0f",
      "metadata": {
        "id": "c84b52c8-b793-45b6-8066-1010d9bfca0f",
        "outputId": "7da6f461-74f4-41de-cc0c-aedb975c5a6a",
        "colab": {
          "base_uri": "https://localhost:8080/"
        }
      },
      "outputs": [
        {
          "output_type": "execute_result",
          "data": {
            "text/plain": [
              "5646"
            ]
          },
          "metadata": {},
          "execution_count": 15
        }
      ],
      "source": [
        "tfidf_vec.get_feature_names_out().size"
      ]
    },
    {
      "cell_type": "code",
      "source": [
        "print('Vocabulary: ')\n",
        "print(tfidf_vec.get_feature_names_out())"
      ],
      "metadata": {
        "colab": {
          "base_uri": "https://localhost:8080/"
        },
        "id": "s7F1bc1a2-EB",
        "outputId": "c74104a3-08f7-4ac0-a45a-6544c44d5e5b"
      },
      "id": "s7F1bc1a2-EB",
      "execution_count": 16,
      "outputs": [
        {
          "output_type": "stream",
          "name": "stdout",
          "text": [
            "Vocabulary: \n",
            "['aah' 'aaron' 'abandon' ... 'zombie' 'zone' 'zoo']\n"
          ]
        }
      ]
    },
    {
      "cell_type": "markdown",
      "id": "06a1b702-c6cb-424e-a262-a340eca5bee7",
      "metadata": {
        "id": "06a1b702-c6cb-424e-a262-a340eca5bee7"
      },
      "source": [
        "### **Clustering with K-Means**"
      ]
    },
    {
      "cell_type": "code",
      "execution_count": null,
      "id": "46e8ac59-9de7-46c2-bd63-efd666bbfe6b",
      "metadata": {
        "id": "46e8ac59-9de7-46c2-bd63-efd666bbfe6b"
      },
      "outputs": [],
      "source": [
        "k = len(emotions)"
      ]
    },
    {
      "cell_type": "code",
      "execution_count": null,
      "id": "13e73866-662d-4144-ad3e-f7053f19077b",
      "metadata": {
        "tags": [],
        "id": "13e73866-662d-4144-ad3e-f7053f19077b",
        "colab": {
          "base_uri": "https://localhost:8080/",
          "height": 74
        },
        "outputId": "cc2af3db-72dc-4089-95fd-0a5e96c42b01"
      },
      "outputs": [
        {
          "output_type": "execute_result",
          "data": {
            "text/plain": [
              "KMeans(max_iter=100, n_clusters=41, n_init=2, random_state=2307, verbose=False)"
            ],
            "text/html": [
              "<style>#sk-container-id-1 {color: black;background-color: white;}#sk-container-id-1 pre{padding: 0;}#sk-container-id-1 div.sk-toggleable {background-color: white;}#sk-container-id-1 label.sk-toggleable__label {cursor: pointer;display: block;width: 100%;margin-bottom: 0;padding: 0.3em;box-sizing: border-box;text-align: center;}#sk-container-id-1 label.sk-toggleable__label-arrow:before {content: \"▸\";float: left;margin-right: 0.25em;color: #696969;}#sk-container-id-1 label.sk-toggleable__label-arrow:hover:before {color: black;}#sk-container-id-1 div.sk-estimator:hover label.sk-toggleable__label-arrow:before {color: black;}#sk-container-id-1 div.sk-toggleable__content {max-height: 0;max-width: 0;overflow: hidden;text-align: left;background-color: #f0f8ff;}#sk-container-id-1 div.sk-toggleable__content pre {margin: 0.2em;color: black;border-radius: 0.25em;background-color: #f0f8ff;}#sk-container-id-1 input.sk-toggleable__control:checked~div.sk-toggleable__content {max-height: 200px;max-width: 100%;overflow: auto;}#sk-container-id-1 input.sk-toggleable__control:checked~label.sk-toggleable__label-arrow:before {content: \"▾\";}#sk-container-id-1 div.sk-estimator input.sk-toggleable__control:checked~label.sk-toggleable__label {background-color: #d4ebff;}#sk-container-id-1 div.sk-label input.sk-toggleable__control:checked~label.sk-toggleable__label {background-color: #d4ebff;}#sk-container-id-1 input.sk-hidden--visually {border: 0;clip: rect(1px 1px 1px 1px);clip: rect(1px, 1px, 1px, 1px);height: 1px;margin: -1px;overflow: hidden;padding: 0;position: absolute;width: 1px;}#sk-container-id-1 div.sk-estimator {font-family: monospace;background-color: #f0f8ff;border: 1px dotted black;border-radius: 0.25em;box-sizing: border-box;margin-bottom: 0.5em;}#sk-container-id-1 div.sk-estimator:hover {background-color: #d4ebff;}#sk-container-id-1 div.sk-parallel-item::after {content: \"\";width: 100%;border-bottom: 1px solid gray;flex-grow: 1;}#sk-container-id-1 div.sk-label:hover label.sk-toggleable__label {background-color: #d4ebff;}#sk-container-id-1 div.sk-serial::before {content: \"\";position: absolute;border-left: 1px solid gray;box-sizing: border-box;top: 0;bottom: 0;left: 50%;z-index: 0;}#sk-container-id-1 div.sk-serial {display: flex;flex-direction: column;align-items: center;background-color: white;padding-right: 0.2em;padding-left: 0.2em;position: relative;}#sk-container-id-1 div.sk-item {position: relative;z-index: 1;}#sk-container-id-1 div.sk-parallel {display: flex;align-items: stretch;justify-content: center;background-color: white;position: relative;}#sk-container-id-1 div.sk-item::before, #sk-container-id-1 div.sk-parallel-item::before {content: \"\";position: absolute;border-left: 1px solid gray;box-sizing: border-box;top: 0;bottom: 0;left: 50%;z-index: -1;}#sk-container-id-1 div.sk-parallel-item {display: flex;flex-direction: column;z-index: 1;position: relative;background-color: white;}#sk-container-id-1 div.sk-parallel-item:first-child::after {align-self: flex-end;width: 50%;}#sk-container-id-1 div.sk-parallel-item:last-child::after {align-self: flex-start;width: 50%;}#sk-container-id-1 div.sk-parallel-item:only-child::after {width: 0;}#sk-container-id-1 div.sk-dashed-wrapped {border: 1px dashed gray;margin: 0 0.4em 0.5em 0.4em;box-sizing: border-box;padding-bottom: 0.4em;background-color: white;}#sk-container-id-1 div.sk-label label {font-family: monospace;font-weight: bold;display: inline-block;line-height: 1.2em;}#sk-container-id-1 div.sk-label-container {text-align: center;}#sk-container-id-1 div.sk-container {/* jupyter's `normalize.less` sets `[hidden] { display: none; }` but bootstrap.min.css set `[hidden] { display: none !important; }` so we also need the `!important` here to be able to override the default hidden behavior on the sphinx rendered scikit-learn.org. See: https://github.com/scikit-learn/scikit-learn/issues/21755 */display: inline-block !important;position: relative;}#sk-container-id-1 div.sk-text-repr-fallback {display: none;}</style><div id=\"sk-container-id-1\" class=\"sk-top-container\"><div class=\"sk-text-repr-fallback\"><pre>KMeans(max_iter=100, n_clusters=41, n_init=2, random_state=2307, verbose=False)</pre><b>In a Jupyter environment, please rerun this cell to show the HTML representation or trust the notebook. <br />On GitHub, the HTML representation is unable to render, please try loading this page with nbviewer.org.</b></div><div class=\"sk-container\" hidden><div class=\"sk-item\"><div class=\"sk-estimator sk-toggleable\"><input class=\"sk-toggleable__control sk-hidden--visually\" id=\"sk-estimator-id-1\" type=\"checkbox\" checked><label for=\"sk-estimator-id-1\" class=\"sk-toggleable__label sk-toggleable__label-arrow\">KMeans</label><div class=\"sk-toggleable__content\"><pre>KMeans(max_iter=100, n_clusters=41, n_init=2, random_state=2307, verbose=False)</pre></div></div></div></div></div>"
            ]
          },
          "metadata": {},
          "execution_count": 61
        }
      ],
      "source": [
        "kmeans = KMeans(n_clusters=k,\n",
        "                max_iter=100,\n",
        "                n_init=2,\n",
        "                verbose=False,\n",
        "                random_state=2307)\n",
        "kmeans.fit(Xf)"
      ]
    },
    {
      "cell_type": "code",
      "execution_count": null,
      "id": "01ea9adf-fb05-4ef9-9be4-16b476d520f9",
      "metadata": {
        "id": "01ea9adf-fb05-4ef9-9be4-16b476d520f9",
        "outputId": "ab19b152-16e1-4009-8b43-8531d1d05b9a",
        "colab": {
          "base_uri": "https://localhost:8080/"
        }
      },
      "outputs": [
        {
          "output_type": "stream",
          "name": "stdout",
          "text": [
            "Top terms per cluster:\n",
            "Cluster 0 :\t['crying', 'stop', 'like', 'loud', 'don', 'baby', 'know', 'just', 'start', 'wrong']\n",
            "Cluster 1 :\t['way', 'll', 'right', 'know', 'come', 'just', 'don', 'going', 'think', 'let']\n",
            "Cluster 2 :\t['right', 'll', 'just', 'know', 'gonna', 'come', 'don', 'hey', 'away', 'sure']\n",
            "Cluster 3 :\t['understand', 'don', 'yes', 'll', 'know', 'want', 'just', 'did', 'saying', 'right']\n",
            "Cluster 4 :\t['good', 'night', 'luck', 'evening', 'look', 'day', 'really', 'job', 'afternoon', 'll']\n",
            "Cluster 5 :\t['did', 'come', 'tell', 'know', 'hear', 'happen', 'just', 'kill', 'leave', 'bring']\n",
            "Cluster 6 :\t['yes', 'right', 'did', 'll', 'know', 'come', 'want', 'like', 'good', 'just']\n",
            "Cluster 7 :\t['didn', 'know', 'tell', 'did', 'come', 'think', 'want', 'just', 'mean', 'say']\n",
            "Cluster 8 :\t['oh', 'god', 'just', 'yeah', 'right', 'look', 'don', 'come', 'know', 'like']\n",
            "Cluster 9 :\t['sir', 'yes', 'thank', 'good', 'right', 'excuse', 'sorry', 'll', 'don', 'come']\n",
            "Cluster 10 :\t['come', 'll', 'don', 'hey', 'hurry', 'just', 'home', 'wait', 'won', 'man']\n",
            "Cluster 11 :\t['got', 've', 'right', 'just', 'hey', 'money', 'come', 'know', 'yeah', 'don']\n",
            "Cluster 12 :\t['stop', 'don', 'hey', 'right', 'car', 'll', 'come', 'let', 'just', 'doing']\n",
            "Cluster 13 :\t['father', 'mother', 'know', 'did', 'don', 'like', 'yes', 'son', 'tell', 'll']\n",
            "Cluster 14 :\t['like', 'looks', 'don', 'look', 'just', 'know', 'feel', 'really', 'll', 'does']\n",
            "Cluster 15 :\t['going', 'hey', 'tell', 'home', 'hell', 'aren', 'right', 'know', 'come', 'just']\n",
            "Cluster 16 :\t['say', 'did', 'don', 'just', 'didn', 'want', 'know', 'goodbye', 'does', 'll']\n",
            "Cluster 17 :\t['morning', 'good', 'mr', 'tomorrow', 'sir', 'll', 'early', 'hello', 'hi', 'hey']\n",
            "Cluster 18 :\t['mr', 'yes', 'good', 'thank', 'll', 'know', 'don', 'right', 'come', 'president']\n",
            "Cluster 19 :\t['let', 'come', 'right', 'just', 'll', 'don', 'know', 'won', 'look', 'talk']\n",
            "Cluster 20 :\t['ll', 'just', 'don', 'hey', 'look', 'tell', 'really', 'sure', 'gonna', 'man']\n",
            "Cluster 21 :\t['long', 'time', 'ago', 've', 'won', 'took', 'stay', 'don', 'wait', 'live']\n",
            "Cluster 22 :\t['people', 'know', 'don', 'like', 'just', 'think', 'want', 'lot', 've', 'come']\n",
            "Cluster 23 :\t['want', 'don', 'talk', 'know', 'come', 'just', 'sure', 'tell', 'really', 'right']\n",
            "Cluster 24 :\t['course', 'yes', 'll', 'yeah', 'know', 'right', 'don', 'did', 'come', 'just']\n",
            "Cluster 25 :\t['know', 'don', 'just', 'll', 'does', 'really', 'want', 'tell', 'mean', 'maybe']\n",
            "Cluster 26 :\t['time', 'll', 'don', 'good', 'just', 'come', 'right', 'know', 'think', 'like']\n",
            "Cluster 27 :\t['yeah', 'right', 'sure', 'good', 'know', 'just', 'll', 'like', 'did', 'oh']\n",
            "Cluster 28 :\t['think', 'don', 'll', 'know', 'really', 'did', 'just', 'gonna', 'right', 'good']\n",
            "Cluster 29 :\t['auggie', 'hey', 'sorry', 'know', 'don', 'going', 'handler', 'got', 'pete', 'right']\n",
            "Cluster 30 :\t['ve', 'got', 'seen', 'know', 'just', 'don', 'll', 'like', 'come', 'heard']\n",
            "Cluster 31 :\t['okay', 'll', 'right', 'yeah', 'just', 'gonna', 'let', 'going', 'come', 'hey']\n",
            "Cluster 32 :\t['dad', 'mom', 'did', 'don', 'know', 'come', 'just', 'going', 'll', 'hey']\n",
            "Cluster 33 :\t['need', 'don', 'll', 'just', 'know', 'talk', 'right', 'think', 'gonna', 'come']\n",
            "Cluster 34 :\t['thank', 'god', 'good', 'oh', 'yes', 'coming', 'right', 'll', 'welcome', 'okay']\n",
            "Cluster 35 :\t['help', 'need', 'll', 'want', 'don', 'let', 'just', 'come', 'know', 'trying']\n",
            "Cluster 36 :\t['hello', 'hi', 'yes', 'say', 'hey', 'come', 'mr', 'oh', 'anybody', 'good']\n",
            "Cluster 37 :\t['fucking', 'fuck', 'shit', 'don', 'bitch', 'man', 'just', 'hell', 'asshole', 'come']\n",
            "Cluster 38 :\t['sorry', 'just', 'really', 'late', 'know', 'don', 'oh', 'right', 'll', 'come']\n",
            "Cluster 39 :\t['drop', 'gun', 'weapon', 'll', 'just', 'weapons', 'don', 'dead', 'guns', 'said']\n",
            "Cluster 40 :\t['doing', 'hey', 'hell', 'think', 'fuck', 'know', 'right', 'just', 'don', 'hi']\n"
          ]
        }
      ],
      "source": [
        "print(\"Top terms per cluster:\")\n",
        "vocab = tfidf_vec.get_feature_names_out()\n",
        "\n",
        "for i in range(kmeans.n_clusters):\n",
        "    centroid = kmeans.cluster_centers_[i]    \n",
        "    sorted_terms = centroid.argsort()[::-1]\n",
        "    print(f\"Cluster {i} :\\t{[vocab[j] for j in sorted_terms[:10]]}\")"
      ]
    },
    {
      "cell_type": "markdown",
      "id": "89e59809-ee8d-4bc5-965d-554417e34257",
      "metadata": {
        "id": "89e59809-ee8d-4bc5-965d-554417e34257"
      },
      "source": [
        "Results don't look very promising. We can see that many words repeat in different clusters like 'come' or 'know' and this suggests that KMeans algorithm didn't succeed in splitting datapoints into clear, distinct clusters.\n",
        "But to have a better idea of how KMeans performed in our task, let's compute extrisinc evaluation metrics."
      ]
    },
    {
      "cell_type": "code",
      "execution_count": null,
      "id": "bcd95195-b719-4b24-9fe5-375be1392e0f",
      "metadata": {
        "id": "bcd95195-b719-4b24-9fe5-375be1392e0f",
        "outputId": "607f13e7-fb34-4e64-d435-5e07e19c20c3",
        "colab": {
          "base_uri": "https://localhost:8080/"
        }
      },
      "outputs": [
        {
          "output_type": "stream",
          "name": "stdout",
          "text": [
            "Extrinsic evaluation measures:\n",
            "Homogeneity: 0.07283768998978958\n",
            "Completeness: 0.10463860923961664\n",
            "V-measure: 0.0858890411153569\n",
            "Adjusted Rand-Index: 0.001496676310725326\n"
          ]
        }
      ],
      "source": [
        "print('Extrinsic evaluation measures:')\n",
        "print(\"Homogeneity:\", str(metrics.homogeneity_score(y, kmeans.labels_)))\n",
        "print(\"Completeness:\", str(metrics.completeness_score(y, kmeans.labels_)))\n",
        "print(\"V-measure:\", str(metrics.v_measure_score(y, kmeans.labels_)))\n",
        "print(\"Adjusted Rand-Index:\", str(metrics.adjusted_rand_score(y, kmeans.labels_)))"
      ]
    },
    {
      "cell_type": "markdown",
      "id": "ae98a581-a329-42ac-8a9d-016953f0e58d",
      "metadata": {
        "id": "ae98a581-a329-42ac-8a9d-016953f0e58d"
      },
      "source": [
        "As expected, results are not very accurate. This could be caused by many different characteristics of our dataset like for example non-spherical clusters or unequal cluster size or density. We probably need a more complex clustering algorithm"
      ]
    },
    {
      "cell_type": "markdown",
      "id": "c6d6a16c-03fa-4b7c-a498-6af6c0e220dc",
      "metadata": {
        "id": "c6d6a16c-03fa-4b7c-a498-6af6c0e220dc"
      },
      "source": [
        "### **Clustering with LDA**"
      ]
    },
    {
      "cell_type": "markdown",
      "id": "dd00354f-1735-4a51-9a88-e4ca6d83c938",
      "metadata": {
        "id": "dd00354f-1735-4a51-9a88-e4ca6d83c938"
      },
      "source": [
        "KMeans algorithm tries to associate each data point to a single cluster and in our case this may have been one of the reasons of its bad performance. Let's try to generate again the clusters by using Latent Dirichlet Allocation, which will associate each datapoints to a variety of topics (clusters) which could be useful in more complex datasets like ours."
      ]
    },
    {
      "cell_type": "code",
      "source": [
        "n_topics = len(emotions)"
      ],
      "metadata": {
        "id": "GB16YmHE42pS"
      },
      "id": "GB16YmHE42pS",
      "execution_count": 17,
      "outputs": []
    },
    {
      "cell_type": "code",
      "source": [
        "# Convert the tf-idf vectors to a gensim corpus\n",
        "corpus = Sparse2Corpus(Xf, documents_columns=False)"
      ],
      "metadata": {
        "id": "CSsQRXS-e_gd"
      },
      "id": "CSsQRXS-e_gd",
      "execution_count": 18,
      "outputs": []
    },
    {
      "cell_type": "code",
      "source": [
        "# Create a gensim Dictionary object\n",
        "id2word = Dictionary.from_corpus(corpus, id2word=dict((i, word) for i, word in enumerate(tfidf_vec.get_feature_names_out())))"
      ],
      "metadata": {
        "id": "fk3UhvcGfuj7"
      },
      "id": "fk3UhvcGfuj7",
      "execution_count": 19,
      "outputs": []
    },
    {
      "cell_type": "code",
      "source": [
        "print(multiprocessing.cpu_count())"
      ],
      "metadata": {
        "colab": {
          "base_uri": "https://localhost:8080/"
        },
        "id": "VM4RPpPq-IXi",
        "outputId": "ec12736c-1d45-4ab8-f8e7-7c70d91127ba"
      },
      "id": "VM4RPpPq-IXi",
      "execution_count": 20,
      "outputs": [
        {
          "output_type": "stream",
          "name": "stdout",
          "text": [
            "2\n"
          ]
        }
      ]
    },
    {
      "cell_type": "code",
      "source": [
        "%%capture\n",
        "!pip install --upgrade gensim==3.8"
      ],
      "metadata": {
        "id": "B9bJp5Qdnpnx"
      },
      "id": "B9bJp5Qdnpnx",
      "execution_count": 21,
      "outputs": []
    },
    {
      "cell_type": "code",
      "source": [
        "import os       #importing os to set environment variable\n",
        "def install_java():\n",
        "  !apt-get install -y openjdk-8-jdk-headless -qq > /dev/null      #install openjdk\n",
        "  os.environ[\"JAVA_HOME\"] = \"/usr/lib/jvm/java-8-openjdk-amd64\"     #set environment variable\n",
        "  !java -version       #check java version\n",
        "install_java()"
      ],
      "metadata": {
        "colab": {
          "base_uri": "https://localhost:8080/"
        },
        "id": "bWcaiQermrB6",
        "outputId": "03e6893a-2f28-41a7-88ab-b2b36f1a9408"
      },
      "id": "bWcaiQermrB6",
      "execution_count": 22,
      "outputs": [
        {
          "output_type": "stream",
          "name": "stdout",
          "text": [
            "openjdk version \"11.0.18\" 2023-01-17\n",
            "OpenJDK Runtime Environment (build 11.0.18+10-post-Ubuntu-0ubuntu120.04.1)\n",
            "OpenJDK 64-Bit Server VM (build 11.0.18+10-post-Ubuntu-0ubuntu120.04.1, mixed mode, sharing)\n"
          ]
        }
      ]
    },
    {
      "cell_type": "code",
      "source": [
        "%%capture\n",
        "!wget http://mallet.cs.umass.edu/dist/mallet-2.0.8.zip\n",
        "!unzip mallet-2.0.8.zip"
      ],
      "metadata": {
        "id": "SDgOcQqum0z5"
      },
      "id": "SDgOcQqum0z5",
      "execution_count": 23,
      "outputs": []
    },
    {
      "cell_type": "code",
      "source": [
        "os.environ['MALLET_HOME'] = '/content/mallet-2.0.8'\n",
        "mallet_path = '/content/mallet-2.0.8/bin/mallet' # you should NOT need to change this "
      ],
      "metadata": {
        "id": "8zY6iK-cm1qZ"
      },
      "id": "8zY6iK-cm1qZ",
      "execution_count": 24,
      "outputs": []
    },
    {
      "cell_type": "code",
      "source": [
        "from gensim.models.wrappers import LdaMallet\n",
        "from gensim.models.ldamodel import LdaModel\n",
        "from gensim.models.coherencemodel import CoherenceModel\n",
        "from gensim import similarities"
      ],
      "metadata": {
        "id": "HghFd1lAnhKe"
      },
      "id": "HghFd1lAnhKe",
      "execution_count": 25,
      "outputs": []
    },
    {
      "cell_type": "code",
      "source": [
        "%%capture\n",
        "!pip install pyLDAvis\n",
        "!pip install pandas==1.5.1"
      ],
      "metadata": {
        "id": "kU9fHfmpu-T_"
      },
      "id": "kU9fHfmpu-T_",
      "execution_count": 26,
      "outputs": []
    },
    {
      "cell_type": "code",
      "source": [
        "lda_mallet = LdaMallet(mallet_path, corpus=corpus, num_topics=41, id2word=id2word, workers=multiprocessing.cpu_count())"
      ],
      "metadata": {
        "id": "BBGL-sB_rLa3"
      },
      "id": "BBGL-sB_rLa3",
      "execution_count": 28,
      "outputs": []
    },
    {
      "cell_type": "code",
      "source": [
        "lda_mallet.show_topics(num_topics=41,num_words=10)"
      ],
      "metadata": {
        "colab": {
          "base_uri": "https://localhost:8080/"
        },
        "id": "WJmCncwIrZ8T",
        "outputId": "7acaf543-c65b-4bf3-8d07-79590403b498"
      },
      "id": "WJmCncwIrZ8T",
      "execution_count": 29,
      "outputs": [
        {
          "output_type": "execute_result",
          "data": {
            "text/plain": [
              "[(0,\n",
              "  '0.102*\"fine\" + 0.064*\"leaving\" + 0.049*\"water\" + 0.043*\"happened\" + 0.036*\"boss\" + 0.034*\"bastard\" + 0.031*\"angry\" + 0.027*\"uh\" + 0.023*\"girls\" + 0.023*\"yeah\"'),\n",
              " (1,\n",
              "  '0.119*\"mr\" + 0.088*\"understand\" + 0.053*\"careful\" + 0.048*\"live\" + 0.047*\"wrong\" + 0.040*\"word\" + 0.026*\"sad\" + 0.020*\"won\" + 0.018*\"close\" + 0.017*\"touch\"'),\n",
              " (2,\n",
              "  '0.095*\"fuck\" + 0.075*\"gonna\" + 0.071*\"hey\" + 0.059*\"afraid\" + 0.036*\"amazing\" + 0.031*\"friend\" + 0.029*\"ll\" + 0.022*\"pregnant\" + 0.022*\"talk\" + 0.021*\"home\"'),\n",
              " (3,\n",
              "  '0.104*\"thought\" + 0.056*\"gonna\" + 0.046*\"people\" + 0.046*\"lost\" + 0.038*\"hit\" + 0.032*\"cold\" + 0.026*\"phone\" + 0.025*\"thinking\" + 0.024*\"wanna\" + 0.021*\"years\"'),\n",
              " (4,\n",
              "  '0.104*\"coming\" + 0.069*\"place\" + 0.047*\"hand\" + 0.034*\"start\" + 0.032*\"cute\" + 0.032*\"fuck\" + 0.029*\"heard\" + 0.028*\"husband\" + 0.022*\"impossible\" + 0.022*\"wanna\"'),\n",
              " (5,\n",
              "  '0.093*\"hell\" + 0.073*\"yeah\" + 0.062*\"man\" + 0.042*\"business\" + 0.032*\"check\" + 0.031*\"meet\" + 0.025*\"playing\" + 0.020*\"deal\" + 0.016*\"face\" + 0.016*\"broke\"'),\n",
              " (6,\n",
              "  '0.080*\"isn\" + 0.055*\"alive\" + 0.042*\"alright\" + 0.038*\"coming\" + 0.032*\"asleep\" + 0.026*\"asked\" + 0.024*\"stuff\" + 0.024*\"asshole\" + 0.024*\"fuck\" + 0.022*\"head\"'),\n",
              " (7,\n",
              "  '0.048*\"eat\" + 0.046*\"real\" + 0.044*\"nice\" + 0.041*\"uncle\" + 0.029*\"light\" + 0.026*\"things\" + 0.024*\"supposed\" + 0.023*\"crazy\" + 0.023*\"lucky\" + 0.023*\"drop\"'),\n",
              " (8,\n",
              "  '0.116*\"leave\" + 0.067*\"mind\" + 0.043*\"mom\" + 0.040*\"hope\" + 0.038*\"fault\" + 0.029*\"speak\" + 0.027*\"congratulations\" + 0.023*\"doin\" + 0.023*\"interested\" + 0.023*\"big\"'),\n",
              " (9,\n",
              "  '0.108*\"miss\" + 0.054*\"don\" + 0.050*\"love\" + 0.043*\"bitch\" + 0.033*\"job\" + 0.025*\"man\" + 0.023*\"perfect\" + 0.021*\"dance\" + 0.016*\"wow\" + 0.016*\"dying\"'),\n",
              " (10,\n",
              "  '0.112*\"happened\" + 0.104*\"nice\" + 0.065*\"answer\" + 0.047*\"aren\" + 0.034*\"lord\" + 0.025*\"talking\" + 0.024*\"bye\" + 0.020*\"special\" + 0.015*\"open\" + 0.015*\"beer\"'),\n",
              " (11,\n",
              "  '0.195*\"hey\" + 0.051*\"leave\" + 0.050*\"mrs\" + 0.026*\"mom\" + 0.022*\"michael\" + 0.022*\"pull\" + 0.021*\"charlie\" + 0.020*\"paul\" + 0.016*\"coffee\" + 0.015*\"door\"'),\n",
              " (12,\n",
              "  '0.065*\"late\" + 0.056*\"happy\" + 0.043*\"father\" + 0.042*\"trust\" + 0.035*\"talk\" + 0.034*\"won\" + 0.033*\"thing\" + 0.025*\"reason\" + 0.020*\"mark\" + 0.019*\"live\"'),\n",
              " (13,\n",
              "  '0.068*\"ll\" + 0.065*\"work\" + 0.052*\"kill\" + 0.049*\"guy\" + 0.034*\"car\" + 0.033*\"wake\" + 0.032*\"cut\" + 0.031*\"tonight\" + 0.028*\"woman\" + 0.025*\"easy\"'),\n",
              " (14,\n",
              "  '0.076*\"money\" + 0.053*\"hear\" + 0.052*\"fuck\" + 0.044*\"kind\" + 0.034*\"happened\" + 0.030*\"family\" + 0.026*\"make\" + 0.023*\"incredible\" + 0.021*\"sit\" + 0.019*\"roger\"'),\n",
              " (15,\n",
              "  '0.118*\"ready\" + 0.067*\"excuse\" + 0.053*\"dead\" + 0.040*\"watch\" + 0.035*\"daddy\" + 0.034*\"whoa\" + 0.032*\"wife\" + 0.032*\"kids\" + 0.017*\"save\" + 0.016*\"play\"'),\n",
              " (16,\n",
              "  '0.080*\"remember\" + 0.069*\"mother\" + 0.046*\"drink\" + 0.044*\"wait\" + 0.038*\"friends\" + 0.038*\"bad\" + 0.035*\"police\" + 0.034*\"gun\" + 0.033*\"knew\" + 0.028*\"died\"'),\n",
              " (17,\n",
              "  '0.108*\"ll\" + 0.069*\"wrong\" + 0.050*\"ve\" + 0.048*\"true\" + 0.043*\"talking\" + 0.038*\"mother\" + 0.036*\"quiet\" + 0.034*\"room\" + 0.023*\"days\" + 0.021*\"monster\"'),\n",
              " (18,\n",
              "  '0.190*\"good\" + 0.058*\"guys\" + 0.055*\"stand\" + 0.042*\"happening\" + 0.030*\"hot\" + 0.027*\"crying\" + 0.023*\"chance\" + 0.020*\"crazy\" + 0.017*\"game\" + 0.015*\"couldn\"'),\n",
              " (19,\n",
              "  '0.125*\"wait\" + 0.073*\"hold\" + 0.057*\"left\" + 0.056*\"brother\" + 0.027*\"awake\" + 0.024*\"shoot\" + 0.024*\"man\" + 0.023*\"honey\" + 0.023*\"work\" + 0.023*\"happen\"'),\n",
              " (20,\n",
              "  '0.158*\"sir\" + 0.093*\"dad\" + 0.042*\"feeling\" + 0.039*\"hey\" + 0.038*\"hurt\" + 0.037*\"thinking\" + 0.034*\"wanted\" + 0.018*\"proud\" + 0.016*\"cigarette\" + 0.015*\"family\"'),\n",
              " (21,\n",
              "  '0.065*\"mr\" + 0.061*\"killed\" + 0.054*\"bring\" + 0.050*\"doctor\" + 0.046*\"turn\" + 0.046*\"ve\" + 0.034*\"long\" + 0.033*\"yeah\" + 0.027*\"guess\" + 0.017*\"delicious\"'),\n",
              " (22,\n",
              "  '0.092*\"don\" + 0.066*\"bad\" + 0.046*\"shit\" + 0.044*\"boy\" + 0.040*\"great\" + 0.039*\"afraid\" + 0.028*\"moving\" + 0.024*\"kiss\" + 0.021*\"cool\" + 0.018*\"dangerous\"'),\n",
              " (23,\n",
              "  '0.084*\"dead\" + 0.071*\"problem\" + 0.070*\"long\" + 0.057*\"scared\" + 0.056*\"car\" + 0.032*\"set\" + 0.023*\"brought\" + 0.022*\"inside\" + 0.022*\"recognize\" + 0.018*\"excuse\"'),\n",
              " (24,\n",
              "  '0.092*\"coming\" + 0.053*\"god\" + 0.046*\"talk\" + 0.043*\"pretty\" + 0.042*\"talking\" + 0.040*\"time\" + 0.024*\"wife\" + 0.021*\"beat\" + 0.018*\"ain\" + 0.017*\"thing\"'),\n",
              " (25,\n",
              "  '0.078*\"hey\" + 0.060*\"dr\" + 0.034*\"daughter\" + 0.033*\"question\" + 0.025*\"clear\" + 0.023*\"early\" + 0.022*\"doesn\" + 0.020*\"jealous\" + 0.017*\"fight\" + 0.017*\"things\"'),\n",
              " (26,\n",
              "  '0.101*\"didn\" + 0.098*\"stop\" + 0.049*\"shut\" + 0.048*\"sister\" + 0.044*\"ah\" + 0.034*\"make\" + 0.034*\"damn\" + 0.032*\"working\" + 0.029*\"order\" + 0.029*\"leave\"'),\n",
              " (27,\n",
              "  '0.111*\"yeah\" + 0.094*\"stay\" + 0.069*\"girl\" + 0.047*\"wasn\" + 0.046*\"ll\" + 0.030*\"funny\" + 0.030*\"master\" + 0.024*\"cheers\" + 0.019*\"key\" + 0.014*\"step\"'),\n",
              " (28,\n",
              "  '0.119*\"matter\" + 0.084*\"stop\" + 0.072*\"alright\" + 0.055*\"feel\" + 0.051*\"wrong\" + 0.038*\"child\" + 0.019*\"fear\" + 0.016*\"tom\" + 0.014*\"hurt\" + 0.013*\"understood\"'),\n",
              " (29,\n",
              "  '0.078*\"son\" + 0.076*\"stop\" + 0.043*\"ll\" + 0.034*\"finished\" + 0.031*\"listen\" + 0.030*\"kid\" + 0.028*\"called\" + 0.024*\"left\" + 0.020*\"eh\" + 0.019*\"point\"'),\n",
              " (30,\n",
              "  '0.042*\"sit\" + 0.041*\"hands\" + 0.033*\"minutes\" + 0.030*\"stupid\" + 0.026*\"shot\" + 0.025*\"friend\" + 0.021*\"plan\" + 0.019*\"nervous\" + 0.017*\"bed\" + 0.017*\"close\"'),\n",
              " (31,\n",
              "  '0.116*\"home\" + 0.091*\"father\" + 0.048*\"read\" + 0.040*\"fucking\" + 0.032*\"die\" + 0.029*\"funny\" + 0.022*\"clean\" + 0.021*\"drive\" + 0.018*\"forget\" + 0.018*\"frank\"'),\n",
              " (32,\n",
              "  '0.159*\"yeah\" + 0.081*\"huh\" + 0.056*\"wait\" + 0.044*\"heard\" + 0.038*\"dear\" + 0.036*\"promise\" + 0.035*\"minute\" + 0.029*\"night\" + 0.024*\"hey\" + 0.018*\"fool\"'),\n",
              " (33,\n",
              "  '0.079*\"wrong\" + 0.072*\"hurry\" + 0.055*\"house\" + 0.054*\"happy\" + 0.041*\"life\" + 0.037*\"fun\" + 0.028*\"forgive\" + 0.025*\"awesome\" + 0.021*\"sleeping\" + 0.018*\"earth\"'),\n",
              " (34,\n",
              "  '0.094*\"waiting\" + 0.081*\"hear\" + 0.056*\"idea\" + 0.045*\"day\" + 0.033*\"glad\" + 0.024*\"quiet\" + 0.022*\"ahead\" + 0.020*\"mad\" + 0.020*\"tired\" + 0.018*\"knew\"'),\n",
              " (35,\n",
              "  '0.078*\"care\" + 0.072*\"ready\" + 0.039*\"hungry\" + 0.038*\"guess\" + 0.036*\"surprise\" + 0.035*\"safe\" + 0.032*\"mr\" + 0.029*\"pretty\" + 0.023*\"scared\" + 0.022*\"dream\"'),\n",
              " (36,\n",
              "  '0.092*\"happened\" + 0.059*\"goodbye\" + 0.056*\"today\" + 0.046*\"stay\" + 0.042*\"morning\" + 0.027*\"problem\" + 0.027*\"walk\" + 0.021*\"haven\" + 0.020*\"met\" + 0.020*\"party\"'),\n",
              " (37,\n",
              "  '0.147*\"love\" + 0.057*\"baby\" + 0.046*\"taking\" + 0.035*\"fine\" + 0.028*\"married\" + 0.026*\"hmm\" + 0.024*\"fast\" + 0.023*\"sick\" + 0.021*\"quick\" + 0.017*\"holding\"'),\n",
              " (38,\n",
              "  '0.097*\"don\" + 0.052*\"great\" + 0.040*\"hate\" + 0.039*\"idiot\" + 0.035*\"captain\" + 0.029*\"darling\" + 0.027*\"rest\" + 0.026*\"children\" + 0.022*\"free\" + 0.022*\"jack\"'),\n",
              " (39,\n",
              "  '0.210*\"good\" + 0.146*\"time\" + 0.116*\"beautiful\" + 0.027*\"told\" + 0.026*\"sleep\" + 0.018*\"parents\" + 0.016*\"boys\" + 0.014*\"gentlemen\" + 0.013*\"susan\" + 0.013*\"smell\"'),\n",
              " (40,\n",
              "  '0.118*\"hell\" + 0.077*\"told\" + 0.046*\"sleep\" + 0.039*\"run\" + 0.035*\"easy\" + 0.033*\"worried\" + 0.031*\"open\" + 0.028*\"end\" + 0.027*\"night\" + 0.020*\"tomorrow\"')]"
            ]
          },
          "metadata": {},
          "execution_count": 29
        }
      ]
    },
    {
      "cell_type": "code",
      "source": [
        "def convertldaMalletToldaGen(mallet_model):\n",
        "    model_gensim = LdaModel(\n",
        "        id2word=mallet_model.id2word, num_topics=mallet_model.num_topics,\n",
        "        alpha=mallet_model.alpha) \n",
        "    model_gensim.state.sstats[...] = mallet_model.wordtopics\n",
        "    model_gensim.sync_state()\n",
        "    return model_gensim"
      ],
      "metadata": {
        "id": "xLhOlMBrvrew"
      },
      "id": "xLhOlMBrvrew",
      "execution_count": 30,
      "outputs": []
    },
    {
      "cell_type": "code",
      "source": [
        "coherence_model_ldamallet = CoherenceModel(model=lda_mallet, texts=enumerate(tfidf_vec.get_feature_names_out()), dictionary=id2word, coherence='c_v')\n",
        "coherence_ldamallet = coherence_model_ldamallet.get_coherence()\n",
        "print('\\nCoherence Score: ', coherence_ldamallet)"
      ],
      "metadata": {
        "colab": {
          "base_uri": "https://localhost:8080/"
        },
        "id": "01l7YDuMreP_",
        "outputId": "956a32c4-9ca2-4037-8090-3936619deda7"
      },
      "id": "01l7YDuMreP_",
      "execution_count": 34,
      "outputs": [
        {
          "output_type": "stream",
          "name": "stderr",
          "text": [
            "/usr/local/lib/python3.10/dist-packages/ipykernel/ipkernel.py:283: DeprecationWarning: `should_run_async` will not call `transform_cell` automatically in the future. Please pass the result to `transformed_cell` argument and any exception that happen during thetransform in `preprocessing_exc_tuple` in IPython 7.17 and above.\n",
            "  and should_run_async(code)\n"
          ]
        },
        {
          "output_type": "stream",
          "name": "stdout",
          "text": [
            "\n",
            "Coherence Score:  0.7144973860638917\n"
          ]
        }
      ]
    },
    {
      "cell_type": "code",
      "source": [
        "ldagensim = convertldaMalletToldaGen(lda_mallet)"
      ],
      "metadata": {
        "id": "PEi67DTIvu5L"
      },
      "id": "PEi67DTIvu5L",
      "execution_count": 32,
      "outputs": []
    },
    {
      "cell_type": "code",
      "source": [
        "import pyLDAvis.gensim as gensimvis\n",
        "vis_data = gensimvis.prepare(ldagensim, corpus, id2word, sort_topics=False)\n",
        "pyLDAvis.display(vis_data)"
      ],
      "metadata": {
        "colab": {
          "base_uri": "https://localhost:8080/"
        },
        "id": "3bUJwBbPv1c_",
        "outputId": "ef26a14e-e455-47c0-dc43-086cec419cab"
      },
      "id": "3bUJwBbPv1c_",
      "execution_count": null,
      "outputs": [
        {
          "output_type": "stream",
          "name": "stderr",
          "text": [
            "/usr/local/lib/python3.10/dist-packages/ipykernel/ipkernel.py:283: DeprecationWarning: `should_run_async` will not call `transform_cell` automatically in the future. Please pass the result to `transformed_cell` argument and any exception that happen during thetransform in `preprocessing_exc_tuple` in IPython 7.17 and above.\n",
            "  and should_run_async(code)\n"
          ]
        }
      ]
    },
    {
      "cell_type": "markdown",
      "id": "a8ee87fc-4aaf-44bc-bdfe-4b1e7dc03716",
      "metadata": {
        "id": "a8ee87fc-4aaf-44bc-bdfe-4b1e7dc03716"
      },
      "source": [
        "## **Embeddings**"
      ]
    },
    {
      "cell_type": "markdown",
      "source": [
        "### **Word2Vec**"
      ],
      "metadata": {
        "id": "oEbaYUCKQAOS"
      },
      "id": "oEbaYUCKQAOS"
    },
    {
      "cell_type": "markdown",
      "source": [
        "Let's prepare the dataset for the tokenization under a Word2Vec model. \n",
        "First we need to remove the non-alphabetic characters. \n",
        "We proceed by trasforming everything into lowercase, by removing punctuaction, and by removing sentences that are only 1 word long, since they won't be useful for training the model."
      ],
      "metadata": {
        "id": "sjDIZBGoQFFm"
      },
      "id": "sjDIZBGoQFFm"
    },
    {
      "cell_type": "code",
      "execution_count": null,
      "metadata": {
        "outputId": "8390a299-5c43-469e-b2f7-9a5d23bde9eb",
        "colab": {
          "base_uri": "https://localhost:8080/"
        },
        "id": "Y8G_L425nA5z"
      },
      "outputs": [
        {
          "output_type": "execute_result",
          "data": {
            "text/plain": [
              "['You moron ! What fool washes diapers by the well !',\n",
              " 'You useless fool !',\n",
              " 'How dare you sleep !',\n",
              " 'Up ! Go and clean the house .',\n",
              " 'Clean the kitchen .',\n",
              " \"I cleaned the kitchen , ma 'am .\",\n",
              " 'Your name means to trust . It also means truth . And endurance . Or it could be god .',\n",
              " \"You were given a great name . You 'd better live up to it .\",\n",
              " \"I 'll go home in the spring once the snow melts .\",\n",
              " \"Listen . No matter how tough it gets I wouldn 't bring shame to you and your dad . I promise I won 't .\",\n",
              " 'Your medicine . Open your mouth .',\n",
              " 'Granny ...',\n",
              " \"Don 't spill it .\",\n",
              " 'Granny !',\n",
              " 'Oshin .',\n",
              " \"Brandon said he 's headed down to Galway .\",\n",
              " \"Craking , Galway , it 's the same thing . He 's really heading down there ...\",\n",
              " 'Hi there , Welcome to the Stockroom .',\n",
              " \"I don 't really work here . I 've never even been to a store like this .\",\n",
              " \"Don 't get me wrong . I 'm not a prude . I like sex .\"]"
            ]
          },
          "metadata": {},
          "execution_count": 4
        }
      ],
      "source": [
        "from pandas.core.common import flatten\n",
        "\n",
        "sentences = df['uttr']\n",
        "sentences = list(flatten(sentences))\n",
        "sentences[:20]"
      ],
      "id": "Y8G_L425nA5z"
    },
    {
      "cell_type": "code",
      "source": [
        "tokenized_sentences = [re.sub('\\W', ' ', sentence).lower().split() for sentence in sentences]\n",
        "tokenized_sentences = [sentence for sentence in tokenized_sentences if len(sentence) > 1]"
      ],
      "metadata": {
        "id": "yhMI0BtJQJ1Y"
      },
      "execution_count": null,
      "outputs": [],
      "id": "yhMI0BtJQJ1Y"
    },
    {
      "cell_type": "markdown",
      "source": [
        "Loading of the model."
      ],
      "metadata": {
        "id": "6BUTJotAQM0R"
      },
      "id": "6BUTJotAQM0R"
    },
    {
      "cell_type": "code",
      "source": [
        "w2v_model = Word2Vec(sentences=tokenized_sentences,\n",
        "                     min_count=20,\n",
        "                     window=5,\n",
        "                     vector_size=300,\n",
        "                     sample=6e-5, \n",
        "                     alpha=0.03, \n",
        "                     min_alpha=0.0007, \n",
        "                     negative=20)"
      ],
      "metadata": {
        "id": "t2Yyhh0qQJnk"
      },
      "execution_count": null,
      "outputs": [],
      "id": "t2Yyhh0qQJnk"
    },
    {
      "cell_type": "code",
      "source": [
        "len(w2v_model.wv)  #number of learned vectors"
      ],
      "metadata": {
        "id": "N1efWXK-QJf6",
        "outputId": "cefe22cb-8377-48a1-a83a-ae0cba9d9741",
        "colab": {
          "base_uri": "https://localhost:8080/"
        }
      },
      "execution_count": null,
      "outputs": [
        {
          "output_type": "execute_result",
          "data": {
            "text/plain": [
              "25983"
            ]
          },
          "metadata": {},
          "execution_count": 7
        }
      ],
      "id": "N1efWXK-QJf6"
    },
    {
      "cell_type": "markdown",
      "source": [
        "Let's evaluate if the model has learned a significant embedding"
      ],
      "metadata": {
        "id": "Kr82OcvkQkLV"
      },
      "id": "Kr82OcvkQkLV"
    },
    {
      "cell_type": "code",
      "source": [
        "term = \"moron\"\n",
        "w2v_model.wv.most_similar(term)"
      ],
      "metadata": {
        "id": "lTj6fcadQJSO",
        "outputId": "b3ae4b1e-ec12-4f5e-8ff2-ea5916e6108b",
        "colab": {
          "base_uri": "https://localhost:8080/"
        }
      },
      "execution_count": null,
      "outputs": [
        {
          "output_type": "execute_result",
          "data": {
            "text/plain": [
              "[('cunt', 0.716732382774353),\n",
              " ('idiot', 0.6909536719322205),\n",
              " ('faggot', 0.6816585063934326),\n",
              " ('retard', 0.6795588731765747),\n",
              " ('asshole', 0.679030179977417),\n",
              " ('fucking', 0.6769351363182068),\n",
              " ('prick', 0.6580446362495422),\n",
              " ('dickhead', 0.6530579924583435),\n",
              " ('cocksucker', 0.6490021347999573),\n",
              " ('mutt', 0.6460972428321838)]"
            ]
          },
          "metadata": {},
          "execution_count": 8
        }
      ],
      "id": "lTj6fcadQJSO"
    },
    {
      "cell_type": "markdown",
      "source": [
        "Visualization of the representation space with TSNE"
      ],
      "metadata": {
        "id": "4d7S-VAzQvty"
      },
      "id": "4d7S-VAzQvty"
    },
    {
      "cell_type": "code",
      "source": [
        "sample = random.sample(list(w2v_model.wv.key_to_index), 500)\n",
        "print(sample)\n",
        "\n",
        "word_vectors = w2v_model.wv[sample]\n",
        "\n",
        "tsne = TSNE(n_components=3, n_iter=2000)\n",
        "tsne_embedding = tsne.fit_transform(word_vectors)\n",
        "x, y, z = np.transpose(tsne_embedding)"
      ],
      "metadata": {
        "id": "SUDUk0q1Qb8v",
        "outputId": "4989eb32-b37f-4677-f071-d6a742fdd753",
        "colab": {
          "base_uri": "https://localhost:8080/"
        }
      },
      "execution_count": null,
      "outputs": [
        {
          "output_type": "stream",
          "name": "stdout",
          "text": [
            "['cig', 'willie', 'measured', 'poses', 'using', 'bandits', 'franc', 'ministers', 'snot', 'pappa', 'sessions', 'prudence', 'weenie', 'whores', 'picker', 'endings', 'trained', 'apricot', 'pepperoni', 'plotting', 'band', 'responsibilities', 'moons', 'widely', 'thunderstorm', 'screams', 'silicone', 'acceptable', 'dyke', 'robo', 'instantaneous', 'frogs', 'nightingale', 'cora', 'transmit', 'talyn', 'gwi', 'fireworks', 'analysis', 'pheasant', 'fie', 'entice', 'pressured', 'brownies', 'ruler', 'crumbled', 'guilders', 'loosened', 'warmth', 'mortis', 'brianna', 'evolution', 'comedy', 'brim', 'horrific', 'bodyguards', 'kidney', 'comm', 'cosima', 'alexandra', 'polls', 'gallop', 'pennsylvania', 'partners', 'chewing', 'delight', 'treat', 'aptitude', 'cinderella', 'ransom', 'wendell', 'eckhart', 'flavors', 'bulbs', 'scrap', 'arrangement', 'ethan', 'reshma', 'foremost', 'schizo', 'clarify', 'scruffy', 'dementia', 'settlements', 'legacy', 'ftl', 'healed', 'holloway', 't', 'ammo', 'aye', 'playtime', '40', 'swore', 'doctor', 'mosley', 'tad', 'klingons', 'caveman', 'chester', 'félix', 'eiji', 'interesting', 'consistently', 'teacher', 'walkie', 'enthusiasm', 'compression', 'sea', 'lieut', 'oranges', 'napping', 'worked', 'criminals', 'managing', 'majority', 'homesick', 'sheri', 'boa', 'connected', 'connie', 'knowwhat', 'surprises', 'gentry', 'bronson', 'arang', 'smear', 'shanti', 'bodily', 'shootings', 'useful', 'strife', 'timeline', 'crows', 'hitching', 'midori', 'cheapest', 'equality', 'grandchild', 'scrawny', 'princeton', 'dirtied', 'back', 'proceedings', 'shone', 'convict', 'serial', 'offensive', 'naughty', 'webber', 'mikado', 'alison', 'rush', 'appeals', 'meteor', 'rigs', 'malcolm', 'captain', 'awol', 'bashed', 'irv', 'courier', 'attractions', 'nylon', 'smokes', 'soak', 'lebanon', 'improvised', 'crossword', 'lowering', 'lars', 'popov', 'eraser', 'punish', 'shampoo', 'pernell', 'disappointed', 'osman', 'misuse', 'paradise', 'lazy', 'so', 'clemens', 'horribly', 'typewriter', 'healthy', 'libby', 'protector', 'shady', 'lobe', 'dissertation', 'doubling', 'rosetta', 'catwalk', 'proves', 'prosperity', 'thicker', 'administer', 'dominant', 'nikolai', 'figs', 'encouraging', 'colds', 'bit', 'depleted', 'chilled', 'horne', 'napkins', 'calmed', 'thieves', 'sensory', 'forbes', 'storey', 'anomaly', 'toil', 'pathology', 'beyond', 'salute', 'flips', 'sr', 'shun', 'arrange', 'buster', 'topsy', 'roommate', 'circuit', 'tomato', 'simmer', 'chateau', 'hou', 'abduct', 'ts', 'hughes', 'beware', 'aneurysm', 'ver', 'auditorium', 'struggle', 'specimen', 'venom', 'nostrils', 'catty', 'freund', 'aims', 'crossfire', 'basin', 'myles', 'skis', 'parasites', 'harem', 'vitality', 'gérard', 'institution', 'singers', 'accompany', 'seatbelts', 'luka', 'worried', 'raffaele', 'spells', 'concert', 'ltd', 'immense', 'thriving', 'bess', 'creams', 'unload', 'hiccups', 'motivation', 'scheming', 'rig', 'traitorous', 'garrow', 'yard', 'theoretically', 'australians', 'doubles', 'campaign', 'vee', '20', 'for', 'romain', 'showered', 'battery', 'meade', 'smallest', 'jeremiah', 'femme', 'artifact', 'lieutenants', 'kowloon', 'crib', '56', 'hub', 'search', 'disability', 'disturbed', 'iwo', 'caste', 'miserable', 'strolling', 'sabrina', 'relieve', 'drunks', 'ljust', 'endearing', 'backup', 'twinkle', 'enormously', 'myself', 'uneven', 'bottled', 'danube', 'whoo', 'mumbo', 'aftermath', 'hedges', 'secure', 'geoffrey', '250', 'superstition', 'lockhart', 'ado', 'pad', 'cremation', 'spain', 'python', 'publish', 'shagging', 'treachery', 'captains', 'department', 'visibility', 'shelf', 'weights', 'haze', 'vanishing', 'morrow', 'brooklyn', 'immoral', 'moreno', 'regroup', 'dubious', 'hymns', 'previous', 'oughta', 'carnal', 'irons', 'progressing', 'coz', 'noelle', 'sebastian', 'tracking', 'finder', 'tactic', 'mathis', 'uptight', 'scrubs', 'ready', 'unseemly', 'cyrus', 'education', 'amazed', 'ballpark', 'rook', 'ruddy', 'jubilee', 'go', 'sokka', 'socket', 'predators', 'suave', 'gogo', 'truman', 'quince', 'oishi', 'junior', 'gabrielle', 'hovering', 'venomous', 'office', 'come', 'monty', 'candace', 'excuse', 'unreliable', 'joke', 'inhabit', 'leslie', 'language', 'strikes', 'skate', 'redo', 'gracias', 'pros', 'samson', 'tingle', 'assumed', 'socialist', 'bajor', 'locating', 'watched', 'tense', 'neville', 'aisle', 'date', 'lever', 'interference', 'cellphone', 'spotter', 'seer', 'kinds', 'ryan', 'quixote', 'je', 'transgression', 'trail', 'warms', 'cholesterol', 'ah', 'dealt', 'tha', 'marx', 'digging', 'lombardo', 'rhea', 'overweight', 'kerrigan', 'bump', '0f', 'disposed', 'science', 'indicated', 'seeking', 'volts', 'nigh', 'paragraph', 'ehh', 'exquisite', 'prepped', 'wrist', 'mins', 'snuff', 'mehta', 'marvel', 'rapist', 'dining', 'girls', 'hollywood', 'edgar', 'motive', 'tempura', 'tempted', 'fantasize', 'anaesthetic', 'spines', 'distinct', 'climax', 'stacks', 'tokens', 'pence', 'caitlin', 'gently', 'thermal', 'anonymous', 'uncertain', 'rolled', 'eyebrow', 'siege', 'later', 'bulk', 'future', 'upright', 'dew', 'hurting', 'enrico', 'dairy', 'regret', 'smile', 'academic', 'volker', 'specify', 'scapegoat', 'shouting', 'awesome', 'juices', 'sharing', 'imaginative', '45', 'thigh', 'hol', 'valdez', 'pak', 'migraine', 'fleed', 'haha', 'walks', 'mistakes', 'less', 'promoting']\n"
          ]
        }
      ],
      "id": "SUDUk0q1Qb8v"
    },
    {
      "cell_type": "code",
      "source": [
        "fig = px.scatter_3d(x=x[:200],y=y[:200],z=z[:200],text=sample[:200])\n",
        "fig.update_traces(marker=dict(size=3,line=dict(width=2)),textfont_size=10)\n",
        "fig.show()"
      ],
      "metadata": {
        "id": "UBdKtKmMQ4_r",
        "outputId": "b5ed1d92-ca81-4322-d700-24e47725dcd7",
        "colab": {
          "base_uri": "https://localhost:8080/",
          "height": 542
        }
      },
      "execution_count": null,
      "outputs": [
        {
          "output_type": "display_data",
          "data": {
            "text/html": [
              "<html>\n",
              "<head><meta charset=\"utf-8\" /></head>\n",
              "<body>\n",
              "    <div>            <script src=\"https://cdnjs.cloudflare.com/ajax/libs/mathjax/2.7.5/MathJax.js?config=TeX-AMS-MML_SVG\"></script><script type=\"text/javascript\">if (window.MathJax && window.MathJax.Hub && window.MathJax.Hub.Config) {window.MathJax.Hub.Config({SVG: {font: \"STIX-Web\"}});}</script>                <script type=\"text/javascript\">window.PlotlyConfig = {MathJaxConfig: 'local'};</script>\n",
              "        <script src=\"https://cdn.plot.ly/plotly-2.18.2.min.js\"></script>                <div id=\"e17b9d87-77bb-4392-af79-29e61f865e81\" class=\"plotly-graph-div\" style=\"height:525px; width:100%;\"></div>            <script type=\"text/javascript\">                                    window.PLOTLYENV=window.PLOTLYENV || {};                                    if (document.getElementById(\"e17b9d87-77bb-4392-af79-29e61f865e81\")) {                    Plotly.newPlot(                        \"e17b9d87-77bb-4392-af79-29e61f865e81\",                        [{\"hovertemplate\":\"x=%{x}<br>y=%{y}<br>z=%{z}<br>text=%{text}<extra></extra>\",\"legendgroup\":\"\",\"marker\":{\"color\":\"#636efa\",\"symbol\":\"circle\",\"line\":{\"width\":2},\"size\":3},\"mode\":\"markers+text\",\"name\":\"\",\"scene\":\"scene\",\"showlegend\":false,\"text\":[\"cig\",\"willie\",\"measured\",\"poses\",\"using\",\"bandits\",\"franc\",\"ministers\",\"snot\",\"pappa\",\"sessions\",\"prudence\",\"weenie\",\"whores\",\"picker\",\"endings\",\"trained\",\"apricot\",\"pepperoni\",\"plotting\",\"band\",\"responsibilities\",\"moons\",\"widely\",\"thunderstorm\",\"screams\",\"silicone\",\"acceptable\",\"dyke\",\"robo\",\"instantaneous\",\"frogs\",\"nightingale\",\"cora\",\"transmit\",\"talyn\",\"gwi\",\"fireworks\",\"analysis\",\"pheasant\",\"fie\",\"entice\",\"pressured\",\"brownies\",\"ruler\",\"crumbled\",\"guilders\",\"loosened\",\"warmth\",\"mortis\",\"brianna\",\"evolution\",\"comedy\",\"brim\",\"horrific\",\"bodyguards\",\"kidney\",\"comm\",\"cosima\",\"alexandra\",\"polls\",\"gallop\",\"pennsylvania\",\"partners\",\"chewing\",\"delight\",\"treat\",\"aptitude\",\"cinderella\",\"ransom\",\"wendell\",\"eckhart\",\"flavors\",\"bulbs\",\"scrap\",\"arrangement\",\"ethan\",\"reshma\",\"foremost\",\"schizo\",\"clarify\",\"scruffy\",\"dementia\",\"settlements\",\"legacy\",\"ftl\",\"healed\",\"holloway\",\"t\",\"ammo\",\"aye\",\"playtime\",\"40\",\"swore\",\"doctor\",\"mosley\",\"tad\",\"klingons\",\"caveman\",\"chester\",\"f\\u00e9lix\",\"eiji\",\"interesting\",\"consistently\",\"teacher\",\"walkie\",\"enthusiasm\",\"compression\",\"sea\",\"lieut\",\"oranges\",\"napping\",\"worked\",\"criminals\",\"managing\",\"majority\",\"homesick\",\"sheri\",\"boa\",\"connected\",\"connie\",\"knowwhat\",\"surprises\",\"gentry\",\"bronson\",\"arang\",\"smear\",\"shanti\",\"bodily\",\"shootings\",\"useful\",\"strife\",\"timeline\",\"crows\",\"hitching\",\"midori\",\"cheapest\",\"equality\",\"grandchild\",\"scrawny\",\"princeton\",\"dirtied\",\"back\",\"proceedings\",\"shone\",\"convict\",\"serial\",\"offensive\",\"naughty\",\"webber\",\"mikado\",\"alison\",\"rush\",\"appeals\",\"meteor\",\"rigs\",\"malcolm\",\"captain\",\"awol\",\"bashed\",\"irv\",\"courier\",\"attractions\",\"nylon\",\"smokes\",\"soak\",\"lebanon\",\"improvised\",\"crossword\",\"lowering\",\"lars\",\"popov\",\"eraser\",\"punish\",\"shampoo\",\"pernell\",\"disappointed\",\"osman\",\"misuse\",\"paradise\",\"lazy\",\"so\",\"clemens\",\"horribly\",\"typewriter\",\"healthy\",\"libby\",\"protector\",\"shady\",\"lobe\",\"dissertation\",\"doubling\",\"rosetta\",\"catwalk\",\"proves\",\"prosperity\",\"thicker\",\"administer\",\"dominant\",\"nikolai\"],\"x\":[66.7339859008789,50.957828521728516,-23.655244827270508,-39.21465301513672,-10.654646873474121,-37.588565826416016,23.26506996154785,-102.47048950195312,73.38060760498047,29.84362030029297,-64.19629669189453,-114.75153350830078,39.082889556884766,9.26508903503418,54.74708557128906,-29.23492431640625,-53.56203842163086,34.091529846191406,55.424888610839844,-37.837127685546875,-14.971192359924316,-82.06970977783203,-16.701976776123047,-28.868457794189453,7.376326560974121,101.48857879638672,50.002872467041016,-36.057498931884766,10.106717109680176,7.187516689300537,15.703412055969238,13.612570762634277,-16.8116512298584,15.829606056213379,-11.104711532592773,-22.462827682495117,-35.7492561340332,19.48770523071289,-32.50831985473633,23.186460494995117,-1.5776525735855103,0.554516077041626,-26.042875289916992,55.449832916259766,-82.23387908935547,-19.54029083251953,31.14189338684082,11.614360809326172,-34.49576187133789,34.11851119995117,24.04642105102539,-59.56557083129883,-19.919795989990234,51.890438079833984,-39.46983337402344,-35.920047760009766,-2.0073349475860596,0.45254579186439514,11.274090766906738,9.327648162841797,-10.7610445022583,21.06903076171875,-54.800758361816406,-110.68610382080078,80.19844818115234,-31.13381576538086,-94.27281951904297,-49.0184440612793,-19.14473533630371,-89.17213439941406,21.686641693115234,-22.209308624267578,41.45911407470703,76.37227630615234,78.98180389404297,-68.91814422607422,60.90745544433594,14.180989265441895,-64.90116882324219,42.0711784362793,-59.13625717163086,52.466636657714844,-73.3089828491211,-6.701031684875488,-64.38105010986328,16.275196075439453,20.031089782714844,13.237740516662598,77.56254577636719,53.84634017944336,25.51354217529297,29.92450714111328,39.67548751831055,-95.63340759277344,-71.10929107666016,12.84161376953125,94.326904296875,-15.755476951599121,41.212318420410156,34.00027084350586,5.702548503875732,14.271684646606445,-16.330108642578125,-30.58769416809082,-90.5026626586914,37.93370056152344,-46.038848876953125,17.32118034362793,8.410717964172363,-5.546863079071045,49.18086242675781,32.62746810913086,-49.06132888793945,-50.62324523925781,-50.43912124633789,-92.47331237792969,-5.106032848358154,18.89128303527832,15.838041305541992,-45.38806915283203,32.505714416503906,22.21866798400879,-49.754661560058594,34.402042388916016,18.643342971801758,-19.154356002807617,35.65272903442383,-25.7146053314209,-15.659475326538086,-33.03330993652344,-44.462669372558594,-72.50614166259766,-15.289487838745117,15.046452522277832,26.960933685302734,-35.97019577026367,49.383872985839844,-84.39785766601562,-43.19111251831055,61.2005500793457,-66.11089324951172,39.15167236328125,33.00205612182617,-67.22734069824219,-18.071643829345703,-62.61753463745117,-73.3884506225586,-25.632579803466797,36.314205169677734,14.959525108337402,-11.18668270111084,46.480140686035156,24.836009979248047,-56.049415588378906,-3.7812178134918213,18.13785743713379,39.65691375732422,-6.635012149810791,13.266270637512207,98.67278289794922,20.740673065185547,-78.48902130126953,11.691596031188965,40.22206115722656,73.2909927368164,36.27688980102539,16.364120483398438,13.558624267578125,10.840217590332031,23.198366165161133,27.528715133666992,-24.82246971130371,51.388946533203125,-90.97200775146484,56.74440002441406,5.9168853759765625,85.52487182617188,-7.662353992462158,-55.671817779541016,-37.354095458984375,75.81379699707031,94.14273834228516,28.099145889282227,94.14763641357422,22.27069854736328,-31.947715759277344,29.672691345214844,-85.66368103027344,2.344245195388794,-1.7168301343917847,21.11412811279297,3.081139326095581,-8.233421325683594,12.787960052490234,-68.98249816894531,-56.24197006225586,60.473419189453125,-75.30592346191406,-47.38477325439453,-18.72904396057129],\"y\":[28.136377334594727,-57.467437744140625,76.1182632446289,5.00098991394043,72.33488464355469,-27.757322311401367,-18.93763542175293,10.818009376525879,15.853161811828613,-26.59934425354004,-2.783877372741699,10.567748069763184,10.294889450073242,16.880395889282227,23.025691986083984,6.912230014801025,-9.930036544799805,45.53994369506836,64.32135772705078,-50.496055603027344,-22.36935043334961,44.93492126464844,47.76615524291992,21.831342697143555,10.986589431762695,-17.676353454589844,56.763160705566406,50.00050354003906,-81.51869201660156,81.41669464111328,60.59482955932617,83.21466064453125,-46.1460075378418,-77.28749084472656,34.51944351196289,7.488373279571533,-65.38330078125,-28.843915939331055,51.7569694519043,5.759549617767334,30.075042724609375,-3.251624345779419,-31.681358337402344,51.60464096069336,64.88948059082031,27.545677185058594,-12.622733116149902,36.67560958862305,28.120864868164062,48.974971771240234,-85.32670593261719,69.27589416503906,-10.96772289276123,40.615440368652344,27.850872039794922,-17.759843826293945,89.99998474121094,39.545745849609375,-39.142940521240234,-99.9134750366211,-1.412939190864563,0.47132641077041626,-42.47075271606445,-12.866262435913086,29.114952087402344,71.76268005371094,-19.497434616088867,13.15281867980957,-31.22369956970215,-48.102333068847656,-63.39887619018555,-0.9993268847465515,74.44229888916016,39.29495620727539,59.33241271972656,30.04656982421875,-83.61328887939453,-24.867755889892578,0.10491610318422318,-14.17337417602539,18.875839233398438,3.705171585083008,25.34503746032715,28.884647369384766,56.94633865356445,33.90621566772461,77.01231384277344,-81.04012298583984,-38.82647705078125,24.84234046936035,-51.50775909423828,-40.47114944458008,27.021743774414062,33.40931701660156,13.03676986694336,-52.28676223754883,3.942211866378784,33.53033447265625,1.171083927154541,-53.622535705566406,-58.1303596496582,-34.788753509521484,41.589942932128906,5.038012981414795,-25.577800750732422,43.24536895751953,19.31812858581543,46.02456283569336,99.58424377441406,-19.807085037231445,62.535160064697266,-23.08453369140625,-26.109155654907227,-36.992801666259766,-31.729114532470703,19.76247215270996,10.02196979522705,-47.652137756347656,-27.437822341918945,64.81533813476562,-76.04386901855469,-33.39830017089844,13.224104881286621,-40.64665985107422,-56.99784469604492,-21.957324981689453,37.94175338745117,-50.003726959228516,8.829754829406738,4.533771514892578,62.97832489013672,43.83903503417969,13.276419639587402,73.07333374023438,-1.8927069902420044,-68.38945770263672,30.037839889526367,12.707069396972656,-46.87500762939453,9.833651542663574,-41.082557678222656,31.564594268798828,1.806148648262024,-25.982471466064453,55.75535583496094,-33.818115234375,-46.66236877441406,71.50397491455078,6.523674011230469,-93.11918640136719,-14.404805183410645,-97.02247619628906,-52.90768051147461,-17.871503829956055,58.29658889770508,20.51294708251953,-90.63728332519531,-12.668776512145996,-58.28145217895508,25.460683822631836,-29.88286781311035,-56.664710998535156,3.972189426422119,56.09809112548828,52.43709182739258,62.53432846069336,-36.88286590576172,20.627710342407227,3.355334997177124,27.7602481842041,-58.75564193725586,-19.40392303466797,26.53281593322754,14.675504684448242,60.38901138305664,-34.83392333984375,0.2083062380552292,-55.61018753051758,1.2453691959381104,86.27629852294922,7.3011345863342285,-18.620800018310547,-37.249080657958984,-23.88546371459961,-12.34791374206543,51.406883239746094,-91.17571258544922,50.79901123046875,43.46991729736328,76.0527114868164,-9.218303680419922,15.406457901000977,-39.23688507080078,-17.698110580444336,6.982179164886475,79.65493774414062,68.20809936523438,2.1512575149536133,61.6320915222168,-70.47018432617188],\"z\":[-0.6990430951118469,-46.31098556518555,29.15321159362793,14.155463218688965,67.43136596679688,69.09339141845703,78.10189056396484,-3.437392473220825,-43.76649856567383,-18.100759506225586,25.599464416503906,20.777462005615234,-38.11946487426758,-86.89020538330078,-27.72908592224121,-61.78240203857422,71.11593627929688,-37.214454650878906,-41.415794372558594,57.95381164550781,-96.05009460449219,-4.038200378417969,3.762850761413574,-29.167255401611328,6.261804103851318,2.788447856903076,1.1551487445831299,-61.42774963378906,51.893394470214844,14.138993263244629,21.21739387512207,-29.232213973999023,-73.9528579711914,15.90330982208252,79.23151397705078,49.66091537475586,52.602745056152344,-88.50467681884766,75.69723510742188,-30.404020309448242,-21.626131057739258,11.685691833496094,26.4056339263916,-45.04666519165039,-25.413394927978516,15.697593688964844,82.31123352050781,14.316471099853516,-84.76362609863281,27.314067840576172,-2.898113489151001,16.64253807067871,-63.98027801513672,-16.529964447021484,15.635055541992188,58.780921936035156,43.213661193847656,72.76351928710938,-2.1299259662628174,12.580726623535156,29.375635147094727,10.968876838684082,-56.596763610839844,-3.9425275325775146,-45.17425537109375,-22.687467575073242,49.828861236572266,-1.6711798906326294,-43.482357025146484,12.637155532836914,-4.7707839012146,14.189485549926758,-41.53941345214844,5.4368743896484375,-24.119382858276367,14.510976791381836,4.508418560028076,-9.697986602783203,-0.6367461085319519,-33.80508041381836,19.152475357055664,-51.57326889038086,40.26230239868164,23.72174644470215,-13.450573921203613,52.516090393066406,34.09739685058594,-25.414825439453125,51.04878616333008,45.62267303466797,76.25094604492188,-80.16685485839844,88.314208984375,-40.04436492919922,63.40201187133789,-13.317683219909668,33.47256088256836,39.20676803588867,6.650601863861084,-35.682491302490234,1.6579004526138306,-24.01752471923828,-59.98819351196289,-4.437989234924316,-11.425347328186035,52.56770324707031,-47.47841262817383,36.47287368774414,-15.00143814086914,25.603023529052734,-59.58439254760742,21.622455596923828,-39.99934387207031,70.25273895263672,19.30089569091797,5.77846622467041,-63.033477783203125,9.018830299377441,54.139564514160156,40.97580337524414,11.412120819091797,-42.04909896850586,-60.6675910949707,42.471038818359375,-30.915346145629883,-6.71165657043457,4.75897741317749,-3.7663230895996094,65.36883544921875,32.637413024902344,-58.714019775390625,-22.914766311645508,32.2464599609375,-11.222089767456055,26.265661239624023,8.986647605895996,-71.5622787475586,-3.402453899383545,-28.487455368041992,-30.85533905029297,-42.080936431884766,-34.70546340942383,-102.44313049316406,3.004930019378662,-13.971217155456543,44.72718048095703,46.09840393066406,53.59732437133789,-67.08248901367188,-35.648582458496094,-22.331697463989258,-7.214334964752197,-68.70957946777344,1.7162784337997437,32.69877624511719,2.424142360687256,-41.277122497558594,77.74476623535156,36.80506896972656,-7.656198978424072,7.6191487312316895,0.6484200358390808,26.33578872680664,-23.332298278808594,-46.08671569824219,-4.542518138885498,30.609731674194336,19.55438995361328,-48.44777297973633,35.19913864135742,20.78780174255371,12.642647743225098,-1.1776381731033325,-43.83052444458008,-14.822799682617188,15.312095642089844,60.77544021606445,-9.336373329162598,11.892260551452637,-24.469369888305664,-55.224918365478516,32.523277282714844,-3.715704917907715,17.7270450592041,-64.1806411743164,-75.38695526123047,-18.861623764038086,-29.30990219116211,-79.43789672851562,44.94145965576172,-50.39523696899414,36.13504409790039,23.584514617919922,18.87495994567871,-28.482467651367188,-22.345930099487305,4.555832862854004,52.43512725830078,21.025924682617188,-6.778532981872559],\"type\":\"scatter3d\",\"textfont\":{\"size\":10}}],                        {\"template\":{\"data\":{\"histogram2dcontour\":[{\"type\":\"histogram2dcontour\",\"colorbar\":{\"outlinewidth\":0,\"ticks\":\"\"},\"colorscale\":[[0.0,\"#0d0887\"],[0.1111111111111111,\"#46039f\"],[0.2222222222222222,\"#7201a8\"],[0.3333333333333333,\"#9c179e\"],[0.4444444444444444,\"#bd3786\"],[0.5555555555555556,\"#d8576b\"],[0.6666666666666666,\"#ed7953\"],[0.7777777777777778,\"#fb9f3a\"],[0.8888888888888888,\"#fdca26\"],[1.0,\"#f0f921\"]]}],\"choropleth\":[{\"type\":\"choropleth\",\"colorbar\":{\"outlinewidth\":0,\"ticks\":\"\"}}],\"histogram2d\":[{\"type\":\"histogram2d\",\"colorbar\":{\"outlinewidth\":0,\"ticks\":\"\"},\"colorscale\":[[0.0,\"#0d0887\"],[0.1111111111111111,\"#46039f\"],[0.2222222222222222,\"#7201a8\"],[0.3333333333333333,\"#9c179e\"],[0.4444444444444444,\"#bd3786\"],[0.5555555555555556,\"#d8576b\"],[0.6666666666666666,\"#ed7953\"],[0.7777777777777778,\"#fb9f3a\"],[0.8888888888888888,\"#fdca26\"],[1.0,\"#f0f921\"]]}],\"heatmap\":[{\"type\":\"heatmap\",\"colorbar\":{\"outlinewidth\":0,\"ticks\":\"\"},\"colorscale\":[[0.0,\"#0d0887\"],[0.1111111111111111,\"#46039f\"],[0.2222222222222222,\"#7201a8\"],[0.3333333333333333,\"#9c179e\"],[0.4444444444444444,\"#bd3786\"],[0.5555555555555556,\"#d8576b\"],[0.6666666666666666,\"#ed7953\"],[0.7777777777777778,\"#fb9f3a\"],[0.8888888888888888,\"#fdca26\"],[1.0,\"#f0f921\"]]}],\"heatmapgl\":[{\"type\":\"heatmapgl\",\"colorbar\":{\"outlinewidth\":0,\"ticks\":\"\"},\"colorscale\":[[0.0,\"#0d0887\"],[0.1111111111111111,\"#46039f\"],[0.2222222222222222,\"#7201a8\"],[0.3333333333333333,\"#9c179e\"],[0.4444444444444444,\"#bd3786\"],[0.5555555555555556,\"#d8576b\"],[0.6666666666666666,\"#ed7953\"],[0.7777777777777778,\"#fb9f3a\"],[0.8888888888888888,\"#fdca26\"],[1.0,\"#f0f921\"]]}],\"contourcarpet\":[{\"type\":\"contourcarpet\",\"colorbar\":{\"outlinewidth\":0,\"ticks\":\"\"}}],\"contour\":[{\"type\":\"contour\",\"colorbar\":{\"outlinewidth\":0,\"ticks\":\"\"},\"colorscale\":[[0.0,\"#0d0887\"],[0.1111111111111111,\"#46039f\"],[0.2222222222222222,\"#7201a8\"],[0.3333333333333333,\"#9c179e\"],[0.4444444444444444,\"#bd3786\"],[0.5555555555555556,\"#d8576b\"],[0.6666666666666666,\"#ed7953\"],[0.7777777777777778,\"#fb9f3a\"],[0.8888888888888888,\"#fdca26\"],[1.0,\"#f0f921\"]]}],\"surface\":[{\"type\":\"surface\",\"colorbar\":{\"outlinewidth\":0,\"ticks\":\"\"},\"colorscale\":[[0.0,\"#0d0887\"],[0.1111111111111111,\"#46039f\"],[0.2222222222222222,\"#7201a8\"],[0.3333333333333333,\"#9c179e\"],[0.4444444444444444,\"#bd3786\"],[0.5555555555555556,\"#d8576b\"],[0.6666666666666666,\"#ed7953\"],[0.7777777777777778,\"#fb9f3a\"],[0.8888888888888888,\"#fdca26\"],[1.0,\"#f0f921\"]]}],\"mesh3d\":[{\"type\":\"mesh3d\",\"colorbar\":{\"outlinewidth\":0,\"ticks\":\"\"}}],\"scatter\":[{\"fillpattern\":{\"fillmode\":\"overlay\",\"size\":10,\"solidity\":0.2},\"type\":\"scatter\"}],\"parcoords\":[{\"type\":\"parcoords\",\"line\":{\"colorbar\":{\"outlinewidth\":0,\"ticks\":\"\"}}}],\"scatterpolargl\":[{\"type\":\"scatterpolargl\",\"marker\":{\"colorbar\":{\"outlinewidth\":0,\"ticks\":\"\"}}}],\"bar\":[{\"error_x\":{\"color\":\"#2a3f5f\"},\"error_y\":{\"color\":\"#2a3f5f\"},\"marker\":{\"line\":{\"color\":\"#E5ECF6\",\"width\":0.5},\"pattern\":{\"fillmode\":\"overlay\",\"size\":10,\"solidity\":0.2}},\"type\":\"bar\"}],\"scattergeo\":[{\"type\":\"scattergeo\",\"marker\":{\"colorbar\":{\"outlinewidth\":0,\"ticks\":\"\"}}}],\"scatterpolar\":[{\"type\":\"scatterpolar\",\"marker\":{\"colorbar\":{\"outlinewidth\":0,\"ticks\":\"\"}}}],\"histogram\":[{\"marker\":{\"pattern\":{\"fillmode\":\"overlay\",\"size\":10,\"solidity\":0.2}},\"type\":\"histogram\"}],\"scattergl\":[{\"type\":\"scattergl\",\"marker\":{\"colorbar\":{\"outlinewidth\":0,\"ticks\":\"\"}}}],\"scatter3d\":[{\"type\":\"scatter3d\",\"line\":{\"colorbar\":{\"outlinewidth\":0,\"ticks\":\"\"}},\"marker\":{\"colorbar\":{\"outlinewidth\":0,\"ticks\":\"\"}}}],\"scattermapbox\":[{\"type\":\"scattermapbox\",\"marker\":{\"colorbar\":{\"outlinewidth\":0,\"ticks\":\"\"}}}],\"scatterternary\":[{\"type\":\"scatterternary\",\"marker\":{\"colorbar\":{\"outlinewidth\":0,\"ticks\":\"\"}}}],\"scattercarpet\":[{\"type\":\"scattercarpet\",\"marker\":{\"colorbar\":{\"outlinewidth\":0,\"ticks\":\"\"}}}],\"carpet\":[{\"aaxis\":{\"endlinecolor\":\"#2a3f5f\",\"gridcolor\":\"white\",\"linecolor\":\"white\",\"minorgridcolor\":\"white\",\"startlinecolor\":\"#2a3f5f\"},\"baxis\":{\"endlinecolor\":\"#2a3f5f\",\"gridcolor\":\"white\",\"linecolor\":\"white\",\"minorgridcolor\":\"white\",\"startlinecolor\":\"#2a3f5f\"},\"type\":\"carpet\"}],\"table\":[{\"cells\":{\"fill\":{\"color\":\"#EBF0F8\"},\"line\":{\"color\":\"white\"}},\"header\":{\"fill\":{\"color\":\"#C8D4E3\"},\"line\":{\"color\":\"white\"}},\"type\":\"table\"}],\"barpolar\":[{\"marker\":{\"line\":{\"color\":\"#E5ECF6\",\"width\":0.5},\"pattern\":{\"fillmode\":\"overlay\",\"size\":10,\"solidity\":0.2}},\"type\":\"barpolar\"}],\"pie\":[{\"automargin\":true,\"type\":\"pie\"}]},\"layout\":{\"autotypenumbers\":\"strict\",\"colorway\":[\"#636efa\",\"#EF553B\",\"#00cc96\",\"#ab63fa\",\"#FFA15A\",\"#19d3f3\",\"#FF6692\",\"#B6E880\",\"#FF97FF\",\"#FECB52\"],\"font\":{\"color\":\"#2a3f5f\"},\"hovermode\":\"closest\",\"hoverlabel\":{\"align\":\"left\"},\"paper_bgcolor\":\"white\",\"plot_bgcolor\":\"#E5ECF6\",\"polar\":{\"bgcolor\":\"#E5ECF6\",\"angularaxis\":{\"gridcolor\":\"white\",\"linecolor\":\"white\",\"ticks\":\"\"},\"radialaxis\":{\"gridcolor\":\"white\",\"linecolor\":\"white\",\"ticks\":\"\"}},\"ternary\":{\"bgcolor\":\"#E5ECF6\",\"aaxis\":{\"gridcolor\":\"white\",\"linecolor\":\"white\",\"ticks\":\"\"},\"baxis\":{\"gridcolor\":\"white\",\"linecolor\":\"white\",\"ticks\":\"\"},\"caxis\":{\"gridcolor\":\"white\",\"linecolor\":\"white\",\"ticks\":\"\"}},\"coloraxis\":{\"colorbar\":{\"outlinewidth\":0,\"ticks\":\"\"}},\"colorscale\":{\"sequential\":[[0.0,\"#0d0887\"],[0.1111111111111111,\"#46039f\"],[0.2222222222222222,\"#7201a8\"],[0.3333333333333333,\"#9c179e\"],[0.4444444444444444,\"#bd3786\"],[0.5555555555555556,\"#d8576b\"],[0.6666666666666666,\"#ed7953\"],[0.7777777777777778,\"#fb9f3a\"],[0.8888888888888888,\"#fdca26\"],[1.0,\"#f0f921\"]],\"sequentialminus\":[[0.0,\"#0d0887\"],[0.1111111111111111,\"#46039f\"],[0.2222222222222222,\"#7201a8\"],[0.3333333333333333,\"#9c179e\"],[0.4444444444444444,\"#bd3786\"],[0.5555555555555556,\"#d8576b\"],[0.6666666666666666,\"#ed7953\"],[0.7777777777777778,\"#fb9f3a\"],[0.8888888888888888,\"#fdca26\"],[1.0,\"#f0f921\"]],\"diverging\":[[0,\"#8e0152\"],[0.1,\"#c51b7d\"],[0.2,\"#de77ae\"],[0.3,\"#f1b6da\"],[0.4,\"#fde0ef\"],[0.5,\"#f7f7f7\"],[0.6,\"#e6f5d0\"],[0.7,\"#b8e186\"],[0.8,\"#7fbc41\"],[0.9,\"#4d9221\"],[1,\"#276419\"]]},\"xaxis\":{\"gridcolor\":\"white\",\"linecolor\":\"white\",\"ticks\":\"\",\"title\":{\"standoff\":15},\"zerolinecolor\":\"white\",\"automargin\":true,\"zerolinewidth\":2},\"yaxis\":{\"gridcolor\":\"white\",\"linecolor\":\"white\",\"ticks\":\"\",\"title\":{\"standoff\":15},\"zerolinecolor\":\"white\",\"automargin\":true,\"zerolinewidth\":2},\"scene\":{\"xaxis\":{\"backgroundcolor\":\"#E5ECF6\",\"gridcolor\":\"white\",\"linecolor\":\"white\",\"showbackground\":true,\"ticks\":\"\",\"zerolinecolor\":\"white\",\"gridwidth\":2},\"yaxis\":{\"backgroundcolor\":\"#E5ECF6\",\"gridcolor\":\"white\",\"linecolor\":\"white\",\"showbackground\":true,\"ticks\":\"\",\"zerolinecolor\":\"white\",\"gridwidth\":2},\"zaxis\":{\"backgroundcolor\":\"#E5ECF6\",\"gridcolor\":\"white\",\"linecolor\":\"white\",\"showbackground\":true,\"ticks\":\"\",\"zerolinecolor\":\"white\",\"gridwidth\":2}},\"shapedefaults\":{\"line\":{\"color\":\"#2a3f5f\"}},\"annotationdefaults\":{\"arrowcolor\":\"#2a3f5f\",\"arrowhead\":0,\"arrowwidth\":1},\"geo\":{\"bgcolor\":\"white\",\"landcolor\":\"#E5ECF6\",\"subunitcolor\":\"white\",\"showland\":true,\"showlakes\":true,\"lakecolor\":\"white\"},\"title\":{\"x\":0.05},\"mapbox\":{\"style\":\"light\"}}},\"scene\":{\"domain\":{\"x\":[0.0,1.0],\"y\":[0.0,1.0]},\"xaxis\":{\"title\":{\"text\":\"x\"}},\"yaxis\":{\"title\":{\"text\":\"y\"}},\"zaxis\":{\"title\":{\"text\":\"z\"}}},\"legend\":{\"tracegroupgap\":0},\"margin\":{\"t\":60}},                        {\"responsive\": true}                    ).then(function(){\n",
              "                            \n",
              "var gd = document.getElementById('e17b9d87-77bb-4392-af79-29e61f865e81');\n",
              "var x = new MutationObserver(function (mutations, observer) {{\n",
              "        var display = window.getComputedStyle(gd).display;\n",
              "        if (!display || display === 'none') {{\n",
              "            console.log([gd, 'removed!']);\n",
              "            Plotly.purge(gd);\n",
              "            observer.disconnect();\n",
              "        }}\n",
              "}});\n",
              "\n",
              "// Listen for the removal of the full notebook cells\n",
              "var notebookContainer = gd.closest('#notebook-container');\n",
              "if (notebookContainer) {{\n",
              "    x.observe(notebookContainer, {childList: true});\n",
              "}}\n",
              "\n",
              "// Listen for the clearing of the current output cell\n",
              "var outputEl = gd.closest('.output');\n",
              "if (outputEl) {{\n",
              "    x.observe(outputEl, {childList: true});\n",
              "}}\n",
              "\n",
              "                        })                };                            </script>        </div>\n",
              "</body>\n",
              "</html>"
            ]
          },
          "metadata": {}
        }
      ],
      "id": "UBdKtKmMQ4_r"
    },
    {
      "cell_type": "markdown",
      "id": "de2fa51f-a59e-4507-a575-6f1f42b6f7b2",
      "metadata": {
        "id": "de2fa51f-a59e-4507-a575-6f1f42b6f7b2"
      },
      "source": [
        "## **Indexing for Keyword Search**"
      ]
    },
    {
      "cell_type": "code",
      "execution_count": null,
      "id": "f7cfebeb-8608-43e9-83b8-aef2aa8749e2",
      "metadata": {
        "id": "f7cfebeb-8608-43e9-83b8-aef2aa8749e2"
      },
      "outputs": [],
      "source": [
        "#TODO"
      ]
    },
    {
      "cell_type": "markdown",
      "id": "07b8ec32-d3ed-4479-b523-3086ef067558",
      "metadata": {
        "id": "07b8ec32-d3ed-4479-b523-3086ef067558"
      },
      "source": [
        "# **Sentiment Analysis**"
      ]
    },
    {
      "cell_type": "markdown",
      "source": [
        "## **Training and Evaluation with TF-IDF Vectorization**"
      ],
      "metadata": {
        "id": "8MgKClzvWDZJ"
      },
      "id": "8MgKClzvWDZJ"
    },
    {
      "cell_type": "markdown",
      "metadata": {
        "id": "b1eWrYK1WYQt"
      },
      "source": [
        "### **Vectorization with TF-IDF**"
      ],
      "id": "b1eWrYK1WYQt"
    },
    {
      "cell_type": "code",
      "execution_count": null,
      "metadata": {
        "id": "8mgUwHhPWYQu"
      },
      "outputs": [],
      "source": [
        "X = df['uttr']\n",
        "y = df['eb+_emot']"
      ],
      "id": "8mgUwHhPWYQu"
    },
    {
      "cell_type": "markdown",
      "metadata": {
        "id": "T1EWw3FXWYQv"
      },
      "source": [
        "As before (Clustering section) we will preprocess and vectorize the corpus."
      ],
      "id": "T1EWw3FXWYQv"
    },
    {
      "cell_type": "code",
      "execution_count": null,
      "metadata": {
        "id": "rmadol9oWYQv"
      },
      "outputs": [],
      "source": [
        "tfidf_vec = TfidfVectorizer(strip_accents='unicode',\n",
        "                            stop_words='english',\n",
        "                            preprocessor=preprocess,\n",
        "                            lowercase=True,\n",
        "                            min_df=5,\n",
        "                            max_df=0.8\n",
        "                           )"
      ],
      "id": "rmadol9oWYQv"
    },
    {
      "cell_type": "code",
      "execution_count": null,
      "metadata": {
        "id": "HoG2TQGgWYQv"
      },
      "outputs": [],
      "source": [
        "X = tfidf_vec.fit_transform(X)"
      ],
      "id": "HoG2TQGgWYQv"
    },
    {
      "cell_type": "code",
      "execution_count": null,
      "metadata": {
        "id": "MY4CySlKWYQw"
      },
      "outputs": [],
      "source": [
        "tfidf_vec.get_feature_names_out().size"
      ],
      "id": "MY4CySlKWYQw"
    },
    {
      "cell_type": "code",
      "execution_count": null,
      "id": "0b7d7d44-d02d-477d-8acd-7af99720b1bd",
      "metadata": {
        "id": "0b7d7d44-d02d-477d-8acd-7af99720b1bd"
      },
      "outputs": [],
      "source": [
        "#Training from scratch ML models, different types of NN and inference/fine-tuning with transformers\n",
        "#Try TF-IDF and SpaCy Embeddings vectorization and compare performance and training/inference time"
      ]
    }
  ],
  "metadata": {
    "kernelspec": {
      "display_name": "Python 3 (ipykernel)",
      "language": "python",
      "name": "python3"
    },
    "language_info": {
      "codemirror_mode": {
        "name": "ipython",
        "version": 3
      },
      "file_extension": ".py",
      "mimetype": "text/x-python",
      "name": "python",
      "nbconvert_exporter": "python",
      "pygments_lexer": "ipython3",
      "version": "3.9.16"
    },
    "colab": {
      "provenance": [],
      "include_colab_link": true
    },
    "gpuClass": "standard"
  },
  "nbformat": 4,
  "nbformat_minor": 5
}