{
  "cells": [
    {
      "cell_type": "markdown",
      "metadata": {
        "id": "view-in-github",
        "colab_type": "text"
      },
      "source": [
        "<a href=\"https://colab.research.google.com/github/SimoneCallegarin/NLP_project/blob/main/SA_and_TextGen_on_EDOS.ipynb\" target=\"_parent\"><img src=\"https://colab.research.google.com/assets/colab-badge.svg\" alt=\"Open In Colab\"/></a>"
      ]
    },
    {
      "cell_type": "markdown",
      "id": "f45f1ef2-f6fb-4657-967f-1c6cb58e433f",
      "metadata": {
        "id": "f45f1ef2-f6fb-4657-967f-1c6cb58e433f"
      },
      "source": [
        "# **Environment Setup**"
      ]
    },
    {
      "cell_type": "markdown",
      "id": "6cf90fe4-005f-43ae-9706-4d23bd0b088e",
      "metadata": {
        "id": "6cf90fe4-005f-43ae-9706-4d23bd0b088e"
      },
      "source": [
        "## **Libraries Imports**"
      ]
    },
    {
      "cell_type": "code",
      "execution_count": 1,
      "id": "d19243d1-9a72-4d70-a0ac-72054e3c4bc3",
      "metadata": {
        "id": "d19243d1-9a72-4d70-a0ac-72054e3c4bc3"
      },
      "outputs": [],
      "source": [
        "import pandas as pd\n",
        "from sklearn.feature_extraction.text import TfidfVectorizer\n",
        "import re\n",
        "from sklearn.cluster import KMeans\n",
        "from sklearn import metrics"
      ]
    },
    {
      "cell_type": "markdown",
      "id": "d2a7ed31-b213-4699-a7e6-f238b36c20f5",
      "metadata": {
        "id": "d2a7ed31-b213-4699-a7e6-f238b36c20f5"
      },
      "source": [
        "## **Dataset Download**"
      ]
    },
    {
      "cell_type": "code",
      "execution_count": 2,
      "id": "44a6e0d3-bc28-4ea1-8ffb-aae536515a53",
      "metadata": {
        "id": "44a6e0d3-bc28-4ea1-8ffb-aae536515a53"
      },
      "outputs": [],
      "source": [
        "csv_path = \"https://media.githubusercontent.com/media/SimoneCallegarin/NLP_project/main/EDOS_1M.csv\""
      ]
    },
    {
      "cell_type": "markdown",
      "id": "1507a5b1-0b66-43ff-917d-d1471686fb79",
      "metadata": {
        "id": "1507a5b1-0b66-43ff-917d-d1471686fb79"
      },
      "source": [
        "# **Dataset Import and Cleaning**"
      ]
    },
    {
      "cell_type": "markdown",
      "id": "ab35de5c-fc8f-46bb-bc52-d749d72afb98",
      "metadata": {
        "id": "ab35de5c-fc8f-46bb-bc52-d749d72afb98"
      },
      "source": [
        "We will now import the EDOS dataset and clean it from:\n",
        "    \n",
        "- duplicates\n",
        "- null values"
      ]
    },
    {
      "cell_type": "code",
      "execution_count": 3,
      "id": "f0a21112-c0f5-42c8-88df-86a518380847",
      "metadata": {
        "id": "f0a21112-c0f5-42c8-88df-86a518380847"
      },
      "outputs": [],
      "source": [
        "df = pd.read_csv(csv_path)"
      ]
    },
    {
      "cell_type": "code",
      "execution_count": 4,
      "id": "1abc4089-56a5-4cb6-be49-9dc69a6139c1",
      "metadata": {
        "id": "1abc4089-56a5-4cb6-be49-9dc69a6139c1",
        "outputId": "02a0774c-42e8-4bda-d327-f3ae08749df8",
        "colab": {
          "base_uri": "https://localhost:8080/"
        }
      },
      "outputs": [
        {
          "output_type": "stream",
          "name": "stdout",
          "text": [
            "<class 'pandas.core.frame.DataFrame'>\n",
            "RangeIndex: 2829426 entries, 0 to 2829425\n",
            "Data columns (total 5 columns):\n",
            " #   Column            Dtype  \n",
            "---  ------            -----  \n",
            " 0   dialogue_id       int64  \n",
            " 1   turn              int64  \n",
            " 2   uttr              object \n",
            " 3   eb+_emot          object \n",
            " 4   label_confidence  float64\n",
            "dtypes: float64(1), int64(2), object(2)\n",
            "memory usage: 107.9+ MB\n"
          ]
        }
      ],
      "source": [
        "df.info()"
      ]
    },
    {
      "cell_type": "code",
      "execution_count": 5,
      "id": "402417f7-acab-41fc-adcf-5661d075773b",
      "metadata": {
        "id": "402417f7-acab-41fc-adcf-5661d075773b",
        "outputId": "45703305-6fb6-43a1-ff12-6fb409d6307a",
        "colab": {
          "base_uri": "https://localhost:8080/",
          "height": 206
        }
      },
      "outputs": [
        {
          "output_type": "execute_result",
          "data": {
            "text/plain": [
              "   dialogue_id  turn                                               uttr  \\\n",
              "0           97     1  You moron ! What fool washes diapers by the we...   \n",
              "1           97     2                                 You useless fool !   \n",
              "2           99     1                               How dare you sleep !   \n",
              "3           99     2                      Up ! Go and clean the house .   \n",
              "4          100     1                                Clean the kitchen .   \n",
              "\n",
              "   eb+_emot  label_confidence  \n",
              "0     angry          0.437522  \n",
              "1   furious          0.731564  \n",
              "2   furious          0.605636  \n",
              "3  prepared          0.650449  \n",
              "4  prepared          0.742187  "
            ],
            "text/html": [
              "\n",
              "  <div id=\"df-75aded1e-e2d9-43dc-a963-d1a2f1c0900c\">\n",
              "    <div class=\"colab-df-container\">\n",
              "      <div>\n",
              "<style scoped>\n",
              "    .dataframe tbody tr th:only-of-type {\n",
              "        vertical-align: middle;\n",
              "    }\n",
              "\n",
              "    .dataframe tbody tr th {\n",
              "        vertical-align: top;\n",
              "    }\n",
              "\n",
              "    .dataframe thead th {\n",
              "        text-align: right;\n",
              "    }\n",
              "</style>\n",
              "<table border=\"1\" class=\"dataframe\">\n",
              "  <thead>\n",
              "    <tr style=\"text-align: right;\">\n",
              "      <th></th>\n",
              "      <th>dialogue_id</th>\n",
              "      <th>turn</th>\n",
              "      <th>uttr</th>\n",
              "      <th>eb+_emot</th>\n",
              "      <th>label_confidence</th>\n",
              "    </tr>\n",
              "  </thead>\n",
              "  <tbody>\n",
              "    <tr>\n",
              "      <th>0</th>\n",
              "      <td>97</td>\n",
              "      <td>1</td>\n",
              "      <td>You moron ! What fool washes diapers by the we...</td>\n",
              "      <td>angry</td>\n",
              "      <td>0.437522</td>\n",
              "    </tr>\n",
              "    <tr>\n",
              "      <th>1</th>\n",
              "      <td>97</td>\n",
              "      <td>2</td>\n",
              "      <td>You useless fool !</td>\n",
              "      <td>furious</td>\n",
              "      <td>0.731564</td>\n",
              "    </tr>\n",
              "    <tr>\n",
              "      <th>2</th>\n",
              "      <td>99</td>\n",
              "      <td>1</td>\n",
              "      <td>How dare you sleep !</td>\n",
              "      <td>furious</td>\n",
              "      <td>0.605636</td>\n",
              "    </tr>\n",
              "    <tr>\n",
              "      <th>3</th>\n",
              "      <td>99</td>\n",
              "      <td>2</td>\n",
              "      <td>Up ! Go and clean the house .</td>\n",
              "      <td>prepared</td>\n",
              "      <td>0.650449</td>\n",
              "    </tr>\n",
              "    <tr>\n",
              "      <th>4</th>\n",
              "      <td>100</td>\n",
              "      <td>1</td>\n",
              "      <td>Clean the kitchen .</td>\n",
              "      <td>prepared</td>\n",
              "      <td>0.742187</td>\n",
              "    </tr>\n",
              "  </tbody>\n",
              "</table>\n",
              "</div>\n",
              "      <button class=\"colab-df-convert\" onclick=\"convertToInteractive('df-75aded1e-e2d9-43dc-a963-d1a2f1c0900c')\"\n",
              "              title=\"Convert this dataframe to an interactive table.\"\n",
              "              style=\"display:none;\">\n",
              "        \n",
              "  <svg xmlns=\"http://www.w3.org/2000/svg\" height=\"24px\"viewBox=\"0 0 24 24\"\n",
              "       width=\"24px\">\n",
              "    <path d=\"M0 0h24v24H0V0z\" fill=\"none\"/>\n",
              "    <path d=\"M18.56 5.44l.94 2.06.94-2.06 2.06-.94-2.06-.94-.94-2.06-.94 2.06-2.06.94zm-11 1L8.5 8.5l.94-2.06 2.06-.94-2.06-.94L8.5 2.5l-.94 2.06-2.06.94zm10 10l.94 2.06.94-2.06 2.06-.94-2.06-.94-.94-2.06-.94 2.06-2.06.94z\"/><path d=\"M17.41 7.96l-1.37-1.37c-.4-.4-.92-.59-1.43-.59-.52 0-1.04.2-1.43.59L10.3 9.45l-7.72 7.72c-.78.78-.78 2.05 0 2.83L4 21.41c.39.39.9.59 1.41.59.51 0 1.02-.2 1.41-.59l7.78-7.78 2.81-2.81c.8-.78.8-2.07 0-2.86zM5.41 20L4 18.59l7.72-7.72 1.47 1.35L5.41 20z\"/>\n",
              "  </svg>\n",
              "      </button>\n",
              "      \n",
              "  <style>\n",
              "    .colab-df-container {\n",
              "      display:flex;\n",
              "      flex-wrap:wrap;\n",
              "      gap: 12px;\n",
              "    }\n",
              "\n",
              "    .colab-df-convert {\n",
              "      background-color: #E8F0FE;\n",
              "      border: none;\n",
              "      border-radius: 50%;\n",
              "      cursor: pointer;\n",
              "      display: none;\n",
              "      fill: #1967D2;\n",
              "      height: 32px;\n",
              "      padding: 0 0 0 0;\n",
              "      width: 32px;\n",
              "    }\n",
              "\n",
              "    .colab-df-convert:hover {\n",
              "      background-color: #E2EBFA;\n",
              "      box-shadow: 0px 1px 2px rgba(60, 64, 67, 0.3), 0px 1px 3px 1px rgba(60, 64, 67, 0.15);\n",
              "      fill: #174EA6;\n",
              "    }\n",
              "\n",
              "    [theme=dark] .colab-df-convert {\n",
              "      background-color: #3B4455;\n",
              "      fill: #D2E3FC;\n",
              "    }\n",
              "\n",
              "    [theme=dark] .colab-df-convert:hover {\n",
              "      background-color: #434B5C;\n",
              "      box-shadow: 0px 1px 3px 1px rgba(0, 0, 0, 0.15);\n",
              "      filter: drop-shadow(0px 1px 2px rgba(0, 0, 0, 0.3));\n",
              "      fill: #FFFFFF;\n",
              "    }\n",
              "  </style>\n",
              "\n",
              "      <script>\n",
              "        const buttonEl =\n",
              "          document.querySelector('#df-75aded1e-e2d9-43dc-a963-d1a2f1c0900c button.colab-df-convert');\n",
              "        buttonEl.style.display =\n",
              "          google.colab.kernel.accessAllowed ? 'block' : 'none';\n",
              "\n",
              "        async function convertToInteractive(key) {\n",
              "          const element = document.querySelector('#df-75aded1e-e2d9-43dc-a963-d1a2f1c0900c');\n",
              "          const dataTable =\n",
              "            await google.colab.kernel.invokeFunction('convertToInteractive',\n",
              "                                                     [key], {});\n",
              "          if (!dataTable) return;\n",
              "\n",
              "          const docLinkHtml = 'Like what you see? Visit the ' +\n",
              "            '<a target=\"_blank\" href=https://colab.research.google.com/notebooks/data_table.ipynb>data table notebook</a>'\n",
              "            + ' to learn more about interactive tables.';\n",
              "          element.innerHTML = '';\n",
              "          dataTable['output_type'] = 'display_data';\n",
              "          await google.colab.output.renderOutput(dataTable, element);\n",
              "          const docLink = document.createElement('div');\n",
              "          docLink.innerHTML = docLinkHtml;\n",
              "          element.appendChild(docLink);\n",
              "        }\n",
              "      </script>\n",
              "    </div>\n",
              "  </div>\n",
              "  "
            ]
          },
          "metadata": {},
          "execution_count": 5
        }
      ],
      "source": [
        "df.head()"
      ]
    },
    {
      "cell_type": "code",
      "execution_count": null,
      "id": "727417ea-754c-450c-8a7a-6590bbd7085d",
      "metadata": {
        "id": "727417ea-754c-450c-8a7a-6590bbd7085d",
        "outputId": "825146a4-d1f0-49f2-bfe8-caaa2f32c0df"
      },
      "outputs": [
        {
          "data": {
            "text/plain": [
              "0"
            ]
          },
          "execution_count": 17,
          "metadata": {},
          "output_type": "execute_result"
        }
      ],
      "source": [
        "df.duplicated().sum()"
      ]
    },
    {
      "cell_type": "code",
      "execution_count": null,
      "id": "b9ab2bb0-4174-4776-af17-faed9e3f89ab",
      "metadata": {
        "id": "b9ab2bb0-4174-4776-af17-faed9e3f89ab"
      },
      "outputs": [],
      "source": [
        "def isEnglish(s):\n",
        "    try:\n",
        "        s.encode(encoding='utf-8').decode('ascii')\n",
        "    except UnicodeDecodeError:\n",
        "        return None\n",
        "    else:\n",
        "        return s"
      ]
    },
    {
      "cell_type": "code",
      "execution_count": null,
      "id": "f5a21ae0-ca0c-4433-838d-04eb231d8daf",
      "metadata": {
        "id": "f5a21ae0-ca0c-4433-838d-04eb231d8daf"
      },
      "outputs": [],
      "source": [
        "df['uttr'].apply(lambda s: isEnglish(s)).size  #same size as before, no rows were removed "
      ]
    },
    {
      "cell_type": "markdown",
      "id": "ad3a64c8-d226-4f39-a96e-f67d8af7d94b",
      "metadata": {
        "id": "ad3a64c8-d226-4f39-a96e-f67d8af7d94b"
      },
      "source": [
        "As we can see the dataset was already cleaned since we have no duplicated, null rows or not-ASCII characters (which usually means we are dealing with a multilingual dataset), so we can proceed to the next steps without worries."
      ]
    },
    {
      "cell_type": "markdown",
      "id": "d95277ac-a8e0-432d-b59c-e3a01d196c8c",
      "metadata": {
        "id": "d95277ac-a8e0-432d-b59c-e3a01d196c8c"
      },
      "source": [
        "# **Preliminary Analysis**"
      ]
    },
    {
      "cell_type": "markdown",
      "id": "3aa84b09-07a8-4993-a192-1b27761d7488",
      "metadata": {
        "id": "3aa84b09-07a8-4993-a192-1b27761d7488"
      },
      "source": [
        "## **EDA - Exploratory Data Analysis**"
      ]
    },
    {
      "cell_type": "markdown",
      "id": "a5bb5d8d-019a-4420-8fac-eeb101338726",
      "metadata": {
        "id": "a5bb5d8d-019a-4420-8fac-eeb101338726"
      },
      "source": [
        "Before diving into the training and evaluation of many different NLP models, we will perform the EDA (Exploratory Data Analysis) to have basic but fundamental insights about the data.\n",
        "\n",
        "In particular we will get:\n",
        "\n",
        "- basic informations about the dataset\n",
        "- some descriptive statistics"
      ]
    },
    {
      "cell_type": "markdown",
      "id": "06a09ed1-8131-485a-b503-198176ecdb90",
      "metadata": {
        "tags": [],
        "id": "06a09ed1-8131-485a-b503-198176ecdb90"
      },
      "source": [
        "### **Basic Understanding of the Dataset**"
      ]
    },
    {
      "cell_type": "markdown",
      "id": "aeb08598-57f6-4b91-b30e-914483725610",
      "metadata": {
        "id": "aeb08598-57f6-4b91-b30e-914483725610"
      },
      "source": [
        "As stated on the dataset website, EDOS contains short phrases (from 3 to 5 utterances), each labeled with an emotion. Let's get a better look at them"
      ]
    },
    {
      "cell_type": "code",
      "execution_count": null,
      "id": "b5afc920-4ef2-4807-bed0-9e43fa9e519d",
      "metadata": {
        "id": "b5afc920-4ef2-4807-bed0-9e43fa9e519d",
        "outputId": "62b72aa0-bae8-4e06-8345-d4cced7d72d6"
      },
      "outputs": [
        {
          "name": "stdout",
          "output_type": "stream",
          "text": [
            "['You moron ! What fool washes diapers by the well !', 'You useless fool !', 'How dare you sleep !', 'Up ! Go and clean the house .', 'Clean the kitchen .']\n"
          ]
        }
      ],
      "source": [
        "print([x for x in df['uttr'][0:5]])"
      ]
    },
    {
      "cell_type": "markdown",
      "id": "292e6c40-1c75-495d-a3d1-66784bc5ff19",
      "metadata": {
        "id": "292e6c40-1c75-495d-a3d1-66784bc5ff19"
      },
      "source": [
        "Let's now check all the possible values of the emotion type, which will be our target in case of sentiment analysis"
      ]
    },
    {
      "cell_type": "code",
      "execution_count": null,
      "id": "246784a3-ee6c-4583-9e78-a2e3c94bddf6",
      "metadata": {
        "id": "246784a3-ee6c-4583-9e78-a2e3c94bddf6",
        "outputId": "9c3797b9-cef8-4c20-e044-9cac1042cefe"
      },
      "outputs": [
        {
          "data": {
            "text/plain": [
              "array(['angry', 'furious', 'prepared', 'acknowledging', 'trusting',\n",
              "       'confident', 'hopeful', 'caring', 'sentimental', 'anticipating',\n",
              "       'wishing', 'surprised', 'ashamed', 'questioning', 'sad',\n",
              "       'nostalgic', 'devastated', 'terrified', 'embarrassed', 'lonely',\n",
              "       'encouraging', 'suggesting', 'content', 'afraid', 'impressed',\n",
              "       'agreeing', 'apprehensive', 'proud', 'annoyed', 'anxious',\n",
              "       'grateful', 'excited', 'neutral', 'faithful', 'guilty',\n",
              "       'consoling', 'disgusted', 'disappointed', 'jealous', 'joyful',\n",
              "       'sympathizing'], dtype=object)"
            ]
          },
          "execution_count": 12,
          "metadata": {},
          "output_type": "execute_result"
        }
      ],
      "source": [
        "df['eb+_emot'].unique()"
      ]
    },
    {
      "cell_type": "markdown",
      "id": "0c57b8df-a91a-4a17-9910-cea2784c187d",
      "metadata": {
        "id": "0c57b8df-a91a-4a17-9910-cea2784c187d"
      },
      "source": [
        "With all these possible emotions to predict, it's very probable that we will have to deal with unbalanced classes"
      ]
    },
    {
      "cell_type": "code",
      "execution_count": null,
      "id": "38f28dc9-2546-4321-8364-90ea10231d9f",
      "metadata": {
        "id": "38f28dc9-2546-4321-8364-90ea10231d9f",
        "outputId": "4e8c5e88-e50f-45f6-80d9-1b1a64943ea9"
      },
      "outputs": [
        {
          "data": {
            "text/plain": [
              "<AxesSubplot: >"
            ]
          },
          "execution_count": 60,
          "metadata": {},
          "output_type": "execute_result"
        },
        {
          "data": {
            "image/png": "[encoded data removed]",
            "text/plain": [
              "<Figure size 640x480 with 1 Axes>"
            ]
          },
          "metadata": {},
          "output_type": "display_data"
        }
      ],
      "source": [
        "df['eb+_emot'].value_counts().hist()"
      ]
    },
    {
      "cell_type": "code",
      "execution_count": null,
      "id": "b247feea-4c20-4750-9a72-d3fb98386955",
      "metadata": {
        "id": "b247feea-4c20-4750-9a72-d3fb98386955",
        "outputId": "a8c2a078-8985-47d6-ba39-2e716719c4dd"
      },
      "outputs": [
        {
          "data": {
            "text/plain": [
              "questioning      841556\n",
              "furious          169917\n",
              "acknowledging    138165\n",
              "trusting         134197\n",
              "wishing          108668\n",
              "Name: eb+_emot, dtype: int64"
            ]
          },
          "execution_count": 68,
          "metadata": {},
          "output_type": "execute_result"
        }
      ],
      "source": [
        "df['eb+_emot'].value_counts()[:5]"
      ]
    },
    {
      "cell_type": "markdown",
      "id": "54943111-332c-422e-8a0a-383aa3d18188",
      "metadata": {
        "id": "54943111-332c-422e-8a0a-383aa3d18188"
      },
      "source": [
        "As we can see, we have quite an unbalancing here with the 'questioning' texts being over 800k while all the others stay under 200k.\n",
        "\n",
        "We will have to deal with it in the next phases when we will have to train models on this dataset"
      ]
    },
    {
      "cell_type": "markdown",
      "id": "bafd7ffb-ec30-4dd9-93b3-f139fd3e5611",
      "metadata": {
        "id": "bafd7ffb-ec30-4dd9-93b3-f139fd3e5611"
      },
      "source": [
        "### **Descriptive Statistics**"
      ]
    },
    {
      "cell_type": "markdown",
      "id": "4e3222ef-6147-4cc4-9716-e93dac304e1f",
      "metadata": {
        "id": "4e3222ef-6147-4cc4-9716-e93dac304e1f"
      },
      "source": [
        "We will use some text visualization techniques for better and instant insights about:\n",
        "\n",
        "- text lengths distribution\n",
        "- word number distribution"
      ]
    },
    {
      "cell_type": "code",
      "execution_count": null,
      "id": "c2212e5c-207b-48b5-b9f3-b81cafe6e202",
      "metadata": {
        "id": "c2212e5c-207b-48b5-b9f3-b81cafe6e202",
        "outputId": "b5dbfbad-65d6-41bd-cc2d-bc31725c2764"
      },
      "outputs": [
        {
          "data": {
            "text/plain": [
              "<AxesSubplot: >"
            ]
          },
          "execution_count": 27,
          "metadata": {},
          "output_type": "execute_result"
        },
        {
          "data": {
            "image/png": "[encoded data removed]",
            "text/plain": [
              "<Figure size 640x480 with 1 Axes>"
            ]
          },
          "metadata": {},
          "output_type": "display_data"
        }
      ],
      "source": [
        "df['uttr'].str.len().hist()"
      ]
    },
    {
      "cell_type": "code",
      "execution_count": null,
      "id": "6fa536bc-8a90-4c98-b7a3-dac08a62e3ab",
      "metadata": {
        "id": "6fa536bc-8a90-4c98-b7a3-dac08a62e3ab"
      },
      "outputs": [],
      "source": [
        "def plot_words_number(texts):\n",
        "    texts.str.split().map(lambda x: len(x)).hist()"
      ]
    },
    {
      "cell_type": "code",
      "execution_count": null,
      "id": "e27840a7-4421-49ee-924b-d0297e938089",
      "metadata": {
        "id": "e27840a7-4421-49ee-924b-d0297e938089",
        "outputId": "ce9bf99d-bf15-4570-e827-84d16d96dc1c"
      },
      "outputs": [
        {
          "data": {
            "image/png": "[encoded data removed]",
            "text/plain": [
              "<Figure size 640x480 with 1 Axes>"
            ]
          },
          "metadata": {},
          "output_type": "display_data"
        }
      ],
      "source": [
        "plot_words_number(df['uttr'])"
      ]
    },
    {
      "cell_type": "markdown",
      "id": "c3e8daf9-6b46-4d70-a54d-98b6500ea4dd",
      "metadata": {
        "id": "c3e8daf9-6b46-4d70-a54d-98b6500ea4dd"
      },
      "source": [
        "It's clear that most texts' vocabulary size stays under 20 words, with the most being between 2 and 10.\n",
        "\n",
        "But we can also see we have pretty long texts too so let's have a look at one of them"
      ]
    },
    {
      "cell_type": "code",
      "execution_count": null,
      "id": "f487e90b-6e05-417c-9631-7ecc6633a75b",
      "metadata": {
        "id": "f487e90b-6e05-417c-9631-7ecc6633a75b",
        "outputId": "6f88bd07-3265-4631-be19-6c8995e45af9"
      },
      "outputs": [
        {
          "data": {
            "text/plain": [
              "\"Glenn , why don 't you tell us about the top looks ? Kris , we love the ram look of your makeup , and some of the smaller sculptural details were very impressive . It was a very comprehensive makeup . Wayne , your use of proportion was excellent this week . We were also blown away by how much killer sculpting you pulled off . Who is the winner of this challenge ?\""
            ]
          },
          "execution_count": 59,
          "metadata": {},
          "output_type": "execute_result"
        }
      ],
      "source": [
        "df[(df['uttr'].str.len() > 300)]['uttr'].iloc[0]"
      ]
    },
    {
      "cell_type": "markdown",
      "id": "7a20cf27-9d94-425d-8571-e63df42dfedf",
      "metadata": {
        "tags": [],
        "id": "7a20cf27-9d94-425d-8571-e63df42dfedf"
      },
      "source": [
        "## **Clustering**"
      ]
    },
    {
      "cell_type": "markdown",
      "id": "1a56fcaf-d832-4aff-b19e-42f6a51671c2",
      "metadata": {
        "id": "1a56fcaf-d832-4aff-b19e-42f6a51671c2"
      },
      "source": [
        "In this section we will apply some clustering techniques to check what groups can be found and if those corresponds, even partially, to our known classes."
      ]
    },
    {
      "cell_type": "markdown",
      "id": "529bc61b-89d3-4081-909f-e09b46e03bd0",
      "metadata": {
        "id": "529bc61b-89d3-4081-909f-e09b46e03bd0"
      },
      "source": [
        "### **Vectorization with TF-IDF**"
      ]
    },
    {
      "cell_type": "markdown",
      "id": "88fdbbb0-2e44-49bb-88e3-4342020ce5fe",
      "metadata": {
        "id": "88fdbbb0-2e44-49bb-88e3-4342020ce5fe"
      },
      "source": [
        "Before diving into clustering, we will have to preprocess our dataset. In particular we will have to vectorize our texts and to do that we will use TF-IDF."
      ]
    },
    {
      "cell_type": "code",
      "execution_count": null,
      "id": "6aaf8394-b11d-4e49-b10d-c63098c85750",
      "metadata": {
        "id": "6aaf8394-b11d-4e49-b10d-c63098c85750"
      },
      "outputs": [],
      "source": [
        "X = df['uttr']\n",
        "y = df['eb+_emot']"
      ]
    },
    {
      "cell_type": "markdown",
      "id": "a8f73d4c-d8e1-4a4f-93b9-f0c19897006e",
      "metadata": {
        "id": "a8f73d4c-d8e1-4a4f-93b9-f0c19897006e"
      },
      "source": [
        "We will remove numbers since they don't represent any meaningful information in our semantical context and they only enlarge TF-IDF vectors slowing down training and preprocessing steps.\n",
        "\n",
        "We will remove numbers and stopwords from the corpus, plus words appearing in less than 5 documents or in more than the 80% of the collection (to remove corpus-specific stopwords)."
      ]
    },
    {
      "cell_type": "code",
      "execution_count": null,
      "id": "e4eacbca-3fde-490a-b322-156f80156575",
      "metadata": {
        "id": "e4eacbca-3fde-490a-b322-156f80156575"
      },
      "outputs": [],
      "source": [
        "def preprocess(t):\n",
        "    return re.sub('[0-9]','',t).lower()"
      ]
    },
    {
      "cell_type": "code",
      "execution_count": null,
      "id": "2f2bc0f3-6802-4f9d-b14f-818852923598",
      "metadata": {
        "id": "2f2bc0f3-6802-4f9d-b14f-818852923598"
      },
      "outputs": [],
      "source": [
        "tfidf_vec = TfidfVectorizer(strip_accents='unicode',\n",
        "                            stop_words='english',\n",
        "                            preprocessor=preprocess,\n",
        "                            lowercase=True,\n",
        "                            min_df=5,\n",
        "                            max_df=0.8\n",
        "                           )"
      ]
    },
    {
      "cell_type": "code",
      "execution_count": null,
      "id": "84e6c6fc-f1da-4a18-87a7-9ee35246bddf",
      "metadata": {
        "id": "84e6c6fc-f1da-4a18-87a7-9ee35246bddf"
      },
      "outputs": [],
      "source": [
        "X = tfidf_vec.fit_transform(X)"
      ]
    },
    {
      "cell_type": "code",
      "execution_count": null,
      "id": "c84b52c8-b793-45b6-8066-1010d9bfca0f",
      "metadata": {
        "id": "c84b52c8-b793-45b6-8066-1010d9bfca0f",
        "outputId": "6192f62c-c3f3-489d-b723-e9630c5ec4b0"
      },
      "outputs": [
        {
          "data": {
            "text/plain": [
              "58130"
            ]
          },
          "execution_count": 184,
          "metadata": {},
          "output_type": "execute_result"
        }
      ],
      "source": [
        "tfidf_vec.get_feature_names_out().size"
      ]
    },
    {
      "cell_type": "markdown",
      "id": "06a1b702-c6cb-424e-a262-a340eca5bee7",
      "metadata": {
        "id": "06a1b702-c6cb-424e-a262-a340eca5bee7"
      },
      "source": [
        "### **Clustering with K-Means**"
      ]
    },
    {
      "cell_type": "code",
      "execution_count": null,
      "id": "46e8ac59-9de7-46c2-bd63-efd666bbfe6b",
      "metadata": {
        "id": "46e8ac59-9de7-46c2-bd63-efd666bbfe6b"
      },
      "outputs": [],
      "source": [
        "k = len(set(y))"
      ]
    },
    {
      "cell_type": "code",
      "execution_count": null,
      "id": "13e73866-662d-4144-ad3e-f7053f19077b",
      "metadata": {
        "tags": [],
        "id": "13e73866-662d-4144-ad3e-f7053f19077b"
      },
      "outputs": [],
      "source": [
        "kmeans = KMeans(n_clusters=k,\n",
        "                max_iter=100,\n",
        "                n_init=2,\n",
        "                verbose=False,\n",
        "                random_state=2307)\n",
        "kmeans.fit(X)"
      ]
    },
    {
      "cell_type": "code",
      "execution_count": null,
      "id": "01ea9adf-fb05-4ef9-9be4-16b476d520f9",
      "metadata": {
        "id": "01ea9adf-fb05-4ef9-9be4-16b476d520f9",
        "outputId": "e833e2a6-e829-4b2a-b493-59e34c9b7942"
      },
      "outputs": [
        {
          "name": "stdout",
          "output_type": "stream",
          "text": [
            "Top terms per cluster:\n",
            "Cluster 0:\t['come', 'time', 've', 'okay', 'sorry', 'tell', 'really', 'say', 'man', 'stop']\n",
            "Cluster 1:\t['want', 'don', 'know', 'talk', 'come', 'tell', 'sure', 'did', 'really', 'just']\n",
            "Cluster 2:\t['like', 'looks', 'don', 'know', 'feel', 'just', 'really', 've', 'come', 'sounds']\n",
            "Cluster 3:\t['know', 'don', 'does', 'really', 'mean', 'tell', 'just', 've', 'maybe', 'say']\n",
            "Cluster 4:\t['did', 'say', 'come', 'tell', 'know', 'hear', 'happen', 'kill', 'just', 'leave']\n",
            "Cluster 5:\t['need', 'help', 'don', 'know', 'll', 'talk', 'just', 'right', 'think', 'come']\n",
            "Cluster 6:\t['yeah', 'right', 'okay', 'good', 'sure', 'know', 'like', 'did', 'oh', 'll']\n",
            "Cluster 7:\t['sir', 'yes', 'thank', 'good', 'sorry', 'right', 'excuse', 'don', 'come', 'll']\n",
            "Cluster 8:\t['just', 'don', 'know', 'like', 'll', 'little', 'sorry', 'want', 'right', 'okay']\n",
            "Cluster 9:\t['right', 'll', 'okay', 'come', 'know', 'away', 'hey', 'gonna', 'don', 'just']\n",
            "Cluster 10:\t['life', 've', 'know', 'saved', 'don', 'just', 'like', 'want', 'love', 'll']\n",
            "Cluster 11:\t['doctor', 'yes', 'thank', 'don', 'll', 'right', 'did', 'said', 'good', 'know']\n",
            "Cluster 12:\t['got', 've', 'right', 'know', 'just', 'don', 'come', 'time', 'hey', 'money']\n",
            "Cluster 13:\t['ll', 'come', 'don', 'tell', 'later', 'soon', 'okay', 'make', 'tomorrow', 'fine']\n",
            "Cluster 14:\t['sure', 'gonna', 'make', 'okay', 'come', 'tell', 'know', 'don', 'right', 'kill']\n",
            "Cluster 15:\t['going', 'hey', 'home', 'tell', 'hell', 'aren', 'right', 'know', 'come', 'okay']\n",
            "Cluster 16:\t['look', 'like', 'don', 'good', 'does', 'just', 'hey', 'let', 'know', 'come']\n",
            "Cluster 17:\t['doing', 'hey', 'hell', 'think', 'know', 'fuck', 'right', 'don', 'come', 'man']\n",
            "Cluster 18:\t['remember', 'don', 'time', 'll', 'know', 'yes', 'did', 'yeah', 'just', 'said']\n",
            "Cluster 19:\t['ask', 'question', 'don', 'questions', 'did', 'want', 'know', 'll', 'let', 'didn']\n",
            "Cluster 20:\t['happy', 'birthday', 'make', 'year', 'new', 'really', 'just', 'don', 'll', 'look']\n",
            "Cluster 21:\t['don', 'hey', 'worry', 'come', 'understand', 'know', 'tell', 'say', 'believe', 'care']\n",
            "Cluster 22:\t['guys', 'hey', 'come', 'okay', 'right', 'doing', 'know', 'don', 'did', 'good']\n",
            "Cluster 23:\t['waiting', 've', 'come', 'll', 'long', 'sorry', 'just', 'time', 'don', 'yes']\n",
            "Cluster 24:\t['wait', 'minute', 'll', 'just', 'don', 'come', 'let', 'going', 'right', 'hey']\n",
            "Cluster 25:\t['morning', 'good', 'mr', 'tomorrow', 'sir', 'early', 'll', 'hello', 'hi', 'hey']\n",
            "Cluster 26:\t['oh', 'god', 'just', 'sorry', 'yeah', 'come', 'right', 'don', 'know', 'really']\n",
            "Cluster 27:\t['wanna', 'don', 'know', 'talk', 'come', 'just', 'hey', 'tell', 'sure', 'play']\n",
            "Cluster 28:\t['nice', 'meet', 'really', 'yeah', 'day', 'thank', 'look', 'place', 'oh', 'like']\n",
            "Cluster 29:\t['dad', 'mom', 'did', 'know', 'don', 'come', 'going', 'right', 'tell', 'want']\n",
            "Cluster 30:\t['ready', 'right', 'okay', 'll', 'yes', 'yeah', 'let', 'come', 'sir', 'dinner']\n",
            "Cluster 31:\t['think', 'don', 'know', 'll', 'really', 'did', 'gonna', 'right', 'good', 'like']\n",
            "Cluster 32:\t['let', 'come', 'right', 'don', 'okay', 'll', 'just', 'know', 'won', 'talk']\n",
            "Cluster 33:\t['looking', 'good', 've', 'like', 'just', 'forward', 'know', 'don', 'hey', 'come']\n",
            "Cluster 34:\t['better', 'feel', 'think', 'feeling', 'll', 'know', 'don', 'come', 'right', 'make']\n",
            "Cluster 35:\t['yes', 'right', 'did', 'course', 'know', 'come', 'll', 'want', 'like', 'good']\n",
            "Cluster 36:\t['good', 'night', 'evening', 'luck', 'bye', 'day', 'really', 'afternoon', 'time', 'job']\n",
            "Cluster 37:\t['way', 'come', 'll', 'right', 'know', 'don', 'going', 'just', 'let', 'think']\n",
            "Cluster 38:\t['thank', 'god', 'good', 'oh', 'yes', 'coming', 'right', 'okay', 'welcome', 'mr']\n",
            "Cluster 39:\t['hello', 'hi', 'mr', 'yes', 'say', 'hey', 'come', 'oh', 'anybody', 'good']\n",
            "Cluster 40:\t['didn', 'know', 'tell', 'say', 'did', 'come', 'think', 'want', 'sorry', 'mean']\n"
          ]
        }
      ],
      "source": [
        "print(\"Top terms per cluster:\")\n",
        "vocab = tfidf_vec.get_feature_names_out()\n",
        "\n",
        "for i in range(kmeans.n_clusters):\n",
        "    centroid = kmeans.cluster_centers_[i]    \n",
        "    sorted_terms = centroid.argsort()[::-1]\n",
        "    print(f\"Cluster {i}:\\t{[vocab[j] for j in sorted_terms[:10]]}\")"
      ]
    },
    {
      "cell_type": "markdown",
      "id": "89e59809-ee8d-4bc5-965d-554417e34257",
      "metadata": {
        "id": "89e59809-ee8d-4bc5-965d-554417e34257"
      },
      "source": [
        "Results don't look very promising. We can see that many words repeat in different clusters like 'come' or 'okay' and this suggests that KMeans algorithm didn't succeed in splitting datapoints into clear, distinct clusters.\n",
        "But to have a better idea of how KMeans performed in our task, let's compute extrisinc evaluation metrics."
      ]
    },
    {
      "cell_type": "code",
      "execution_count": null,
      "id": "bcd95195-b719-4b24-9fe5-375be1392e0f",
      "metadata": {
        "id": "bcd95195-b719-4b24-9fe5-375be1392e0f",
        "outputId": "2acfd67d-f7e8-4d4d-f576-fe15bdd693e3"
      },
      "outputs": [
        {
          "name": "stdout",
          "output_type": "stream",
          "text": [
            "Extrinsic evaluation measures:\n",
            "Homogeneity: 0.07606013168824871\n",
            "Completeness: 0.10419010845321364\n",
            "V-measure: 0.08793012828548737\n",
            "Adjusted Rand-Index: 0.009427952268841576\n"
          ]
        }
      ],
      "source": [
        "print('Extrinsic evaluation measures:')\n",
        "print(\"Homogeneity:\", str(metrics.homogeneity_score(y, kmeans.labels_)))\n",
        "print(\"Completeness:\", str(metrics.completeness_score(y, kmeans.labels_)))\n",
        "print(\"V-measure:\", str(metrics.v_measure_score(y, kmeans.labels_)))\n",
        "print(\"Adjusted Rand-Index:\", str(metrics.adjusted_rand_score(y, kmeans.labels_)))"
      ]
    },
    {
      "cell_type": "markdown",
      "id": "ae98a581-a329-42ac-8a9d-016953f0e58d",
      "metadata": {
        "id": "ae98a581-a329-42ac-8a9d-016953f0e58d"
      },
      "source": [
        "As expected ,results are not very accurate. This could be caused by many different characteristics of our dataset like for example non-spherical clusters or unequal cluster size or density. We probably need a more complex clustering algorithm"
      ]
    },
    {
      "cell_type": "markdown",
      "id": "c6d6a16c-03fa-4b7c-a498-6af6c0e220dc",
      "metadata": {
        "id": "c6d6a16c-03fa-4b7c-a498-6af6c0e220dc"
      },
      "source": [
        "### **Clustering with LDA**"
      ]
    },
    {
      "cell_type": "markdown",
      "id": "dd00354f-1735-4a51-9a88-e4ca6d83c938",
      "metadata": {
        "id": "dd00354f-1735-4a51-9a88-e4ca6d83c938"
      },
      "source": [
        "KMeans algorithm tries to associate each data point to a single cluster and in our case this may have been one of the reasons of its bad performance. Let's try to generate again the clusters by using Latent Dirichlet Allocation, which will associate each datapoints to a variety of topics (clusters) which could be useful in more complex datasets like ours."
      ]
    },
    {
      "cell_type": "code",
      "execution_count": null,
      "id": "53bf52e5-d9e3-4a84-8acc-715a3653ef90",
      "metadata": {
        "id": "53bf52e5-d9e3-4a84-8acc-715a3653ef90"
      },
      "outputs": [],
      "source": [
        "#TODO"
      ]
    },
    {
      "cell_type": "markdown",
      "id": "a8ee87fc-4aaf-44bc-bdfe-4b1e7dc03716",
      "metadata": {
        "id": "a8ee87fc-4aaf-44bc-bdfe-4b1e7dc03716"
      },
      "source": [
        "## **Embeddings**"
      ]
    },
    {
      "cell_type": "code",
      "execution_count": null,
      "id": "9f66c5d2-7790-4e18-9879-ae488b867122",
      "metadata": {
        "id": "9f66c5d2-7790-4e18-9879-ae488b867122"
      },
      "outputs": [],
      "source": [
        "#TODO"
      ]
    },
    {
      "cell_type": "markdown",
      "id": "de2fa51f-a59e-4507-a575-6f1f42b6f7b2",
      "metadata": {
        "id": "de2fa51f-a59e-4507-a575-6f1f42b6f7b2"
      },
      "source": [
        "## **Indexing for Keyword Search**"
      ]
    },
    {
      "cell_type": "code",
      "execution_count": null,
      "id": "f7cfebeb-8608-43e9-83b8-aef2aa8749e2",
      "metadata": {
        "id": "f7cfebeb-8608-43e9-83b8-aef2aa8749e2"
      },
      "outputs": [],
      "source": [
        "#TODO"
      ]
    },
    {
      "cell_type": "markdown",
      "id": "07b8ec32-d3ed-4479-b523-3086ef067558",
      "metadata": {
        "id": "07b8ec32-d3ed-4479-b523-3086ef067558"
      },
      "source": [
        "# **Sentiment Analysis**"
      ]
    },
    {
      "cell_type": "markdown",
      "source": [
        "## **Training and Evaluation with TF-IDF Vectorization**"
      ],
      "metadata": {
        "id": "8MgKClzvWDZJ"
      },
      "id": "8MgKClzvWDZJ"
    },
    {
      "cell_type": "markdown",
      "metadata": {
        "id": "b1eWrYK1WYQt"
      },
      "source": [
        "### **Vectorization with TF-IDF**"
      ],
      "id": "b1eWrYK1WYQt"
    },
    {
      "cell_type": "code",
      "execution_count": null,
      "metadata": {
        "id": "8mgUwHhPWYQu"
      },
      "outputs": [],
      "source": [
        "X = df['uttr']\n",
        "y = df['eb+_emot']"
      ],
      "id": "8mgUwHhPWYQu"
    },
    {
      "cell_type": "markdown",
      "metadata": {
        "id": "T1EWw3FXWYQv"
      },
      "source": [
        "As before (Clustering section) we will preprocess and vectorize the corpus."
      ],
      "id": "T1EWw3FXWYQv"
    },
    {
      "cell_type": "code",
      "execution_count": null,
      "metadata": {
        "id": "0OM72L98WYQv"
      },
      "outputs": [],
      "source": [
        "def preprocess(t):\n",
        "    return re.sub('[0-9]','',t).lower()"
      ],
      "id": "0OM72L98WYQv"
    },
    {
      "cell_type": "code",
      "execution_count": null,
      "metadata": {
        "id": "rmadol9oWYQv"
      },
      "outputs": [],
      "source": [
        "tfidf_vec = TfidfVectorizer(strip_accents='unicode',\n",
        "                            stop_words='english',\n",
        "                            preprocessor=preprocess,\n",
        "                            lowercase=True,\n",
        "                            min_df=5,\n",
        "                            max_df=0.8\n",
        "                           )"
      ],
      "id": "rmadol9oWYQv"
    },
    {
      "cell_type": "code",
      "execution_count": null,
      "metadata": {
        "id": "HoG2TQGgWYQv"
      },
      "outputs": [],
      "source": [
        "X = tfidf_vec.fit_transform(X)"
      ],
      "id": "HoG2TQGgWYQv"
    },
    {
      "cell_type": "code",
      "execution_count": null,
      "metadata": {
        "outputId": "6192f62c-c3f3-489d-b723-e9630c5ec4b0",
        "id": "MY4CySlKWYQw"
      },
      "outputs": [
        {
          "data": {
            "text/plain": [
              "58130"
            ]
          },
          "execution_count": 184,
          "metadata": {},
          "output_type": "execute_result"
        }
      ],
      "source": [
        "tfidf_vec.get_feature_names_out().size"
      ],
      "id": "MY4CySlKWYQw"
    },
    {
      "cell_type": "code",
      "execution_count": null,
      "id": "0b7d7d44-d02d-477d-8acd-7af99720b1bd",
      "metadata": {
        "id": "0b7d7d44-d02d-477d-8acd-7af99720b1bd"
      },
      "outputs": [],
      "source": [
        "#Training from scratch ML models, different types of NN and inference/fine-tuning with transformers\n",
        "#Try TF-IDF and SpaCy Embeddings vectorization and compare performance and training/inference time"
      ]
    }
  ],
  "metadata": {
    "kernelspec": {
      "display_name": "Python 3 (ipykernel)",
      "language": "python",
      "name": "python3"
    },
    "language_info": {
      "codemirror_mode": {
        "name": "ipython",
        "version": 3
      },
      "file_extension": ".py",
      "mimetype": "text/x-python",
      "name": "python",
      "nbconvert_exporter": "python",
      "pygments_lexer": "ipython3",
      "version": "3.9.16"
    },
    "colab": {
      "provenance": [],
      "include_colab_link": true
    }
  },
  "nbformat": 4,
  "nbformat_minor": 5
}